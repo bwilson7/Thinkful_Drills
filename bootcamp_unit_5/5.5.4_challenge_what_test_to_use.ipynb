{
 "cells": [
  {
   "cell_type": "code",
   "execution_count": 9,
   "metadata": {},
   "outputs": [],
   "source": [
    "import pandas as pd\n",
    "import numpy as np\n",
    "import matplotlib.pyplot as plt\n",
    "%matplotlib inline\n",
    "import seaborn as sns\n",
    "import scipy.stats as stats\n",
    "\n",
    "sns.set(style='white')"
   ]
  },
  {
   "cell_type": "code",
   "execution_count": 2,
   "metadata": {},
   "outputs": [
    {
     "data": {
      "text/html": [
       "<div>\n",
       "<style scoped>\n",
       "    .dataframe tbody tr th:only-of-type {\n",
       "        vertical-align: middle;\n",
       "    }\n",
       "\n",
       "    .dataframe tbody tr th {\n",
       "        vertical-align: top;\n",
       "    }\n",
       "\n",
       "    .dataframe thead th {\n",
       "        text-align: right;\n",
       "    }\n",
       "</style>\n",
       "<table border=\"1\" class=\"dataframe\">\n",
       "  <thead>\n",
       "    <tr style=\"text-align: right;\">\n",
       "      <th></th>\n",
       "      <th>cntry</th>\n",
       "      <th>idno</th>\n",
       "      <th>year</th>\n",
       "      <th>tvtot</th>\n",
       "      <th>ppltrst</th>\n",
       "      <th>pplfair</th>\n",
       "      <th>pplhlp</th>\n",
       "      <th>happy</th>\n",
       "      <th>sclmeet</th>\n",
       "      <th>sclact</th>\n",
       "      <th>gndr</th>\n",
       "      <th>agea</th>\n",
       "      <th>partner</th>\n",
       "    </tr>\n",
       "  </thead>\n",
       "  <tbody>\n",
       "    <tr>\n",
       "      <th>0</th>\n",
       "      <td>CH</td>\n",
       "      <td>5.0</td>\n",
       "      <td>6</td>\n",
       "      <td>3.0</td>\n",
       "      <td>3.0</td>\n",
       "      <td>10.0</td>\n",
       "      <td>5.0</td>\n",
       "      <td>8.0</td>\n",
       "      <td>5.0</td>\n",
       "      <td>4.0</td>\n",
       "      <td>2.0</td>\n",
       "      <td>60.0</td>\n",
       "      <td>1.0</td>\n",
       "    </tr>\n",
       "    <tr>\n",
       "      <th>1</th>\n",
       "      <td>CH</td>\n",
       "      <td>25.0</td>\n",
       "      <td>6</td>\n",
       "      <td>6.0</td>\n",
       "      <td>5.0</td>\n",
       "      <td>7.0</td>\n",
       "      <td>5.0</td>\n",
       "      <td>9.0</td>\n",
       "      <td>3.0</td>\n",
       "      <td>2.0</td>\n",
       "      <td>2.0</td>\n",
       "      <td>59.0</td>\n",
       "      <td>1.0</td>\n",
       "    </tr>\n",
       "    <tr>\n",
       "      <th>2</th>\n",
       "      <td>CH</td>\n",
       "      <td>26.0</td>\n",
       "      <td>6</td>\n",
       "      <td>1.0</td>\n",
       "      <td>8.0</td>\n",
       "      <td>8.0</td>\n",
       "      <td>8.0</td>\n",
       "      <td>7.0</td>\n",
       "      <td>6.0</td>\n",
       "      <td>3.0</td>\n",
       "      <td>1.0</td>\n",
       "      <td>24.0</td>\n",
       "      <td>2.0</td>\n",
       "    </tr>\n",
       "    <tr>\n",
       "      <th>3</th>\n",
       "      <td>CH</td>\n",
       "      <td>28.0</td>\n",
       "      <td>6</td>\n",
       "      <td>4.0</td>\n",
       "      <td>6.0</td>\n",
       "      <td>6.0</td>\n",
       "      <td>7.0</td>\n",
       "      <td>10.0</td>\n",
       "      <td>6.0</td>\n",
       "      <td>2.0</td>\n",
       "      <td>2.0</td>\n",
       "      <td>64.0</td>\n",
       "      <td>1.0</td>\n",
       "    </tr>\n",
       "    <tr>\n",
       "      <th>4</th>\n",
       "      <td>CH</td>\n",
       "      <td>29.0</td>\n",
       "      <td>6</td>\n",
       "      <td>5.0</td>\n",
       "      <td>6.0</td>\n",
       "      <td>7.0</td>\n",
       "      <td>5.0</td>\n",
       "      <td>8.0</td>\n",
       "      <td>7.0</td>\n",
       "      <td>2.0</td>\n",
       "      <td>2.0</td>\n",
       "      <td>55.0</td>\n",
       "      <td>1.0</td>\n",
       "    </tr>\n",
       "  </tbody>\n",
       "</table>\n",
       "</div>"
      ],
      "text/plain": [
       "  cntry  idno  year  tvtot  ppltrst  pplfair  pplhlp  happy  sclmeet  sclact  \\\n",
       "0    CH   5.0     6    3.0      3.0     10.0     5.0    8.0      5.0     4.0   \n",
       "1    CH  25.0     6    6.0      5.0      7.0     5.0    9.0      3.0     2.0   \n",
       "2    CH  26.0     6    1.0      8.0      8.0     8.0    7.0      6.0     3.0   \n",
       "3    CH  28.0     6    4.0      6.0      6.0     7.0   10.0      6.0     2.0   \n",
       "4    CH  29.0     6    5.0      6.0      7.0     5.0    8.0      7.0     2.0   \n",
       "\n",
       "   gndr  agea  partner  \n",
       "0   2.0  60.0      1.0  \n",
       "1   2.0  59.0      1.0  \n",
       "2   1.0  24.0      2.0  \n",
       "3   2.0  64.0      1.0  \n",
       "4   2.0  55.0      1.0  "
      ]
     },
     "execution_count": 2,
     "metadata": {},
     "output_type": "execute_result"
    }
   ],
   "source": [
    "df = pd.read_csv('https://raw.githubusercontent.com/Thinkful-Ed/data-201-resources/master/ESS_practice_data/ESSdata_Thinkful.csv')\n",
    "df.head()"
   ]
  },
  {
   "cell_type": "markdown",
   "metadata": {},
   "source": [
    "## : Did people become less trusting from 2012 to 2014?\n",
    "\n",
    "Compute results for each country in the sample."
   ]
  },
  {
   "cell_type": "code",
   "execution_count": 24,
   "metadata": {},
   "outputs": [
    {
     "name": "stdout",
     "output_type": "stream",
     "text": [
      "ES    2426\n",
      "SE    1816\n",
      "CH    1546\n",
      "NO    1462\n",
      "CZ    1316\n",
      "DE      28\n",
      "Name: cntry, dtype: int64\n",
      "['CH' 'CZ' 'DE' 'ES' 'NO' 'SE']\n"
     ]
    }
   ],
   "source": [
    "print(df.cntry.value_counts())\n",
    "print(df.cntry.unique())"
   ]
  },
  {
   "cell_type": "code",
   "execution_count": 22,
   "metadata": {},
   "outputs": [
    {
     "data": {
      "image/png": "[encoded data removed]",
      "text/plain": [
       "<Figure size 693.725x432 with 6 Axes>"
      ]
     },
     "metadata": {},
     "output_type": "display_data"
    }
   ],
   "source": [
    "g = sns.FacetGrid(data=df, col='cntry', hue='year', col_wrap=3)\n",
    "g = g.map(plt.hist, 'ppltrst', alpha=0.5).add_legend()\n",
    "plt.show()"
   ]
  },
  {
   "cell_type": "markdown",
   "metadata": {},
   "source": [
    "The distributions of ppltrst values for both years look very similar and all look normally distributed. Since they overlie to heavily I want to check them out on boxplots to confirm how close the medians are to one another. They appear normally distributed so the median should be a close approximation of the means that the ttest will use to compare the two years."
   ]
  },
  {
   "cell_type": "code",
   "execution_count": 10,
   "metadata": {},
   "outputs": [
    {
     "data": {
      "image/png": "[encoded data removed]",
      "text/plain": [
       "<Figure size 432x288 with 1 Axes>"
      ]
     },
     "metadata": {},
     "output_type": "display_data"
    }
   ],
   "source": [
    "sns.boxplot(\n",
    "    x='cntry',\n",
    "    y='ppltrst',\n",
    "    data=df,\n",
    "    hue='year'\n",
    ")\n",
    "plt.show()"
   ]
  },
  {
   "cell_type": "code",
   "execution_count": 27,
   "metadata": {},
   "outputs": [
    {
     "name": "stdout",
     "output_type": "stream",
     "text": [
      "________CH t-test results__________\n",
      "Ttest_indResult(statistic=-0.6782716584661505, pvalue=0.49770110247151234)\n",
      "\n",
      "\n",
      "________CZ t-test results__________\n",
      "Ttest_indResult(statistic=-0.47654431369598554, pvalue=0.6337663626856563)\n",
      "\n",
      "\n",
      "________DE t-test results__________\n",
      "Ttest_indResult(statistic=-0.18084358577434545, pvalue=0.8578926631223287)\n",
      "\n",
      "\n",
      "________ES t-test results__________\n",
      "Ttest_indResult(statistic=2.494276516716002, pvalue=0.012687599930326627)\n",
      "\n",
      "\n",
      "________NO t-test results__________\n",
      "Ttest_indResult(statistic=0.5437669865283744, pvalue=0.5866849635988214)\n",
      "\n",
      "\n",
      "________SE t-test results__________\n",
      "Ttest_indResult(statistic=-2.089164843127998, pvalue=0.03683208699520371)\n",
      "\n",
      "\n"
     ]
    }
   ],
   "source": [
    "for country in df['cntry'].unique():\n",
    "    t1 = df.loc[(df['cntry'] == country) & (df['year'] == 6), 'ppltrst'].dropna()\n",
    "    t2 = df.loc[(df['cntry'] == country) & (df['year'] == 7), 'ppltrst'].dropna()\n",
    "    \n",
    "    print('________{} t-test results__________'.format(country))\n",
    "    print(stats.ttest_ind(t1, t2))\n",
    "    print('\\n')"
   ]
  },
  {
   "cell_type": "markdown",
   "metadata": {},
   "source": [
    "Based on the ttests I would reject the null hypothesis that people became less trusting over time. They in fact did not become more trusting or less trusting. There was no real statistical difference between the means for each country."
   ]
  },
  {
   "cell_type": "markdown",
   "metadata": {},
   "source": [
    "## : Did people become happier from 2012 to 2014?\n",
    "\n",
    "Compute results for each country in the sample."
   ]
  },
  {
   "cell_type": "code",
   "execution_count": 32,
   "metadata": {},
   "outputs": [
    {
     "data": {
      "image/png": "[encoded data removed]",
      "text/plain": [
       "<Figure size 693.725x432 with 6 Axes>"
      ]
     },
     "metadata": {},
     "output_type": "display_data"
    }
   ],
   "source": [
    "g = sns.FacetGrid(data=df, col='cntry', hue='year', col_wrap=3)\n",
    "g = g.map(plt.hist, 'happy', alpha=0.5, bins=12).add_legend()\n",
    "plt.show()"
   ]
  },
  {
   "cell_type": "markdown",
   "metadata": {},
   "source": [
    "Similar to the distributions of people level of trust, it looks like their happiness is consistent from 2012 to 2014. They also look normally distributed with means that are very close to one another."
   ]
  },
  {
   "cell_type": "code",
   "execution_count": 33,
   "metadata": {},
   "outputs": [
    {
     "name": "stdout",
     "output_type": "stream",
     "text": [
      "________CH t-test results__________\n",
      "Ttest_indResult(statistic=-0.3883916732706544, pvalue=0.6977798552554684)\n",
      "\n",
      "\n",
      "________CZ t-test results__________\n",
      "Ttest_indResult(statistic=-1.3033790688858846, pvalue=0.19267687243592707)\n",
      "\n",
      "\n",
      "________DE t-test results__________\n",
      "Ttest_indResult(statistic=-0.7648529270389165, pvalue=0.451246041120838)\n",
      "\n",
      "\n",
      "________ES t-test results__________\n",
      "Ttest_indResult(statistic=1.673984509948487, pvalue=0.09426276206929331)\n",
      "\n",
      "\n",
      "________NO t-test results__________\n",
      "Ttest_indResult(statistic=4.26539164981969, pvalue=2.1241259786815807e-05)\n",
      "\n",
      "\n",
      "________SE t-test results__________\n",
      "Ttest_indResult(statistic=-0.5748685401292095, pvalue=0.5654516534862527)\n",
      "\n",
      "\n"
     ]
    }
   ],
   "source": [
    "for country in df['cntry'].unique():\n",
    "    t1 = df.loc[(df['cntry'] == country) & (df['year'] == 6), 'happy'].dropna()\n",
    "    t2 = df.loc[(df['cntry'] == country) & (df['year'] == 7), 'happy'].dropna()\n",
    "    \n",
    "    print('________{} t-test results__________'.format(country))\n",
    "    print(stats.ttest_ind(t1, t2))\n",
    "    print('\\n')"
   ]
  },
  {
   "cell_type": "markdown",
   "metadata": {},
   "source": [
    "For most of the countries there is really no statistical difference between the countries happiness from 2012 to 2014. The one exception is NO (Norway). The p-value there is much less than 0.05 which would mean that people's happiness did change over time. "
   ]
  },
  {
   "cell_type": "markdown",
   "metadata": {},
   "source": [
    "## : Who reported watching more TV in 2012, men or women?"
   ]
  },
  {
   "cell_type": "code",
   "execution_count": 48,
   "metadata": {},
   "outputs": [
    {
     "data": {
      "image/png": "[encoded data removed]",
      "text/plain": [
       "<Figure size 432x288 with 1 Axes>"
      ]
     },
     "metadata": {},
     "output_type": "display_data"
    }
   ],
   "source": [
    "plt.hist(x=df.loc[df['gndr'] == 1.0, 'tvtot'], alpha=0.5, bins=7)\n",
    "plt.hist(x=df.loc[df['gndr'] == 2.0, 'tvtot'], alpha=0.5, bins=7)\n",
    "plt.legend(['male', 'female'])\n",
    "plt.xlabel('Amount of TV Watched')\n",
    "plt.show()"
   ]
  },
  {
   "cell_type": "markdown",
   "metadata": {},
   "source": [
    "Men and women look like they watch the same amount of TV as one another. Both distributions look close to normal, but with a peak at the higher end of television watching where respondants noted they watch 3+ hours of TV every weekday."
   ]
  },
  {
   "cell_type": "code",
   "execution_count": 52,
   "metadata": {},
   "outputs": [
    {
     "name": "stdout",
     "output_type": "stream",
     "text": [
      "Average Male Response: 3.825602968460111\n",
      "Average Feale Response: 3.8925891181988743\n",
      "Ttest_indResult(statistic=-1.5367741164465794, pvalue=0.12438553359876549)\n"
     ]
    }
   ],
   "source": [
    "X = df.loc[df['gndr'] == 1.0, 'tvtot'].dropna()\n",
    "Y = df.loc[df['gndr'] == 2.0, 'tvtot'].dropna()\n",
    "\n",
    "print('Average Male Response:', X.mean())\n",
    "print('Average Feale Response:', Y.mean())\n",
    "print(stats.ttest_ind(X, Y))"
   ]
  },
  {
   "cell_type": "markdown",
   "metadata": {},
   "source": [
    "It looks like neiher gender watches more tv than the other. The pvalue of the ttest was too high to reject the null hypothesis that the genders watched different amounts of TV from one another. "
   ]
  },
  {
   "cell_type": "markdown",
   "metadata": {},
   "source": [
    "## : Who was more likely to believe people were fair in 2012, people living with a partner or people living alone?"
   ]
  },
  {
   "cell_type": "code",
   "execution_count": 53,
   "metadata": {},
   "outputs": [
    {
     "data": {
      "text/plain": [
       "Index(['cntry', 'idno', 'year', 'tvtot', 'ppltrst', 'pplfair', 'pplhlp',\n",
       "       'happy', 'sclmeet', 'sclact', 'gndr', 'agea', 'partner'],\n",
       "      dtype='object')"
      ]
     },
     "execution_count": 53,
     "metadata": {},
     "output_type": "execute_result"
    }
   ],
   "source": [
    "df.columns"
   ]
  },
  {
   "cell_type": "code",
   "execution_count": 59,
   "metadata": {},
   "outputs": [
    {
     "data": {
      "image/png": "[encoded data removed]",
      "text/plain": [
       "<Figure size 432x288 with 1 Axes>"
      ]
     },
     "metadata": {},
     "output_type": "display_data"
    }
   ],
   "source": [
    "#partner\n",
    "plt.hist(x=df.loc[(df['partner'] == 1.0) & (df['year'] == 6), 'pplfair'], alpha=0.5, bins=7)\n",
    "#no partner\n",
    "plt.hist(x=df.loc[(df['partner'] == 2.0) & (df['year'] == 6), 'pplfair'], alpha=0.5, bins=7)\n",
    "plt.legend(['not_alone', 'alone'])\n",
    "plt.title('Comparing perception of fair people based on partner status in 2012')\n",
    "plt.xlabel('Unfair        <----------     Score of Fairness     ---------->        Fair')\n",
    "plt.show()"
   ]
  },
  {
   "cell_type": "markdown",
   "metadata": {},
   "source": [
    "These sup-populations of the survey also seem to be very similar. Both sub-groups of people look to be distributed normally and with a very similar mean."
   ]
  },
  {
   "cell_type": "code",
   "execution_count": 61,
   "metadata": {},
   "outputs": [
    {
     "name": "stdout",
     "output_type": "stream",
     "text": [
      "Average response from respondant with someone: 6.080736012016523\n",
      "Average response from someone who is alone: 5.856965174129353\n",
      "Ttest_indResult(statistic=3.3201033970362084, pvalue=0.0009073952609883756)\n"
     ]
    }
   ],
   "source": [
    "X = df.loc[(df['partner'] == 1.0) & (df['year'] == 6), 'pplfair'].dropna()\n",
    "Y = df.loc[(df['partner'] == 2.0) & (df['year'] == 6), 'pplfair'].dropna()\n",
    "\n",
    "print('Average response from respondant with someone:', X.mean())\n",
    "print('Average response from someone who is alone:', Y.mean())\n",
    "print(stats.ttest_ind(X, Y))"
   ]
  },
  {
   "cell_type": "markdown",
   "metadata": {},
   "source": [
    "Contrary to what the histograms show above, the ttest may indicate that there is a difference between the groups. It seems that people who are alone, on average think other people are more likely to take advantage of them than the group with partners."
   ]
  },
  {
   "cell_type": "markdown",
   "metadata": {},
   "source": [
    "## : Pick three or four of the countries in the sample and compare how often people met socially in 2014.\n",
    "Are there differences, and if so, which countries stand out?"
   ]
  },
  {
   "cell_type": "code",
   "execution_count": 63,
   "metadata": {},
   "outputs": [
    {
     "data": {
      "text/plain": [
       "array(['CH', 'CZ', 'DE', 'ES', 'NO', 'SE'], dtype=object)"
      ]
     },
     "execution_count": 63,
     "metadata": {},
     "output_type": "execute_result"
    }
   ],
   "source": [
    "df.cntry.unique()"
   ]
  },
  {
   "cell_type": "code",
   "execution_count": 64,
   "metadata": {},
   "outputs": [
    {
     "data": {
      "text/plain": [
       "Index(['cntry', 'idno', 'year', 'tvtot', 'ppltrst', 'pplfair', 'pplhlp',\n",
       "       'happy', 'sclmeet', 'sclact', 'gndr', 'agea', 'partner'],\n",
       "      dtype='object')"
      ]
     },
     "execution_count": 64,
     "metadata": {},
     "output_type": "execute_result"
    }
   ],
   "source": [
    "df.columns"
   ]
  },
  {
   "cell_type": "code",
   "execution_count": 73,
   "metadata": {},
   "outputs": [
    {
     "data": {
      "image/png": "[encoded data removed]",
      "text/plain": [
       "<Figure size 432x288 with 1 Axes>"
      ]
     },
     "metadata": {},
     "output_type": "display_data"
    },
    {
     "name": "stdout",
     "output_type": "stream",
     "text": [
      "DE mean: 4.714285714285714\n",
      "NO mean: 5.416552667578659\n",
      "SE mean: 5.426211453744493\n"
     ]
    }
   ],
   "source": [
    "mask = (\n",
    "    (df['cntry'] == 'NO') | #Norway\n",
    "    (df['cntry'] == 'DE') | #Germany\n",
    "    (df['cntry'] == 'SE') &  #Spain\n",
    "    (df['year'] == 7)\n",
    ")\n",
    "\n",
    "social_cntry = df.loc[mask, ['sclmeet', 'cntry']]\n",
    "\n",
    "sns.boxplot(\n",
    "    x=social_cntry['cntry'],\n",
    "    y=social_cntry['sclmeet']\n",
    ")\n",
    "plt.show()\n",
    "\n",
    "for country in social_cntry['cntry'].unique():\n",
    "    print('{} mean: {}'.format(country, social_cntry.loc[social_cntry['cntry'] == country, 'sclmeet'].mean()))\n",
    "    "
   ]
  },
  {
   "cell_type": "code",
   "execution_count": 74,
   "metadata": {},
   "outputs": [
    {
     "name": "stdout",
     "output_type": "stream",
     "text": [
      "F-statistic: 3.8526895149567792\n",
      "p-value: 0.021354235163104657\n"
     ]
    }
   ],
   "source": [
    "#one-way ANOVA for the three countries social tendencies\n",
    "F, p = stats.f_oneway(\n",
    "    social_cntry.loc[social_cntry['cntry'] == 'DE', 'sclmeet'].dropna(),\n",
    "    social_cntry.loc[social_cntry['cntry'] == 'NO', 'sclmeet'].dropna(),\n",
    "    social_cntry.loc[social_cntry['cntry'] == 'SE', 'sclmeet'].dropna()\n",
    ")\n",
    "\n",
    "print('F-statistic:', F)\n",
    "print('p-value:', p)"
   ]
  },
  {
   "cell_type": "markdown",
   "metadata": {},
   "source": [
    "The results of the one way ANOVA test show that one of the countries might be different than the rest. Lets go through ttests comparing each of the countries to see which one is different."
   ]
  },
  {
   "cell_type": "code",
   "execution_count": 75,
   "metadata": {},
   "outputs": [
    {
     "name": "stdout",
     "output_type": "stream",
     "text": [
      "Germany vs. Norway\n",
      "Ttest_indResult(statistic=-2.7884263889824505, pvalue=0.005363902538905048)\n",
      "Germany vs. Spain\n",
      "Ttest_indResult(statistic=-2.7233054172362254, pvalue=0.00658376956051363)\n",
      "Spain vs. Norway\n",
      "Ttest_indResult(statistic=0.17004569257795304, pvalue=0.8649887282531414)\n"
     ]
    }
   ],
   "source": [
    "de = social_cntry.loc[social_cntry['cntry'] == 'DE', 'sclmeet'].dropna()\n",
    "no = social_cntry.loc[social_cntry['cntry'] == 'NO', 'sclmeet'].dropna()\n",
    "se = social_cntry.loc[social_cntry['cntry'] == 'SE', 'sclmeet'].dropna()\n",
    "\n",
    "print('Germany vs. Norway')\n",
    "print(stats.ttest_ind(de, no))\n",
    "print('Germany vs. Spain')\n",
    "print(stats.ttest_ind(de, se))\n",
    "print('Spain vs. Norway')\n",
    "print(stats.ttest_ind(se, no))"
   ]
  },
  {
   "cell_type": "markdown",
   "metadata": {},
   "source": [
    "Germany is the common denominator here. Only the comparisons with Germany show a pvalue < 0.05. It is also the country with the lowest sclmeet score. Therefore we can conclude that on average, in 2014, Germans met with friends in a social manner less often than Spain or Norway."
   ]
  },
  {
   "cell_type": "markdown",
   "metadata": {},
   "source": [
    "## : Pick three or four of the countries in the sample and compare how often people took part in social activities, relative to others their age, in 2014.\n",
    "Are there differences, and if so, which countries stand out?"
   ]
  },
  {
   "cell_type": "code",
   "execution_count": 76,
   "metadata": {},
   "outputs": [
    {
     "data": {
      "image/png": "[encoded data removed]",
      "text/plain": [
       "<Figure size 432x288 with 1 Axes>"
      ]
     },
     "metadata": {},
     "output_type": "display_data"
    },
    {
     "name": "stdout",
     "output_type": "stream",
     "text": [
      "DE mean: 2.7857142857142856\n",
      "NO mean: 2.9121482498284146\n",
      "SE mean: 2.879424778761062\n"
     ]
    }
   ],
   "source": [
    "mask = (\n",
    "    (df['cntry'] == 'NO') | #Norway\n",
    "    (df['cntry'] == 'DE') | #Germany\n",
    "    (df['cntry'] == 'SE') &  #Spain\n",
    "    (df['year'] == 7)\n",
    ")\n",
    "\n",
    "social_cntry = df.loc[mask, ['sclact', 'cntry']]\n",
    "\n",
    "sns.boxplot(\n",
    "    x=social_cntry['cntry'],\n",
    "    y=social_cntry['sclact']\n",
    ")\n",
    "plt.show()\n",
    "\n",
    "for country in social_cntry['cntry'].unique():\n",
    "    print('{} mean: {}'.format(country, social_cntry.loc[social_cntry['cntry'] == country, 'sclact'].mean()))\n",
    "    "
   ]
  },
  {
   "cell_type": "code",
   "execution_count": 77,
   "metadata": {},
   "outputs": [
    {
     "name": "stdout",
     "output_type": "stream",
     "text": [
      "F-statistic: 0.7089837615709472\n",
      "p-value: 0.49224772885814305\n"
     ]
    }
   ],
   "source": [
    "#one-way ANOVA for the three countries social tendencies\n",
    "F, p = stats.f_oneway(\n",
    "    social_cntry.loc[social_cntry['cntry'] == 'DE', 'sclact'].dropna(),\n",
    "    social_cntry.loc[social_cntry['cntry'] == 'NO', 'sclact'].dropna(),\n",
    "    social_cntry.loc[social_cntry['cntry'] == 'SE', 'sclact'].dropna()\n",
    ")\n",
    "\n",
    "print('F-statistic:', F)\n",
    "print('p-value:', p)"
   ]
  },
  {
   "cell_type": "markdown",
   "metadata": {},
   "source": [
    "The one-way ANOVA test reslults tell the same story that the boxplot does. All three countries have similar amounts of social activity in 2014 relative to their age. The mean for Germany is the lowest, but it is statistically indifferent to Norway and Spain."
   ]
  },
  {
   "cell_type": "code",
   "execution_count": null,
   "metadata": {},
   "outputs": [],
   "source": []
  }
 ],
 "metadata": {
  "kernelspec": {
   "display_name": "Python 3",
   "language": "python",
   "name": "python3"
  },
  "language_info": {
   "codemirror_mode": {
    "name": "ipython",
    "version": 3
   },
   "file_extension": ".py",
   "mimetype": "text/x-python",
   "name": "python",
   "nbconvert_exporter": "python",
   "pygments_lexer": "ipython3",
   "version": "3.7.1"
  },
  "toc": {
   "base_numbering": 1,
   "nav_menu": {},
   "number_sections": true,
   "sideBar": true,
   "skip_h1_title": false,
   "title_cell": "Table of Contents",
   "title_sidebar": "Contents",
   "toc_cell": false,
   "toc_position": {},
   "toc_section_display": true,
   "toc_window_display": true
  }
 },
 "nbformat": 4,
 "nbformat_minor": 2
}

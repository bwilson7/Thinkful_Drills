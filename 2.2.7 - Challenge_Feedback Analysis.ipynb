{
 "cells": [
  {
   "cell_type": "code",
   "execution_count": 3,
   "metadata": {},
   "outputs": [],
   "source": [
    "import pandas as pd\n",
    "import numpy as np\n",
    "import seaborn as sns\n",
    "import matplotlib.pyplot as plt\n",
    "%matplotlib inline\n",
    "import sklearn\n",
    "import scipy"
   ]
  },
  {
   "cell_type": "code",
   "execution_count": 4,
   "metadata": {},
   "outputs": [],
   "source": [
    "data = 'amazon_cells_labelled.txt'\n",
    "amazon = pd.read_csv(data, delimiter='\\t', header=None)\n",
    "#positive column is binary (1 for True, 0 for False)\n",
    "amazon.columns = ['review', 'positive']"
   ]
  },
  {
   "cell_type": "code",
   "execution_count": 45,
   "metadata": {},
   "outputs": [
    {
     "data": {
      "text/html": [
       "<div>\n",
       "<style scoped>\n",
       "    .dataframe tbody tr th:only-of-type {\n",
       "        vertical-align: middle;\n",
       "    }\n",
       "\n",
       "    .dataframe tbody tr th {\n",
       "        vertical-align: top;\n",
       "    }\n",
       "\n",
       "    .dataframe thead th {\n",
       "        text-align: right;\n",
       "    }\n",
       "</style>\n",
       "<table border=\"1\" class=\"dataframe\">\n",
       "  <thead>\n",
       "    <tr style=\"text-align: right;\">\n",
       "      <th></th>\n",
       "      <th>review</th>\n",
       "      <th>positive</th>\n",
       "      <th>good</th>\n",
       "      <th>great</th>\n",
       "      <th>impressed</th>\n",
       "      <th>recommend</th>\n",
       "      <th>excellent</th>\n",
       "      <th>works</th>\n",
       "      <th>good quality</th>\n",
       "      <th>high quality</th>\n",
       "      <th>...</th>\n",
       "      <th>highly</th>\n",
       "      <th>love</th>\n",
       "      <th>worth</th>\n",
       "      <th>fantastic</th>\n",
       "      <th>impressive</th>\n",
       "      <th>glad</th>\n",
       "      <th>really</th>\n",
       "      <th>definitely</th>\n",
       "      <th>no problem</th>\n",
       "      <th>no problems</th>\n",
       "    </tr>\n",
       "  </thead>\n",
       "  <tbody>\n",
       "    <tr>\n",
       "      <th>0</th>\n",
       "      <td>So there is no way for me to plug it in here i...</td>\n",
       "      <td>0</td>\n",
       "      <td>False</td>\n",
       "      <td>False</td>\n",
       "      <td>False</td>\n",
       "      <td>False</td>\n",
       "      <td>False</td>\n",
       "      <td>False</td>\n",
       "      <td>False</td>\n",
       "      <td>False</td>\n",
       "      <td>...</td>\n",
       "      <td>False</td>\n",
       "      <td>False</td>\n",
       "      <td>False</td>\n",
       "      <td>False</td>\n",
       "      <td>False</td>\n",
       "      <td>False</td>\n",
       "      <td>False</td>\n",
       "      <td>False</td>\n",
       "      <td>False</td>\n",
       "      <td>False</td>\n",
       "    </tr>\n",
       "    <tr>\n",
       "      <th>1</th>\n",
       "      <td>Good case, Excellent value.</td>\n",
       "      <td>1</td>\n",
       "      <td>False</td>\n",
       "      <td>False</td>\n",
       "      <td>False</td>\n",
       "      <td>False</td>\n",
       "      <td>True</td>\n",
       "      <td>False</td>\n",
       "      <td>False</td>\n",
       "      <td>False</td>\n",
       "      <td>...</td>\n",
       "      <td>False</td>\n",
       "      <td>False</td>\n",
       "      <td>False</td>\n",
       "      <td>False</td>\n",
       "      <td>False</td>\n",
       "      <td>False</td>\n",
       "      <td>False</td>\n",
       "      <td>False</td>\n",
       "      <td>False</td>\n",
       "      <td>False</td>\n",
       "    </tr>\n",
       "    <tr>\n",
       "      <th>2</th>\n",
       "      <td>Great for the jawbone.</td>\n",
       "      <td>1</td>\n",
       "      <td>False</td>\n",
       "      <td>False</td>\n",
       "      <td>False</td>\n",
       "      <td>False</td>\n",
       "      <td>False</td>\n",
       "      <td>False</td>\n",
       "      <td>False</td>\n",
       "      <td>False</td>\n",
       "      <td>...</td>\n",
       "      <td>False</td>\n",
       "      <td>False</td>\n",
       "      <td>False</td>\n",
       "      <td>False</td>\n",
       "      <td>False</td>\n",
       "      <td>False</td>\n",
       "      <td>False</td>\n",
       "      <td>False</td>\n",
       "      <td>False</td>\n",
       "      <td>False</td>\n",
       "    </tr>\n",
       "    <tr>\n",
       "      <th>3</th>\n",
       "      <td>Tied to charger for conversations lasting more...</td>\n",
       "      <td>0</td>\n",
       "      <td>False</td>\n",
       "      <td>False</td>\n",
       "      <td>False</td>\n",
       "      <td>False</td>\n",
       "      <td>False</td>\n",
       "      <td>False</td>\n",
       "      <td>False</td>\n",
       "      <td>False</td>\n",
       "      <td>...</td>\n",
       "      <td>False</td>\n",
       "      <td>False</td>\n",
       "      <td>False</td>\n",
       "      <td>False</td>\n",
       "      <td>False</td>\n",
       "      <td>False</td>\n",
       "      <td>False</td>\n",
       "      <td>False</td>\n",
       "      <td>False</td>\n",
       "      <td>False</td>\n",
       "    </tr>\n",
       "    <tr>\n",
       "      <th>4</th>\n",
       "      <td>The mic is great.</td>\n",
       "      <td>1</td>\n",
       "      <td>False</td>\n",
       "      <td>False</td>\n",
       "      <td>False</td>\n",
       "      <td>False</td>\n",
       "      <td>False</td>\n",
       "      <td>False</td>\n",
       "      <td>False</td>\n",
       "      <td>False</td>\n",
       "      <td>...</td>\n",
       "      <td>False</td>\n",
       "      <td>False</td>\n",
       "      <td>False</td>\n",
       "      <td>False</td>\n",
       "      <td>False</td>\n",
       "      <td>False</td>\n",
       "      <td>False</td>\n",
       "      <td>False</td>\n",
       "      <td>False</td>\n",
       "      <td>False</td>\n",
       "    </tr>\n",
       "  </tbody>\n",
       "</table>\n",
       "<p>5 rows × 24 columns</p>\n",
       "</div>"
      ],
      "text/plain": [
       "                                              review  positive   good  great  \\\n",
       "0  So there is no way for me to plug it in here i...         0  False  False   \n",
       "1                        Good case, Excellent value.         1  False  False   \n",
       "2                             Great for the jawbone.         1  False  False   \n",
       "3  Tied to charger for conversations lasting more...         0  False  False   \n",
       "4                                  The mic is great.         1  False  False   \n",
       "\n",
       "   impressed  recommend  excellent  works  good quality  high quality  \\\n",
       "0      False      False      False  False         False         False   \n",
       "1      False      False       True  False         False         False   \n",
       "2      False      False      False  False         False         False   \n",
       "3      False      False      False  False         False         False   \n",
       "4      False      False      False  False         False         False   \n",
       "\n",
       "      ...       highly   love  worth  fantastic  impressive   glad  really  \\\n",
       "0     ...        False  False  False      False       False  False   False   \n",
       "1     ...        False  False  False      False       False  False   False   \n",
       "2     ...        False  False  False      False       False  False   False   \n",
       "3     ...        False  False  False      False       False  False   False   \n",
       "4     ...        False  False  False      False       False  False   False   \n",
       "\n",
       "   definitely  no problem  no problems  \n",
       "0       False       False        False  \n",
       "1       False       False        False  \n",
       "2       False       False        False  \n",
       "3       False       False        False  \n",
       "4       False       False        False  \n",
       "\n",
       "[5 rows x 24 columns]"
      ]
     },
     "execution_count": 45,
     "metadata": {},
     "output_type": "execute_result"
    }
   ],
   "source": [
    "#used some of the reviews here to choose some positive words\n",
    "amazon.head(5)"
   ]
  },
  {
   "cell_type": "code",
   "execution_count": 28,
   "metadata": {},
   "outputs": [],
   "source": [
    "#built the keyword list from the dataset and online collections of positive words\n",
    "#Tried and removed some words that were not present in the reviews\n",
    "keywords = [\n",
    "    'good',  \n",
    "    'great', \n",
    "    'impressed', \n",
    "    'recommend', \n",
    "    'excellent',  \n",
    "    'works', \n",
    "    'good quality', \n",
    "    'high quality',\n",
    "    'satisfied', \n",
    "    'best', \n",
    "    'like',\n",
    "    'happy', \n",
    "    'highly', \n",
    "    'love', \n",
    "    'worth', \n",
    "    'works', \n",
    "    'fantastic',  \n",
    "    'impressive',\n",
    "    'glad', \n",
    "    'really', \n",
    "    'definitely', \n",
    "    'no problem', \n",
    "    'no problems'\n",
    "]\n",
    "\n",
    "for key in keywords:\n",
    "    amazon[str(key)] = amazon.review.str.contains(\n",
    "        \" \" + str(key) + \" \", case=False)"
   ]
  },
  {
   "cell_type": "code",
   "execution_count": 47,
   "metadata": {},
   "outputs": [],
   "source": [
    "#DO NOT RUN THIS CELL MORE THAN ONCE\n",
    "#all positive data will become False if run again\n",
    "amazon['positive'] = (amazon['positive'] == 1)"
   ]
  },
  {
   "cell_type": "code",
   "execution_count": 30,
   "metadata": {},
   "outputs": [],
   "source": [
    "#using this cell to remove keyword features that are not present in the reviews\n",
    "amazon.drop(['bargain'], axis=1, inplace=True)"
   ]
  },
  {
   "cell_type": "code",
   "execution_count": 31,
   "metadata": {
    "scrolled": true
   },
   "outputs": [
    {
     "data": {
      "image/png": "[encoded data removed]",
      "text/plain": [
       "<Figure size 432x288 with 2 Axes>"
      ]
     },
     "metadata": {
      "needs_background": "light"
     },
     "output_type": "display_data"
    }
   ],
   "source": [
    "sns.heatmap(amazon.corr(), cmap='bwr')\n",
    "plt.show()"
   ]
  },
  {
   "cell_type": "markdown",
   "metadata": {},
   "source": [
    "The words 'highly' and 'recommend' correlate decently together, but for the most part the words are not highly correlated with one another, which is good for the model."
   ]
  },
  {
   "cell_type": "code",
   "execution_count": 32,
   "metadata": {},
   "outputs": [],
   "source": [
    "#defining our features and our target result (positive reviewsfor key in keywords:\n",
    "data = amazon.iloc[:, 2:]\n",
    "target = amazon['positive']"
   ]
  },
  {
   "cell_type": "code",
   "execution_count": 33,
   "metadata": {},
   "outputs": [
    {
     "name": "stdout",
     "output_type": "stream",
     "text": [
      "Number of mislabeled points out of a total 1000 points : 348\n"
     ]
    }
   ],
   "source": [
    "from sklearn.naive_bayes import BernoulliNB\n",
    "\n",
    "bnb = BernoulliNB()\n",
    "\n",
    "bnb.fit(data, target)\n",
    "\n",
    "target_pred = bnb.predict(data)\n",
    "\n",
    "print('Number of mislabeled points out of a total {} points : {}'.format(\n",
    "    data.shape[0], (target != target_pred).sum()))"
   ]
  },
  {
   "cell_type": "markdown",
   "metadata": {},
   "source": [
    "The feature engineering for this model was pretty straightforward. The goal was to look for positive words in the Amazon reviews and try to predict if the review was positive based on the occurrence of those words. I only allowed features into the model that were present in the reviews.\n",
    "\n",
    "In the end I could only get the model down to 348 mislabeled points. This isn't very strong from my perspective and could possible be made better if there was some information from the source data on what type of products the reviews were pulled from. Common identifier words would help to make the model better from this point. As I added more features, they were really only taking off one point at a time so I decided to stop adding keywords and call the model done.\n",
    "\n",
    "Next I will try this set of keywords and method on one of the other datasets to see how effective it can be."
   ]
  },
  {
   "cell_type": "code",
   "execution_count": 34,
   "metadata": {},
   "outputs": [],
   "source": [
    "#creating a new dataframe for the Yelp dataset\n",
    "yelp_data = 'yelp_labelled.txt'\n",
    "yelp = pd.read_csv(yelp_data, delimiter='\\t', header=None)\n",
    "#positive column is binary (1 for True, 0 for False)\n",
    "yelp.columns = ['review', 'positive']"
   ]
  },
  {
   "cell_type": "code",
   "execution_count": 35,
   "metadata": {},
   "outputs": [
    {
     "data": {
      "text/html": [
       "<div>\n",
       "<style scoped>\n",
       "    .dataframe tbody tr th:only-of-type {\n",
       "        vertical-align: middle;\n",
       "    }\n",
       "\n",
       "    .dataframe tbody tr th {\n",
       "        vertical-align: top;\n",
       "    }\n",
       "\n",
       "    .dataframe thead th {\n",
       "        text-align: right;\n",
       "    }\n",
       "</style>\n",
       "<table border=\"1\" class=\"dataframe\">\n",
       "  <thead>\n",
       "    <tr style=\"text-align: right;\">\n",
       "      <th></th>\n",
       "      <th>review</th>\n",
       "      <th>positive</th>\n",
       "    </tr>\n",
       "  </thead>\n",
       "  <tbody>\n",
       "    <tr>\n",
       "      <th>0</th>\n",
       "      <td>Wow... Loved this place.</td>\n",
       "      <td>1</td>\n",
       "    </tr>\n",
       "    <tr>\n",
       "      <th>1</th>\n",
       "      <td>Crust is not good.</td>\n",
       "      <td>0</td>\n",
       "    </tr>\n",
       "    <tr>\n",
       "      <th>2</th>\n",
       "      <td>Not tasty and the texture was just nasty.</td>\n",
       "      <td>0</td>\n",
       "    </tr>\n",
       "    <tr>\n",
       "      <th>3</th>\n",
       "      <td>Stopped by during the late May bank holiday of...</td>\n",
       "      <td>1</td>\n",
       "    </tr>\n",
       "    <tr>\n",
       "      <th>4</th>\n",
       "      <td>The selection on the menu was great and so wer...</td>\n",
       "      <td>1</td>\n",
       "    </tr>\n",
       "  </tbody>\n",
       "</table>\n",
       "</div>"
      ],
      "text/plain": [
       "                                              review  positive\n",
       "0                           Wow... Loved this place.         1\n",
       "1                                 Crust is not good.         0\n",
       "2          Not tasty and the texture was just nasty.         0\n",
       "3  Stopped by during the late May bank holiday of...         1\n",
       "4  The selection on the menu was great and so wer...         1"
      ]
     },
     "execution_count": 35,
     "metadata": {},
     "output_type": "execute_result"
    }
   ],
   "source": [
    "yelp.head(5)"
   ]
  },
  {
   "cell_type": "code",
   "execution_count": 36,
   "metadata": {},
   "outputs": [],
   "source": [
    "for key in keywords:\n",
    "    yelp[str(key)] = yelp.review.str.contains(\n",
    "        \" \" + str(key) + \" \", case=False)"
   ]
  },
  {
   "cell_type": "code",
   "execution_count": 47,
   "metadata": {
    "scrolled": true
   },
   "outputs": [
    {
     "data": {
      "image/png": "[encoded data removed]",
      "text/plain": [
       "<Figure size 432x288 with 2 Axes>"
      ]
     },
     "metadata": {
      "needs_background": "light"
     },
     "output_type": "display_data"
    }
   ],
   "source": [
    "sns.heatmap(yelp.corr(), cmap='bwr')\n",
    "plt.show()"
   ]
  },
  {
   "cell_type": "code",
   "execution_count": 46,
   "metadata": {},
   "outputs": [],
   "source": [
    "yelp.drop(['bargain', 'no problem', 'no problems'], axis=1, inplace=True)"
   ]
  },
  {
   "cell_type": "code",
   "execution_count": 48,
   "metadata": {},
   "outputs": [],
   "source": [
    "#defining our features and our target result (positive reviews)\n",
    "ylp_data = yelp.iloc[:, 2:]\n",
    "ylp_target = yelp['positive']"
   ]
  },
  {
   "cell_type": "code",
   "execution_count": 49,
   "metadata": {},
   "outputs": [
    {
     "name": "stdout",
     "output_type": "stream",
     "text": [
      "Number of mislabeled points out of a total 1000 points : 387\n"
     ]
    }
   ],
   "source": [
    "bnb.fit(ylp_data, ylp_target)\n",
    "\n",
    "ylp_target_pred = bnb.predict(ylp_data)\n",
    "\n",
    "print('Number of mislabeled points out of a total {} points : {}'.format(\n",
    "    ylp_data.shape[0], (ylp_target != ylp_target_pred).sum()))"
   ]
  },
  {
   "cell_type": "markdown",
   "metadata": {},
   "source": [
    "To be honest, this worked much better than I thought it would, considering the keyword list was generated partially from the Amazon review data. However, it did not include any words that were specific for the type of Amazon reviews so in theory it should still represent positive reviews, regardless of the topic. This could be a good workflow for a first pass model that identifies positive reviews. The keywords list could probably be made better by including a master list of positive words that has likely already been compiled somewhere."
   ]
  }
 ],
 "metadata": {
  "kernelspec": {
   "display_name": "Python 3",
   "language": "python",
   "name": "python3"
  },
  "language_info": {
   "codemirror_mode": {
    "name": "ipython",
    "version": 3
   },
   "file_extension": ".py",
   "mimetype": "text/x-python",
   "name": "python",
   "nbconvert_exporter": "python",
   "pygments_lexer": "ipython3",
   "version": "3.7.1"
  }
 },
 "nbformat": 4,
 "nbformat_minor": 2
}

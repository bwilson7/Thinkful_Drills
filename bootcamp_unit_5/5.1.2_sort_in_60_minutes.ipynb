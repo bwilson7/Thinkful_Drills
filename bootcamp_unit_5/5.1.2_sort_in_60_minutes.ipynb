{
 "cells": [
  {
   "cell_type": "code",
   "execution_count": 1,
   "metadata": {},
   "outputs": [],
   "source": [
    "import time\n",
    "import random"
   ]
  },
  {
   "cell_type": "code",
   "execution_count": 2,
   "metadata": {},
   "outputs": [],
   "source": [
    "random.seed(a=100)\n",
    "\n",
    "short_list = list(random.sample(range(1000000), 10))\n",
    "long_list = list(random.sample(range(1000000), 10000))"
   ]
  },
  {
   "cell_type": "markdown",
   "metadata": {},
   "source": [
    "## Insertion Sort"
   ]
  },
  {
   "cell_type": "code",
   "execution_count": 5,
   "metadata": {},
   "outputs": [],
   "source": [
    "def insert_sort(input_list):\n",
    "    #copy the input to preserve the original\n",
    "    copy_list = input_list\n",
    "    #loop through the list\n",
    "    for i in range(len(copy_list)):\n",
    "        #store position in a new variable\n",
    "        j = i\n",
    "        #move through the list checking previous spot for size \n",
    "        #and assigning new locations as we move down the list\n",
    "        while j > 0 and copy_list[j-1] > copy_list[j]:\n",
    "            copy_list[j-1], copy_list[j] = copy_list[j], copy_list[j-1]\n",
    "            #decrease j by 1\n",
    "            j = j - 1\n",
    "    return copy_list"
   ]
  },
  {
   "cell_type": "code",
   "execution_count": 6,
   "metadata": {},
   "outputs": [
    {
     "name": "stdout",
     "output_type": "stream",
     "text": [
      "11.572166204452515 seconds\n"
     ]
    }
   ],
   "source": [
    "start_time = time.time()\n",
    "\n",
    "insert_sort(long_list)\n",
    "\n",
    "print('{} seconds'.format(time.time() - start_time))"
   ]
  },
  {
   "cell_type": "markdown",
   "metadata": {},
   "source": [
    "## Merge Sort"
   ]
  },
  {
   "cell_type": "code",
   "execution_count": 10,
   "metadata": {},
   "outputs": [],
   "source": [
    "def merge(a, b):\n",
    "    #check is lists are empty\n",
    "    if len(a) == 0 or len(b) == 0:\n",
    "        return a or b\n",
    "    #empty list to store sorted list\n",
    "    result = []\n",
    "    \n",
    "    #track indices for both lists\n",
    "    i,j = 0,0\n",
    "    #only iterate while the separate lists are longer than the combined\n",
    "    while (len(result) < len(a) + len(b)):\n",
    "        if a[i] < b[j]:\n",
    "            result.append(a[i])\n",
    "            i +=1\n",
    "        else:\n",
    "            result.append(b[j])\n",
    "            j +=1\n",
    "        #if either list is empty, append the rest of the other list to result\n",
    "        #& end loop\n",
    "        if i == len(a) or j == len(b):\n",
    "            result.extend(a[i:] or b[j:])\n",
    "            break\n",
    "    \n",
    "    return result\n",
    "\n",
    "def merge_sort(lst):\n",
    "    if len(lst) < 2:\n",
    "        return lst\n",
    "    \n",
    "    mid = int(len(lst) / 2)\n",
    "    a = merge_sort(lst[:mid])\n",
    "    b = merge_sort(lst[mid:])\n",
    "    \n",
    "    return merge(a, b)"
   ]
  },
  {
   "cell_type": "code",
   "execution_count": 12,
   "metadata": {},
   "outputs": [
    {
     "name": "stdout",
     "output_type": "stream",
     "text": [
      "0.00013208389282226562 seconds\n"
     ]
    }
   ],
   "source": [
    "start_time = time.time()\n",
    "\n",
    "merge_sort(short_list)\n",
    "\n",
    "print('{} seconds'.format(time.time() - start_time))"
   ]
  },
  {
   "cell_type": "code",
   "execution_count": 13,
   "metadata": {},
   "outputs": [
    {
     "name": "stdout",
     "output_type": "stream",
     "text": [
      "0.08672714233398438 seconds\n"
     ]
    }
   ],
   "source": [
    "start_time = time.time()\n",
    "\n",
    "merge_sort(long_list)\n",
    "\n",
    "print('{} seconds'.format(time.time() - start_time))"
   ]
  },
  {
   "cell_type": "markdown",
   "metadata": {},
   "source": [
    "## Heap Sort"
   ]
  },
  {
   "cell_type": "markdown",
   "metadata": {},
   "source": [
    "### This is the one that finally worked!!"
   ]
  },
  {
   "cell_type": "code",
   "execution_count": 216,
   "metadata": {},
   "outputs": [],
   "source": [
    "def heapify(lst, n):\n",
    "    \n",
    "    for i in range(n-1, 0, -1):\n",
    "\n",
    "        parent = (i-1)//2\n",
    "        \n",
    "        if lst[i] > lst[parent]:\n",
    "            lst[parent], lst[i] = lst[i], lst[parent]\n",
    "            \n",
    "def heap_sort(lst):\n",
    "    \n",
    "    n = len(lst)\n",
    "    \n",
    "    heapify(lst, n)\n",
    "    \n",
    "    for i in range(n-1, 0, -1):\n",
    "        lst[0], lst[i] = lst[i], lst[0]\n",
    "        heapify(lst, i)"
   ]
  },
  {
   "cell_type": "code",
   "execution_count": 217,
   "metadata": {},
   "outputs": [
    {
     "name": "stdout",
     "output_type": "stream",
     "text": [
      "[1, 5, 17, 19, 22, 70, 100]\n"
     ]
    }
   ],
   "source": [
    "lst = [17,19,1,70,22,5,100]\n",
    "heap_sort(lst)\n",
    "print(lst)"
   ]
  },
  {
   "cell_type": "markdown",
   "metadata": {},
   "source": [
    "### The rest of these are iteration attempts that Failed"
   ]
  },
  {
   "cell_type": "code",
   "execution_count": 92,
   "metadata": {},
   "outputs": [],
   "source": [
    "def heapify(end):\n",
    "    for i in range(end-1, 0, -1):\n",
    "        largest = end-1\n",
    "        left = 2*i + 1\n",
    "        right = 2*i + 2\n",
    "    \n",
    "        if left < end & lst[i] < lst[left]:\n",
    "            largest = left\n",
    "            lst[i], lst[largest] = lst[largest], lst[i]\n",
    "            \n",
    "        if right < end & lst[i] < lst[right]:\n",
    "            largest = right\n",
    "            lst[i], lst[largest] = lst[largest], lst[i]\n",
    "            \n",
    "        #if largest != i:\n",
    "        #    lst[i], lst[largest] = lst[largest], lst[i]\n",
    "            heapify(largest)\n",
    "    \n",
    "        print(str(largest) + '\\t' + str(lst))\n",
    "    \n",
    "def heap_sort():\n",
    "    end = len(lst)\n",
    "    parent = end // 2 - 1\n",
    "    \n",
    "    heapify(end)\n",
    "    \n",
    "    for i in range(end-1, 0, -1):\n",
    "        lst[i], lst[0] = lst[0], lst[i]\n",
    "        heapify(i)\n",
    "        \n",
    "    return lst"
   ]
  },
  {
   "cell_type": "code",
   "execution_count": 93,
   "metadata": {},
   "outputs": [
    {
     "name": "stdout",
     "output_type": "stream",
     "text": [
      "6\t[4, 9, 10, 7, 20, 15, 1]\n",
      "6\t[4, 9, 10, 7, 20, 15, 1]\n",
      "6\t[4, 9, 10, 7, 20, 15, 1]\n",
      "6\t[4, 9, 10, 7, 20, 15, 1]\n",
      "6\t[4, 9, 10, 7, 20, 15, 1]\n",
      "6\t[4, 9, 10, 7, 20, 15, 1]\n",
      "5\t[1, 9, 10, 7, 20, 15, 4]\n",
      "5\t[1, 9, 10, 7, 20, 15, 4]\n",
      "5\t[1, 9, 10, 7, 20, 15, 4]\n",
      "5\t[1, 9, 10, 7, 20, 15, 4]\n",
      "5\t[1, 9, 10, 7, 20, 15, 4]\n",
      "4\t[15, 9, 10, 7, 20, 1, 4]\n",
      "4\t[15, 9, 10, 7, 20, 1, 4]\n",
      "4\t[15, 9, 10, 7, 20, 1, 4]\n",
      "4\t[15, 9, 10, 7, 20, 1, 4]\n",
      "3\t[20, 9, 10, 7, 15, 1, 4]\n",
      "3\t[20, 9, 10, 7, 15, 1, 4]\n",
      "3\t[20, 9, 10, 7, 15, 1, 4]\n",
      "2\t[7, 9, 10, 20, 15, 1, 4]\n",
      "2\t[7, 9, 10, 20, 15, 1, 4]\n",
      "1\t[10, 9, 7, 20, 15, 1, 4]\n"
     ]
    },
    {
     "data": {
      "text/plain": [
       "[9, 10, 7, 20, 15, 1, 4]"
      ]
     },
     "execution_count": 93,
     "metadata": {},
     "output_type": "execute_result"
    }
   ],
   "source": [
    "lst = [4,9,10,7,20,15,1]\n",
    "    \n",
    "heap_sort()"
   ]
  },
  {
   "cell_type": "code",
   "execution_count": 131,
   "metadata": {},
   "outputs": [],
   "source": [
    "def heapify(i):\n",
    "    \n",
    "    largest = i\n",
    "    left = 2*i + 1\n",
    "    right = 2*i + 2\n",
    "    \n",
    "    if left < end & lst[largest] < lst[left]:\n",
    "        largest = left\n",
    "        lst[end], lst[largest] = lst[largest], lst[end]\n",
    "            \n",
    "    elif right < end & lst[largest] < lst[right]:\n",
    "        largest = right\n",
    "        lst[end], lst[largest] = lst[largest], lst[end]\n",
    "            \n",
    "    if largest != end:\n",
    "        lst[end], lst[largest] = lst[largest], lst[end]\n",
    "    \n",
    "    print(str(largest) + '\\t' + str(lst))\n",
    "    #heapify(largest)\n",
    "    \n",
    "    \n",
    "    \n",
    "def heap_sort():\n",
    "    end = len(lst)-1\n",
    "    parent = end // 2 - 1\n",
    "    \n",
    "    for i in range(end, 0, -1):\n",
    "        heapify(i)\n",
    "    \n",
    "    for i in range(end-1, 0, -1):\n",
    "        lst[0], lst[i] = lst[i], lst[0]\n",
    "        heapify(i)\n",
    "        \n",
    "    return lst"
   ]
  },
  {
   "cell_type": "code",
   "execution_count": 209,
   "metadata": {},
   "outputs": [
    {
     "name": "stdout",
     "output_type": "stream",
     "text": [
      "[9, 7, 10, 4, 20, 15, 1]\n"
     ]
    }
   ],
   "source": [
    "lst = [4,9,10,7,20,15,1]\n",
    "def heapify(lst, i):\n",
    "    for i in range(0, len(lst)-1, 1):\n",
    "        left = 2*i + 1\n",
    "        right = 2*i + 2\n",
    "        largest = i\n",
    "    \n",
    "        if left < len(lst)-1 and lst[left] > lst[i]:\n",
    "            largest = left\n",
    "            lst[i], lst[left] = lst[left], lst[i]\n",
    "        \n",
    "        if right < len(lst)-1 and lst[right] > lst[largest]:\n",
    "            largest = right\n",
    "            lst[i], lst[right] = lst[right], lst[i]\n",
    "    \n",
    "        if largest != i:\n",
    "            lst[i], lst[largest] = lst[largest], lst[i]\n",
    "    #heapify(lst, largest)\n",
    "    print(lst)\n",
    "    \n",
    "heapify(lst, len(lst)-1)"
   ]
  },
  {
   "cell_type": "code",
   "execution_count": 163,
   "metadata": {},
   "outputs": [
    {
     "name": "stdout",
     "output_type": "stream",
     "text": [
      "3\n",
      "2\n",
      "5\n",
      "6\n",
      "[4, 9, 15, 7, 20, 10, 1]\n",
      "1\n",
      "3\n",
      "4\n",
      "[4, 20, 15, 7, 9, 10, 1]\n"
     ]
    }
   ],
   "source": [
    "lst = [4,9,10,7,20,15,1]\n",
    "#def()\n",
    "if len(lst) % 2 > 0:\n",
    "    nodes = lst[:len(lst)//2]\n",
    "else:\n",
    "    nodes = lst[:(len(lst)/2) + 1]\n",
    "print(len(nodes))\n",
    "\n",
    "for i in range(len(nodes)-1, 0, -1):\n",
    "    parent = i\n",
    "    left = 2*parent + 1\n",
    "    right = 2*parent + 2\n",
    "    end = len(lst)-1\n",
    "    \n",
    "    print(parent)\n",
    "    print(left)\n",
    "    print(right)\n",
    "    \n",
    "    if lst[left] > lst[parent]:\n",
    "        lst[parent], lst[left] = lst[left], lst[parent]\n",
    "        \n",
    "    if lst[right] > lst[parent]:\n",
    "        lst[parent], lst[right] = lst[right], lst[parent]\n",
    "    \n",
    "    print(lst)"
   ]
  },
  {
   "cell_type": "code",
   "execution_count": 167,
   "metadata": {},
   "outputs": [
    {
     "name": "stdout",
     "output_type": "stream",
     "text": [
      "2\n",
      "5\n",
      "6\n",
      "[4, 9, 10, 7, 20, 1, 15]\n",
      "1\n",
      "3\n",
      "4\n",
      "[4, 9, 10, 7, 20, 1, 15]\n",
      "0\n",
      "1\n",
      "2\n",
      "[4, 9, 10, 7, 20, 1, 15]\n"
     ]
    }
   ],
   "source": [
    "lst = [4,9,10,7,20,15,1]\n",
    "for i in range(len(lst)-1, 0, -2):\n",
    "    parent = (i-1) // 2\n",
    "    left =  i - 1\n",
    "    right = i\n",
    "    end = len(lst)-1\n",
    "    largest = i\n",
    "    \n",
    "    if  lst[left] > lst[parent]:\n",
    "        largest = left\n",
    "        \n",
    "    if lst[right] > lst[parent]:\n",
    "        largest = right\n",
    "    \n",
    "    if largest != i:\n",
    "        lst[i], lst[largest] = lst[largest], lst[i]\n",
    "    \n",
    "    print(lst)"
   ]
  },
  {
   "cell_type": "code",
   "execution_count": 198,
   "metadata": {},
   "outputs": [],
   "source": [
    "def heapify(lst, n, i):\n",
    "    largest = i\n",
    "    left = 2 * i + 1\n",
    "    right = 2 * i + 2\n",
    "     \n",
    "    if left < n and lst[i] < lst[left]:\n",
    "        largest = left\n",
    "    if right < n and lst[largest] < lst[right]:\n",
    "        largest = right\n",
    "        \n",
    "    if largest != i:\n",
    "        lst[largest], lst[i] = lst[i], lst[largest]\n",
    "        heapify(lst, n, largest)\n",
    "        \n",
    "def heapsort(lst):\n",
    "    n = len(lst)\n",
    "    \n",
    "    for i in range(n-1, 0, -1):\n",
    "        heapify(lst, n, i)\n",
    "        \n",
    "    for i in range(n-1, 0, -1):\n",
    "        lst[0], lst[i] = lst[i], lst[0]\n",
    "        heapify(lst, i, 0)"
   ]
  },
  {
   "cell_type": "code",
   "execution_count": 199,
   "metadata": {},
   "outputs": [
    {
     "data": {
      "text/plain": [
       "[10, 9, 15, 7, 20, 4, 1]"
      ]
     },
     "execution_count": 199,
     "metadata": {},
     "output_type": "execute_result"
    }
   ],
   "source": [
    "lst = [4,9,10,7,20,15,1]\n",
    "    \n",
    "heapify(lst, len(lst), 0)\n",
    "lst"
   ]
  },
  {
   "cell_type": "code",
   "execution_count": 138,
   "metadata": {},
   "outputs": [
    {
     "name": "stdout",
     "output_type": "stream",
     "text": [
      "[4, 1, 9, 7, 20, 15, 10]\n",
      "[20, 1, 9, 4, 7, 15, 10]\n",
      "[20, 1, 9, 4, 7, 15, 10]\n",
      "[20, 1, 9, 4, 7, 15, 10]\n",
      "[20, 1, 9, 4, 7, 15, 10]\n",
      "[20, 1, 9, 4, 7, 15, 10]\n",
      "[20, 1, 9, 4, 7, 15, 10]\n"
     ]
    },
    {
     "data": {
      "text/plain": [
       "[20, 1, 9, 4, 7, 15, 10]"
      ]
     },
     "execution_count": 138,
     "metadata": {},
     "output_type": "execute_result"
    }
   ],
   "source": [
    "lst = [4,9,10,7,20,15,1]\n",
    "n = len(lst)\n",
    "for i in range(0, n, 1):\n",
    "    parent = (i - 1) // 2\n",
    "    left = 2*i+1\n",
    "    right = 2*i+2\n",
    "    if left < n and lst[left] > lst[parent]:\n",
    "        lst[left], lst[parent] = lst[parent], lst[left]\n",
    "    if right < n and lst[right] > lst[parent]:\n",
    "        lst[right], lst[parent] = lst[parent], lst[right]\n",
    "    print(lst)\n",
    "lst"
   ]
  },
  {
   "cell_type": "code",
   "execution_count": 102,
   "metadata": {},
   "outputs": [
    {
     "name": "stdout",
     "output_type": "stream",
     "text": [
      "-1\n",
      "0\n",
      "0\n",
      "1\n",
      "1\n",
      "2\n",
      "2\n"
     ]
    }
   ],
   "source": [
    "for i in range(0, n, 1):\n",
    "    parent = (i - 1) // 2\n",
    "    print(parent)"
   ]
  },
  {
   "cell_type": "code",
   "execution_count": 103,
   "metadata": {},
   "outputs": [
    {
     "data": {
      "text/plain": [
       "-1"
      ]
     },
     "execution_count": 103,
     "metadata": {},
     "output_type": "execute_result"
    }
   ],
   "source": [
    "(-1 - 1) // 2"
   ]
  },
  {
   "cell_type": "code",
   "execution_count": 40,
   "metadata": {},
   "outputs": [],
   "source": [
    "def leaf_search(lst, i, n):\n",
    "    j = i\n",
    "    left = 2*j + 1\n",
    "    right = 2*j + 2\n",
    "    print(left)\n",
    "    print(right)\n",
    "    while right <= n:\n",
    "        if lst[right] > lst[left]:\n",
    "            j = right\n",
    "        else:\n",
    "            j = left\n",
    "    if left or right <= n:\n",
    "        j = left or right\n",
    "    return j\n",
    "\n",
    "def siftdown(lst, i, n):\n",
    "    j = leaf_search(lst, i, n)\n",
    "    print(j)\n",
    "    while lst[i] > lst[j]:\n",
    "        j = (j-1)//2\n",
    "    \n",
    "    x = lst[j]\n",
    "    lst[j] = lst[i]\n",
    "    \n",
    "    while j > i:\n",
    "        lst[x], lst[j] = lst[j], lst[x]\n",
    "        j = (j-1)//2"
   ]
  },
  {
   "cell_type": "code",
   "execution_count": 42,
   "metadata": {},
   "outputs": [
    {
     "name": "stdout",
     "output_type": "stream",
     "text": [
      "1\n",
      "2\n"
     ]
    },
    {
     "ename": "KeyboardInterrupt",
     "evalue": "",
     "output_type": "error",
     "traceback": [
      "\u001b[0;31m---------------------------------------------------------------------------\u001b[0m",
      "\u001b[0;31mKeyboardInterrupt\u001b[0m                         Traceback (most recent call last)",
      "\u001b[0;32m<ipython-input-42-c5d75848ad05>\u001b[0m in \u001b[0;36m<module>\u001b[0;34m\u001b[0m\n\u001b[1;32m      1\u001b[0m \u001b[0mtest\u001b[0m \u001b[0;34m=\u001b[0m \u001b[0;34m[\u001b[0m\u001b[0;36m4\u001b[0m\u001b[0;34m,\u001b[0m\u001b[0;36m9\u001b[0m\u001b[0;34m,\u001b[0m\u001b[0;36m10\u001b[0m\u001b[0;34m,\u001b[0m\u001b[0;36m7\u001b[0m\u001b[0;34m,\u001b[0m\u001b[0;36m1\u001b[0m\u001b[0;34m,\u001b[0m\u001b[0;36m15\u001b[0m\u001b[0;34m,\u001b[0m\u001b[0;36m20\u001b[0m\u001b[0;34m]\u001b[0m\u001b[0;34m\u001b[0m\u001b[0;34m\u001b[0m\u001b[0m\n\u001b[1;32m      2\u001b[0m \u001b[0;34m\u001b[0m\u001b[0m\n\u001b[0;32m----> 3\u001b[0;31m \u001b[0msiftdown\u001b[0m\u001b[0;34m(\u001b[0m\u001b[0mtest\u001b[0m\u001b[0;34m,\u001b[0m \u001b[0;36m0\u001b[0m\u001b[0;34m,\u001b[0m \u001b[0mlen\u001b[0m\u001b[0;34m(\u001b[0m\u001b[0mtest\u001b[0m\u001b[0;34m)\u001b[0m\u001b[0;34m)\u001b[0m\u001b[0;34m\u001b[0m\u001b[0;34m\u001b[0m\u001b[0m\n\u001b[0m",
      "\u001b[0;32m<ipython-input-40-716c5d760bdf>\u001b[0m in \u001b[0;36msiftdown\u001b[0;34m(lst, i, n)\u001b[0m\n\u001b[1;32m     15\u001b[0m \u001b[0;34m\u001b[0m\u001b[0m\n\u001b[1;32m     16\u001b[0m \u001b[0;32mdef\u001b[0m \u001b[0msiftdown\u001b[0m\u001b[0;34m(\u001b[0m\u001b[0mlst\u001b[0m\u001b[0;34m,\u001b[0m \u001b[0mi\u001b[0m\u001b[0;34m,\u001b[0m \u001b[0mn\u001b[0m\u001b[0;34m)\u001b[0m\u001b[0;34m:\u001b[0m\u001b[0;34m\u001b[0m\u001b[0;34m\u001b[0m\u001b[0m\n\u001b[0;32m---> 17\u001b[0;31m     \u001b[0mj\u001b[0m \u001b[0;34m=\u001b[0m \u001b[0mleaf_search\u001b[0m\u001b[0;34m(\u001b[0m\u001b[0mlst\u001b[0m\u001b[0;34m,\u001b[0m \u001b[0mi\u001b[0m\u001b[0;34m,\u001b[0m \u001b[0mn\u001b[0m\u001b[0;34m)\u001b[0m\u001b[0;34m\u001b[0m\u001b[0;34m\u001b[0m\u001b[0m\n\u001b[0m\u001b[1;32m     18\u001b[0m     \u001b[0mprint\u001b[0m\u001b[0;34m(\u001b[0m\u001b[0mj\u001b[0m\u001b[0;34m)\u001b[0m\u001b[0;34m\u001b[0m\u001b[0;34m\u001b[0m\u001b[0m\n\u001b[1;32m     19\u001b[0m     \u001b[0;32mwhile\u001b[0m \u001b[0mlst\u001b[0m\u001b[0;34m[\u001b[0m\u001b[0mi\u001b[0m\u001b[0;34m]\u001b[0m \u001b[0;34m>\u001b[0m \u001b[0mlst\u001b[0m\u001b[0;34m[\u001b[0m\u001b[0mj\u001b[0m\u001b[0;34m]\u001b[0m\u001b[0;34m:\u001b[0m\u001b[0;34m\u001b[0m\u001b[0;34m\u001b[0m\u001b[0m\n",
      "\u001b[0;32m<ipython-input-40-716c5d760bdf>\u001b[0m in \u001b[0;36mleaf_search\u001b[0;34m(lst, i, n)\u001b[0m\n\u001b[1;32m      7\u001b[0m     \u001b[0;32mwhile\u001b[0m \u001b[0mright\u001b[0m \u001b[0;34m<=\u001b[0m \u001b[0mn\u001b[0m\u001b[0;34m:\u001b[0m\u001b[0;34m\u001b[0m\u001b[0;34m\u001b[0m\u001b[0m\n\u001b[1;32m      8\u001b[0m         \u001b[0;32mif\u001b[0m \u001b[0mlst\u001b[0m\u001b[0;34m[\u001b[0m\u001b[0mright\u001b[0m\u001b[0;34m]\u001b[0m \u001b[0;34m>\u001b[0m \u001b[0mlst\u001b[0m\u001b[0;34m[\u001b[0m\u001b[0mleft\u001b[0m\u001b[0;34m]\u001b[0m\u001b[0;34m:\u001b[0m\u001b[0;34m\u001b[0m\u001b[0;34m\u001b[0m\u001b[0m\n\u001b[0;32m----> 9\u001b[0;31m             \u001b[0mj\u001b[0m \u001b[0;34m=\u001b[0m \u001b[0mright\u001b[0m\u001b[0;34m\u001b[0m\u001b[0;34m\u001b[0m\u001b[0m\n\u001b[0m\u001b[1;32m     10\u001b[0m         \u001b[0;32melse\u001b[0m\u001b[0;34m:\u001b[0m\u001b[0;34m\u001b[0m\u001b[0;34m\u001b[0m\u001b[0m\n\u001b[1;32m     11\u001b[0m             \u001b[0mj\u001b[0m \u001b[0;34m=\u001b[0m \u001b[0mleft\u001b[0m\u001b[0;34m\u001b[0m\u001b[0;34m\u001b[0m\u001b[0m\n",
      "\u001b[0;31mKeyboardInterrupt\u001b[0m: "
     ]
    }
   ],
   "source": [
    "test = [4,9,10,7,1,15,20]\n",
    "    \n",
    "siftdown(test, 0, len(test))"
   ]
  },
  {
   "cell_type": "code",
   "execution_count": null,
   "metadata": {},
   "outputs": [],
   "source": []
  }
 ],
 "metadata": {
  "kernelspec": {
   "display_name": "Python 3",
   "language": "python",
   "name": "python3"
  },
  "language_info": {
   "codemirror_mode": {
    "name": "ipython",
    "version": 3
   },
   "file_extension": ".py",
   "mimetype": "text/x-python",
   "name": "python",
   "nbconvert_exporter": "python",
   "pygments_lexer": "ipython3",
   "version": "3.7.1"
  },
  "toc": {
   "base_numbering": 1,
   "nav_menu": {},
   "number_sections": true,
   "sideBar": true,
   "skip_h1_title": false,
   "title_cell": "Table of Contents",
   "title_sidebar": "Contents",
   "toc_cell": false,
   "toc_position": {},
   "toc_section_display": true,
   "toc_window_display": true
  }
 },
 "nbformat": 4,
 "nbformat_minor": 2
}

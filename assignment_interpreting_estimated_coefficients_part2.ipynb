{
 "cells": [
  {
   "cell_type": "code",
   "execution_count": 1,
   "metadata": {},
   "outputs": [],
   "source": [
    "import numpy as np\n",
    "import pandas as pd\n",
    "from sklearn import linear_model\n",
    "import statsmodels.api as sm\n",
    "import seaborn as sns\n",
    "import matplotlib.pyplot as plt\n",
    "%matplotlib inline\n",
    "from sqlalchemy import create_engine\n",
    "import statsmodels.formula.api as smf\n",
    "from statsmodels.tsa.stattools import acf\n",
    "from scipy.stats import bartlett, levene, jarque_bera, normaltest\n",
    "\n",
    "import warnings\n",
    "warnings.filterwarnings('ignore')\n",
    "\n",
    "postgres_user = 'dsbc_student'\n",
    "postgres_pw = '7*.8G9QH21'\n",
    "postgres_host = '142.93.121.174'\n",
    "postgres_port = '5432'\n",
    "postgres_db = 'houseprices'"
   ]
  },
  {
   "cell_type": "code",
   "execution_count": 2,
   "metadata": {},
   "outputs": [],
   "source": [
    "engine = create_engine('postgresql://{}:{}@{}:{}/{}'.format(\n",
    "    postgres_user, postgres_pw, postgres_host, postgres_port, postgres_db))\n",
    "\n",
    "house_prices_df = pd.read_sql_query('select * from houseprices', con=engine)\n",
    "\n",
    "engine.dispose()"
   ]
  },
  {
   "cell_type": "code",
   "execution_count": 3,
   "metadata": {},
   "outputs": [
    {
     "name": "stdout",
     "output_type": "stream",
     "text": [
      "1460\n"
     ]
    },
    {
     "data": {
      "text/html": [
       "<div>\n",
       "<style scoped>\n",
       "    .dataframe tbody tr th:only-of-type {\n",
       "        vertical-align: middle;\n",
       "    }\n",
       "\n",
       "    .dataframe tbody tr th {\n",
       "        vertical-align: top;\n",
       "    }\n",
       "\n",
       "    .dataframe thead th {\n",
       "        text-align: right;\n",
       "    }\n",
       "</style>\n",
       "<table border=\"1\" class=\"dataframe\">\n",
       "  <thead>\n",
       "    <tr style=\"text-align: right;\">\n",
       "      <th></th>\n",
       "      <th>id</th>\n",
       "      <th>mssubclass</th>\n",
       "      <th>mszoning</th>\n",
       "      <th>lotfrontage</th>\n",
       "      <th>lotarea</th>\n",
       "      <th>street</th>\n",
       "      <th>alley</th>\n",
       "      <th>lotshape</th>\n",
       "      <th>landcontour</th>\n",
       "      <th>utilities</th>\n",
       "      <th>...</th>\n",
       "      <th>poolarea</th>\n",
       "      <th>poolqc</th>\n",
       "      <th>fence</th>\n",
       "      <th>miscfeature</th>\n",
       "      <th>miscval</th>\n",
       "      <th>mosold</th>\n",
       "      <th>yrsold</th>\n",
       "      <th>saletype</th>\n",
       "      <th>salecondition</th>\n",
       "      <th>saleprice</th>\n",
       "    </tr>\n",
       "  </thead>\n",
       "  <tbody>\n",
       "    <tr>\n",
       "      <th>0</th>\n",
       "      <td>1</td>\n",
       "      <td>60</td>\n",
       "      <td>RL</td>\n",
       "      <td>65.0</td>\n",
       "      <td>8450</td>\n",
       "      <td>Pave</td>\n",
       "      <td>None</td>\n",
       "      <td>Reg</td>\n",
       "      <td>Lvl</td>\n",
       "      <td>AllPub</td>\n",
       "      <td>...</td>\n",
       "      <td>0</td>\n",
       "      <td>None</td>\n",
       "      <td>None</td>\n",
       "      <td>None</td>\n",
       "      <td>0</td>\n",
       "      <td>2</td>\n",
       "      <td>2008</td>\n",
       "      <td>WD</td>\n",
       "      <td>Normal</td>\n",
       "      <td>208500</td>\n",
       "    </tr>\n",
       "    <tr>\n",
       "      <th>1</th>\n",
       "      <td>2</td>\n",
       "      <td>20</td>\n",
       "      <td>RL</td>\n",
       "      <td>80.0</td>\n",
       "      <td>9600</td>\n",
       "      <td>Pave</td>\n",
       "      <td>None</td>\n",
       "      <td>Reg</td>\n",
       "      <td>Lvl</td>\n",
       "      <td>AllPub</td>\n",
       "      <td>...</td>\n",
       "      <td>0</td>\n",
       "      <td>None</td>\n",
       "      <td>None</td>\n",
       "      <td>None</td>\n",
       "      <td>0</td>\n",
       "      <td>5</td>\n",
       "      <td>2007</td>\n",
       "      <td>WD</td>\n",
       "      <td>Normal</td>\n",
       "      <td>181500</td>\n",
       "    </tr>\n",
       "    <tr>\n",
       "      <th>2</th>\n",
       "      <td>3</td>\n",
       "      <td>60</td>\n",
       "      <td>RL</td>\n",
       "      <td>68.0</td>\n",
       "      <td>11250</td>\n",
       "      <td>Pave</td>\n",
       "      <td>None</td>\n",
       "      <td>IR1</td>\n",
       "      <td>Lvl</td>\n",
       "      <td>AllPub</td>\n",
       "      <td>...</td>\n",
       "      <td>0</td>\n",
       "      <td>None</td>\n",
       "      <td>None</td>\n",
       "      <td>None</td>\n",
       "      <td>0</td>\n",
       "      <td>9</td>\n",
       "      <td>2008</td>\n",
       "      <td>WD</td>\n",
       "      <td>Normal</td>\n",
       "      <td>223500</td>\n",
       "    </tr>\n",
       "    <tr>\n",
       "      <th>3</th>\n",
       "      <td>4</td>\n",
       "      <td>70</td>\n",
       "      <td>RL</td>\n",
       "      <td>60.0</td>\n",
       "      <td>9550</td>\n",
       "      <td>Pave</td>\n",
       "      <td>None</td>\n",
       "      <td>IR1</td>\n",
       "      <td>Lvl</td>\n",
       "      <td>AllPub</td>\n",
       "      <td>...</td>\n",
       "      <td>0</td>\n",
       "      <td>None</td>\n",
       "      <td>None</td>\n",
       "      <td>None</td>\n",
       "      <td>0</td>\n",
       "      <td>2</td>\n",
       "      <td>2006</td>\n",
       "      <td>WD</td>\n",
       "      <td>Abnorml</td>\n",
       "      <td>140000</td>\n",
       "    </tr>\n",
       "    <tr>\n",
       "      <th>4</th>\n",
       "      <td>5</td>\n",
       "      <td>60</td>\n",
       "      <td>RL</td>\n",
       "      <td>84.0</td>\n",
       "      <td>14260</td>\n",
       "      <td>Pave</td>\n",
       "      <td>None</td>\n",
       "      <td>IR1</td>\n",
       "      <td>Lvl</td>\n",
       "      <td>AllPub</td>\n",
       "      <td>...</td>\n",
       "      <td>0</td>\n",
       "      <td>None</td>\n",
       "      <td>None</td>\n",
       "      <td>None</td>\n",
       "      <td>0</td>\n",
       "      <td>12</td>\n",
       "      <td>2008</td>\n",
       "      <td>WD</td>\n",
       "      <td>Normal</td>\n",
       "      <td>250000</td>\n",
       "    </tr>\n",
       "  </tbody>\n",
       "</table>\n",
       "<p>5 rows × 81 columns</p>\n",
       "</div>"
      ],
      "text/plain": [
       "   id  mssubclass mszoning  lotfrontage  lotarea street alley lotshape  \\\n",
       "0   1          60       RL         65.0     8450   Pave  None      Reg   \n",
       "1   2          20       RL         80.0     9600   Pave  None      Reg   \n",
       "2   3          60       RL         68.0    11250   Pave  None      IR1   \n",
       "3   4          70       RL         60.0     9550   Pave  None      IR1   \n",
       "4   5          60       RL         84.0    14260   Pave  None      IR1   \n",
       "\n",
       "  landcontour utilities    ...     poolarea poolqc fence miscfeature miscval  \\\n",
       "0         Lvl    AllPub    ...            0   None  None        None       0   \n",
       "1         Lvl    AllPub    ...            0   None  None        None       0   \n",
       "2         Lvl    AllPub    ...            0   None  None        None       0   \n",
       "3         Lvl    AllPub    ...            0   None  None        None       0   \n",
       "4         Lvl    AllPub    ...            0   None  None        None       0   \n",
       "\n",
       "  mosold yrsold  saletype  salecondition  saleprice  \n",
       "0      2   2008        WD         Normal     208500  \n",
       "1      5   2007        WD         Normal     181500  \n",
       "2      9   2008        WD         Normal     223500  \n",
       "3      2   2006        WD        Abnorml     140000  \n",
       "4     12   2008        WD         Normal     250000  \n",
       "\n",
       "[5 rows x 81 columns]"
      ]
     },
     "execution_count": 3,
     "metadata": {},
     "output_type": "execute_result"
    }
   ],
   "source": [
    "#Quick check on the number of rows and the columns in the dataframe\n",
    "print(len(house_prices_df))\n",
    "house_prices_df.iloc[:,:81].head(5)"
   ]
  },
  {
   "cell_type": "code",
   "execution_count": 4,
   "metadata": {},
   "outputs": [
    {
     "data": {
      "image/png": "[encoded data removed]",
      "text/plain": [
       "<Figure size 432x288 with 1 Axes>"
      ]
     },
     "metadata": {
      "needs_background": "light"
     },
     "output_type": "display_data"
    },
    {
     "name": "stdout",
     "output_type": "stream",
     "text": [
      "Mean house price in Aimes:  180921.19589041095\n"
     ]
    }
   ],
   "source": [
    "#Since we are estimating the saleprice I want to check the distribution\n",
    "plt.hist(house_prices_df['saleprice'], color ='b')\n",
    "plt.xlabel('Sold Home Price')\n",
    "plt.ylabel('Frequency')\n",
    "plt.axvline(house_prices_df['saleprice'].mean(), color='r', alpha=1.0)\n",
    "plt.title('Distribution of Home Prices in Aimes, Iowa')\n",
    "plt.show()\n",
    "print('Mean house price in Aimes: ', house_prices_df['saleprice'].mean())"
   ]
  },
  {
   "cell_type": "markdown",
   "metadata": {},
   "source": [
    "The sale price of the homes in Aimes, Iowa seems to be right-skewed with a few homes selling in the $ 700,000 range and the mean price at $ 180,000. Next, I want to dig into some of the variables and determine whether or not they would be a good fit for the model. Most of the data is categorical with string values for different classifiers, so the following evaluation will include digging into most of them one by one."
   ]
  },
  {
   "cell_type": "markdown",
   "metadata": {},
   "source": [
    "### Feature Engineering"
   ]
  },
  {
   "cell_type": "code",
   "execution_count": 5,
   "metadata": {},
   "outputs": [],
   "source": [
    "house_prices_df['total_sf'] = house_prices_df['totalbsmtsf'] + house_prices_df['firstflrsf'] + house_prices_df['secondflrsf']"
   ]
  },
  {
   "cell_type": "code",
   "execution_count": 6,
   "metadata": {},
   "outputs": [],
   "source": [
    "num_car_garage = pd.get_dummies(house_prices_df['garagecars'], prefix='car_garage')\n",
    "house_prices_df = pd.concat([house_prices_df, num_car_garage], axis=1)\n"
   ]
  },
  {
   "cell_type": "code",
   "execution_count": 7,
   "metadata": {},
   "outputs": [],
   "source": [
    "garage_type = pd.get_dummies(house_prices_df['garagetype'], prefix='garagetype')\n",
    "house_prices_df = pd.concat([house_prices_df, garage_type], axis=1)\n"
   ]
  },
  {
   "cell_type": "code",
   "execution_count": 8,
   "metadata": {},
   "outputs": [],
   "source": [
    "paved = pd.get_dummies(house_prices_df['paveddrive'], prefix='paved_driveway')\n",
    "house_prices_df = pd.concat([house_prices_df, paved], axis=1)"
   ]
  },
  {
   "cell_type": "code",
   "execution_count": 9,
   "metadata": {},
   "outputs": [],
   "source": [
    "garage_finish = pd.get_dummies(house_prices_df['garagefinish'], prefix='garagefinish')\n",
    "house_prices_df = pd.concat([house_prices_df, garage_finish], axis=1)"
   ]
  },
  {
   "cell_type": "code",
   "execution_count": 10,
   "metadata": {},
   "outputs": [],
   "source": [
    "#Does the house have an above average kitchen feature\n",
    "house_prices_df['awesome_kitchen'] = 9999"
   ]
  },
  {
   "cell_type": "code",
   "execution_count": 11,
   "metadata": {},
   "outputs": [
    {
     "data": {
      "text/plain": [
       "0    774\n",
       "1    686\n",
       "Name: awesome_kitchen, dtype: int64"
      ]
     },
     "execution_count": 11,
     "metadata": {},
     "output_type": "execute_result"
    }
   ],
   "source": [
    "house_prices_df.loc[(house_prices_df['kitchenqual'] == 'Ex') | (house_prices_df['kitchenqual'] == 'Gd'), \n",
    "                    ['awesome_kitchen']] = 1\n",
    "house_prices_df.loc[(house_prices_df['kitchenqual'] == 'Fa') | (house_prices_df['kitchenqual'] == 'TA'), \n",
    "                    ['awesome_kitchen']] = 0\n",
    "house_prices_df.awesome_kitchen.value_counts()"
   ]
  },
  {
   "cell_type": "code",
   "execution_count": 12,
   "metadata": {},
   "outputs": [
    {
     "data": {
      "text/plain": [
       "1    958\n",
       "0    502\n",
       "Name: attached_garage, dtype: int64"
      ]
     },
     "execution_count": 12,
     "metadata": {},
     "output_type": "execute_result"
    }
   ],
   "source": [
    "#Is the garage attached to the house feature\n",
    "house_prices_df['attached_garage'] = 9999\n",
    "house_prices_df.loc[(house_prices_df['garagetype'] == 'Attchd') | (house_prices_df['garagetype'] == 'BuiltIn'), \n",
    "                    ['attached_garage']] = 1\n",
    "house_prices_df.loc[(house_prices_df['garagetype'] != 'Attchd') & (house_prices_df['garagetype'] != 'BuiltIn'), \n",
    "                    ['attached_garage']] = 0\n",
    "house_prices_df.attached_garage.value_counts()"
   ]
  },
  {
   "cell_type": "markdown",
   "metadata": {},
   "source": [
    "### Linear Regression Modeling"
   ]
  },
  {
   "cell_type": "code",
   "execution_count": 14,
   "metadata": {
    "scrolled": true
   },
   "outputs": [
    {
     "data": {
      "text/html": [
       "<table class=\"simpletable\">\n",
       "<caption>OLS Regression Results</caption>\n",
       "<tr>\n",
       "  <th>Dep. Variable:</th>        <td>saleprice</td>    <th>  R-squared:         </th> <td>   0.753</td> \n",
       "</tr>\n",
       "<tr>\n",
       "  <th>Model:</th>                   <td>OLS</td>       <th>  Adj. R-squared:    </th> <td>   0.752</td> \n",
       "</tr>\n",
       "<tr>\n",
       "  <th>Method:</th>             <td>Least Squares</td>  <th>  F-statistic:       </th> <td>   492.2</td> \n",
       "</tr>\n",
       "<tr>\n",
       "  <th>Date:</th>             <td>Sat, 22 Jun 2019</td> <th>  Prob (F-statistic):</th>  <td>  0.00</td>  \n",
       "</tr>\n",
       "<tr>\n",
       "  <th>Time:</th>                 <td>15:46:54</td>     <th>  Log-Likelihood:    </th> <td> -17522.</td> \n",
       "</tr>\n",
       "<tr>\n",
       "  <th>No. Observations:</th>      <td>  1460</td>      <th>  AIC:               </th> <td>3.506e+04</td>\n",
       "</tr>\n",
       "<tr>\n",
       "  <th>Df Residuals:</th>          <td>  1450</td>      <th>  BIC:               </th> <td>3.512e+04</td>\n",
       "</tr>\n",
       "<tr>\n",
       "  <th>Df Model:</th>              <td>     9</td>      <th>                     </th>     <td> </td>    \n",
       "</tr>\n",
       "<tr>\n",
       "  <th>Covariance Type:</th>      <td>nonrobust</td>    <th>                     </th>     <td> </td>    \n",
       "</tr>\n",
       "</table>\n",
       "<table class=\"simpletable\">\n",
       "<tr>\n",
       "           <td></td>             <th>coef</th>     <th>std err</th>      <th>t</th>      <th>P>|t|</th>  <th>[0.025</th>    <th>0.975]</th>  \n",
       "</tr>\n",
       "<tr>\n",
       "  <th>const</th>              <td> 8579.3531</td> <td> 4810.992</td> <td>    1.783</td> <td> 0.075</td> <td> -857.895</td> <td>  1.8e+04</td>\n",
       "</tr>\n",
       "<tr>\n",
       "  <th>awesome_kitchen</th>    <td> 3.079e+04</td> <td> 2431.741</td> <td>   12.661</td> <td> 0.000</td> <td>  2.6e+04</td> <td> 3.56e+04</td>\n",
       "</tr>\n",
       "<tr>\n",
       "  <th>total_sf</th>           <td>   48.4512</td> <td>    1.593</td> <td>   30.410</td> <td> 0.000</td> <td>   45.326</td> <td>   51.577</td>\n",
       "</tr>\n",
       "<tr>\n",
       "  <th>paved_driveway_Y</th>   <td> 1.292e+04</td> <td> 4008.444</td> <td>    3.223</td> <td> 0.001</td> <td> 5055.399</td> <td> 2.08e+04</td>\n",
       "</tr>\n",
       "<tr>\n",
       "  <th>attached_garage</th>    <td> 1.471e+04</td> <td> 2659.821</td> <td>    5.530</td> <td> 0.000</td> <td> 9491.749</td> <td> 1.99e+04</td>\n",
       "</tr>\n",
       "<tr>\n",
       "  <th>garagetype_2Types</th>  <td>-6.114e+04</td> <td> 1.64e+04</td> <td>   -3.723</td> <td> 0.000</td> <td>-9.34e+04</td> <td>-2.89e+04</td>\n",
       "</tr>\n",
       "<tr>\n",
       "  <th>garagetype_Basment</th> <td> 1.025e+04</td> <td> 9312.364</td> <td>    1.101</td> <td> 0.271</td> <td>-8017.141</td> <td> 2.85e+04</td>\n",
       "</tr>\n",
       "<tr>\n",
       "  <th>garagetype_CarPort</th> <td>-1.019e+04</td> <td> 1.33e+04</td> <td>   -0.764</td> <td> 0.445</td> <td>-3.63e+04</td> <td>  1.6e+04</td>\n",
       "</tr>\n",
       "<tr>\n",
       "  <th>car_garage_3</th>       <td> 6.142e+04</td> <td> 3697.788</td> <td>   16.610</td> <td> 0.000</td> <td> 5.42e+04</td> <td> 6.87e+04</td>\n",
       "</tr>\n",
       "<tr>\n",
       "  <th>garagefinish_Fin</th>   <td>  1.89e+04</td> <td> 2673.852</td> <td>    7.069</td> <td> 0.000</td> <td> 1.37e+04</td> <td> 2.41e+04</td>\n",
       "</tr>\n",
       "</table>\n",
       "<table class=\"simpletable\">\n",
       "<tr>\n",
       "  <th>Omnibus:</th>       <td>503.677</td> <th>  Durbin-Watson:     </th> <td>   1.914</td> \n",
       "</tr>\n",
       "<tr>\n",
       "  <th>Prob(Omnibus):</th> <td> 0.000</td>  <th>  Jarque-Bera (JB):  </th> <td>42867.956</td>\n",
       "</tr>\n",
       "<tr>\n",
       "  <th>Skew:</th>          <td>-0.654</td>  <th>  Prob(JB):          </th> <td>    0.00</td> \n",
       "</tr>\n",
       "<tr>\n",
       "  <th>Kurtosis:</th>      <td>29.514</td>  <th>  Cond. No.          </th> <td>4.28e+04</td> \n",
       "</tr>\n",
       "</table><br/><br/>Warnings:<br/>[1] Standard Errors assume that the covariance matrix of the errors is correctly specified.<br/>[2] The condition number is large, 4.28e+04. This might indicate that there are<br/>strong multicollinearity or other numerical problems."
      ],
      "text/plain": [
       "<class 'statsmodels.iolib.summary.Summary'>\n",
       "\"\"\"\n",
       "                            OLS Regression Results                            \n",
       "==============================================================================\n",
       "Dep. Variable:              saleprice   R-squared:                       0.753\n",
       "Model:                            OLS   Adj. R-squared:                  0.752\n",
       "Method:                 Least Squares   F-statistic:                     492.2\n",
       "Date:                Sat, 22 Jun 2019   Prob (F-statistic):               0.00\n",
       "Time:                        15:46:54   Log-Likelihood:                -17522.\n",
       "No. Observations:                1460   AIC:                         3.506e+04\n",
       "Df Residuals:                    1450   BIC:                         3.512e+04\n",
       "Df Model:                           9                                         \n",
       "Covariance Type:            nonrobust                                         \n",
       "======================================================================================\n",
       "                         coef    std err          t      P>|t|      [0.025      0.975]\n",
       "--------------------------------------------------------------------------------------\n",
       "const               8579.3531   4810.992      1.783      0.075    -857.895     1.8e+04\n",
       "awesome_kitchen     3.079e+04   2431.741     12.661      0.000     2.6e+04    3.56e+04\n",
       "total_sf              48.4512      1.593     30.410      0.000      45.326      51.577\n",
       "paved_driveway_Y    1.292e+04   4008.444      3.223      0.001    5055.399    2.08e+04\n",
       "attached_garage     1.471e+04   2659.821      5.530      0.000    9491.749    1.99e+04\n",
       "garagetype_2Types  -6.114e+04   1.64e+04     -3.723      0.000   -9.34e+04   -2.89e+04\n",
       "garagetype_Basment  1.025e+04   9312.364      1.101      0.271   -8017.141    2.85e+04\n",
       "garagetype_CarPort -1.019e+04   1.33e+04     -0.764      0.445   -3.63e+04     1.6e+04\n",
       "car_garage_3        6.142e+04   3697.788     16.610      0.000    5.42e+04    6.87e+04\n",
       "garagefinish_Fin     1.89e+04   2673.852      7.069      0.000    1.37e+04    2.41e+04\n",
       "==============================================================================\n",
       "Omnibus:                      503.677   Durbin-Watson:                   1.914\n",
       "Prob(Omnibus):                  0.000   Jarque-Bera (JB):            42867.956\n",
       "Skew:                          -0.654   Prob(JB):                         0.00\n",
       "Kurtosis:                      29.514   Cond. No.                     4.28e+04\n",
       "==============================================================================\n",
       "\n",
       "Warnings:\n",
       "[1] Standard Errors assume that the covariance matrix of the errors is correctly specified.\n",
       "[2] The condition number is large, 4.28e+04. This might indicate that there are\n",
       "strong multicollinearity or other numerical problems.\n",
       "\"\"\""
      ]
     },
     "execution_count": 14,
     "metadata": {},
     "output_type": "execute_result"
    }
   ],
   "source": [
    "features = house_prices_df[[\n",
    "                    'awesome_kitchen', \n",
    "                    'total_sf', \n",
    "                    'paved_driveway_Y',\n",
    "                    'attached_garage', \n",
    "                    'garagetype_2Types',\n",
    "                    'garagetype_Basment', \n",
    "                    'garagetype_CarPort', \n",
    "                    'car_garage_3', \n",
    "                    'garagefinish_Fin'\n",
    "                    ]\n",
    "                   ]\n",
    "Y = house_prices_df['saleprice']\n",
    "X = features\n",
    "X = sm.add_constant(X)\n",
    "\n",
    "results = sm.OLS(Y, X).fit()\n",
    "results.summary()"
   ]
  },
  {
   "cell_type": "markdown",
   "metadata": {},
   "source": [
    "In this iteration of the model there are 7 statistically significant features and 2 that are not. The two that are not are garagetype_carport and garagetype_Basment which there p-values are 0.445 and 0.271 respectively. The rest of the features are significant with p-values < 0.05. Most of the features here represent increases in the sale price of a home, except for homes with carports or 2 types of garages. Based on the coefficients, homes with a 3 car garage see the largest increase in sale price on average. However, the feature is binary which means the home will either have it or not. The feature with the most potential to change the price of a home would be the total_sf with one foot increase the cost of the home could go up $ 48, which means only a 600 sq. foot increase would bring the value of the home greater than having an above average kitchen.\n",
    "\n",
    "In the next iteration I will remove the statistically insignificant features."
   ]
  },
  {
   "cell_type": "code",
   "execution_count": 16,
   "metadata": {
    "scrolled": true
   },
   "outputs": [
    {
     "data": {
      "text/html": [
       "<table class=\"simpletable\">\n",
       "<caption>OLS Regression Results</caption>\n",
       "<tr>\n",
       "  <th>Dep. Variable:</th>        <td>saleprice</td>    <th>  R-squared:         </th> <td>   0.753</td> \n",
       "</tr>\n",
       "<tr>\n",
       "  <th>Model:</th>                   <td>OLS</td>       <th>  Adj. R-squared:    </th> <td>   0.752</td> \n",
       "</tr>\n",
       "<tr>\n",
       "  <th>Method:</th>             <td>Least Squares</td>  <th>  F-statistic:       </th> <td>   632.6</td> \n",
       "</tr>\n",
       "<tr>\n",
       "  <th>Date:</th>             <td>Sat, 22 Jun 2019</td> <th>  Prob (F-statistic):</th>  <td>  0.00</td>  \n",
       "</tr>\n",
       "<tr>\n",
       "  <th>Time:</th>                 <td>16:01:15</td>     <th>  Log-Likelihood:    </th> <td> -17523.</td> \n",
       "</tr>\n",
       "<tr>\n",
       "  <th>No. Observations:</th>      <td>  1460</td>      <th>  AIC:               </th> <td>3.506e+04</td>\n",
       "</tr>\n",
       "<tr>\n",
       "  <th>Df Residuals:</th>          <td>  1452</td>      <th>  BIC:               </th> <td>3.510e+04</td>\n",
       "</tr>\n",
       "<tr>\n",
       "  <th>Df Model:</th>              <td>     7</td>      <th>                     </th>     <td> </td>    \n",
       "</tr>\n",
       "<tr>\n",
       "  <th>Covariance Type:</th>      <td>nonrobust</td>    <th>                     </th>     <td> </td>    \n",
       "</tr>\n",
       "</table>\n",
       "<table class=\"simpletable\">\n",
       "<tr>\n",
       "          <td></td>             <th>coef</th>     <th>std err</th>      <th>t</th>      <th>P>|t|</th>  <th>[0.025</th>    <th>0.975]</th>  \n",
       "</tr>\n",
       "<tr>\n",
       "  <th>const</th>             <td> 8424.1056</td> <td> 4808.456</td> <td>    1.752</td> <td> 0.080</td> <td>-1008.158</td> <td> 1.79e+04</td>\n",
       "</tr>\n",
       "<tr>\n",
       "  <th>awesome_kitchen</th>   <td>  3.08e+04</td> <td> 2429.127</td> <td>   12.679</td> <td> 0.000</td> <td>  2.6e+04</td> <td> 3.56e+04</td>\n",
       "</tr>\n",
       "<tr>\n",
       "  <th>total_sf</th>          <td>   48.5454</td> <td>    1.590</td> <td>   30.522</td> <td> 0.000</td> <td>   45.425</td> <td>   51.665</td>\n",
       "</tr>\n",
       "<tr>\n",
       "  <th>paved_driveway_Y</th>  <td> 1.312e+04</td> <td> 3996.954</td> <td>    3.282</td> <td> 0.001</td> <td> 5278.756</td> <td>  2.1e+04</td>\n",
       "</tr>\n",
       "<tr>\n",
       "  <th>attached_garage</th>   <td> 1.438e+04</td> <td> 2606.538</td> <td>    5.515</td> <td> 0.000</td> <td> 9262.173</td> <td> 1.95e+04</td>\n",
       "</tr>\n",
       "<tr>\n",
       "  <th>garagetype_2Types</th> <td>-6.136e+04</td> <td> 1.64e+04</td> <td>   -3.738</td> <td> 0.000</td> <td>-9.36e+04</td> <td>-2.92e+04</td>\n",
       "</tr>\n",
       "<tr>\n",
       "  <th>car_garage_3</th>      <td> 6.127e+04</td> <td> 3695.297</td> <td>   16.580</td> <td> 0.000</td> <td>  5.4e+04</td> <td> 6.85e+04</td>\n",
       "</tr>\n",
       "<tr>\n",
       "  <th>garagefinish_Fin</th>  <td> 1.904e+04</td> <td> 2670.962</td> <td>    7.129</td> <td> 0.000</td> <td> 1.38e+04</td> <td> 2.43e+04</td>\n",
       "</tr>\n",
       "</table>\n",
       "<table class=\"simpletable\">\n",
       "<tr>\n",
       "  <th>Omnibus:</th>       <td>506.307</td> <th>  Durbin-Watson:     </th> <td>   1.917</td> \n",
       "</tr>\n",
       "<tr>\n",
       "  <th>Prob(Omnibus):</th> <td> 0.000</td>  <th>  Jarque-Bera (JB):  </th> <td>43128.854</td>\n",
       "</tr>\n",
       "<tr>\n",
       "  <th>Skew:</th>          <td>-0.663</td>  <th>  Prob(JB):          </th> <td>    0.00</td> \n",
       "</tr>\n",
       "<tr>\n",
       "  <th>Kurtosis:</th>      <td>29.593</td>  <th>  Cond. No.          </th> <td>4.27e+04</td> \n",
       "</tr>\n",
       "</table><br/><br/>Warnings:<br/>[1] Standard Errors assume that the covariance matrix of the errors is correctly specified.<br/>[2] The condition number is large, 4.27e+04. This might indicate that there are<br/>strong multicollinearity or other numerical problems."
      ],
      "text/plain": [
       "<class 'statsmodels.iolib.summary.Summary'>\n",
       "\"\"\"\n",
       "                            OLS Regression Results                            \n",
       "==============================================================================\n",
       "Dep. Variable:              saleprice   R-squared:                       0.753\n",
       "Model:                            OLS   Adj. R-squared:                  0.752\n",
       "Method:                 Least Squares   F-statistic:                     632.6\n",
       "Date:                Sat, 22 Jun 2019   Prob (F-statistic):               0.00\n",
       "Time:                        16:01:15   Log-Likelihood:                -17523.\n",
       "No. Observations:                1460   AIC:                         3.506e+04\n",
       "Df Residuals:                    1452   BIC:                         3.510e+04\n",
       "Df Model:                           7                                         \n",
       "Covariance Type:            nonrobust                                         \n",
       "=====================================================================================\n",
       "                        coef    std err          t      P>|t|      [0.025      0.975]\n",
       "-------------------------------------------------------------------------------------\n",
       "const              8424.1056   4808.456      1.752      0.080   -1008.158    1.79e+04\n",
       "awesome_kitchen     3.08e+04   2429.127     12.679      0.000     2.6e+04    3.56e+04\n",
       "total_sf             48.5454      1.590     30.522      0.000      45.425      51.665\n",
       "paved_driveway_Y   1.312e+04   3996.954      3.282      0.001    5278.756     2.1e+04\n",
       "attached_garage    1.438e+04   2606.538      5.515      0.000    9262.173    1.95e+04\n",
       "garagetype_2Types -6.136e+04   1.64e+04     -3.738      0.000   -9.36e+04   -2.92e+04\n",
       "car_garage_3       6.127e+04   3695.297     16.580      0.000     5.4e+04    6.85e+04\n",
       "garagefinish_Fin   1.904e+04   2670.962      7.129      0.000    1.38e+04    2.43e+04\n",
       "==============================================================================\n",
       "Omnibus:                      506.307   Durbin-Watson:                   1.917\n",
       "Prob(Omnibus):                  0.000   Jarque-Bera (JB):            43128.854\n",
       "Skew:                          -0.663   Prob(JB):                         0.00\n",
       "Kurtosis:                      29.593   Cond. No.                     4.27e+04\n",
       "==============================================================================\n",
       "\n",
       "Warnings:\n",
       "[1] Standard Errors assume that the covariance matrix of the errors is correctly specified.\n",
       "[2] The condition number is large, 4.27e+04. This might indicate that there are\n",
       "strong multicollinearity or other numerical problems.\n",
       "\"\"\""
      ]
     },
     "execution_count": 16,
     "metadata": {},
     "output_type": "execute_result"
    }
   ],
   "source": [
    "features = house_prices_df[[\n",
    "                    'awesome_kitchen', \n",
    "                    'total_sf', \n",
    "                    'paved_driveway_Y',\n",
    "                    'attached_garage', \n",
    "                    'garagetype_2Types', \n",
    "                    'car_garage_3', \n",
    "                    'garagefinish_Fin'\n",
    "                    ]\n",
    "                   ]\n",
    "Y = house_prices_df['saleprice']\n",
    "X = features\n",
    "X = sm.add_constant(X)\n",
    "\n",
    "results = sm.OLS(Y, X).fit()\n",
    "results.summary()"
   ]
  },
  {
   "cell_type": "markdown",
   "metadata": {},
   "source": [
    "In this model there are no more statistically insignificant features and the coefficients of the rest of the features have had very little change. No coefficient signs have switched and the values have remained fairly consistent. Having a 3 car garage and an above average kitchen will increase the price of a home by $ 61,270 and $ 30,800 respectively and are still the most impactful to a homes sale price. Having two types of garages does seem to hurt a homes sale price, but considering having a carport brought down the price then they could be the predominant second type of garage.\n",
    "\n",
    "Most of these results sound pretty reasonable to me. Most of the binary features included above are positive things that should help increse the price of a home. The only one that stands out as being strange is the homes with 2 types of garages. As I mentioned above, this could be due to having a carport along with a garge with less than 3 spaces which would decrease the value of the home on average."
   ]
  }
 ],
 "metadata": {
  "kernelspec": {
   "display_name": "Python 3",
   "language": "python",
   "name": "python3"
  },
  "language_info": {
   "codemirror_mode": {
    "name": "ipython",
    "version": 3
   },
   "file_extension": ".py",
   "mimetype": "text/x-python",
   "name": "python",
   "nbconvert_exporter": "python",
   "pygments_lexer": "ipython3",
   "version": "3.7.1"
  }
 },
 "nbformat": 4,
 "nbformat_minor": 2
}

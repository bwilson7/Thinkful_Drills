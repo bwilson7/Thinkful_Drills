{
  "nbformat": 4,
  "nbformat_minor": 0,
  "metadata": {
    "colab": {
      "name": "rfc_spark_batch_02_26_19.ipynb",
      "provenance": [],
      "include_colab_link": true
    },
    "kernelspec": {
      "display_name": "Python 3",
      "language": "python",
      "name": "python3"
    },
    "language_info": {
      "codemirror_mode": {
        "name": "ipython",
        "version": 3
      },
      "file_extension": ".py",
      "mimetype": "text/x-python",
      "name": "python",
      "nbconvert_exporter": "python",
      "pygments_lexer": "ipython3",
      "version": "3.7.0"
    }
  },
  "cells": [
    {
      "cell_type": "markdown",
      "metadata": {
        "id": "view-in-github",
        "colab_type": "text"
      },
      "source": [
        "<a href=\"https://colab.research.google.com/github/bwilson7/thinkful_drills/blob/master/rfc_spark_batch_02_26_19.ipynb\" target=\"_parent\"><img src=\"https://colab.research.google.com/assets/colab-badge.svg\" alt=\"Open In Colab\"/></a>"
      ]
    },
    {
      "cell_type": "markdown",
      "metadata": {
        "colab_type": "text",
        "id": "rCwqd_Gdlx10"
      },
      "source": [
        "In this notebook, you'll learn the basics of working with Spark in batch mode to build a random forest classifier. Note that this notebook is intended to be run on Google Colaboratory."
      ]
    },
    {
      "cell_type": "markdown",
      "metadata": {
        "id": "OiYs9U1ZsIo0",
        "colab_type": "text"
      },
      "source": [
        "## Spark and Colaboratory setup\n",
        "\n",
        "First, there's some configration specific to running Spark on Colaboratory that we'll need to attend to. Run these cells to set everything up."
      ]
    },
    {
      "cell_type": "code",
      "metadata": {
        "colab_type": "code",
        "id": "ahlaHUHYnGcg",
        "colab": {}
      },
      "source": [
        "!apt-get install openjdk-8-jdk-headless -qq > /dev/null\n",
        "!wget -q http://apache.osuosl.org/spark/spark-2.4.4/spark-2.4.4-bin-hadoop2.7.tgz\n",
        "!tar xf spark-2.4.4-bin-hadoop2.7.tgz"
      ],
      "execution_count": 0,
      "outputs": []
    },
    {
      "cell_type": "code",
      "metadata": {
        "id": "ycLeTST4sIo3",
        "colab_type": "code",
        "colab": {
          "base_uri": "https://localhost:8080/",
          "height": 258
        },
        "outputId": "6c0d940e-82bb-4736-feb8-5342b4a8cf5f"
      },
      "source": [
        "# Install spark-related depdencies for Python\n",
        "!pip install -q findspark\n",
        "!pip install pyspark"
      ],
      "execution_count": 2,
      "outputs": [
        {
          "output_type": "stream",
          "text": [
            "Collecting pyspark\n",
            "\u001b[?25l  Downloading https://files.pythonhosted.org/packages/87/21/f05c186f4ddb01d15d0ddc36ef4b7e3cedbeb6412274a41f26b55a650ee5/pyspark-2.4.4.tar.gz (215.7MB)\n",
            "\u001b[K     |████████████████████████████████| 215.7MB 98kB/s \n",
            "\u001b[?25hCollecting py4j==0.10.7 (from pyspark)\n",
            "\u001b[?25l  Downloading https://files.pythonhosted.org/packages/e3/53/c737818eb9a7dc32a7cd4f1396e787bd94200c3997c72c1dbe028587bd76/py4j-0.10.7-py2.py3-none-any.whl (197kB)\n",
            "\u001b[K     |████████████████████████████████| 204kB 40.5MB/s \n",
            "\u001b[?25hBuilding wheels for collected packages: pyspark\n",
            "  Building wheel for pyspark (setup.py) ... \u001b[?25l\u001b[?25hdone\n",
            "  Created wheel for pyspark: filename=pyspark-2.4.4-py2.py3-none-any.whl size=216130387 sha256=6ca79e8a02ba640e84a6693142356582dab25dc85eed757e54a35f25c30541cb\n",
            "  Stored in directory: /root/.cache/pip/wheels/ab/09/4d/0d184230058e654eb1b04467dbc1292f00eaa186544604b471\n",
            "Successfully built pyspark\n",
            "Installing collected packages: py4j, pyspark\n",
            "Successfully installed py4j-0.10.7 pyspark-2.4.4\n"
          ],
          "name": "stdout"
        }
      ]
    },
    {
      "cell_type": "code",
      "metadata": {
        "colab_type": "code",
        "id": "9pxKUb5pnHix",
        "colab": {}
      },
      "source": [
        "# Set up required environment variables\n",
        "\n",
        "import os\n",
        "os.environ[\"JAVA_HOME\"] = \"/usr/lib/jvm/java-8-openjdk-amd64\"\n",
        "os.environ[\"SPARK_HOME\"] = \"/content/spark-2.4.4-bin-hadoop2.7\""
      ],
      "execution_count": 0,
      "outputs": []
    },
    {
      "cell_type": "code",
      "metadata": {
        "id": "MifR7t9UsIo7",
        "colab_type": "code",
        "colab": {
          "base_uri": "https://localhost:8080/",
          "height": 122
        },
        "outputId": "77599b87-7402-4e51-ae04-1b0185f3546e"
      },
      "source": [
        "# Point Colaboratory to Google Drive\n",
        "\n",
        "from google.colab import drive\n",
        "drive.mount('/content/gdrive')"
      ],
      "execution_count": 4,
      "outputs": [
        {
          "output_type": "stream",
          "text": [
            "Go to this URL in a browser: https://accounts.google.com/o/oauth2/auth?client_id=947318989803-6bn6qk8qdgf4n4g3pfee6491hc0brc4i.apps.googleusercontent.com&redirect_uri=urn%3Aietf%3Awg%3Aoauth%3A2.0%3Aoob&scope=email%20https%3A%2F%2Fwww.googleapis.com%2Fauth%2Fdocs.test%20https%3A%2F%2Fwww.googleapis.com%2Fauth%2Fdrive%20https%3A%2F%2Fwww.googleapis.com%2Fauth%2Fdrive.photos.readonly%20https%3A%2F%2Fwww.googleapis.com%2Fauth%2Fpeopleapi.readonly&response_type=code\n",
            "\n",
            "Enter your authorization code:\n",
            "··········\n",
            "Mounted at /content/gdrive\n"
          ],
          "name": "stdout"
        }
      ]
    },
    {
      "cell_type": "markdown",
      "metadata": {
        "colab_type": "text",
        "id": "cTDxREFdlx11"
      },
      "source": [
        "##  Import dependencies\n",
        "\n",
        "Next, we need to import the tools we'll need from PySpark. The imports below allow us to connect to the Spark server, load our data, clean it, and prepare, execute, and evaluate a model."
      ]
    },
    {
      "cell_type": "code",
      "metadata": {
        "colab_type": "code",
        "id": "UBIeh7Eblx12",
        "colab": {}
      },
      "source": [
        "from pyspark import SparkContext\n",
        "from pyspark.sql import SparkSession\n",
        "\n",
        "from pyspark.ml import Pipeline\n",
        "from pyspark.ml.classification import RandomForestClassifier, RandomForestClassificationModel\n",
        "from pyspark.ml.feature import IndexToString, StringIndexer, VectorIndexer, VectorAssembler\n",
        "from pyspark.ml.evaluation import MulticlassClassificationEvaluator\n",
        "from pyspark.mllib.evaluation import MulticlassMetrics\n",
        "\n",
        "from pyspark.sql.functions import isnan, when, count, col\n",
        "\n",
        "import matplotlib.pyplot as plt\n",
        "%matplotlib inline\n",
        "import seaborn as sns\n",
        "import pandas as pd"
      ],
      "execution_count": 0,
      "outputs": []
    },
    {
      "cell_type": "markdown",
      "metadata": {
        "colab_type": "text",
        "id": "5PLkpx0slx15"
      },
      "source": [
        "## Set our constants\n",
        "\n",
        "Next, we create a set of constants that we can refer to throughout the notebook. These are values that the rest of our code needs to run, but that we might need to change at some point (for instance, if the location of our data changes). \n",
        "\n",
        "If you saved the relevant datasets in the folders suggested in the previous checkpoint (link), you can use the below code chunk as is. If you saved the datasets elsewhere on your Google Drive, modify the file path after the `My Drive` folder. \n",
        "\n",
        "Regardless of the exact file path, these datasets **must** be stored on Google Drive!"
      ]
    },
    {
      "cell_type": "code",
      "metadata": {
        "colab_type": "code",
        "id": "Mqs6LIRelx16",
        "colab": {}
      },
      "source": [
        "CSV_PATH = \"/content/gdrive/My Drive/colab_datasets/allData.csv\" \n",
        "CSV_ACTIVITY_LABEL_PATH = \"/content/gdrive/My Drive/colab_datasets/activity_labels.csv\"\n",
        "APP_NAME = \"UCI HAR Random Forest Example\"\n",
        "SPARK_URL = \"local[*]\"\n",
        "RANDOM_SEED = 141107\n",
        "TRAINING_DATA_RATIO = 0.8\n",
        "RF_NUM_TREES = 10\n",
        "RF_MAX_DEPTH = 4\n",
        "RF_NUM_BINS = 32"
      ],
      "execution_count": 0,
      "outputs": []
    },
    {
      "cell_type": "markdown",
      "metadata": {
        "colab_type": "text",
        "id": "hh1r-3Ialx19"
      },
      "source": [
        "## Connect to the server and load data\n",
        "\n",
        "Now we're ready to connect to the Spark server. We do that (relying on the constants set above) and then load our labels (loaded into `activity_labels`) and activity data (loaded into `df`). "
      ]
    },
    {
      "cell_type": "code",
      "metadata": {
        "colab_type": "code",
        "id": "e3daglotlx19",
        "colab": {}
      },
      "source": [
        "spark = SparkSession.builder.appName(APP_NAME).master(SPARK_URL).getOrCreate()\n",
        "activity_labels = spark.read.options(inferschema = \"true\").csv(CSV_ACTIVITY_LABEL_PATH)\n",
        "df = spark.read.options(inferschema = \"true\").csv(CSV_PATH)"
      ],
      "execution_count": 0,
      "outputs": []
    },
    {
      "cell_type": "markdown",
      "metadata": {
        "colab_type": "text",
        "id": "c-r3VQzLlx2A"
      },
      "source": [
        "## Validate the data\n",
        "\n",
        "If our data has been properly cleaned and prepared, it will meet the following criteria, which we'll verify in just a moment:\n",
        "\n",
        "* The dataframe shape should be 10,299 rows by 562 columns\n",
        "* All feature columns should be doubles. Note that one of the columns is for our labels and it will not be double.\n",
        "* There should be no nulls. This point is crucial because Spark will fail to build our vector variables for our classifier if there are any null values.\n",
        "\n",
        "Let's confirm these points."
      ]
    },
    {
      "cell_type": "code",
      "metadata": {
        "colab_type": "code",
        "id": "iokDZIFRlx2A",
        "outputId": "414477f0-0473-4106-df6e-1d90fa5f66eb",
        "colab": {
          "base_uri": "https://localhost:8080/",
          "height": 34
        }
      },
      "source": [
        "# Confirm the dataframe shape is 10,299 rows by 562 columns\n",
        "print(f\"Dataset shape is {df.count():d} rows by {len(df.columns):d} columns.\")"
      ],
      "execution_count": 8,
      "outputs": [
        {
          "output_type": "stream",
          "text": [
            "Dataset shape is 10299 rows by 562 columns.\n"
          ],
          "name": "stdout"
        }
      ]
    },
    {
      "cell_type": "code",
      "metadata": {
        "colab_type": "code",
        "id": "Zh9sVIqtlx2E",
        "outputId": "3fc0d7df-a353-4fe9-8857-19e6259f1dce",
        "colab": {
          "base_uri": "https://localhost:8080/",
          "height": 34
        }
      },
      "source": [
        "# Confirm that all feature columns are doubles via a list comprehension\n",
        "# We're expecting 561 of 562 here, accounting for the labels column\n",
        "double_cols = [col[0] for col in df.dtypes if col[1] == 'double']\n",
        "print(f\"{len(double_cols):d} columns out of {len(df.columns):d} total are type double.\")"
      ],
      "execution_count": 9,
      "outputs": [
        {
          "output_type": "stream",
          "text": [
            "561 columns out of 562 total are type double.\n"
          ],
          "name": "stdout"
        }
      ]
    },
    {
      "cell_type": "code",
      "metadata": {
        "colab_type": "code",
        "id": "YEA2XsDtlx2I",
        "outputId": "044ba0ed-bd23-43b8-e4d1-c1b7c0cc611a",
        "colab": {
          "base_uri": "https://localhost:8080/",
          "height": 34
        }
      },
      "source": [
        "# Confirm there are no null values. We use the dataframe select method to build a \n",
        "# list that is then converted to a Python dict. This way it's easy to sum up the nulls.\n",
        "null_counts = df.select([count(when(isnan(c) | col(c).isNull(), c)).alias(c) \n",
        "                         for c in df.columns]).toPandas().to_dict(orient='records')\n",
        "\n",
        "print(f\"There are {sum(null_counts[0].values()):d} null values in the dataset.\")"
      ],
      "execution_count": 10,
      "outputs": [
        {
          "output_type": "stream",
          "text": [
            "There are 0 null values in the dataset.\n"
          ],
          "name": "stdout"
        }
      ]
    },
    {
      "cell_type": "code",
      "metadata": {
        "id": "BrdAZE6pH8hg",
        "colab_type": "code",
        "colab": {
          "base_uri": "https://localhost:8080/",
          "height": 54
        },
        "outputId": "ca48a3fc-37b0-4ad7-eca8-f4e1c6360083"
      },
      "source": [
        "df"
      ],
      "execution_count": 11,
      "outputs": [
        {
          "output_type": "execute_result",
          "data": {
            "text/plain": [
              "DataFrame[_c0: int, _c1: double, _c2: double, _c3: double, _c4: double, _c5: double, _c6: double, _c7: double, _c8: double, _c9: double, _c10: double, _c11: double, _c12: double, _c13: double, _c14: double, _c15: double, _c16: double, _c17: double, _c18: double, _c19: double, _c20: double, _c21: double, _c22: double, _c23: double, _c24: double, _c25: double, _c26: double, _c27: double, _c28: double, _c29: double, _c30: double, _c31: double, _c32: double, _c33: double, _c34: double, _c35: double, _c36: double, _c37: double, _c38: double, _c39: double, _c40: double, _c41: double, _c42: double, _c43: double, _c44: double, _c45: double, _c46: double, _c47: double, _c48: double, _c49: double, _c50: double, _c51: double, _c52: double, _c53: double, _c54: double, _c55: double, _c56: double, _c57: double, _c58: double, _c59: double, _c60: double, _c61: double, _c62: double, _c63: double, _c64: double, _c65: double, _c66: double, _c67: double, _c68: double, _c69: double, _c70: double, _c71: double, _c72: double, _c73: double, _c74: double, _c75: double, _c76: double, _c77: double, _c78: double, _c79: double, _c80: double, _c81: double, _c82: double, _c83: double, _c84: double, _c85: double, _c86: double, _c87: double, _c88: double, _c89: double, _c90: double, _c91: double, _c92: double, _c93: double, _c94: double, _c95: double, _c96: double, _c97: double, _c98: double, _c99: double, _c100: double, _c101: double, _c102: double, _c103: double, _c104: double, _c105: double, _c106: double, _c107: double, _c108: double, _c109: double, _c110: double, _c111: double, _c112: double, _c113: double, _c114: double, _c115: double, _c116: double, _c117: double, _c118: double, _c119: double, _c120: double, _c121: double, _c122: double, _c123: double, _c124: double, _c125: double, _c126: double, _c127: double, _c128: double, _c129: double, _c130: double, _c131: double, _c132: double, _c133: double, _c134: double, _c135: double, _c136: double, _c137: double, _c138: double, _c139: double, _c140: double, _c141: double, _c142: double, _c143: double, _c144: double, _c145: double, _c146: double, _c147: double, _c148: double, _c149: double, _c150: double, _c151: double, _c152: double, _c153: double, _c154: double, _c155: double, _c156: double, _c157: double, _c158: double, _c159: double, _c160: double, _c161: double, _c162: double, _c163: double, _c164: double, _c165: double, _c166: double, _c167: double, _c168: double, _c169: double, _c170: double, _c171: double, _c172: double, _c173: double, _c174: double, _c175: double, _c176: double, _c177: double, _c178: double, _c179: double, _c180: double, _c181: double, _c182: double, _c183: double, _c184: double, _c185: double, _c186: double, _c187: double, _c188: double, _c189: double, _c190: double, _c191: double, _c192: double, _c193: double, _c194: double, _c195: double, _c196: double, _c197: double, _c198: double, _c199: double, _c200: double, _c201: double, _c202: double, _c203: double, _c204: double, _c205: double, _c206: double, _c207: double, _c208: double, _c209: double, _c210: double, _c211: double, _c212: double, _c213: double, _c214: double, _c215: double, _c216: double, _c217: double, _c218: double, _c219: double, _c220: double, _c221: double, _c222: double, _c223: double, _c224: double, _c225: double, _c226: double, _c227: double, _c228: double, _c229: double, _c230: double, _c231: double, _c232: double, _c233: double, _c234: double, _c235: double, _c236: double, _c237: double, _c238: double, _c239: double, _c240: double, _c241: double, _c242: double, _c243: double, _c244: double, _c245: double, _c246: double, _c247: double, _c248: double, _c249: double, _c250: double, _c251: double, _c252: double, _c253: double, _c254: double, _c255: double, _c256: double, _c257: double, _c258: double, _c259: double, _c260: double, _c261: double, _c262: double, _c263: double, _c264: double, _c265: double, _c266: double, _c267: double, _c268: double, _c269: double, _c270: double, _c271: double, _c272: double, _c273: double, _c274: double, _c275: double, _c276: double, _c277: double, _c278: double, _c279: double, _c280: double, _c281: double, _c282: double, _c283: double, _c284: double, _c285: double, _c286: double, _c287: double, _c288: double, _c289: double, _c290: double, _c291: double, _c292: double, _c293: double, _c294: double, _c295: double, _c296: double, _c297: double, _c298: double, _c299: double, _c300: double, _c301: double, _c302: double, _c303: double, _c304: double, _c305: double, _c306: double, _c307: double, _c308: double, _c309: double, _c310: double, _c311: double, _c312: double, _c313: double, _c314: double, _c315: double, _c316: double, _c317: double, _c318: double, _c319: double, _c320: double, _c321: double, _c322: double, _c323: double, _c324: double, _c325: double, _c326: double, _c327: double, _c328: double, _c329: double, _c330: double, _c331: double, _c332: double, _c333: double, _c334: double, _c335: double, _c336: double, _c337: double, _c338: double, _c339: double, _c340: double, _c341: double, _c342: double, _c343: double, _c344: double, _c345: double, _c346: double, _c347: double, _c348: double, _c349: double, _c350: double, _c351: double, _c352: double, _c353: double, _c354: double, _c355: double, _c356: double, _c357: double, _c358: double, _c359: double, _c360: double, _c361: double, _c362: double, _c363: double, _c364: double, _c365: double, _c366: double, _c367: double, _c368: double, _c369: double, _c370: double, _c371: double, _c372: double, _c373: double, _c374: double, _c375: double, _c376: double, _c377: double, _c378: double, _c379: double, _c380: double, _c381: double, _c382: double, _c383: double, _c384: double, _c385: double, _c386: double, _c387: double, _c388: double, _c389: double, _c390: double, _c391: double, _c392: double, _c393: double, _c394: double, _c395: double, _c396: double, _c397: double, _c398: double, _c399: double, _c400: double, _c401: double, _c402: double, _c403: double, _c404: double, _c405: double, _c406: double, _c407: double, _c408: double, _c409: double, _c410: double, _c411: double, _c412: double, _c413: double, _c414: double, _c415: double, _c416: double, _c417: double, _c418: double, _c419: double, _c420: double, _c421: double, _c422: double, _c423: double, _c424: double, _c425: double, _c426: double, _c427: double, _c428: double, _c429: double, _c430: double, _c431: double, _c432: double, _c433: double, _c434: double, _c435: double, _c436: double, _c437: double, _c438: double, _c439: double, _c440: double, _c441: double, _c442: double, _c443: double, _c444: double, _c445: double, _c446: double, _c447: double, _c448: double, _c449: double, _c450: double, _c451: double, _c452: double, _c453: double, _c454: double, _c455: double, _c456: double, _c457: double, _c458: double, _c459: double, _c460: double, _c461: double, _c462: double, _c463: double, _c464: double, _c465: double, _c466: double, _c467: double, _c468: double, _c469: double, _c470: double, _c471: double, _c472: double, _c473: double, _c474: double, _c475: double, _c476: double, _c477: double, _c478: double, _c479: double, _c480: double, _c481: double, _c482: double, _c483: double, _c484: double, _c485: double, _c486: double, _c487: double, _c488: double, _c489: double, _c490: double, _c491: double, _c492: double, _c493: double, _c494: double, _c495: double, _c496: double, _c497: double, _c498: double, _c499: double, _c500: double, _c501: double, _c502: double, _c503: double, _c504: double, _c505: double, _c506: double, _c507: double, _c508: double, _c509: double, _c510: double, _c511: double, _c512: double, _c513: double, _c514: double, _c515: double, _c516: double, _c517: double, _c518: double, _c519: double, _c520: double, _c521: double, _c522: double, _c523: double, _c524: double, _c525: double, _c526: double, _c527: double, _c528: double, _c529: double, _c530: double, _c531: double, _c532: double, _c533: double, _c534: double, _c535: double, _c536: double, _c537: double, _c538: double, _c539: double, _c540: double, _c541: double, _c542: double, _c543: double, _c544: double, _c545: double, _c546: double, _c547: double, _c548: double, _c549: double, _c550: double, _c551: double, _c552: double, _c553: double, _c554: double, _c555: double, _c556: double, _c557: double, _c558: double, _c559: double, _c560: double, _c561: double]"
            ]
          },
          "metadata": {
            "tags": []
          },
          "execution_count": 11
        }
      ]
    },
    {
      "cell_type": "markdown",
      "metadata": {
        "colab_type": "text",
        "id": "vxdcUvn7lx2L"
      },
      "source": [
        "## Set up and run our classifier in Spark\n",
        "\n",
        "After confirming our data is clean, we're ready to reshape the data and run the random forest model.\n",
        "\n",
        "In Spark, we manipulate the data to work in a Spark pipeline, define each of the steps in the pipeline, chain them together, and finally run the pipeline.\n",
        "\n",
        "Apache Spark classifiers expect 2 columns of input:\n",
        "\n",
        "1. __labels__: an indexed set of numeric variables that represent the classification from the set of features we provide.\n",
        "2. __features__: an indexed, vector variable that contains all of the feature values in each row. \n",
        "\n",
        "In order to do this, we need to create these 2 columns from our dataset - the data is there, but not yet in a format we can use for the classifier.\n",
        "\n",
        "To create the indexed labels column, we'll create a column called `indexedLabel` using the `StringIndexer` method. We use the column `_c0` as the source for our label index since that contains our labels. The column contains only one value per index.\n",
        "    \n",
        "To create the indexed features column, we'll need to do two things. First, we'll create the vector of features using the `VectorAssembler` method. To create this vector, we'll need to use all 561 numeric columns from our data frame. The vector assembler will create a new column called `features`, and each row of this column will contain a 561-element vector that is built from the 561 features in the dataset.\n",
        "\n",
        "Finally, we'll complete the data preparation by creating an indexed vector from the `features` column. We'll call this vector `indexedFeatures`.\n",
        "    \n",
        "Since the classifier expects indexed labels and an indexed vector column of data, we'll use the `indexedLabel` and `indexedFeatures` as inputs to our random forest classifier."
      ]
    },
    {
      "cell_type": "code",
      "metadata": {
        "colab_type": "code",
        "id": "LlRqCnRslx2M",
        "colab": {}
      },
      "source": [
        "# Generate our feature vector.\n",
        "# Note that we're doing the work on the `df` object - we don't create new dataframes, \n",
        "# just add columns to the one we already are using.\n",
        "\n",
        "# the transform method creates the column.\n",
        "\n",
        "df = VectorAssembler(inputCols=double_cols, outputCol=\"features\").transform(df)"
      ],
      "execution_count": 0,
      "outputs": []
    },
    {
      "cell_type": "markdown",
      "metadata": {
        "colab_type": "text",
        "id": "GHNhdDitlx2O"
      },
      "source": [
        "Let's confirm that the features are there. It's easy to do this in Apache Spark using the `select` and `show` methods on the dataframe.  "
      ]
    },
    {
      "cell_type": "code",
      "metadata": {
        "colab_type": "code",
        "id": "cFL8zXBDlx2P",
        "outputId": "e96aee7d-7ae7-4e3d-ed95-5cbf0fde8bce",
        "colab": {
          "base_uri": "https://localhost:8080/",
          "height": 204
        }
      },
      "source": [
        "df.select(\"_c0\", \"features\").show(5)"
      ],
      "execution_count": 12,
      "outputs": [
        {
          "output_type": "stream",
          "text": [
            "+---+--------------------+\n",
            "|_c0|            features|\n",
            "+---+--------------------+\n",
            "|  5|[0.289,-0.0203,-0...|\n",
            "|  5|[0.278,-0.0164,-0...|\n",
            "|  5|[0.28,-0.0195,-0....|\n",
            "|  5|[0.279,-0.0262,-0...|\n",
            "|  5|[0.277,-0.0166,-0...|\n",
            "+---+--------------------+\n",
            "only showing top 5 rows\n",
            "\n"
          ],
          "name": "stdout"
        }
      ]
    },
    {
      "cell_type": "markdown",
      "metadata": {
        "colab_type": "text",
        "id": "7JuLglvQlx2S"
      },
      "source": [
        "Now we're ready to build the indexers, split our data for training and testing, define our model, and finally chain everything together into a pipeline.\n",
        "\n",
        "__It's important to note that when we execute this cell, we're not actually running our model. At this point, we're only defining its parameters__."
      ]
    },
    {
      "cell_type": "code",
      "metadata": {
        "colab_type": "code",
        "id": "0tMHGAVylx2U",
        "colab": {}
      },
      "source": [
        "# Build the training indexers / split data / classifier\n",
        "# first we'll generate a labelIndexer\n",
        "labelIndexer = StringIndexer(inputCol=\"_c0\", outputCol=\"indexedLabel\").fit(df)\n",
        "\n",
        "# now generate the indexed feature vector\n",
        "featureIndexer = VectorIndexer(inputCol=\"features\", outputCol=\"indexedFeatures\", maxCategories=4).fit(df)\n",
        "    \n",
        "# Split the data into training and validation sets (30% held out for testing)\n",
        "(trainingData, testData) = df.randomSplit([TRAINING_DATA_RATIO, 1 - TRAINING_DATA_RATIO])\n",
        "\n",
        "# Train a RandomForest model.\n",
        "rf = RandomForestClassifier(labelCol=\"indexedLabel\", featuresCol=\"indexedFeatures\", numTrees=RF_NUM_TREES)\n",
        "\n",
        "# Chain indexers and forest in a Pipeline\n",
        "pipeline = Pipeline(stages=[labelIndexer, featureIndexer, rf])"
      ],
      "execution_count": 0,
      "outputs": []
    },
    {
      "cell_type": "markdown",
      "metadata": {
        "colab_type": "text",
        "id": "xBr2bivRlx2W"
      },
      "source": [
        "This next cell runs the pipeline, delivering a trained model at the end of the process."
      ]
    },
    {
      "cell_type": "code",
      "metadata": {
        "colab_type": "code",
        "id": "PVl2IQMolx2X",
        "scrolled": true,
        "colab": {}
      },
      "source": [
        "# Train model.  This also runs the indexers.\n",
        "model = pipeline.fit(trainingData)"
      ],
      "execution_count": 0,
      "outputs": []
    },
    {
      "cell_type": "code",
      "metadata": {
        "id": "SJY1jbZmi-am",
        "colab_type": "code",
        "colab": {
          "base_uri": "https://localhost:8080/",
          "height": 164
        },
        "outputId": "bbc0a105-d116-4ab3-c6d3-e8e95285e413"
      },
      "source": [
        "model.rf.featureImportances"
      ],
      "execution_count": 17,
      "outputs": [
        {
          "output_type": "error",
          "ename": "AttributeError",
          "evalue": "ignored",
          "traceback": [
            "\u001b[0;31m---------------------------------------------------------------------------\u001b[0m",
            "\u001b[0;31mAttributeError\u001b[0m                            Traceback (most recent call last)",
            "\u001b[0;32m<ipython-input-17-f78e051f71ee>\u001b[0m in \u001b[0;36m<module>\u001b[0;34m()\u001b[0m\n\u001b[0;32m----> 1\u001b[0;31m \u001b[0mmodel\u001b[0m\u001b[0;34m.\u001b[0m\u001b[0mrf\u001b[0m\u001b[0;34m.\u001b[0m\u001b[0mfeatureImportances\u001b[0m\u001b[0;34m\u001b[0m\u001b[0;34m\u001b[0m\u001b[0m\n\u001b[0m",
            "\u001b[0;31mAttributeError\u001b[0m: 'PipelineModel' object has no attribute 'rf'"
          ]
        }
      ]
    },
    {
      "cell_type": "markdown",
      "metadata": {
        "colab_type": "text",
        "id": "yBOhNbXPlx2Y"
      },
      "source": [
        "It is now easy to test our model and make predictions simply by using the model's `transform` method on the `testData` dataset."
      ]
    },
    {
      "cell_type": "code",
      "metadata": {
        "colab_type": "code",
        "id": "AOpXWFSPlx2Z",
        "colab": {}
      },
      "source": [
        "# Make predictions.\n",
        "predictions = model.transform(testData)"
      ],
      "execution_count": 0,
      "outputs": []
    },
    {
      "cell_type": "markdown",
      "metadata": {
        "colab_type": "text",
        "id": "4ipzFtKllx2c"
      },
      "source": [
        "## Evaluate the model\n",
        "\n",
        "Now we can use the MulticlassClassificationEvaluator to test the model's accuracy."
      ]
    },
    {
      "cell_type": "code",
      "metadata": {
        "colab_type": "code",
        "id": "mBGcd3x_lx2d",
        "outputId": "6d668dd1-ea0b-47a5-c416-d8e863259b95",
        "colab": {
          "base_uri": "https://localhost:8080/",
          "height": 102
        }
      },
      "source": [
        "# Select (prediction, true label) and compute test error\n",
        "evaluator = MulticlassClassificationEvaluator(\n",
        "    labelCol=\"indexedLabel\", predictionCol=\"prediction\", metricName=\"accuracy\")\n",
        "\n",
        "accuracy = evaluator.evaluate(predictions)\n",
        "precision = evaluator.evaluate(predictions, {evaluator.metricName:'weightedPrecision'})\n",
        "recall = evaluator.evaluate(predictions, {evaluator.metricName:'weightedRecall'})\n",
        "f1 = evaluator.evaluate(predictions, {evaluator.metricName:'f1'})\n",
        "\n",
        "print(f\"Test Error = {(1.0 - accuracy):g}\")\n",
        "print(f\"Accuracy = {accuracy:g}\")\n",
        "print(\"Precision = {}\".format(precision))\n",
        "print(\"Recall = {}\".format(recall))\n",
        "print(\"f1-score = {}\".format(f1))"
      ],
      "execution_count": 56,
      "outputs": [
        {
          "output_type": "stream",
          "text": [
            "Test Error = 0.0916988\n",
            "Accuracy = 0.908301\n",
            "Precision = 0.909863104846345\n",
            "Recall = 0.9083011583011582\n",
            "f1-score = 0.9080556945158635\n"
          ],
          "name": "stdout"
        }
      ]
    },
    {
      "cell_type": "code",
      "metadata": {
        "id": "SGVwXMb5aKru",
        "colab_type": "code",
        "colab": {
          "base_uri": "https://localhost:8080/",
          "height": 34
        },
        "outputId": "170fdbd3-94ac-4f3d-b9f0-2ea5601b8fd7"
      },
      "source": [
        "trainingData.count()"
      ],
      "execution_count": 80,
      "outputs": [
        {
          "output_type": "execute_result",
          "data": {
            "text/plain": [
              "8192"
            ]
          },
          "metadata": {
            "tags": []
          },
          "execution_count": 80
        }
      ]
    },
    {
      "cell_type": "code",
      "metadata": {
        "id": "sPzBuyMwzlIY",
        "colab_type": "code",
        "colab": {
          "base_uri": "https://localhost:8080/",
          "height": 479
        },
        "outputId": "68ea60c3-2f0d-472e-af2d-1b5966c47555"
      },
      "source": [
        "predictions.show()"
      ],
      "execution_count": 84,
      "outputs": [
        {
          "output_type": "stream",
          "text": [
            "+---+-----+--------+-------+-------+--------+------+--------+-------+-------+--------+-------+-------+-------+--------+------+-------+------+------+------+-------+-------+-------+------+------+-------+-------+-------+-------+--------+-------+--------+-------+-------+--------+-------+-------+-------+-------+-------+-------+-----+------+-------+------+------+------+------+------+------+-----+------+--------+-----+------+--------+------+-----+------+------+------+------+------+------+------+------+------+-----+------+-----+-------+-------+-------+-------+--------+--------+--------+--------+-------+------+------+--------+--------+--------+------+--------+-------+-------+--------+-------+-------+------+------+-------+-------+------+-------+------+------+------+-------+-------+------+-----+-----+-----+------+-------+--------+-------+-------+-------+--------+------+--------+-------+--------+------+-------+--------+------+-------+-------+-------+------+------+-------+------+--------+------+-------+--------+-------+-----+-----+-------+-------+------+------+------+------+-------+------+-------+-------+-------+------+------+-------+-------+-------+------+--------+-------+-------+------+-------+-------+--------+-------+-------+-------+--------+--------+------+-------+-------+-------+------+--------+-------+-------+-------+------+-------+-------+------+------+------+------+-------+-------+------+-----+-----+-----+-------+--------+-------+-------+-------+-------+--------+--------+--------+-------+------+-------+------+--------+-------+-------+-------+------+-------+------+-------+------+------+-----+--------+--------+-------+--------+-------+-------+------+-------+------+-------+------+------+-----+--------+--------+-------+--------+-------+-------+-------+-------+-------+-------+------+-------+-----+-------+-------+-------+-------+-------+-------+-------+-------+------+-------+------+-------+-----+-------+--------+-------+-------+-------+-------+-------+-------+------+-------+------+------+-----+------+-------+-------+-------+-------+-------+-------+------+-------+-------+-------+--------+------+--------+-------+-------+------+------+------+-------+------+------+------+-------+-------+-------+-----+-----+-----+------+------+------+-------+--------+-------+------+------+------+------+-------+------+------+------+------+------+------+------+------+------+------+------+------+------+------+------+------+------+-------+------+------+------+------+------+------+-------+------+------+------+------+------+------+------+------+------+------+------+------+------+------+------+------+------+------+-------+--------+-------+-------+--------+------+-------+-------+-------+------+-------+-------+------+------+------+-------+------+------+------+-------+------+------+-----+-----+-------+-----+-----+-----+-------+------+--------+-------+------+-------+------+-------+------+------+------+------+------+------+------+------+------+------+------+------+------+------+------+------+-------+------+------+------+-------+------+------+-------+------+------+------+------+------+------+------+------+------+------+------+------+-------+------+------+------+------+------+------+--------+------+-------+------+------+------+-------+-------+-------+------+-------+------+------+------+------+-------+------+------+------+-------+------+------+-----+-----+-----+------+------+------+-------+-------+-------+-------+------+--------+--------+-------+------+------+------+------+------+------+------+------+------+------+------+-------+------+------+------+------+------+------+------+------+------+------+------+------+------+------+------+------+------+------+------+------+------+------+------+------+------+------+------+------+------+------+------+-------+------+------+------+------+-------+------+------+-----+------+--------+-------+------+--------+-------+-------+-------+------+--------+------+-------+-----+------+-------+--------+-------+-------+------+------+-------+------+-------+------+------+-----+------+--------+-------+------+-------+------+-------+------+------+-------+------+-------+-----+------+--------+-------+------+-----+------+------+------+------+-----+--------+--------------------+------------+--------------------+--------------------+--------------------+----------+\n",
            "|_c0|  _c1|     _c2|    _c3|    _c4|     _c5|   _c6|     _c7|    _c8|    _c9|    _c10|   _c11|   _c12|   _c13|    _c14|  _c15|   _c16|  _c17|  _c18|  _c19|   _c20|   _c21|   _c22|  _c23|  _c24|   _c25|   _c26|   _c27|   _c28|    _c29|   _c30|    _c31|   _c32|   _c33|    _c34|   _c35|   _c36|   _c37|   _c38|   _c39|   _c40| _c41|  _c42|   _c43|  _c44|  _c45|  _c46|  _c47|  _c48|  _c49| _c50|  _c51|    _c52| _c53|  _c54|    _c55|  _c56| _c57|  _c58|  _c59|  _c60|  _c61|  _c62|  _c63|  _c64|  _c65|  _c66| _c67|  _c68| _c69|   _c70|   _c71|   _c72|   _c73|    _c74|    _c75|    _c76|    _c77|   _c78|  _c79|  _c80|    _c81|    _c82|    _c83|  _c84|    _c85|   _c86|   _c87|    _c88|   _c89|   _c90|  _c91|  _c92|   _c93|   _c94|  _c95|   _c96|  _c97|  _c98|  _c99|  _c100|  _c101| _c102|_c103|_c104|_c105| _c106|  _c107|   _c108|  _c109|  _c110|  _c111|   _c112| _c113|   _c114|  _c115|   _c116| _c117|  _c118|   _c119| _c120|  _c121|  _c122|  _c123| _c124| _c125|  _c126| _c127|   _c128| _c129|  _c130|   _c131|  _c132|_c133|_c134|  _c135|  _c136| _c137| _c138| _c139| _c140|  _c141| _c142|  _c143|  _c144|  _c145| _c146| _c147|  _c148|  _c149|  _c150| _c151|   _c152|  _c153|  _c154| _c155|  _c156|  _c157|   _c158|  _c159|  _c160|  _c161|   _c162|   _c163| _c164|  _c165|  _c166|  _c167| _c168|   _c169|  _c170|  _c171|  _c172| _c173|  _c174|  _c175| _c176| _c177| _c178| _c179|  _c180|  _c181| _c182|_c183|_c184|_c185|  _c186|   _c187|  _c188|  _c189|  _c190|  _c191|   _c192|   _c193|   _c194|  _c195| _c196|  _c197| _c198|   _c199|  _c200|  _c201|  _c202| _c203|  _c204| _c205|  _c206| _c207| _c208|_c209|   _c210|   _c211|  _c212|   _c213|  _c214|  _c215| _c216|  _c217| _c218|  _c219| _c220| _c221|_c222|   _c223|   _c224|  _c225|   _c226|  _c227|  _c228|  _c229|  _c230|  _c231|  _c232| _c233|  _c234|_c235|  _c236|  _c237|  _c238|  _c239|  _c240|  _c241|  _c242|  _c243| _c244|  _c245| _c246|  _c247|_c248|  _c249|   _c250|  _c251|  _c252|  _c253|  _c254|  _c255|  _c256| _c257|  _c258| _c259| _c260|_c261| _c262|  _c263|  _c264|  _c265|  _c266|  _c267|  _c268| _c269|  _c270|  _c271|  _c272|   _c273| _c274|   _c275|  _c276|  _c277| _c278| _c279| _c280|  _c281| _c282| _c283| _c284|  _c285|  _c286|  _c287|_c288|_c289|_c290| _c291| _c292| _c293|  _c294|   _c295|  _c296| _c297| _c298| _c299| _c300|  _c301| _c302| _c303| _c304| _c305| _c306| _c307| _c308| _c309| _c310| _c311| _c312| _c313| _c314| _c315| _c316| _c317| _c318|  _c319| _c320| _c321| _c322| _c323| _c324| _c325|  _c326| _c327| _c328| _c329| _c330| _c331| _c332| _c333| _c334| _c335| _c336| _c337| _c338| _c339| _c340| _c341| _c342| _c343| _c344|  _c345|   _c346|  _c347|  _c348|   _c349| _c350|  _c351|  _c352|  _c353| _c354|  _c355|  _c356| _c357| _c358| _c359|  _c360| _c361| _c362| _c363|  _c364| _c365| _c366|_c367|_c368|  _c369|_c370|_c371|_c372|  _c373| _c374|   _c375|  _c376| _c377|  _c378| _c379|  _c380| _c381| _c382| _c383| _c384| _c385| _c386| _c387| _c388| _c389| _c390| _c391| _c392| _c393| _c394| _c395| _c396|  _c397| _c398| _c399| _c400|  _c401| _c402| _c403|  _c404| _c405| _c406| _c407| _c408| _c409| _c410| _c411| _c412| _c413| _c414| _c415| _c416|  _c417| _c418| _c419| _c420| _c421| _c422| _c423|   _c424| _c425|  _c426| _c427| _c428| _c429|  _c430|  _c431|  _c432| _c433|  _c434| _c435| _c436| _c437| _c438|  _c439| _c440| _c441| _c442|  _c443| _c444| _c445|_c446|_c447|_c448| _c449| _c450| _c451|  _c452|  _c453|  _c454|  _c455| _c456|   _c457|   _c458|  _c459| _c460| _c461| _c462| _c463| _c464| _c465| _c466| _c467| _c468| _c469| _c470|  _c471| _c472| _c473| _c474| _c475| _c476| _c477| _c478| _c479| _c480| _c481| _c482| _c483| _c484| _c485| _c486| _c487| _c488| _c489| _c490| _c491| _c492| _c493| _c494| _c495| _c496| _c497| _c498| _c499| _c500| _c501| _c502|  _c503| _c504| _c505| _c506| _c507|  _c508| _c509| _c510|_c511| _c512|   _c513|  _c514| _c515|   _c516|  _c517|  _c518|  _c519| _c520|   _c521| _c522|  _c523|_c524| _c525|  _c526|   _c527|  _c528|  _c529| _c530| _c531|  _c532| _c533|  _c534| _c535| _c536|_c537| _c538|   _c539|  _c540| _c541|  _c542| _c543|  _c544| _c545| _c546|  _c547| _c548|  _c549|_c550| _c551|   _c552|  _c553| _c554|_c555| _c556| _c557| _c558| _c559|_c560|   _c561|            features|indexedLabel|     indexedFeatures|       rawPrediction|         probability|prediction|\n",
            "+---+-----+--------+-------+-------+--------+------+--------+-------+-------+--------+-------+-------+-------+--------+------+-------+------+------+------+-------+-------+-------+------+------+-------+-------+-------+-------+--------+-------+--------+-------+-------+--------+-------+-------+-------+-------+-------+-------+-----+------+-------+------+------+------+------+------+------+-----+------+--------+-----+------+--------+------+-----+------+------+------+------+------+------+------+------+------+-----+------+-----+-------+-------+-------+-------+--------+--------+--------+--------+-------+------+------+--------+--------+--------+------+--------+-------+-------+--------+-------+-------+------+------+-------+-------+------+-------+------+------+------+-------+-------+------+-----+-----+-----+------+-------+--------+-------+-------+-------+--------+------+--------+-------+--------+------+-------+--------+------+-------+-------+-------+------+------+-------+------+--------+------+-------+--------+-------+-----+-----+-------+-------+------+------+------+------+-------+------+-------+-------+-------+------+------+-------+-------+-------+------+--------+-------+-------+------+-------+-------+--------+-------+-------+-------+--------+--------+------+-------+-------+-------+------+--------+-------+-------+-------+------+-------+-------+------+------+------+------+-------+-------+------+-----+-----+-----+-------+--------+-------+-------+-------+-------+--------+--------+--------+-------+------+-------+------+--------+-------+-------+-------+------+-------+------+-------+------+------+-----+--------+--------+-------+--------+-------+-------+------+-------+------+-------+------+------+-----+--------+--------+-------+--------+-------+-------+-------+-------+-------+-------+------+-------+-----+-------+-------+-------+-------+-------+-------+-------+-------+------+-------+------+-------+-----+-------+--------+-------+-------+-------+-------+-------+-------+------+-------+------+------+-----+------+-------+-------+-------+-------+-------+-------+------+-------+-------+-------+--------+------+--------+-------+-------+------+------+------+-------+------+------+------+-------+-------+-------+-----+-----+-----+------+------+------+-------+--------+-------+------+------+------+------+-------+------+------+------+------+------+------+------+------+------+------+------+------+------+------+------+------+------+-------+------+------+------+------+------+------+-------+------+------+------+------+------+------+------+------+------+------+------+------+------+------+------+------+------+------+-------+--------+-------+-------+--------+------+-------+-------+-------+------+-------+-------+------+------+------+-------+------+------+------+-------+------+------+-----+-----+-------+-----+-----+-----+-------+------+--------+-------+------+-------+------+-------+------+------+------+------+------+------+------+------+------+------+------+------+------+------+------+------+-------+------+------+------+-------+------+------+-------+------+------+------+------+------+------+------+------+------+------+------+------+-------+------+------+------+------+------+------+--------+------+-------+------+------+------+-------+-------+-------+------+-------+------+------+------+------+-------+------+------+------+-------+------+------+-----+-----+-----+------+------+------+-------+-------+-------+-------+------+--------+--------+-------+------+------+------+------+------+------+------+------+------+------+------+-------+------+------+------+------+------+------+------+------+------+------+------+------+------+------+------+------+------+------+------+------+------+------+------+------+------+------+------+------+------+------+------+-------+------+------+------+------+-------+------+------+-----+------+--------+-------+------+--------+-------+-------+-------+------+--------+------+-------+-----+------+-------+--------+-------+-------+------+------+-------+------+-------+------+------+-----+------+--------+-------+------+-------+------+-------+------+------+-------+------+-------+-----+------+--------+-------+------+-----+------+------+------+------+-----+--------+--------------------+------------+--------------------+--------------------+--------------------+----------+\n",
            "|  1|0.131| -0.0361| -0.178| -0.265|  -0.229|0.0304|  -0.313| -0.319|  0.083| -0.0439| -0.145| -0.345|  0.197|  0.0581|0.0448| -0.114|-0.725|-0.884|-0.517| -0.363| -0.513| 0.0745| 0.234| 0.153|  0.224| -0.432|  0.289|  0.015| -0.0486|-0.0994|   0.055|  0.405| -0.408|  -0.118|  0.125|  0.224| -0.369| -0.104| -0.305|  0.348|0.951|-0.167|  -0.14|-0.946|-0.964| -0.86|-0.946|-0.965| -0.85|0.893|-0.182|  -0.122|0.954|-0.158|  -0.166|-0.233|0.867|-0.957|-0.957|-0.938|-0.971| -0.83| -0.83|  -1.0|  -1.0|-0.636| 0.69|-0.743|0.797| -0.212|  0.197| -0.235|  0.294|  -0.339|   0.402|  -0.464|   0.523| 0.0681| 0.955| -0.14|  0.0159|  0.0242|   0.435|-0.323|  -0.256|  -0.19| -0.302|  -0.192| -0.118| -0.452|-0.483|-0.642|  0.375|  0.584| 0.117|  -0.16|-0.768|-0.719|-0.665| -0.172| -0.288|-0.103|0.477|0.549|0.904|-0.364|  0.153|  0.0865| 0.0556| -0.111|-0.0609|   0.656|0.0583|  -0.134|  0.106|    0.19| 0.122| -0.303|  -0.401| 0.461| -0.463|  0.181|  0.336| -0.47|0.0892| -0.255|-0.489| -0.0241|-0.291| -0.632|-0.00406| 0.0285|0.286|0.226|  0.282| 0.0264| -0.75|-0.404|-0.718|-0.445| -0.117|  -0.4| -0.488|   0.32|  0.559|-0.154| 0.147|  0.066| -0.162| -0.363| 0.463|  -0.218|  0.196| -0.246| 0.243| -0.108|  0.189|  -0.225| -0.238| 0.0743|  0.153|  0.0653|  -0.254|-0.335| 0.0645|  -0.31|  -0.32|0.0384|  -0.336| -0.594|8.78E-5| -0.409| 0.179|  0.236|  0.468| -0.14|-0.777|-0.432|-0.759| -0.339|-0.0408|-0.393|0.734|0.559| 0.47| 0.0298|   0.106|  0.265| 0.0281|   -0.4|  0.509|-0.00602|   0.226|  -0.217|  0.124| 0.162| -0.181|-0.175|   0.299| -0.434| -0.102| -0.333|-0.405|  -0.27|-0.602| -0.102|-0.602|-0.497|0.798| -0.0913|   0.163| -0.109|  -0.175| -0.102| -0.333|-0.405|  -0.27|-0.602| -0.102|-0.602|-0.497|0.798| -0.0913|   0.163| -0.109|  -0.175| -0.185| -0.259| -0.279| -0.336|-0.0289| -0.185| -0.67| -0.428|0.719| 0.0983|  0.162| -0.295| -0.152| 0.0268| -0.023| 0.0754|-0.0526|-0.596| 0.0268|-0.428| 0.0191|0.169|  0.364|  -0.286|  0.135| -0.221|-0.0778|-0.0457| -0.118|-0.0787| 0.203|-0.0778|-0.546|-0.214|0.837| 0.358| -0.154| -0.359| 0.0196| -0.278|  -0.23| 0.0101| -0.26| -0.278|-0.0411| -0.161|  -0.151|0.0288|  -0.473| -0.626| -0.152|-0.872|-0.963|-0.722|-0.0563|-0.728|-0.698|-0.461| -0.294| -0.239| -0.196| 0.59|0.482|0.612|-0.806| 0.133|-0.692| -0.554| -0.0633|  0.211| -0.21|-0.646|-0.618|-0.924| -0.449|-0.725|-0.708|-0.884|-0.589|-0.925|-0.904|  -0.9|-0.981|-0.997|-0.732|-0.625|-0.903|-0.986|-0.722|  -0.9|-0.786|-0.835|  -0.59|-0.884|-0.921|-0.897|-0.831|-0.999|-0.751|  -0.57|-0.903|-0.897|  -0.7|-0.884|-0.585|-0.744|-0.394|-0.872|-0.884|-0.756|-0.589|-0.535|-0.586|-0.567|-0.842|-0.569|-0.474|-0.863| -0.374|  -0.333| -0.174| -0.329|  -0.222|-0.204| -0.224| -0.307| -0.215|-0.411| -0.168|-0.0549|-0.926|-0.858|-0.352| -0.171|-0.768|-0.719|-0.665| -0.353|-0.457|-0.333| 0.52|0.495|  0.565|-0.32|-0.32|-0.32|  -0.43|-0.384|  -0.284| -0.128|-0.608| 0.0413|-0.398| 0.0995|-0.258|-0.806|-0.887|-0.651|-0.926|-0.891|-0.852|-0.975|-0.999|-0.841|-0.691|-0.866|-0.975|-0.738|-0.855|-0.826|  -0.87|-0.529|-0.882| -0.92| -0.865|-0.801|-0.989| -0.841|-0.601|-0.877|-0.825|-0.677|-0.879|-0.583|-0.716|-0.445|-0.892|-0.883|-0.749|-0.776| -0.874|-0.609|-0.664|-0.835|-0.773|-0.447| -0.87|  -0.226|0.0262| -0.205|-0.551| 0.119| -0.34|  -0.39| 0.0582| -0.228|-0.627|-0.0206|-0.424|-0.699|-0.905|-0.661|-0.0548|-0.859|-0.406| -0.72| -0.265|0.0118|-0.249|0.562|0.759|0.515|-0.933|0.0968|-0.586|  0.103|0.00841| 0.0297| -0.447|-0.777|  -0.232|  -0.585|-0.0904|-0.392|-0.888|-0.904|-0.718|-0.811|-0.733|-0.833|-0.867|-0.865| -0.88|-0.696| -0.747|-0.866|-0.867| -0.79|-0.766|-0.759|-0.306|-0.781|-0.951| -0.85|-0.921|-0.998|-0.686|-0.284|-0.929|-0.944|-0.375| -0.81|-0.798|-0.878|-0.698|-0.926|-0.945|-0.858| -0.95|-0.968|-0.767|-0.676|-0.921|-0.958|-0.728|-0.925| -0.201|-0.525| -0.32|-0.754|-0.852| -0.201|-0.773|-0.365| 0.58|-0.448|   0.234| -0.784|-0.954|  -0.211|  -0.33| -0.163| -0.558|-0.648|  -0.211| -0.72| -0.198|0.459|-0.905|  0.126|  -0.536| -0.863| 0.0549|-0.262|-0.148| -0.365|-0.586| 0.0549|-0.521|0.0502|0.818|-0.846|   0.331| -0.485|-0.761|-0.0549|  -0.1|-0.0515|-0.247|-0.333|-0.0549|-0.543|-0.0794|0.679|-0.905|  0.0189| -0.259| -0.67|0.447| 0.244| 0.913|-0.628|-0.798|0.198|   0.119|[0.131,-0.0361,-0...|         3.0|[0.131,-0.0361,-0...|[0.02976752817329...|[0.00297675281732...|       3.0|\n",
            "|  1|0.163| -0.0369|-0.0931| -0.184|  0.0629|-0.161|  -0.242| 0.0766| -0.127| -0.0587| -0.124| -0.306|  0.121|  0.0642|   0.3|-0.0323|-0.663|-0.781|-0.682| -0.386| -0.153| -0.113|  0.43| 0.288|  0.335| -0.487|  0.466| -0.169| -0.0243| -0.298|   0.312| -0.113|  0.139|  -0.234|   0.25|-0.0794|-0.0269| -0.427| -0.218|  0.473|0.891|-0.371| -0.201|-0.979| -0.98| -0.98| -0.98|-0.981| -0.98|0.822|-0.382|  -0.205|0.899|-0.345|  -0.204| 0.368|0.712| -0.76|-0.915|-0.984|-0.982|-0.978|-0.498|  -1.0|  -1.0|-0.405|0.488| -0.57|0.652| -0.226|  0.233|  -0.29|  0.366|  -0.302|   0.404|  -0.505|   0.602| -0.261| 0.585|-0.804|   0.129|  -0.157|-0.00759|-0.052|   -0.15| -0.406|-0.0318|  -0.105|  -0.37| -0.211|-0.452|-0.698|  0.113|  0.487| 0.299| -0.114|-0.548|-0.634|-0.817|-0.0352| -0.162|-0.362|0.835|0.563|0.638|-0.436|  0.357|   0.124|-0.0381| -0.342|  0.223|   0.142|0.0365|   -0.28| 0.0749|   0.149|-0.317| -0.304|  0.0741| 0.399|-0.0638|-0.0456|  0.172|-0.411|-0.392|   -0.3|-0.376|  -0.434|-0.343| -0.353|  -0.548| -0.135|0.449|0.544|   0.41| -0.246|-0.841|-0.817| -0.77|-0.308| -0.552|-0.467|  0.147|  0.197|   0.44|-0.206| 0.144|  0.196| -0.152| -0.138| 0.172|-4.51E-4| 0.0983| -0.284| 0.263| -0.314|   0.56|  0.0873|-0.0929|   0.62|  0.115|  -0.188|   -0.55|-0.288| -0.494| -0.526| -0.279|-0.504|  -0.505| -0.404| -0.641| -0.575| 0.419|   0.53|  0.678|-0.441|-0.744|-0.871|-0.885| -0.299| -0.475|-0.495|  0.5|0.622|0.476|-0.0565|-0.00105|  0.323| 0.0272| -0.122|  0.229|   0.183|  0.0421|  -0.328|  0.175|-0.249|-0.0107| 0.491|   0.494|   0.18|-0.0491| -0.233|-0.289| -0.167|-0.536|-0.0491|-0.543|-0.323|0.821|  -0.129|-0.00582|  0.135|  0.0414|-0.0491| -0.233|-0.289| -0.167|-0.536|-0.0491|-0.543|-0.323|0.821|  -0.129|-0.00582|  0.135|  0.0414| -0.128| -0.114|-0.0965| -0.305| -0.584| -0.128|-0.601| -0.166|0.825|-0.0946|-0.0815| -0.237|  0.449| -0.267| -0.439| -0.379| -0.494|-0.666| -0.267|-0.729| -0.421|0.718|  0.235|  -0.212|  0.208| -0.326| -0.441| -0.497| -0.523|  -0.52|-0.693| -0.441|-0.846|-0.544| 0.94| 0.223| -0.328|  0.347| -0.296| -0.301| 0.0129| -0.331|-0.142| 0.0219| -0.138| -0.192|   0.011| -0.27|  -0.208| -0.134|-0.0762|-0.863|-0.715|-0.945| -0.109|-0.665| -0.43| -0.64| -0.493| -0.198| -0.451|0.562|0.571|0.476|-0.742|-0.733|-0.692|  -0.31| -0.0559| 0.0621| 0.136|-0.241|-0.198|-0.517| 0.0416|-0.258|-0.694|-0.753|-0.366|-0.791|-0.838|-0.937|-0.923|-0.997|-0.683|-0.393|-0.875|-0.948|-0.661|-0.791|-0.458|-0.736| -0.657|-0.724|-0.874|-0.785|-0.878|-0.951|-0.449| -0.589|-0.825|-0.905|-0.436|-0.742|-0.722|-0.691| -0.81|-0.877|-0.945|-0.929|-0.827|-0.998|-0.678|-0.834|-0.937|-0.877| -0.65|-0.894| -0.275|  -0.175| -0.413| 0.0692|  -0.182|-0.399|  0.009|  -0.17| -0.407| 0.051| -0.488|  -0.41|-0.933|-0.932| -0.76| -0.164|-0.547|-0.634|-0.817| -0.282|-0.361|-0.502|0.499|0.624|  0.371|-0.24|-0.56|-0.24| -0.245|-0.467|  -0.229|  0.542|0.0373|  -0.48|-0.916|-0.0656|-0.548|-0.753|-0.642|-0.391| -0.77|-0.809|-0.903|-0.873|-0.999| -0.66|-0.416|-0.832|-0.875|-0.494|-0.718|-0.582|  -0.78|-0.622|-0.709|-0.892| -0.777|-0.864|-0.998| -0.702|-0.587|-0.817|-0.881|-0.617|-0.747|-0.716|-0.735|-0.821|-0.883|-0.945|-0.924|-0.712|  -0.98|-0.672|-0.851|-0.935|-0.724|-0.732|-0.904|  -0.185|-0.345| -0.162|-0.484|-0.427|-0.416| -0.305| -0.396| -0.327|-0.539| -0.664| -0.57|-0.721|-0.595|-0.161|   -0.2|-0.826|-0.814|-0.753| -0.165|-0.395|-0.467|0.699|0.624|0.496|-0.867|-0.548|-0.517|-0.0137| 0.0298|  0.218| -0.393| -0.72|  -0.569|  -0.902| -0.277|-0.664|-0.866|-0.782| -0.77| -0.83|-0.829|-0.877|-0.858|-0.966|-0.842|-0.746| -0.831|-0.906|-0.832|-0.829|-0.822|-0.939|-0.906| -0.94|-0.937|-0.973|-0.777|-0.891| -0.84|-0.894|-0.944|-0.796|-0.806|-0.937|-0.803|-0.888|-0.925|-0.886|-0.925|-0.783|-0.712|-0.596|-0.775|-0.873|-0.887|-0.662|-0.766|-0.886| -0.208|-0.366| -0.25|-0.554|-0.589| -0.208|-0.701|-0.558|0.472|-0.379|   0.135| -0.401|-0.737|  -0.219|0.00378| -0.167| 0.0985|-0.672|  -0.219|  -0.6|  -0.32|0.351|-0.873|  0.136|   0.746|  0.645| -0.483|-0.504|-0.475| -0.543|-0.819| -0.483|-0.841|-0.519|0.493|-0.795|   0.379| -0.319|-0.656| -0.566|-0.452| -0.454|-0.464|-0.842| -0.566|-0.872| -0.483|0.419|-0.873|   0.259| 0.0459|-0.346|0.535|-0.491| 0.638|-0.555|-0.598|0.337|    0.16|[0.163,-0.0369,-0...|         3.0|[0.163,-0.0369,-0...|[0.01420541169296...|[0.00142054116929...|       3.0|\n",
            "|  1|0.172| 5.19E-4| -0.107| -0.269|   0.158|-0.398|  -0.355|  0.167| -0.385| -0.0397|0.00539| -0.241| 0.0375|  0.0689| 0.444| -0.135|-0.729|-0.741|-0.834|  -0.53| -0.125| -0.391| 0.219| 0.396|  0.187| -0.313|  0.229| 0.0324|-0.00505| -0.133|  0.0313|  0.415|  -0.36|   0.273| 0.0902| -0.176|   0.28| -0.236| -0.331|  0.127|0.946|-0.259| 0.0352| -0.98|-0.951|-0.981|-0.982|-0.954| -0.98|0.879|-0.258|  0.0306|0.959| -0.24|  0.0332|-0.303|0.853|-0.888|-0.998|-0.986|-0.966| -0.98|  -1.0|  -1.0|-0.484|-0.295|0.375| -0.45|0.521| -0.323|  0.354| -0.433|  0.529|   0.284|  -0.246|   0.211|  -0.182|  0.512| 0.577| 0.433|   0.111|   0.437|  0.0287|-0.188| -0.0346| -0.361|  -0.16|  0.0285| -0.322| -0.299|-0.521|-0.469|0.00395|  0.219|  0.23| -0.113|-0.667|-0.529|-0.789|-0.0901|-0.0681|-0.374|0.602|0.706|0.521|-0.278|  0.166|   0.105|  0.113| -0.137|  -0.13|   0.565| 0.107|  0.0503|  0.373|  -0.171| 0.424|-0.0943|  -0.128| 0.185|  0.052|0.00377| 0.0385| -0.36|-0.228| -0.245|-0.347|  -0.307|-0.341| -0.343|  -0.161|  0.238|0.345|0.355|-0.0316| -0.177|-0.809|-0.705|-0.735| -0.34| -0.446|-0.529|  0.203|  0.265|  0.245|0.0694| 0.132|-0.0418|  0.331| -0.421|   0.6|  -0.532|  0.508|  0.162| 0.156|-0.0881|  0.409|  -0.358| 0.0466| -0.354| -0.242|  -0.333|   0.584| 0.201| -0.243| 0.0855|  0.185| -0.31|-0.00868|-0.0609| -0.215| 0.0836| 0.125|  0.389|-0.0774|-0.104|-0.277|-0.712|-0.407|0.00572| -0.371|-0.205|0.588|0.694|0.752|0.00458|   0.274|-0.0674|  0.546| -0.535|  0.651|  -0.209|   0.135| -0.0643|  0.318|0.0487|  0.154| -0.42|   0.235| -0.544| -0.115|  -0.33|-0.402| -0.311|-0.513| -0.115|-0.611|-0.504|0.822|  0.0255|   -0.14|  0.267| -0.0901| -0.115|  -0.33|-0.402| -0.311|-0.513| -0.115|-0.611|-0.504|0.822|  0.0255|   -0.14|  0.267| -0.0901| -0.147| -0.157| -0.174| -0.266| -0.672| -0.147|-0.623| -0.303|0.762| -0.171|-0.0646|  0.198|  0.042| -0.186| -0.213| -0.185| -0.076|-0.369| -0.186|-0.637| -0.283|0.637|  0.603|  -0.497|  0.188| -0.173| -0.108|-0.0897| -0.129| -0.108|-0.414| -0.108|-0.579|-0.177|0.825| 0.323| -0.279| -0.234|  0.152| -0.211|   0.17| -0.334|-0.293| 0.0781| -0.491| -0.126|  0.0873|-0.393|  -0.512|-0.0613| -0.627|-0.646|-0.125|-0.848|-0.0155|-0.731|-0.325|-0.812|-0.0106| -0.138| -0.372|0.654|0.528|0.572|-0.742|-0.733|-0.923| -0.393|   0.215|   0.51|-0.346| -0.76|-0.167|-0.481| -0.725|-0.891|-0.766|-0.721|-0.694|-0.825|-0.814|-0.869|-0.935|-0.982|-0.731|-0.685|-0.834|-0.951|-0.729|-0.795|-0.406|-0.637| -0.556|-0.798|-0.545|-0.536|-0.467|-0.426|-0.358| -0.512|-0.489|-0.433|-0.335|-0.692| -0.92|  -0.8|-0.827|-0.841|-0.715|-0.822|-0.871|-0.978|-0.871|-0.832|-0.722|-0.902| -0.84|-0.807| -0.216| -0.0579| -0.289|  -0.23| -0.0755|-0.431|  -0.13| -0.107| -0.338|-0.216| -0.182| -0.578|-0.404|-0.687|-0.823|-0.0498|-0.667|-0.529|-0.789| -0.194| -0.44| -0.29|0.481|0.606|  0.521|-0.48|-0.32|-0.36| -0.121|-0.321|   0.182|  0.149|-0.289|  -0.27|-0.771| -0.562|-0.896|-0.824|-0.658| -0.71|-0.824|-0.791|-0.811|-0.872|-0.849|-0.702|-0.693|-0.782|-0.845|-0.651|-0.724|-0.526|  -0.68|-0.446|-0.866|-0.745| -0.758|  -0.6|-0.694| -0.598|-0.533|-0.689|-0.612|-0.464|-0.796|-0.952|-0.757|-0.848|-0.825| -0.72|-0.814|-0.775| -0.919|-0.775|-0.837|-0.729|-0.777|-0.796|-0.787|-0.00339|-0.183|    0.1|-0.483|-0.263| -0.47| -0.221| -0.257| -0.263|-0.629|  -0.48|-0.662|-0.936|-0.857|-0.302|0.00449|-0.794|-0.701|-0.713|  0.169|-0.287| -0.15|0.849|0.765|0.718|-0.933|-0.161| 0.172|  0.292|  0.247|  0.808| -0.643|-0.886|  -0.463|  -0.824| -0.579|-0.851|-0.929|-0.441|-0.329| -0.49|0.0804|-0.496|-0.916|-0.985|-0.852|-0.253|-0.0457|-0.946|-0.818|-0.356|-0.875|-0.778|-0.831|-0.773|-0.944|-0.912|-0.826|-0.764|-0.772|-0.773|-0.937|-0.775|-0.707|-0.807|-0.955|-0.686|-0.333|-0.524|-0.647|-0.485|  0.39|0.0214|-0.853|-0.133|-0.603|  0.23|-0.764|-0.549| -0.281|-0.464|-0.355|-0.616|-0.681| -0.281|-0.771|-0.504|0.464|-0.448|   0.154| -0.412|-0.729|  -0.175| -0.139|-0.0123| -0.374|-0.601|  -0.175|-0.638| -0.232|0.434|-0.873| -0.132|  -0.269| -0.701| -0.082|-0.475|-0.398| -0.536|-0.457| -0.082|-0.688|-0.305|0.768|-0.795|   0.542| -0.591|-0.822|-0.0948|-0.148|-0.0911|-0.209|-0.828|-0.0948|-0.584|-0.0814|0.675|-0.873|  0.0583| -0.262| -0.61|0.903|0.0772|-0.564|0.0751|-0.763|0.261|-0.00268|[0.172,5.19E-4,-0...|         3.0|[0.172,5.19E-4,-0...|[0.01666666666666...|[0.00166666666666...|       3.0|\n",
            "|  1|0.174|  0.0151|-0.0865| -0.386| -0.0106|-0.571|  -0.413|  0.013| -0.555|  -0.339| -0.107| -0.521|  0.299|   0.167| 0.651| -0.255|-0.808|-0.809|-0.913| -0.474| -0.232| -0.566| 0.238| 0.421|  0.129|  -0.53|  0.439| -0.151|  0.0386| -0.121|  0.0238|   0.42| -0.332|  -0.125|   0.12|  0.119| -0.388|-0.0941| -0.154|  0.256|0.961|-0.204| 0.0905| -0.99| -0.97|-0.983|-0.991|-0.969|-0.984|0.889|-0.217|  0.0853|0.976|-0.181|  0.0879|-0.276|0.893|-0.934|-0.986|-0.992|-0.968|-0.985|  -1.0|  -1.0| -0.56|-0.399|0.472|-0.542|0.608| -0.122|  0.164| -0.266|  0.389|  0.0227|-0.00836|-0.00299| 0.00953| -0.619|0.0667|-0.225|   0.172|-0.00944|   0.128|-0.399|  -0.145| -0.751|   -0.4| -0.0517| -0.743| -0.388|-0.497|-0.839|  0.432|  0.356| 0.679| -0.388|-0.817| -0.63|-0.966| -0.419| -0.108|-0.749|0.712|0.563| 0.37|-0.467|  0.217|   0.164| -0.131| -0.128|  -0.11|   0.502| 0.219| -0.0633|  0.175|   0.103| 0.196|-0.0962| -0.0409| 0.417|-0.0793|-0.0373| 0.0924|-0.552|-0.445| -0.447|-0.571|  -0.439|-0.508| -0.509|  -0.686| -0.347|0.503|0.631|  0.326| -0.394|-0.906|-0.848|-0.858|-0.586| -0.437|-0.651| 0.0647|  0.255|  0.401|-0.707|  0.66| -0.312| 0.0294| -0.294| 0.109|   0.123|  0.245| -0.206| 0.139|  0.099| -0.099|  -0.362|  0.148|  -0.12| -0.101|  -0.288| -0.0145|-0.521| -0.715| -0.561|  -0.48|  -0.7|  -0.541| -0.515| -0.795| -0.576|  0.69|  0.817|  0.759|-0.604|-0.884|-0.959|-0.902| -0.419| -0.667|-0.511|0.468|0.605|0.661| -0.496|   0.351|  0.128| -0.118| -0.349|-0.0333|   0.108|-8.73E-4|  -0.113|-0.0135| 0.373| -0.262| 0.148| -0.0579|-0.0481| -0.249| -0.508|-0.564| -0.458|-0.673| -0.249|-0.729|-0.656| 0.76|  0.0556|  -0.103|-0.0509|   0.242| -0.249| -0.508|-0.564| -0.458|-0.673| -0.249|-0.729|-0.656| 0.76|  0.0556|  -0.103|-0.0509|   0.242| -0.372|  -0.41| -0.429| -0.485| -0.263| -0.372|-0.799| -0.521|0.615| 0.0391| 0.0923| -0.242|-0.0295| -0.397| -0.529| -0.459| -0.604|-0.714| -0.397|-0.815| -0.424|0.944| -0.317|   0.165| 0.0977| -0.131|  -0.61| -0.756| -0.757| -0.764|-0.323|  -0.61|-0.935|-0.747|0.759| 0.133| -0.233| 0.0345|-0.0585| -0.374|-0.0539| -0.647| -0.39|-0.0505| -0.565| -0.244|  0.0468|-0.623|  -0.552| -0.397|  -0.48|-0.892|-0.909|-0.799| -0.274|-0.809|-0.506|-0.903|  -0.17| -0.279| -0.746|0.514|0.602| 0.13|-0.806|  -0.8|-0.923| -0.568|  -0.121| 0.0338|-0.306| -0.71|-0.496| -0.84|  0.214|0.0255|-0.808| -0.88|-0.722|-0.952|-0.933|-0.963|-0.973|-0.998|-0.811|-0.747|-0.944|-0.982|-0.805|-0.939|-0.619| -0.65| -0.623|-0.926|-0.878|-0.797|-0.769|-0.997|-0.528| -0.615|-0.833|-0.858|-0.503|-0.893|-0.903|-0.959|-0.957|-0.985|-0.982|-0.969|-0.964|-0.963|-0.909|-0.967|-0.977|-0.964|-0.903|-0.983|  -0.44|  -0.212| -0.734| -0.409|  -0.127|-0.765| -0.292| -0.191| -0.769| -0.56| -0.244| -0.788|-0.666|-0.574|-0.852| -0.377|-0.817| -0.63|-0.966| -0.497| -0.45|-0.833|0.447|0.577|-0.0605|-0.32|-0.24|-0.16| -0.379|-0.392|  -0.166| -0.221|-0.754| -0.176|-0.698| -0.249|-0.698|-0.858|-0.874|-0.742|-0.956|-0.929|-0.939|-0.943|-0.975|-0.856|-0.776|-0.927|-0.939|-0.786|-0.919|-0.723| -0.709|-0.547|-0.919|-0.886| -0.747| -0.72|-0.963| -0.671|-0.631|  -0.8| -0.75|-0.561|-0.872|-0.968|-0.952|-0.957|-0.986|-0.982|-0.979|-0.959| -0.994|-0.947|-0.971| -0.98| -0.96|-0.947|-0.984|  -0.545|-0.536| -0.424|-0.559|  -0.4|-0.506| -0.508| -0.516| -0.395|-0.519| -0.431|-0.677|-0.987| -0.88| -0.95| -0.483|-0.899|-0.845|-0.845|  -0.55|-0.745|-0.494|0.404|0.345|0.446|-0.933|-0.613|-0.931| -0.296| -0.152| -0.192| 0.0134| -0.33|  0.0194|  -0.365| -0.332|-0.705|-0.922|-0.859|-0.839|-0.987|-0.984|-0.978|-0.994|  -1.0|-0.906|-0.865|  -0.98|-0.997|-0.899|-0.985|-0.798| -0.94|-0.985|-0.995|-0.985|-0.972| -0.84|-0.888|-0.824|-0.985|-0.982|-0.839| -0.83|-0.991|-0.882|-0.912|-0.916|-0.978|-0.985|-0.952|-0.948|-0.997|-0.858|-0.909|-0.976|-0.969|-0.848|-0.978| -0.469|-0.608|-0.522|-0.763|-0.885| -0.469|-0.875|-0.653|0.297|-0.793|    0.14| -0.485|-0.803|  -0.407| -0.417| -0.387|  -0.45| -0.75|  -0.407|-0.821| -0.521|0.212|-0.905|   0.13|-0.00121| -0.328| -0.623|-0.549|-0.544| -0.638|-0.915| -0.623|-0.888|-0.663|0.353|-0.846|  -0.121| -0.257|-0.651| -0.771|-0.754|  -0.73|-0.782|-0.891| -0.771| -0.97| -0.755|0.161|-0.905| -0.0198| -0.216|-0.628|0.634|-0.629| 0.889|-0.115|-0.802|0.222|  -0.041|[0.174,0.0151,-0....|         3.0|[0.174,0.0151,-0....|[0.01420541169296...|[0.00142054116929...|       3.0|\n",
            "|  1|0.186|  -0.012|-0.0661| -0.218|-0.00466|-0.603|  -0.309| 0.0139| -0.594|   0.156|-0.0456| -0.603| -0.205|   0.143|  0.57|  -0.21|-0.691|-0.808|-0.923| -0.432| -0.126| -0.584| 0.314| 0.389|  0.229| -0.198|  0.217|-0.0328|  0.0669| -0.377|   0.378| -0.144| 0.0962|-0.00498| -0.056|  0.419| -0.459| -0.132| -0.379|  0.525|0.964|-0.205| 0.0123|-0.976| -0.93|-0.977|-0.978|-0.937|-0.977|0.897|-0.188| 0.00973|0.974|-0.188|  0.0108|-0.474|0.902|-0.932|  -1.0|-0.978|-0.964|-0.976|  -1.0|  -1.0|-0.579|-0.318|0.404|-0.488| 0.57| -0.474|  0.506| -0.577|  0.662|  -0.463|   0.498|  -0.532|   0.562|-0.0666|-0.592|-0.166|   0.472|  0.0203|-0.00304|0.0263|  -0.233| -0.728|-0.0618|  -0.213| -0.708|-0.0385| -0.68|-0.833| -0.647|  0.317| 0.652| -0.278| -0.47|-0.702| -0.96|-0.0979| -0.399|-0.704|0.772|0.718|0.404|-0.221|  0.299|-0.00679|  0.261| -0.431|  0.317|  0.0693|0.0688|  0.0388| -0.109|   0.321|0.0979|-0.0374|  -0.384| 0.562|0.00441|-0.0776| 0.0936|-0.577|-0.393| -0.537|-0.576|  -0.427|-0.551| -0.476|  -0.417| -0.406|0.595|0.543|  0.447| -0.405|-0.917|-0.818|  -0.9|-0.555| -0.478|-0.619|  0.254|  0.147|  0.318|-0.123|0.0528|   0.47| -0.581| -0.205| 0.115|   0.217|-0.0208| 0.0512|0.0417|  0.135|-0.0122|  -0.182|-0.0544|  0.278|-0.0147|  -0.144|-0.00261|-0.418| -0.563| -0.445| -0.399|-0.588|  -0.441| -0.489| -0.709| -0.542| 0.496|  0.543|  0.591|-0.502|-0.829|-0.904|-0.844| -0.419| -0.599|-0.418|0.665| 0.59|0.692| 0.0832| -0.0933|  0.692|-0.0798| -0.192| 0.0211|   0.341|  -0.139|   0.068| 0.0867| 0.312| 0.0666|-0.109|  0.0205|  0.172| -0.183| -0.233|-0.371| -0.145|-0.741| -0.183|-0.643|-0.538|0.764|   0.116|  -0.115|-0.0396|   0.172| -0.183| -0.233|-0.371| -0.145|-0.741| -0.183|-0.643|-0.538|0.764|   0.116|  -0.115|-0.0396|   0.172| -0.251| 0.0195| -0.136|   0.22| -0.779| -0.251|-0.638| -0.392|0.705| 0.0636| -0.116| 0.0525| 0.0534| -0.407| -0.503| -0.447| -0.465|-0.224| -0.407|-0.817| -0.441|0.902|-0.0212|  0.0291| -0.166|  0.194| -0.496| -0.579|  -0.61|  -0.51|-0.725| -0.496| -0.88|  -0.6|0.902|  0.27| -0.201|-0.0937|   -0.1|-0.0649| -0.113| -0.631|-0.287|-0.0136| -0.618| -0.107| -0.0209|-0.583|  -0.546| -0.318| -0.667|-0.439|-0.877|-0.948| -0.129|-0.692|  -0.5|-0.916| -0.113| -0.348| -0.659|0.584|0.544|0.225|-0.806|  -0.8|-0.923| -0.103|  -0.168|-0.0735|-0.439|-0.833|-0.276|-0.656| -0.473|-0.744| -0.78|-0.713|-0.154|-0.616|-0.544|-0.775|-0.821|-0.867| -0.74|-0.159| -0.63|-0.836|-0.698|-0.548|-0.499|  -0.8| -0.692|-0.816|-0.877|-0.908|-0.905|-0.994|-0.513| -0.649|-0.875| -0.94|-0.501|-0.825|-0.924|-0.962|-0.943| -0.98|-0.986|-0.964|-0.968|-0.997|-0.927|-0.957|-0.979|-0.976|-0.917| -0.98| 0.0124|  -0.293| -0.704|-0.0519|  -0.219|-0.751|  0.104| -0.223| -0.742|-0.138| -0.316|   -0.7|-0.953|-0.701|-0.835| -0.181| -0.47|-0.702| -0.96|-0.0596|-0.384|-0.757|0.809|0.497| 0.0227|-0.32|-0.32|-0.32| -0.128|-0.452|  -0.195| -0.196|-0.616| -0.299| -0.78| -0.114|-0.414|-0.827|-0.612|-0.309| -0.65|-0.515|-0.744|-0.789|-0.958|-0.674|-0.298|-0.569|-0.784|-0.474|-0.452|-0.642| -0.843|-0.631|-0.817|-0.873| -0.887| -0.89|-0.974| -0.773|-0.644|-0.849|  -0.9|-0.673|-0.827|-0.942|-0.955| -0.95|-0.981|-0.985| -0.96|-0.945| -0.981|-0.941|-0.965|-0.977|-0.946| -0.94|-0.979|  -0.487|-0.427| -0.416|-0.605|-0.377|-0.627| -0.517| -0.455| -0.471|-0.576| -0.389|-0.803|-0.939| -0.69|-0.869| -0.409| -0.91|-0.815|-0.891| -0.384|-0.511|-0.419|0.556|0.602|0.542|-0.933|-0.613|-0.724|-0.0403| -0.062|  0.168|-0.0946|-0.422|  -0.033|  -0.356| -0.657|-0.926|-0.945|-0.835|-0.746|-0.938|-0.964|-0.918|-0.943|-0.998|-0.924|-0.771| -0.942|-0.968|-0.912|-0.939|-0.788|-0.941|-0.936|-0.961|-0.987|-0.917|-0.914|-0.978|-0.819|-0.928|-0.972| -0.93|-0.801|-0.961|-0.952|-0.907|-0.805|-0.947|-0.935|-0.932|-0.882|-0.992|-0.923|-0.788|-0.934| -0.93|-0.897|-0.943| -0.186| -0.38|-0.312|-0.563|-0.813| -0.186|-0.701|-0.517|0.494|-0.448|   0.169| -0.352|-0.703|   0.106| -0.108|-0.0431| -0.277|-0.781|   0.106|-0.474| -0.213|0.509|-0.905| 0.0958|  -0.208| -0.627|  -0.49|-0.601|-0.513| -0.706|-0.972|  -0.49|-0.875|-0.441|0.592| -0.59|   0.184| -0.635|-0.884|  -0.57|-0.621| -0.587|-0.647|-0.902|  -0.57| -0.91| -0.565|0.419|-0.905|  0.0562| -0.267|-0.611|0.602|-0.877|-0.898|-0.536|-0.818|0.224|  0.0132|[0.186,-0.012,-0....|         3.0|[0.186,-0.012,-0....|[0.04557071281209...|[0.00455707128120...|       3.0|\n",
            "|  1| 0.19| 0.00378|-0.0606| -0.364|   0.234|-0.398|  -0.441|  0.166| -0.409| -0.0695|  0.149| -0.108|  0.135|  -0.086| 0.512| -0.188|-0.795|-0.706|-0.831| -0.605| -0.289|  -0.45| 0.327|  0.53|  0.304| -0.465|  0.486| -0.307|   0.142| -0.219|   0.217|  0.144| -0.127|  0.0779|  0.269|  -0.21|  0.142| -0.154| -0.427|  0.169|0.952| -0.23| 0.0222|-0.983|-0.985|-0.948|-0.983|-0.986|-0.947|0.883|-0.246|  0.0315|0.965|-0.205|  0.0146|-0.405|0.869|-0.913|-0.999|-0.983|-0.987|-0.946|  -1.0|  -1.0|-0.238|-0.383|0.461|-0.538|0.611|  0.112|-0.0803|-0.0238|  0.151|   0.093| -0.0626|  0.0331|-0.00604|  0.099|-0.658|0.0789|    0.33|  -0.166| 0.00996|-0.255|   0.172| -0.337| -0.227|   0.151| -0.397| -0.235|-0.505|-0.394|  0.225|-0.0103|0.0301| -0.134| -0.72|-0.308|-0.773| -0.136| -0.187|-0.559|0.629|0.737|0.575|-0.421|  0.386|  0.0431|-0.0639| -0.272|  0.229|   0.156| 0.392|  -0.137|  0.573|  -0.211| 0.499| -0.242|  -0.307|0.0608|-0.0748| -0.033|  0.114|-0.371|-0.309| -0.332|-0.367|  -0.365|-0.415| -0.162|  -0.395|  0.172|0.427|0.543|  0.211| -0.228|-0.818|-0.764|-0.793|-0.336| -0.429| -0.57|-0.0496|  0.105|  0.319|0.0125|0.0814|  0.185|-0.0905| -0.313| 0.434|  -0.215|  0.206| 0.0826|0.0873|  0.171| -0.111|  -0.247| -0.238| -0.254|-0.0521|  -0.434| 0.00383|0.0578| -0.321|-0.0592|0.00588|-0.338|  -0.161| -0.067| -0.564|-0.0815|-0.189|  0.411| 0.0238|-0.201|-0.439|-0.768|-0.555| -0.111| -0.361|-0.369| 0.71|0.687|0.682| 0.0838|  0.0988|  0.297|  0.228| -0.352|  0.457|  0.0795|  0.0711|   0.081|  0.109| 0.526| -0.118|-0.267| -0.0981| -0.544| -0.177| -0.244|-0.293| -0.274|-0.644| -0.177|-0.641|-0.302|0.825|   0.146|  -0.205|  0.402|  -0.332| -0.177| -0.244|-0.293| -0.274|-0.644| -0.177|-0.641|-0.302|0.825|   0.146|  -0.205|  0.402|  -0.332| -0.141|-0.0356|-0.0576| -0.176| -0.675| -0.141|-0.588| -0.183|0.805|  0.147| -0.241|-0.0769|  0.181| -0.249| -0.263| -0.186| -0.368|-0.632| -0.249|-0.689| -0.196| 0.65|  0.467|  -0.455| 0.0728|  0.213| -0.206| -0.203| -0.235|  -0.29| -0.66| -0.206| -0.67|-0.221|0.813| 0.451|  -0.39| -0.383|  0.343| -0.309|  0.179| -0.371|-0.387|  0.185| -0.463| -0.257|   0.307|-0.387|  -0.532| -0.232| -0.619|-0.719|-0.913|-0.936|-0.0758|-0.796|-0.233|-0.812|  -0.19| 0.0533| -0.458|0.648| 0.65|0.509|-0.806|  -0.8|-0.923| -0.334| -0.0457|    0.5|  -0.3|-0.698|-0.486|-0.827| -0.651|-0.869|-0.825| -0.83|-0.597|-0.815|-0.893|  -0.9|-0.958|-0.986| -0.81|-0.599|-0.896|-0.968|-0.795|-0.818|-0.505|-0.408| -0.201|-0.838| -0.54|-0.745|-0.849|-0.994|-0.316| -0.181|-0.566|-0.905|-0.234|-0.745|-0.932|-0.883|-0.653|  -0.8|-0.828|-0.887|  -0.9|-0.997|-0.908|-0.706|-0.831|-0.928|-0.839|-0.809| -0.259|  0.0874| -0.324| -0.319|   0.189|-0.347| -0.196|  0.151| -0.291|-0.402|-0.0385| -0.479|-0.396| 0.156|-0.842|-0.0356| -0.72|-0.308|-0.773| -0.294|-0.263| -0.34|0.472| 0.57|  0.538|-0.24|-0.24|-0.32| -0.102|-0.285|  0.0338|  -0.12|-0.617| -0.208|-0.768| -0.376|-0.818| -0.88|-0.814|  -0.6| -0.79|-0.896|-0.836|-0.938|-0.847|-0.827| -0.59|-0.862|-0.909|-0.708|-0.753|-0.632|  -0.49|-0.079| -0.82|-0.567| -0.728|-0.732|-0.479| -0.451|-0.243|-0.532|  -0.7|-0.195|-0.706|-0.961|-0.864|-0.699|-0.792|-0.835|-0.881|-0.837|  -0.99| -0.87|-0.744|-0.838|-0.844|-0.736| -0.81|  -0.111|-0.222| -0.162|-0.457|-0.374| -0.46| -0.255| -0.375| -0.185|-0.475| -0.589|-0.703|-0.992|-0.835|-0.961| -0.116|-0.802| -0.76|-0.775| 0.0723| -0.39| 0.122|0.823|0.769| 0.62|-0.933| 0.226| 0.172|   0.16|  0.413|  0.261| -0.392|-0.685|  -0.512|  -0.861| -0.695| -0.93|-0.916|  -0.5|-0.394|-0.594|-0.523|-0.725|-0.811|  -1.0|-0.848|-0.347| -0.557|-0.895|-0.817|-0.579|-0.897|-0.906|-0.759|-0.864|-0.904|-0.845| -0.65| -0.61|-0.869|-0.733|-0.891|-0.585|-0.763|-0.862| -0.95|-0.798|-0.364|-0.677|-0.945|-0.886|-0.782|-0.996|-0.885|-0.238|-0.929|-0.875|  -0.8|-0.755| -0.151|-0.419|-0.266| -0.65|-0.846| -0.151|-0.709|-0.494|0.569|-0.793|   0.242|  -0.56|-0.852| -0.0284|-0.0515|  0.013| -0.252|-0.898| -0.0284|-0.529| -0.164|0.544|-0.905| 0.0583|  -0.153| -0.576| -0.202|-0.445|-0.311| -0.588|-0.661| -0.202|-0.727|-0.184|0.685|-0.846|   0.365| -0.696|-0.907| -0.242|-0.207|-0.0758|  -0.3|-0.821| -0.242| -0.68|-0.0257|0.677|-0.905|   0.122| -0.313|-0.675|0.548|-0.853| 0.818| -0.21|-0.792|0.241| 0.00632|[0.19,0.00378,-0....|         3.0|[0.19,0.00378,-0....|[0.01420541169296...|[0.00142054116929...|       3.0|\n",
            "|  1|0.193|-0.00706|-0.0638| -0.414| -0.0549|-0.549|  -0.446|-0.0392| -0.504|  -0.234| -0.155| -0.523|  0.268|   0.167| 0.684|  -0.28|-0.825|-0.827|-0.902|  -0.54| -0.231| -0.487| 0.312| 0.345|  0.141| -0.224| 0.0597|  0.167| -0.0023| -0.298|   0.239|  0.163| -0.197|  0.0671|0.00843| 0.0198| -0.258| -0.141|-0.0692|  0.295|0.957|-0.212| 0.0758|-0.984|-0.962|-0.954|-0.984|-0.968|-0.957|0.889|-0.226|  0.0776|0.972|-0.204|  0.0679|  -0.3|0.884|-0.927| -0.99|-0.982|-0.981|-0.957|  -1.0|  -1.0|-0.239|-0.563|0.627|-0.689|0.751| -0.307|  0.345| -0.433|  0.539|  -0.399|   0.414|  -0.427|   0.436|-0.0793|-0.517|  0.41|  0.0745|  0.0882|   0.138|-0.435|  -0.207| -0.761| -0.425|  -0.135| -0.776| -0.637|-0.544|-0.796|  0.397|  0.328| 0.643| -0.435|-0.838|-0.681|-0.968| -0.427| -0.229|-0.809|0.692|0.579|0.357|-0.186|-0.0281|   0.125|  0.137| -0.319|  0.167|   0.234| 0.251|   0.102|  0.174|  0.0907|  0.14| -0.119|   0.161| 0.373|  0.347| -0.258|  0.109|-0.579|-0.504|  -0.47|  -0.6|   -0.49|-0.507| -0.237|  -0.748| -0.378|0.693|0.638|   0.38|  -0.33|-0.829|-0.872|-0.869|-0.617| -0.449|-0.652|   0.87|-0.0135|  0.341| -0.76| 0.682| -0.278|-0.0997|  -0.31| 0.136|  0.0321|  0.324| -0.307| 0.256|-0.0429| 0.0233|  -0.214| 0.0195| -0.123| -0.166|  -0.269|  0.0267|-0.548| -0.755| -0.575| -0.508| -0.75|  -0.569| -0.608|  -0.82| -0.548| 0.707|  0.824|  0.769|-0.643|-0.896|-0.969|-0.908| -0.458| -0.748|-0.577|0.514|0.624|0.555| -0.498|   0.309|  0.286|  -0.29| -0.357|0.00341|-0.00223|   0.072|  -0.239|  0.105| 0.242| -0.222| 0.256|  -0.102| -0.117| -0.282| -0.507|-0.561| -0.403|-0.575| -0.282|-0.749|-0.594|0.704| -0.0167| -0.0117|  -0.27|   0.475| -0.282| -0.507|-0.561| -0.403|-0.575| -0.282|-0.749|-0.594|0.704| -0.0167| -0.0117|  -0.27|   0.475| -0.424| -0.418| -0.441| -0.473| -0.841| -0.424|-0.824| -0.481|0.659|  0.166| 0.0381| -0.594|  0.264| -0.327| -0.495| -0.461|   -0.5|-0.507| -0.327|-0.773| -0.473|0.857|  -0.52|   0.466|  -0.23|0.00588| -0.647| -0.763| -0.771| -0.795| -0.89| -0.647|-0.946|-0.801|0.771| 0.119| -0.131| 0.0766| -0.241| -0.396|-0.0854| -0.648|-0.421|-0.0985| -0.532| -0.307| -0.0115|-0.663|  -0.539| -0.444|   -0.4|-0.957|-0.798| -0.96| -0.295|-0.826|-0.548|-0.892| -0.413| -0.137| -0.736|0.516|0.572| 0.14|-0.806|-0.733|-0.923| -0.497|  -0.112|  0.128|-0.244|-0.639|-0.454|  -0.8|  0.562| 0.454|-0.822|-0.891|-0.796|-0.942|-0.922|-0.904|-0.959|  -1.0|-0.825|-0.808|-0.915|-0.973|-0.823|-0.918|-0.608|-0.753| -0.643|-0.927|-0.813|-0.877|-0.912|-0.979|-0.572| -0.634|-0.816|-0.938|-0.546|-0.889|-0.881|-0.982|-0.959|-0.978|-0.972|-0.951|-0.965|-0.965|-0.899|-0.966|-0.964|-0.965|-0.894|-0.974| -0.446|  -0.261| -0.725| -0.473|  -0.201|-0.796| -0.377|  -0.23| -0.771|-0.562| -0.382| -0.841| -0.91|-0.718|-0.943| -0.393|-0.837|-0.681|-0.968| -0.484|-0.461|-0.756|0.405|0.549|-0.0216|-0.32|-0.52|-0.16| -0.251|-0.489|-0.00215| -0.272|-0.713|  -0.28|-0.793| -0.687|-0.927|-0.872| -0.89|-0.815|-0.939|-0.907|-0.861|-0.929|-0.999|-0.872|-0.826|-0.881| -0.93|-0.827|-0.875|-0.718| -0.768|-0.595|-0.925|-0.838| -0.862|-0.903|-0.983| -0.723|-0.669| -0.81|-0.914| -0.62| -0.88|-0.966|-0.985| -0.96|-0.979|-0.977|-0.954|-0.969| -0.999|-0.975|-0.969|-0.969| -0.97|-0.961|-0.975|  -0.527|-0.573| -0.396|-0.598| -0.47|-0.544|   -0.5| -0.572| -0.371|-0.647| -0.501|-0.768|-0.941|-0.771|-0.882| -0.486|-0.911|-0.876|-0.858| -0.502|-0.708|-0.392|0.411|0.452|0.364|-0.933|-0.613|-0.724| -0.317| -0.196| -0.185| -0.251|-0.639|-0.00549|  -0.393| -0.569|-0.885|-0.934|-0.866|-0.843|-0.989|-0.987|-0.985|-0.991|-0.996|-0.918|-0.869| -0.985|-0.993|-0.911|-0.988|-0.828|-0.963|-0.988|-0.995|-0.981|-0.944|-0.963|-0.937| -0.86|-0.987|-0.973|-0.947|-0.864|-0.988|-0.892| -0.92|-0.917|-0.981|-0.978|-0.966|-0.947|-0.978| -0.87|-0.912|-0.975| -0.96| -0.86|-0.979| -0.479|  -0.6|-0.518|-0.757|-0.926| -0.479|-0.875|-0.664|0.317|-0.448|  0.0897| -0.501|-0.819|  -0.432| -0.405| -0.385| -0.433| -0.95|  -0.432|-0.826|  -0.52|0.243|-0.905|  0.144|  0.0722| -0.251| -0.582|-0.525|-0.449|  -0.66|-0.919| -0.582|-0.871|-0.615|0.399|-0.949|  -0.325| -0.529|-0.852| -0.759|-0.785| -0.753|-0.811|-0.955| -0.759|-0.971| -0.736| 0.14|-0.905|  0.0773| -0.338|-0.702| 0.53|0.0432|-0.972|0.0532|  -0.8|0.228| -0.0309|[0.193,-0.00706,-...|         3.0|[0.193,-0.00706,-...|[0.14268610098906...|[0.01426861009890...|       3.0|\n",
            "|  1|0.195| 0.00387| -0.146| -0.357|  0.0396|  0.14|  -0.413| 0.0246| 0.0368| -0.0979| 0.0237|-0.0488|  0.409|  0.0541| 0.124|-0.0883| -0.79| -0.79|-0.418| -0.533| -0.196| -0.352|0.0951| 0.273|  0.163|-0.0864|-0.0796| 0.0888|   0.324| -0.183|   0.127| 0.0566|  0.108|-0.00665|-0.0775|  0.105|  0.056| -0.208| -0.394| -0.161|0.784|-0.276| -0.449|-0.954|-0.969|-0.906|-0.951|-0.971|-0.908|0.723|-0.287|  -0.435|0.793|-0.258|  -0.471|  0.57|0.456|-0.871|-0.591| -0.95|-0.974|-0.913|-0.253|  -1.0|  -1.0|-0.599|0.671|-0.743|0.814| -0.286|  0.256| -0.272|  0.306|  -0.605|   0.632|  -0.658|   0.681|  0.657| 0.875| 0.284|   0.182|   0.176|  0.0231|-0.407|  -0.277| -0.421| -0.388|  -0.213| -0.378| -0.468|-0.489|-0.412|  0.486|  0.603| 0.454| -0.298|-0.822|-0.734|-0.826| -0.406| -0.218| -0.35|0.594|0.494|0.472|-0.193|-0.0874|  -0.186|  0.359| -0.284|  0.227|  -0.283| 0.694| -0.0799| -0.113|  -0.173| 0.244|  0.035|  -0.221|-0.248|-0.0166| -0.162|  0.109|-0.594|0.0333| -0.159|-0.601|  0.0232|-0.225| -0.469|  -0.313| -0.101|0.549|0.398|  0.111| -0.119|-0.924|-0.472|-0.672|-0.632|-0.0679|-0.423|  0.137| -0.278|  0.269|-0.402| 0.308|  0.102| -0.145| -0.494|  0.39|  -0.115| 0.0365| -0.465| 0.217|  0.228| -0.194|   -0.35| -0.147|  0.508| -0.134|  -0.187|   0.323|-0.526| -0.495| -0.523| -0.489|-0.509|  -0.496| -0.694| -0.638| -0.632| 0.587|  0.676|  0.656|-0.498|-0.886|-0.872|-0.884| -0.409| -0.543|-0.436|0.616|0.511|0.808| -0.247|   0.131|  0.162|  0.179| -0.391|  0.199|   0.232|  -0.342|  -0.389|-0.0717| 0.135| 0.0652|0.0382|   0.417|  0.127|-0.0731| -0.301|-0.341| -0.354|-0.749|-0.0731|-0.575|-0.399|0.825|  -0.109| 0.00779|  0.206|  -0.196|-0.0731| -0.301|-0.341| -0.354|-0.749|-0.0731|-0.575|-0.399|0.825|  -0.109| 0.00779|  0.206|  -0.196| -0.316| -0.395| -0.414| -0.402| -0.645| -0.316|-0.769| -0.472|0.686|  0.277| -0.396|-0.0158|  0.111| -0.114| -0.211| -0.132| -0.331|-0.772| -0.114|-0.585| -0.257|0.518| 0.0183|  -0.173|  0.323| -0.232| -0.489|  -0.57|  -0.57| -0.662|-0.591| -0.489|-0.876|-0.558|0.922| 0.314| -0.132| -0.213|  -0.11|  -0.39|-0.0958|-0.0788|-0.344| 0.0404|  0.164| -0.289| -0.0459|0.0689|  -0.504|  -0.12| 0.0105|-0.819|-0.733|-0.941| -0.102|-0.791|-0.455|-0.342| -0.595| -0.324| -0.407|0.494|0.513|0.556|-0.806|-0.933|-0.769| -0.457| -0.0981| -0.242|-0.199|-0.647|-0.106|-0.468| -0.191| -0.54|-0.803|-0.773|-0.941|-0.916|-0.914|-0.851|-0.932|-0.993|-0.776|-0.925| -0.89|-0.953|-0.788|-0.888|-0.491|-0.638| -0.898|-0.857|-0.759|-0.764|-0.938|-0.931|-0.424|  -0.86|-0.734|-0.933|-0.456|-0.811|-0.289|-0.719|-0.896|-0.947|-0.842|-0.843|-0.819|-0.982|-0.341|-0.914|-0.831|-0.866|-0.343|-0.914|  -0.42|  -0.312| -0.335| -0.446|  -0.287|-0.509| -0.384|  -0.36| -0.472|-0.523| -0.319| -0.531|-0.818|-0.711|-0.752| -0.248|-0.821|-0.734|-0.826| -0.437|-0.513|-0.419|0.441|0.462|  0.424|-0.68|-0.44|-0.44| -0.198|-0.369|  -0.216|-0.0749|-0.532| -0.148|-0.614| -0.481|-0.787|-0.857|-0.797|-0.942|-0.904|-0.893|-0.794|-0.879|-0.993|-0.806|-0.912|-0.844| -0.88|-0.823|-0.824|-0.814| -0.706|-0.884|-0.859|-0.808| -0.725|-0.969|-0.982|  -0.69|-0.849|-0.726|-0.971|-0.724|-0.806|-0.589|-0.688|-0.914|-0.942|-0.842|-0.828|-0.706| -0.932|-0.587|-0.928|-0.827|-0.713|-0.758|-0.897|  -0.478|-0.149| -0.167|-0.631| 0.124|-0.233| -0.467|-0.0565| -0.178|-0.659| 0.0291|-0.341|-0.983| -0.93| -0.49| -0.218|-0.917|-0.465|-0.644| -0.394|-0.312| -0.66| 0.52|0.648|0.342|-0.933|-0.935|-0.931| -0.247| -0.473|-0.0415| -0.426|-0.727| -0.0653|  -0.448| 0.0119|-0.344|-0.941|-0.852|-0.877| -0.97|-0.977|-0.945| -0.99|  -1.0|-0.923|-0.889| -0.961|-0.994|-0.918|-0.968|-0.226|-0.888|-0.916|-0.975|-0.973|-0.963|-0.876|-0.951|-0.406|-0.914| -0.97|-0.892|-0.408|-0.971|-0.687|-0.858|-0.954|-0.967|-0.948| -0.85|-0.678|-0.698|-0.655| -0.94|-0.922|-0.687| -0.65|-0.953| -0.281|-0.421|-0.293|-0.605|-0.684| -0.281|-0.751|-0.578|0.448|-0.793|-0.00247| -0.466|-0.782|  -0.371|  -0.43| -0.427| -0.464|-0.756|  -0.371|-0.812| -0.622|0.184|-0.905|   0.26|  0.0126| -0.358| -0.306|-0.281| -0.19| -0.318| -0.77| -0.306|-0.687| -0.38| 0.58|-0.846|-0.00193| -0.336|-0.636| -0.537| -0.65| -0.597|-0.688|-0.571| -0.537|-0.907| -0.593|0.356|-0.905|   0.286| -0.451|-0.762|0.344|-0.239|-0.236| 0.223| -0.47|0.274|   0.345|[0.195,0.00387,-0...|         3.0|[0.195,0.00387,-0...|[0.04933822799935...|[0.00493382279993...|       4.0|\n",
            "|  1|0.197| 0.00255|-0.0971| -0.392|-4.57E-4|-0.456|  -0.435|-0.0145| -0.456|  -0.248|-0.0266| -0.181|  0.128|-0.00871| 0.602| -0.253|-0.812|-0.806|-0.863| -0.563| -0.253| -0.458| 0.308| 0.339|  0.124| -0.277|  0.137|-0.0224|   0.199| -0.218|   0.191|0.00447|  0.199|  0.0652|-0.0837|  0.064|  0.125| -0.239|  0.233|  0.496|0.957|-0.253| 0.0839|-0.994|-0.966| -0.96|-0.994|-0.967|-0.961|0.884|-0.263|  0.0884|0.975|-0.232|  0.0748|-0.167|0.882|-0.893|-0.988|-0.994|-0.971|-0.965|  -1.0|  -1.0|-0.251|-0.332|0.403|-0.468|0.527| -0.378|  0.418| -0.502|  0.603|  -0.542|   0.575|  -0.608|   0.638| -0.194|-0.277|-0.189|   0.133|    0.15|  0.0435|-0.456|  -0.224| -0.678| -0.444|  -0.182| -0.677| -0.636|-0.551|-0.752|  0.384|  0.347|  0.57| -0.419|-0.849|-0.694|-0.944| -0.399| -0.257|-0.717|0.693|0.652|0.496|-0.282| 0.0432| -0.0271| 0.0726|  -0.35|  0.131|-1.51E-4| 0.244| -0.0519|-0.0548|  -0.205| 0.344| -0.203|   0.717| 0.276| 0.0282|-0.0924| 0.0916|-0.432|-0.616| -0.326| -0.41|  -0.637|-0.351| -0.397|  -0.677| -0.256|0.432|0.693|  0.222| -0.352|-0.851|-0.927|-0.789|-0.418| -0.683|-0.452|  0.332|  0.233|   0.25|-0.483| 0.346|  0.171| -0.298| -0.288| 0.134|  0.0225|  0.289| -0.322| 0.362| -0.559|  0.883|  -0.288| 0.0954|  0.398|-0.0556|-4.68E-4|   0.145|-0.351| -0.808| -0.535| -0.329| -0.81|  -0.542| -0.552| -0.855| -0.446| 0.529|  0.864|  0.662|-0.617|-0.787|-0.981| -0.89| -0.375| -0.818|-0.561|0.699|0.671|0.672| -0.298|   0.127|  0.222|  0.161| -0.301| 0.0238|  0.0201|  0.0295|  -0.574|  0.504|-0.813|  0.517|0.0769|   0.384|  0.206| -0.249| -0.422|-0.488| -0.353| -0.58| -0.249|-0.717|-0.567|0.784|  -0.153|   0.145|-0.0628| -0.0775| -0.249| -0.422|-0.488| -0.353| -0.58| -0.249|-0.717|-0.567|0.784|  -0.153|   0.145|-0.0628| -0.0775| -0.421|  -0.42| -0.427| -0.481| -0.531| -0.421|-0.823| -0.502|0.663|   -0.1| 0.0776|  -0.15|  0.102| -0.366| -0.535| -0.476| -0.603|-0.456| -0.366|  -0.8| -0.481|0.846| -0.263|   0.136|  0.058|-0.0809| -0.617| -0.664| -0.665| -0.755|-0.606| -0.617|-0.928|-0.678|0.869|0.0783|  0.112| -0.261| -0.222| -0.389|-0.0889| -0.522|-0.393|-0.0187| -0.462| -0.312| 0.00333|-0.465|  -0.543| -0.394| -0.551|-0.978|-0.783|-0.991|  -0.25|-0.813|-0.495|-0.845| -0.455| -0.474| -0.664|0.557|0.526|0.296|-0.806|  -0.8|-0.923| -0.551|  -0.148| -0.146|-0.228|-0.655|-0.412| -0.79| -0.378|-0.696|-0.799|-0.879|-0.893|-0.911|-0.923|-0.928|-0.956|  -1.0|-0.804|-0.881|-0.925|-0.971| -0.81|  -0.9|-0.599|-0.592|  -0.82|-0.873|-0.794|-0.875|-0.835|-0.979|-0.483|  -0.79|-0.801| -0.89|-0.495|-0.845| -0.85|-0.903|-0.962|-0.988| -0.95|-0.913|-0.969|  -1.0|-0.849|-0.972|-0.937|-0.978|-0.846|-0.974| -0.449|  -0.302| -0.622| -0.513|   -0.19|-0.736| -0.399| -0.204| -0.712|-0.597| -0.326| -0.696|-0.641|-0.838|-0.753| -0.368|-0.849|-0.694|-0.944| -0.449|-0.459|-0.682|0.462|0.515| 0.0729|-0.52|-0.68|-0.52| -0.278|-0.549| -0.0973| -0.346|-0.752| -0.279|-0.777|  -0.42|-0.631|-0.862|-0.872|-0.899|-0.904|-0.908|-0.902|-0.923|-0.982|-0.856|-0.878|-0.898|-0.921|-0.846| -0.86|-0.663| -0.716|-0.779| -0.87|-0.834| -0.871| -0.82|-0.994| -0.663|-0.777| -0.81|-0.842|-0.657|-0.845|-0.901|-0.902|-0.962|-0.987|-0.949|-0.909|-0.949| -0.972|-0.881|-0.974|-0.933|-0.948|-0.922|-0.966|  -0.397|-0.687|  -0.33|-0.447| -0.58|-0.386| -0.361| -0.641| -0.325|-0.413| -0.718|-0.534|-0.939|-0.974|-0.893| -0.475|-0.838|-0.925|-0.771| -0.479|-0.789|-0.535|0.532|0.386|0.418|-0.933|-0.935|-0.586| -0.219| -0.473| -0.107|2.96E-4|-0.356|  -0.267|  -0.729| -0.175| -0.57|-0.899|-0.583|-0.848|-0.974|-0.945|-0.963|-0.972|-0.996|-0.844|-0.867| -0.947|-0.982|-0.838|-0.966|-0.896|-0.977|-0.993|-0.994|-0.996|-0.979|-0.994|-0.998|-0.915|-0.992|-0.992|-0.995|-0.918|-0.993|-0.784|-0.959|-0.943|-0.973|-0.938|-0.954|-0.916|-0.914|-0.781|-0.933|-0.942|-0.915|-0.775|-0.964| -0.384|-0.534|-0.431|-0.645|-0.864| -0.384|-0.829|-0.617|0.405|-0.931|  0.0718| -0.425|-0.706|   -0.43|  -0.41| -0.325| -0.611|-0.846|   -0.43|-0.827| -0.421|0.294|-0.905| -0.199|  -0.348| -0.756| -0.592|-0.576|-0.519| -0.673|-0.941| -0.592|-0.891|-0.586|0.429|-0.385|  -0.103| -0.457|-0.785| -0.701|-0.643| -0.635|-0.657|-0.827| -0.701|-0.943| -0.694|0.228|-0.905| -0.0881|0.00542| -0.41|0.745|-0.207|-0.943|  -0.2| -0.76|0.256|  -0.036|[0.197,0.00255,-0...|         3.0|[0.197,0.00255,-0...|[0.02411141829746...|[0.00241114182974...|       3.0|\n",
            "|  1|0.198| -0.0143|-0.0994| -0.394|  -0.335|-0.101|  -0.399| -0.403|-0.0518|  -0.364| -0.119| -0.309|  0.353|   0.246| 0.298| -0.227|-0.814|-0.914|-0.636| -0.375| -0.634|-0.0558| 0.324| 0.174|  0.308| -0.462|  0.382| -0.211|   0.185| -0.334|   0.386| -0.262|  0.331|  -0.434|  0.337| -0.112|-0.0305|  0.151| -0.297| -0.641|0.941| 0.101| -0.181|-0.966|-0.986|-0.955|-0.965|-0.987|-0.959|0.879|0.0762|  -0.173|0.953|  0.12|  -0.187|-0.225| 0.84|-0.973|-0.931|-0.967|-0.991| -0.97|-0.692|-0.609|  -1.0|-0.566|0.635|-0.703| 0.77| -0.269|  0.272| -0.324|  0.393|  -0.537|   0.614|  -0.691|   0.765|-0.0153| 0.856|-0.238|    0.13|  0.0115|   0.523|-0.426|  -0.458| -0.501|  -0.39|  -0.443| -0.523| -0.626|-0.642|-0.762|  0.469|  0.542| 0.183| -0.412|-0.833|-0.849| -0.87| -0.396| -0.488|-0.622|0.717|0.387|0.848|-0.461|  0.268| -0.0652|0.00214| -0.492|  0.523|  -0.385| 0.463|  -0.463|  0.111|-0.00851|-0.193|  0.294| -0.0222|-0.638|-0.0172|0.00235| 0.0795|-0.651|-0.544| -0.437| -0.65|  -0.555|-0.435|   -0.6|  -0.647| -0.335|0.627|0.682|  0.495| -0.466|-0.944|-0.896|-0.852|-0.644| -0.561|-0.486|   0.21|  0.343|  0.317|-0.479| 0.287|  0.187| -0.162| -0.396| 0.341|  -0.126|   0.13|  -0.52| 0.496| -0.459|  0.583|-0.00663|  0.338| -0.614| -0.187| -0.0504|  -0.206|-0.678| -0.709| -0.617| -0.682|-0.714|  -0.619| -0.676| -0.761| -0.501| 0.673|  0.787|  0.794|-0.683|-0.947|-0.957|-0.925| -0.704| -0.746|-0.618|  0.5|0.763| 0.33| -0.318|  0.0436| 0.0794|  0.264| -0.346|  0.241|   0.127|  -0.142|  -0.698|  0.507|-0.622|  0.368|-0.207|   0.596| -0.219| -0.236| -0.482|-0.524| -0.419|-0.855| -0.236|-0.717|-0.596|0.737|   -0.21|   0.179|-0.0788| -0.0439| -0.236| -0.482|-0.524| -0.419|-0.855| -0.236|-0.717|-0.596|0.737|   -0.21|   0.179|-0.0788| -0.0439| -0.412| -0.439| -0.447| -0.388| -0.547| -0.412|-0.822| -0.458|0.612|   -0.2| 0.0219|  0.048|  0.141| -0.479| -0.657| -0.602| -0.683|-0.314| -0.479|-0.868| -0.583|0.904| -0.153|  0.0982| -0.077| 0.0586| -0.679| -0.729| -0.731| -0.775| -0.62| -0.679| -0.95|-0.739|0.756|0.0641| -0.226|  0.257| -0.185| -0.395| -0.347| -0.183|-0.393| -0.371| -0.126| -0.307|  -0.298|-0.173|  -0.517| -0.638|-0.0691|-0.989|-0.923|-0.951| -0.217|-0.814|-0.775|-0.588|  -0.23| -0.461| -0.411|0.499|0.415|0.451|-0.742|-0.733|-0.692| -0.536|  -0.177|  0.214|-0.185|  -0.6|-0.538|-0.865| -0.117|-0.387|-0.802|-0.888|-0.844|-0.896|-0.933|-0.932|-0.986|  -1.0|-0.809|-0.836|-0.933|-0.991|-0.812|-0.894|-0.812|-0.832| -0.936| -0.88|-0.873|-0.953|-0.972|-0.998| -0.77| -0.904|-0.889|-0.982|-0.778|-0.877|-0.617|-0.763|-0.818|-0.937|-0.936|-0.817|-0.724|-0.512|-0.617|-0.861|  -0.9|-0.658|-0.593|-0.927| -0.441|  -0.478|  -0.46| -0.462|  -0.472|-0.539|  -0.33| -0.448| -0.511| -0.56| -0.594| -0.629| -0.85|-0.767|-0.816| -0.361|-0.833|-0.849| -0.87| -0.327|-0.516|-0.587|0.466|0.349|  0.381|-0.48|-0.56|-0.48|  -0.35|-0.479|  -0.606| -0.289|-0.722| -0.463| -0.89| -0.432|-0.832| -0.84|-0.874|-0.858|-0.888|-0.925|-0.896|-0.979|-0.979|-0.848|-0.838|-0.907|-0.975|-0.824|-0.855|-0.884| -0.856|-0.919|-0.879|-0.882| -0.941|-0.967|-0.989| -0.842|-0.884|-0.878| -0.97|-0.849|-0.877|-0.652|-0.797|-0.868|-0.956|-0.971|-0.928|-0.915| -0.987|-0.703|-0.911|-0.956|-0.917|-0.778|-0.956|  -0.602|-0.597| -0.481|-0.667|-0.517|-0.475| -0.585| -0.572| -0.497|-0.677| -0.602|-0.488|-0.926|-0.977|-0.676| -0.545|-0.938|-0.895| -0.84| -0.583|-0.617|-0.644|0.232|0.452|0.252|-0.933|-0.613|-0.586| -0.303| -0.315|-0.0951| -0.159|-0.523|  -0.168|  -0.573|  0.316|0.0732|-0.946|-0.927|-0.978|-0.988|-0.985|-0.987|-0.991|-0.995|-0.939|-0.977| -0.984|-0.993|-0.939|-0.986|-0.865|-0.976| -0.97|-0.979|-0.992|-0.971| -0.98|  -1.0|-0.894|-0.965|-0.988|-0.986|-0.887| -0.98| -0.85|-0.961|-0.974|-0.988|-0.973|-0.955|-0.941|-0.938|-0.844|-0.969|-0.968| -0.94|-0.842|-0.982| -0.401|-0.614|-0.473|-0.773|-0.809| -0.401|-0.862|-0.487|0.402|-0.448|   0.157| -0.678|  -0.9|  -0.437| -0.444|  -0.43| -0.519|-0.761|  -0.437|-0.838| -0.545|0.197|-0.873|-0.0378| -0.0578| -0.472| -0.667| -0.71|-0.635|   -0.8|-0.743| -0.667| -0.94|-0.633|0.313|-0.795|   0.079| -0.661|-0.919| -0.724|-0.753| -0.712|-0.791|-0.746| -0.724|-0.962| -0.724|0.163|-0.873|-0.00959| -0.387|-0.753|0.883|0.0101|-0.273| 0.369|-0.785|0.015|   0.149|[0.198,-0.0143,-0...|         3.0|[0.198,-0.0143,-0...|[0.04132648990772...|[0.00413264899077...|       3.0|\n",
            "|  1|0.203|-0.00976| -0.151| -0.429|  -0.261|0.0768|  -0.466| -0.337| 0.0911|  -0.328| -0.162| -0.368|  0.424|   0.136|0.0775| -0.208|-0.834|-0.894|-0.479| -0.548| -0.545|-5.4E-5|0.0157| 0.327|  0.299| -0.371|  0.204| 0.0532|  0.0299|6.69E-4|-0.00944|  0.328|-0.0997|  -0.353|  0.283|-0.0585|-0.0948| -0.141|  -0.11|  0.514|0.911|-0.133| -0.319|-0.952|-0.935|-0.845|-0.953|-0.939|-0.843| 0.85|-0.144|  -0.294|0.908|-0.128|   -0.35|0.0758|0.763|-0.974| -0.79|-0.948|-0.955|-0.828|-0.185|  -1.0|  -1.0|-0.687|0.744|-0.802| 0.86| -0.141| 0.0976|  -0.11|  0.146|  -0.591|   0.631|  -0.671|   0.708|  0.747| 0.565|-0.102|   0.266| -0.0409|  0.0026|-0.488|  -0.292| -0.362| -0.495|  -0.313| -0.415| -0.611|-0.612|-0.618|  0.275|  0.373|0.0728| -0.383|-0.867|-0.745| -0.79| -0.488| -0.593|-0.598|0.657|0.469|0.764|-0.336| 0.0162|    0.17|-0.0845|-0.0343|0.00288|    0.19| 0.662|  -0.358| 0.0863|   0.071|-0.202| -0.143| -0.0195| 0.411|  0.427|-0.0457| -0.413|-0.515|-0.369| -0.407|-0.536|  -0.452|-0.438| -0.138|  -0.198| -0.369|0.626|0.564|  0.216| -0.172|-0.759|-0.803| -0.74|-0.533| -0.565|-0.581|  0.753|  0.221| -0.497|-0.667| 0.705| -0.616|  0.366| 0.0371| 0.127|  0.0119|  0.211| -0.331| 0.307| -0.365|  0.503|   0.161|  0.224|   0.14| -0.112|   0.221|   0.219|-0.366| -0.345| -0.568| -0.475|-0.472|  -0.555| -0.371| -0.388| -0.683|0.0471|  0.153|  0.681|-0.489|-0.797|-0.784|-0.905| -0.562| -0.597|-0.569|0.536|0.735| 0.78| -0.531|   0.624| -0.391|  0.188|-0.0256|  0.318|   0.144|   0.316|  -0.305|  0.198|-0.152| -0.214|-0.217|   0.627|  -0.35| -0.209| -0.344|-0.454| -0.244| -0.48| -0.209| -0.68|-0.573|0.714|  -0.345|   0.259| -0.122|  0.0584| -0.209| -0.344|-0.454| -0.244| -0.48| -0.209| -0.68|-0.573|0.714|  -0.345|   0.259| -0.122|  0.0584| -0.391| -0.264|  -0.28| -0.328| -0.554| -0.391| -0.78| -0.373|0.656| -0.396|  0.391| -0.164|  0.102| -0.175| -0.345| -0.292|  -0.26|-0.569| -0.175|-0.654| -0.368|0.598|  0.362|  -0.559|   0.41| 0.0311| -0.475| -0.234| -0.396| -0.157|-0.669| -0.475|-0.803|-0.598|0.785| 0.325| -0.606|  0.243|  0.253| -0.437| -0.228| -0.115|-0.425| -0.326| 0.0925| -0.377|  -0.232| 0.101|  -0.552| -0.604| -0.109|-0.819|-0.556|-0.874| -0.179|-0.835|-0.722|-0.412| -0.484| -0.401| -0.237|0.424|0.435|0.504|-0.806|-0.333|-0.692| -0.391|  0.0755| -0.231|-0.119|-0.553|-0.558| -0.88| -0.308|-0.634|-0.828|-0.892|-0.859|-0.916|-0.953|-0.891|-0.939|-0.971|-0.831|-0.854| -0.93| -0.95|-0.833|-0.906|-0.838|-0.708| -0.867|-0.907|-0.815|-0.817|-0.783|-0.945|-0.726| -0.845|-0.795|-0.844|-0.726|-0.867|-0.447|-0.681|-0.703|-0.917| -0.96|-0.855|-0.918|-0.991|-0.455|-0.781| -0.93|-0.939|-0.412|-0.921| -0.507|  -0.317| -0.343| -0.514|  -0.312|-0.377| -0.426| -0.395| -0.337|-0.667| -0.414| -0.382|-0.712|-0.305|-0.679| -0.292|-0.866|-0.745| -0.79| -0.583|-0.628|-0.433|0.374|0.313|  0.471|-0.68| -0.4|-0.32| -0.378|-0.102|  -0.409| -0.269|-0.769| -0.083|-0.648| -0.257|-0.692|-0.884| -0.89|-0.875|-0.929|-0.971|  -0.9|-0.951|-0.988|-0.877| -0.87| -0.94|-0.949|-0.854|-0.907|-0.913| -0.711|-0.844|-0.908|-0.824|  -0.79|-0.781|-0.819| -0.718|-0.843|-0.767|-0.786|-0.726|-0.853|-0.543|-0.749|-0.736|-0.917|-0.959|-0.845| -0.86| -0.936|-0.623|-0.824|-0.922| -0.86|-0.652|-0.919|  -0.318|-0.237| -0.355|-0.578|-0.471| -0.48| -0.363| -0.385| -0.432|-0.698| -0.701|-0.517|-0.939|-0.262|-0.729| -0.245|-0.881|  -0.8|-0.822|-0.0763|-0.218|-0.508| 0.69|0.733|0.415|  -0.8|-0.613|-0.586| -0.182|  0.291|  0.148|  -0.61|-0.878|  -0.725|  -0.959| 0.0788|-0.206|-0.913| -0.84|-0.831|-0.795|-0.944|-0.982|-0.984|-0.999|-0.894| -0.78| -0.954|-0.991|-0.887|-0.838|-0.898|-0.904|-0.873|-0.801|-0.891|-0.766|-0.773|  -0.9|-0.869|-0.821|-0.864|-0.798|-0.817|-0.805| -0.85|-0.942|-0.941|-0.922|-0.943|-0.879|-0.904|-0.829|-0.838|-0.906|-0.926|-0.871|-0.831|-0.923|  -0.38|-0.426|-0.342|-0.602|-0.826|  -0.38| -0.78|-0.583|0.378|-0.724|  -0.129| -0.334|-0.685|  -0.296| -0.228| -0.202| -0.358|-0.872|  -0.296|-0.723| -0.427|0.297|-0.873| -0.307| -0.0236|  -0.46| -0.352|-0.455|-0.391| -0.445|-0.714| -0.352|-0.784|-0.446|0.573|-0.795|   0.195| -0.276|-0.558|  -0.27|-0.241| -0.151|-0.388|-0.688|  -0.27|-0.705| -0.206|0.579|-0.873|  -0.055| -0.309|-0.714|0.338|-0.792|-0.884| 0.193|-0.664|0.174|   0.246|[0.203,-0.00976,-...|         3.0|[0.203,-0.00976,-...|[0.04607413053236...|[0.00460741305323...|       4.0|\n",
            "|  1|0.204| -0.0144|-0.0299| -0.339| -0.0211| 0.184|  -0.386| -0.041|  0.156|  -0.159|0.00682|-0.0787|  0.368|   0.123| 0.214|-0.0587|-0.779|-0.815|-0.365| -0.533| -0.287| 0.0257|0.0729|0.0761|   0.26| -0.101| -0.153|   0.38|-0.00568| -0.333|   0.232| 0.0821|-0.0174|  -0.234|  0.197| -0.356|  0.375| -0.153| -0.399|  -0.12|0.771|-0.283| -0.469|-0.976|-0.966|-0.939|-0.976|-0.969|-0.942|0.705|-0.293|  -0.459|0.785|-0.265|  -0.482| 0.613|0.425|-0.865|-0.555|-0.978|-0.976|-0.953|-0.395|  -1.0|  -1.0|-0.591|0.657|-0.723|0.789| -0.409|  0.396| -0.422|  0.463|  -0.605|   0.632|  -0.658|    0.68|  0.787| 0.112|-0.125|   0.127|  -0.186|   0.339|-0.396|  -0.341| -0.473| -0.361|  -0.297| -0.409| -0.657|-0.558|-0.557|  0.246|  0.676| 0.519| -0.321|-0.815|-0.778|-0.855| -0.222| -0.411|-0.393|0.652|0.469|0.572|-0.104|  -0.25|   0.106|  0.296| -0.394|  0.167| -0.0486| 0.366|  -0.338|  0.184|  -0.493| 0.134| 0.0895|-0.00203|-0.141|  0.105| -0.185|-0.0542|-0.587|0.0147|-0.0638|-0.591|-0.00762| -0.15| -0.439|  -0.377| -0.181|0.562|0.416|-0.0821| -0.101|-0.911| -0.49|-0.587|-0.605| -0.223|-0.396|  0.383| -0.172|  0.178|-0.381| 0.258|  0.174| -0.262| -0.362| 0.256| -0.0608|  0.106| -0.617| 0.483| -0.248|  0.239|  -0.449| -0.273|  0.524|-0.0992|  -0.231|  -0.159|-0.567| -0.514| -0.481| -0.536|-0.539|  -0.461| -0.713| -0.609|  -0.57| 0.603|  0.562|  0.692|-0.519|-0.905|-0.881|-0.863| -0.487| -0.635|-0.431|0.631|0.459|0.691| -0.181|  0.0811|  0.221|  0.163| -0.288|  0.182|  0.0718| -0.0472|  -0.656|  0.425|-0.547|  0.458|0.0157|   0.349|  0.174|-0.0522| -0.345|-0.399| -0.322|-0.622|-0.0522|-0.565|-0.409|0.791|  -0.182| -0.0405|   0.44|  -0.291|-0.0522| -0.345|-0.399| -0.322|-0.622|-0.0522|-0.565|-0.409|0.791|  -0.182| -0.0405|   0.44|  -0.291| -0.347| -0.421| -0.439|  -0.43| -0.436| -0.347|-0.789| -0.505|0.653| -0.344|   0.36| 0.0452| -0.199|-0.0913| -0.195|-0.0979| -0.345|-0.555|-0.0913|-0.564| -0.123|0.469|-0.0696|  -0.122|  0.373| -0.307| -0.502|  -0.59| -0.614| -0.565|-0.688| -0.502|-0.883|-0.668|0.857|0.0222|-0.0226| -0.106|-0.0348| -0.364| -0.123|-0.0727|-0.329| -0.032|  0.223| -0.264| -0.0267|0.0705|  -0.438| -0.349|  0.215|-0.947|-0.517|-0.573|-0.0954|-0.779|-0.516|-0.291|  -0.53| -0.544| -0.372|0.548|0.511|0.408|-0.806|-0.933|-0.923| -0.506|  -0.196| -0.171| -0.11|-0.521|-0.355|-0.748|-0.0675|-0.411|-0.794|-0.755|-0.934|-0.939|-0.896|-0.889|-0.921|-0.999|-0.763|-0.925|-0.893|-0.947|-0.775|-0.905| -0.52|-0.703| -0.938|  -0.9|-0.887|-0.894|-0.861|-0.928|-0.479| -0.912|-0.877|-0.885|-0.513|-0.888|-0.212|-0.732|-0.924|-0.917|-0.846|-0.889|-0.793|-0.748|-0.284|-0.921|-0.846|-0.778|-0.293|-0.897| -0.419|  -0.381| -0.411| -0.426|  -0.341|-0.533| -0.377| -0.406| -0.466|-0.452| -0.385| -0.631|-0.757|-0.915| -0.61| -0.299|-0.815|-0.779|-0.855|  -0.39|-0.589|-0.491|0.447|0.424|  0.348|-0.52| -0.6|-0.44|  -0.19|-0.568|  -0.334| 0.0545|-0.411| -0.113|  -0.6| -0.574|-0.912| -0.88|-0.755|-0.935|-0.933|-0.883|-0.836|-0.862|-0.991|-0.789|-0.919|-0.854|-0.863|-0.807|-0.852| -0.74| -0.734|-0.931|  -0.9|-0.887| -0.915| -0.91|-0.997| -0.698|-0.903|-0.872|-0.921| -0.75|-0.888|-0.594|-0.757|-0.949|-0.917|-0.877|-0.901| -0.85|  -0.96|-0.648|-0.934|-0.876|-0.853|-0.809|-0.901|  -0.515|-0.141| -0.187| -0.61|0.0929|-0.112|  -0.52| -0.105|-0.0036|-0.591| 0.0935|-0.265|-0.989|-0.677| -0.93| -0.233|-0.914|-0.484|-0.559| -0.567|-0.225|-0.526|0.478| 0.64|0.388|-0.933|-0.935|-0.931| -0.267| -0.374| -0.505|  -0.18|-0.502|  0.0898|  -0.233|-0.0815|-0.435|-0.932|-0.886|  -0.9|-0.965|-0.968|-0.958|-0.988|  -1.0|-0.919|-0.906| -0.961|-0.993|-0.915|-0.964|-0.224|-0.914|-0.941|-0.949|-0.974|-0.878|-0.894|-0.906|-0.422|-0.929|-0.954|-0.885|-0.435|-0.946|-0.615|-0.786| -0.98|-0.978|-0.974| -0.98|-0.973|-0.981|-0.562|-0.971|-0.976|-0.976|-0.561|-0.977| -0.373| -0.43|-0.333|-0.595|-0.963| -0.373|-0.781|-0.606|0.291|-0.793| -0.0462| -0.345|-0.693|  -0.444| -0.395| -0.361| -0.455|-0.648|  -0.444|-0.828| -0.503|0.137|-0.905|-0.0915| -0.0136| -0.396|  -0.29|-0.268|-0.132| -0.405|-0.726|  -0.29|-0.674| -0.15|0.534|-0.846|  -0.105| -0.454|-0.778| -0.564|-0.658|  -0.56|-0.773|-0.783| -0.564|-0.915| -0.487|0.425|-0.905|  0.0631|  -0.63|-0.917|0.637|0.0393|-0.948|-0.255|-0.448|0.278|    0.36|[0.204,-0.0144,-0...|         3.0|[0.204,-0.0144,-0...|[0.02672736509009...|[0.00267273650900...|       4.0|\n",
            "|  1|0.205|  0.0328| -0.136| 0.0137|  0.0672|-0.267|-0.00608|0.00774| -0.295|   0.138|  0.217| -0.397|-0.0405| -0.0883| 0.183| 0.0404|-0.484|-0.775|-0.755| -0.103| -0.321| -0.365| 0.644| 0.479|  0.191|  -0.45|  0.474| -0.492|   0.462| -0.105|   0.256| -0.335|  0.495|   0.139|  0.101| -0.158| 0.0829| -0.506| -0.284|   0.47|0.937|-0.291|-0.0562|-0.977|-0.973|-0.985|-0.979|-0.975|-0.987|0.873|  -0.3| -0.0618|0.951|-0.268| -0.0613|-0.147|0.829|-0.856|-0.992|-0.981|-0.975|-0.989|-0.594|  -1.0|  -1.0|-0.392| 0.48|-0.564|0.643| -0.241|  0.267| -0.345|   0.44|  -0.171|   0.254|  -0.335|   0.411| -0.766| 0.352|  -0.7|-8.26E-4|  0.0179|   0.254| 0.011|-0.00266| -0.329| 0.0589|  0.0267|  -0.37| -0.299|-0.232|-0.514| 0.0475| 0.0897| 0.229|-0.0385|-0.486|-0.498|-0.768|  0.151|-0.0782|-0.539|0.827|0.754|0.868|-0.464|  0.389|  -0.207|-0.0557| -0.227|  0.422|  -0.256| 0.244|  0.0497|  0.207|  0.0511| -0.13| -0.341| -0.0829| 0.333| -0.137|-0.0687|  0.114|-0.335|-0.538| -0.132|-0.309|   -0.56|-0.125| -0.291|  -0.521| -0.216|0.279|0.692|   0.11| -0.209|-0.791|-0.894|-0.651|-0.218| -0.579| -0.26|  0.137|  0.109|  0.457| -0.19|  0.12|  0.124|-0.0665| 0.0398|0.0625|   0.038| 0.0623|-0.0662| 0.136| -0.212|  0.492|  -0.375|-0.0296|  0.164| -0.527|   0.168|   0.125|-0.359| -0.571| -0.187| -0.361|-0.602|  -0.214| -0.327| -0.667| -0.229| 0.385|  0.602|  0.357|-0.447|-0.792|-0.907|-0.667| -0.352| -0.668|-0.342|0.555|0.669|0.623| -0.029|  0.0298|  0.178|  0.109| 0.0724|  0.245|   0.255|   0.135| -0.0695| 0.0589|0.0761| -0.312|0.0837|   0.282| -0.446| 0.0718| -0.153|-0.207|-0.0522|-0.483| 0.0718|-0.425|-0.236|0.838| -0.0502|  0.0989|-0.0434|  -0.154| 0.0718| -0.153|-0.207|-0.0522|-0.483| 0.0718|-0.425|-0.236|0.838| -0.0502|  0.0989|-0.0434|  -0.154|-0.0292| -0.041|-0.0231|-0.0778| -0.243|-0.0292|-0.514|-0.0157|0.836|  0.162| -0.267| -0.143|  0.252| -0.236| -0.412| -0.364| -0.468|-0.278| -0.236|-0.706| -0.453|0.666|  0.181|  -0.323|  0.519| -0.483| -0.462| -0.474| -0.486| -0.555|-0.475| -0.462| -0.85|-0.528| 0.89| 0.374| -0.446| -0.135|  0.257|-0.0295| 0.0614| -0.222|0.0302|0.00283| -0.356| 0.0515|   0.034|-0.272|-0.00681| -0.137| -0.396|-0.757|-0.984| -0.63| 0.0813|-0.484|-0.426|-0.724| 0.0614|-0.0214| -0.352|0.623|0.649|0.614|-0.742|-0.733|-0.692| -0.347|  0.0529|  0.395| 0.143|-0.167|-0.223|-0.513| -0.513|-0.722|-0.445|-0.715|-0.645|-0.367|-0.838|-0.781|-0.895|-0.956|-0.473|-0.507|-0.817|-0.916|-0.485| -0.46|-0.452|-0.768| -0.756|-0.278|-0.316|-0.765|-0.834|-0.999| -0.46| -0.555| -0.41|-0.898|-0.464|-0.282|-0.809|-0.808|-0.812|-0.789|-0.809|-0.789|-0.675| -0.93|-0.786|-0.803| -0.79|-0.749|-0.754|-0.789|-0.0349|  -0.027| -0.255|-0.0302| -0.0448|-0.402|   0.21|-0.0052| -0.342|-0.238| -0.356| -0.478|-0.824|-0.996|-0.732|  0.058|-0.485|-0.498|-0.768|  0.236|-0.273|-0.374|0.602|0.705|  0.558|-0.84| -0.2| 0.12| -0.203|-0.137|  0.0195| -0.272|-0.748| -0.496| -0.92| -0.491|-0.842|-0.523|-0.663| -0.65|-0.337|-0.811|-0.704|-0.858|-0.926|-0.571| -0.43|-0.752|-0.846|-0.522|-0.344|-0.523| -0.798|-0.683|-0.249|-0.347| -0.714|-0.801|-0.994| -0.704|-0.415|-0.346|-0.826|-0.645|-0.276|-0.778|-0.808|-0.794|-0.792| -0.81|-0.798|-0.645| -0.981|-0.757|-0.793|-0.793|-0.661|-0.751|-0.793|  -0.122|-0.481| -0.113|-0.403|-0.581|-0.217| -0.278| -0.602|   -0.2|-0.409| -0.665|-0.304|-0.713|-0.344| -0.34| -0.227|-0.778|-0.893|-0.621| -0.441|-0.626|-0.366|0.615|0.562|0.601|-0.867|-0.548|-0.517|  0.116|  0.291|  0.223| -0.219|-0.588|    -0.4|   -0.76| 0.0767|-0.265|-0.825|-0.709|-0.812|-0.821|-0.795|-0.734|-0.743|-0.728|-0.793|-0.775| -0.749|-0.737|-0.786|-0.798|-0.898| -0.97|-0.962|-0.904|-0.948|-0.886|-0.864|-0.921|-0.912|-0.936|-0.935|-0.871|  -0.9|-0.906|-0.675|-0.926|-0.822| -0.73|-0.902|-0.797|-0.666|-0.886|-0.666|  -0.7|-0.873|-0.761|-0.644|-0.774|-0.0262|-0.365|-0.142|-0.625|-0.587|-0.0262|-0.636| -0.13|0.627| -0.31|    0.31| -0.652|-0.879| -0.0149|-0.0816| -0.052|-0.0673|-0.806| -0.0149|-0.534| -0.173|0.448|-0.873|  0.164|   0.194|-0.0682| -0.387|-0.535|-0.415| -0.668|-0.576| -0.387|-0.825|-0.284|0.598|-0.795|   0.201| -0.672|-0.914|  -0.52|-0.453| -0.502| -0.37|-0.424|  -0.52| -0.86| -0.623|0.394|-0.873|   0.213|  0.429| 0.212| 0.47|  0.34| 0.845| 0.844|-0.726|0.283|  0.0606|[0.205,0.0328,-0....|         3.0|[0.205,0.0328,-0....|[0.01420541169296...|[0.00142054116929...|       3.0|\n",
            "|  1|0.208| -0.0448|-0.0665| -0.224|   0.245|-0.346|  -0.248|  0.126| -0.316| -0.0646|7.17E-4|  -0.44|   0.17|  -0.245| 0.514|-0.0801|-0.697|  -0.7|-0.803| -0.235| -0.212|  -0.31| 0.326| 0.308|  0.122| -0.523|   0.47| -0.303|   0.253| -0.114|  0.0167|  0.471| -0.254| -0.0189|-0.0244|  0.373| -0.535|-0.0289| -0.105|-0.0231|0.957|-0.257|-0.0385|-0.962|-0.887|-0.922|-0.961|-0.884|-0.924|0.896|-0.246| -0.0329|0.966|-0.253| -0.0571|-0.248|0.883|-0.889|-0.996|-0.957|-0.871|-0.932|  -1.0|  -1.0|  -1.0|-0.561|0.624|-0.687|0.749| -0.129|  0.117| -0.165|  0.236|  -0.439|    0.46|  -0.481|   0.498|  0.971|-0.921|-0.905|   0.409|   0.267|   0.145|-0.257|    0.15| -0.582| -0.249|   0.191| -0.533| -0.538|-0.292| -0.76|  0.117|  0.227| 0.614| -0.179|-0.721|-0.333|-0.908| -0.253|  0.017|-0.527|0.773|0.715|0.523|-0.544|  0.371|  -0.211|   0.11| -0.191|-0.0772|   0.192|  0.68|  0.0398|-0.0278|   0.304|  0.13| 0.0219|  -0.128|0.0437|  0.185| -0.163|-0.0306|-0.165| -0.28| -0.377|-0.179|  -0.272|-0.407| -0.126|   -0.51| -0.275|0.389|0.574|  0.326| -0.068|-0.654|-0.743|-0.814|  -0.2| -0.241|-0.479|  0.203|-0.0166|-0.0346|-0.562|  0.28|  0.447| -0.572| -0.457| 0.435|  -0.287|  0.235| -0.437| 0.417| -0.241|  0.175|  -0.388|-0.0873|   0.22| -0.307| -0.0568|  -0.118| -0.23| -0.532| -0.491|   -0.2|-0.541|  -0.502| -0.362| -0.573| -0.596|  0.43|   0.71|  0.593|-0.436|-0.701| -0.89|-0.868| -0.291| -0.522|-0.585|0.436| 0.62|0.492|  -0.29|-0.00379|  0.145|  0.459| -0.418|  0.325|  0.0605|  -0.293|  -0.392|  0.264|  0.08| -0.195| 0.134| -0.0898|  0.338| -0.068| -0.222|-0.347| -0.133| -0.63| -0.068|-0.556|-0.425| 0.82|  -0.168|   0.104| 0.0332| -0.0643| -0.068| -0.222|-0.347| -0.133| -0.63| -0.068|-0.556|-0.425| 0.82|  -0.168|   0.104| 0.0332| -0.0643| -0.187| -0.173| -0.196| -0.249| -0.529| -0.187|-0.652| -0.308|0.762| -0.172|  0.144|  0.158| -0.223|-0.0871| -0.185|-0.0457| -0.345| -0.36|-0.0871|-0.559| 0.0657|0.286| -0.276|   0.197| -0.165|  0.201|  -0.43| -0.529| -0.519| -0.585|-0.391|  -0.43|-0.847|-0.453|0.915| 0.092| 0.0965| -0.289| -0.158| -0.165|  0.224| -0.423|-0.248|  0.178| -0.356| -0.101|   0.302|-0.354|  -0.473| -0.233| -0.333|-0.531|-0.762|-0.743|-0.0062|-0.697| -0.22|-0.779|-0.0349| -0.117| -0.534|0.547|0.596|0.391|-0.742|-0.267|-0.923| -0.311| 0.00848| -0.061|-0.279|-0.712|-0.499|-0.837| -0.193|-0.457|-0.703|-0.766|-0.663|-0.937|-0.821|-0.866|-0.854|-0.793|-0.694|-0.692|-0.838|-0.834|-0.692|-0.877|-0.676|0.0521| -0.669|-0.817|-0.778|-0.572|-0.754|-0.843| -0.21| -0.627|-0.674|-0.784| -0.22|-0.763|-0.788|-0.891|-0.901|-0.952|-0.975|-0.903| -0.93|-0.959|-0.796| -0.92|-0.954|-0.938|-0.782|-0.953| -0.299| -0.0301|  -0.55| -0.279|   0.264|-0.612|  -0.13|  0.101| -0.616|-0.495|  0.141| -0.643|-0.586|-0.777| -0.92|  -0.18|-0.721|-0.334|-0.908| -0.253|-0.342|-0.644|0.559|0.644|  0.211|-0.48|-0.56| -0.4| -0.423|-0.518|  -0.276| -0.252|-0.776|-0.0522|-0.619| -0.226|-0.636|-0.738| -0.78|-0.713| -0.92|-0.829|-0.891| -0.96|-0.974|-0.742|-0.737| -0.84|-0.956|-0.684|-0.834|-0.798|-0.0543|-0.645|-0.868|-0.862| -0.463|-0.874|-0.967|-0.0948|-0.679|-0.658|-0.885|-0.185|-0.785|-0.899|-0.858|-0.899|-0.956|-0.973|-0.896| -0.91| -0.997|-0.842|-0.927|-0.948|-0.914|-0.861|-0.953| -0.0653|-0.375| -0.354|  -0.2|-0.232|-0.441|-0.0285| -0.345|  -0.31|-0.241| -0.291|-0.581|-0.881|-0.799|-0.908| -0.216|-0.651| -0.74|-0.804| -0.182|-0.426|-0.336|0.616|0.568|0.499|-0.933|-0.613|-0.724| -0.277| -0.244| -0.206|  -0.22|-0.603| -0.0579|  -0.436| -0.269|-0.625|-0.738|-0.321|-0.848|-0.941|-0.923|-0.875|-0.884|-0.926|-0.655|-0.853| -0.896|-0.903|-0.652|-0.927|-0.647|-0.953|-0.939|-0.928|-0.981|-0.931|-0.963|-0.992|-0.732|-0.921|-0.971|-0.971|-0.722|-0.936|-0.842|-0.927|-0.851| -0.98|-0.966|-0.973|-0.967|-0.998|-0.825|-0.849|-0.967| -0.98|-0.806|-0.976| -0.119|-0.408|-0.239|-0.642| -0.88| -0.119|-0.693|-0.481|0.573|-0.448|   0.143| -0.591|-0.866|  -0.128| -0.239| -0.179|   -0.4|-0.864|  -0.128|-0.652| -0.353| 0.44|-0.873| -0.133|  -0.273| -0.676| -0.247|-0.281|-0.157| -0.471|-0.911| -0.247|-0.666|-0.237|0.687|-0.949|  -0.118| -0.577|-0.867| -0.518| -0.58|  -0.54|-0.615|-0.939| -0.518|-0.888|  -0.51|0.473|-0.873|   0.158| -0.269| -0.63|0.308|-0.519|-0.879| 0.758|-0.765|0.258|  0.0482|[0.208,-0.0448,-0...|         3.0|[0.208,-0.0448,-0...|[0.03883595356488...|[0.00388359535648...|       3.0|\n",
            "|  1|0.208| -0.0385| -0.112| -0.403|   0.106|-0.567|  -0.415|  0.151| -0.554|  -0.379| -0.107| -0.469|  0.336|   0.127| 0.642| -0.229| -0.82|-0.763|-0.912| -0.475|-0.0106| -0.565|  0.29| 0.272|-0.0504| -0.629|  0.582| -0.323|   0.137| -0.148|  0.0949|  0.276| -0.215|   0.262| -0.109|  0.187| -0.425| -0.084|-0.0449|  0.256|0.954|-0.215| 0.0887|-0.988|-0.984|-0.984| -0.99|-0.987|-0.984|0.885|-0.229|  0.0829|0.969|-0.189|  0.0871|-0.264|0.875|-0.925|-0.986|-0.994|-0.991|-0.984|  -1.0|  -1.0|-0.559|-0.416|0.492|-0.564|0.632| -0.128|  0.159| -0.247|  0.355|   0.278|  -0.264|   0.254|  -0.249|  0.554|-0.303| 0.177|  -0.128|   0.618| -0.0694|-0.414| -0.0603|  -0.69| -0.418|  0.0252| -0.734| -0.641|-0.437|-0.775|  0.393|  0.244| 0.525| -0.374|-0.826|-0.553|-0.948|  -0.49|-0.0657|-0.816|0.652|0.689|0.351|  -0.6|  0.377|-5.59E-4|-0.0955| -0.188| 0.0246|   0.298| 0.282|   0.318|  0.157|   0.295| 0.267| -0.258| -0.0486| 0.509| 0.0171| -0.123| 0.0948|-0.544|-0.419| -0.465|-0.569|  -0.396| -0.52| -0.473|  -0.683| -0.412|0.535|0.657|  0.368| -0.379|-0.903|-0.833|-0.867|-0.626| -0.361|-0.629|  0.183|  0.144|  0.348| -0.68| 0.588| -0.149|-0.0902| -0.128|-0.119|   0.348|  0.248| -0.334| 0.345| -0.158| 0.0909|  -0.332|  0.107| -0.132|-0.0283|  -0.241|-0.00928|-0.498| -0.715| -0.502| -0.442|-0.704|  -0.469| -0.567| -0.848| -0.571| 0.661|  0.778|  0.723|-0.579|-0.873|-0.959|-0.874| -0.387| -0.674|-0.446|0.595|0.728|0.646| -0.462|   0.182|  0.405|  -0.32| -0.225| -0.264|   0.107|   0.261|  -0.273|  0.205| 0.208| -0.214| 0.206|-0.00123| -0.153| -0.221| -0.522| -0.57| -0.428|-0.395| -0.221|-0.712|-0.631|0.698|  0.0743| -0.0753| -0.135|   0.255| -0.221| -0.522| -0.57| -0.428|-0.395| -0.221|-0.712|-0.631|0.698|  0.0743| -0.0753| -0.135|   0.255| -0.352| -0.342| -0.375| -0.401|  -0.69| -0.352|-0.777| -0.487|0.704| -0.121|  0.167| -0.491|  0.403| -0.379| -0.538|  -0.46| -0.634|-0.833| -0.379|-0.807| -0.404|0.955| -0.298|   0.193|-0.0622| 0.0473| -0.588| -0.754| -0.751| -0.755|-0.519| -0.588|-0.929|-0.741|0.795|0.0826|-0.0275| -0.156|  -0.12| -0.348|  0.192|   -0.6|-0.427|-0.0136| -0.582| -0.302|  0.0891|-0.614|   -0.59| -0.324| -0.525|-0.664|-0.654|-0.943| -0.169| -0.82|-0.383|-0.901| -0.152| -0.153| -0.698|0.447|0.586|0.233|-0.806|  -0.8|-0.923| -0.336|   0.237|  0.132| -0.31|-0.728| -0.47|-0.798|-0.0154|-0.233|-0.815|-0.904|-0.736|-0.916|-0.875| -0.97|-0.905|-0.887|-0.824|-0.749|-0.911|-0.899|-0.818|-0.897|-0.495|-0.668|  -0.51|-0.676|-0.563|-0.124|-0.577|-0.396|-0.443| -0.432|-0.344|-0.487|-0.404|-0.556|-0.907| -0.97|-0.936|-0.958| -0.97|-0.906|-0.981|-0.998|-0.916|-0.944|-0.951|-0.986|-0.906|-0.956| -0.443|  -0.125| -0.649| -0.436| -0.0513|-0.732| -0.302|-0.0904| -0.713|-0.582|  -0.26| -0.732|-0.934|-0.949|-0.807| -0.317|-0.826|-0.554|-0.948| -0.382| -0.42|-0.746|0.296|0.668| 0.0796|-0.32|-0.24|-0.24| -0.423|-0.498|   0.147| -0.269|-0.773| -0.322| -0.82| -0.392| -0.75|-0.853|-0.885| -0.76|-0.956|-0.915|-0.969|-0.959|-0.947|-0.861| -0.79| -0.93|-0.949|-0.797|-0.921|-0.471| -0.712|-0.491|-0.833|-0.861|  -0.47|-0.927|-0.999| -0.614| -0.55|-0.661|-0.936|-0.495|-0.764|-0.968|-0.975|-0.937|-0.958| -0.97|  -0.9|-0.969| -0.987|-0.967|-0.947|-0.947| -0.97|-0.942|-0.954|  -0.492|-0.557| -0.422|-0.562|-0.353|-0.529| -0.488| -0.535| -0.367|-0.588| -0.321|-0.734|-0.962|-0.785|-0.955| -0.472|-0.895| -0.83|-0.855| -0.487|-0.781|-0.419|0.385|0.353|0.455|-0.933|-0.613|-0.931| -0.199| -0.208| -0.148|  -0.15|-0.548|   0.289|-0.00992| -0.513|-0.845|-0.924|-0.815|-0.865|-0.982|-0.991|-0.983|-0.962|-0.978|-0.901|-0.884| -0.987|-0.969|-0.895|-0.983|-0.749|-0.959|-0.989|-0.992|-0.983|-0.949|-0.921|-0.938|-0.805|-0.988|-0.976|-0.917|-0.814|-0.987|-0.912| -0.87|-0.892|-0.952|-0.992|-0.954|-0.972|-0.999|-0.873|-0.874|-0.982|-0.984|-0.859|-0.961| -0.461|-0.633|-0.578| -0.75|-0.949| -0.461|-0.882|-0.713| 0.25|-0.448|   0.352| -0.448|-0.772|  -0.304| -0.395| -0.299| -0.541|-0.835|  -0.304|-0.778| -0.409|0.364|-0.905| 0.0319|  -0.361| -0.728| -0.609| -0.57|-0.516| -0.676|-0.867| -0.609|-0.892|-0.626|0.373|-0.846|  -0.112| -0.449|-0.792| -0.747|-0.781| -0.743|-0.838|-0.969| -0.747|-0.969| -0.724|0.176|-0.873|  0.0648| -0.418|-0.789|0.466| 0.427|-0.841|-0.345|-0.792| 0.23| -0.0398|[0.208,-0.0385,-0...|         3.0|[0.208,-0.0385,-0...|[0.01420541169296...|[0.00142054116929...|       3.0|\n",
            "|  1|0.209|   0.013|-0.0736| -0.345| -0.0186|0.0763|  -0.346| -0.115| 0.0861|  -0.166| -0.102| -0.228|  0.381|  0.0567|0.0557|-0.0672|-0.783|-0.812| -0.48|  -0.39| -0.505|  0.131| 0.318| 0.507|  0.396| -0.301|  0.194| 0.0333| -0.0304|  0.286|   -0.26|  0.583|  -0.19|   0.154| -0.141|  0.335| -0.166| -0.343| -0.178|  0.677|0.979|-0.179|0.00674| -0.99|-0.961|-0.957| -0.99|-0.962|-0.957|0.908|-0.184|  0.0105|0.994|-0.159| 0.00157|-0.519| 0.94| -0.95|  -1.0|-0.991|-0.966|-0.957|  -1.0|  -1.0|-0.531|-0.255|0.322|-0.383|0.436|-0.0271| 0.0856| -0.215|  0.371|  -0.318|   0.421|  -0.524|   0.624| -0.768| -0.81|  0.87|   0.217|   0.151|   0.391|-0.359|  0.0284| -0.207| -0.367|  -0.018| -0.242| -0.578|-0.271|-0.219|  0.219| 0.0507| 0.035| -0.182|-0.792|-0.466|-0.678| -0.354| -0.285|-0.367|0.576|0.693|0.907|-0.233| 0.0842|   0.216| -0.086|  0.212| -0.245|    0.45| 0.683|  0.0764| -0.185|   0.232| 0.019|  -0.56|  -0.387| 0.708|  0.099| -0.117| 0.0312|-0.465|-0.205| -0.466|-0.473|  -0.284|-0.503| -0.223|  -0.209|0.00406|0.476|0.379|  0.393|  -0.27|-0.859|-0.687|-0.866| -0.46| -0.435| -0.59|  0.341|  0.391|  0.121| -0.35| 0.384| -0.128|  0.174|-0.0518| 0.179|-0.00769|  0.112|-0.0952| 0.224| -0.219|  0.309|   0.151|  0.158| -0.051| -0.396|  0.0902|  0.0209|-0.208|   -0.2| -0.406| -0.245|-0.334|  -0.444| -0.336| -0.065| -0.431| 0.327|  0.255|  0.274|-0.333|-0.684|-0.679|-0.821| -0.425| -0.443|-0.494|0.592|0.597|0.626| -0.325|   0.281|-0.0331|  0.193|-0.0614|  0.284|   0.242|  0.0437| -0.0804|  0.215| 0.125| -0.206|0.0877|   0.352| -0.625| -0.108| -0.282|-0.406|-0.0112|-0.526| -0.108|-0.598|-0.558|0.747|   0.101|  -0.117|  0.331|  -0.427| -0.108| -0.282|-0.406|-0.0112|-0.526| -0.108|-0.598|-0.558|0.747|   0.101|  -0.117|  0.331|  -0.427| -0.205|-0.0277| -0.166| 0.0462| -0.247| -0.205|-0.625| -0.376|0.723| 0.0905| -0.126|  0.279| -0.265| -0.277| -0.208| -0.192| -0.259|-0.861| -0.277|-0.695| -0.354|0.693|  0.452|  -0.464|  0.233|-0.0374| -0.315| -0.104| -0.249| -0.108|-0.723| -0.315|-0.698|-0.432| 0.85| 0.364| -0.502|-0.0955|  0.392|  -0.35| 0.0324| 0.0114|-0.343|  -0.11|  0.027| -0.307|-0.00498|0.0406|  -0.409| -0.436|0.00971|-0.732|-0.812| -0.92|-0.0124|-0.784|-0.513|-0.413| -0.268| -0.168| -0.249|0.531|0.612|0.678|-0.742|-0.733|-0.692| -0.333|   0.214|  0.187|0.0252|-0.354|-0.533| -0.86|  -0.31|-0.579|-0.764|-0.921|-0.696|-0.854|-0.922|-0.854|-0.907|-0.952|-0.789|-0.696|-0.896|-0.922|-0.782|-0.846|-0.737|-0.574| -0.467|-0.892|-0.625|-0.219|-0.697|-0.973| -0.58| -0.453|-0.427|-0.803|-0.522|-0.742|-0.578|-0.404|-0.741|-0.797|-0.873| -0.58|-0.537|-0.922|-0.471|-0.762|-0.788|-0.649|-0.436|-0.795| -0.383|-0.00238|-0.0937| -0.391|-0.00815|-0.323| -0.308| -0.044| -0.275|-0.471| -0.245| -0.374|-0.648|-0.963|-0.178|-0.0342|-0.792|-0.466|-0.679| -0.427|-0.374| -0.36|0.532|0.716|  0.567|-0.28|-0.32|-0.48| -0.209|-0.133| -0.0131| -0.114|-0.593| -0.376|-0.834| -0.431|-0.817|-0.834|-0.902| -0.72|-0.874|-0.923|-0.822|  -0.9|-0.983|-0.863|-0.722|-0.875|-0.899|-0.783|-0.823|-0.755|  -0.61|-0.391| -0.89|-0.656|-0.0695| -0.61|-0.999| -0.589|-0.504|-0.323|-0.659|-0.433|-0.669| -0.63|-0.452|-0.771|-0.793|-0.902|-0.552|-0.334| -0.712|-0.399|-0.782| -0.79|-0.335|-0.577|-0.792|  -0.248|-0.106| -0.386|-0.535|-0.278|-0.544| -0.377| -0.219| -0.415| -0.58| -0.557|-0.613|-0.661|-0.677|-0.864| -0.167|-0.856|-0.682|-0.856| -0.254|-0.123|-0.299|0.653|0.815|0.584|  -0.6|-0.613|-0.586|  0.252|  0.179|  0.162| -0.348|-0.691|  -0.627|  -0.917| -0.238|-0.511| -0.93|-0.583|-0.806|-0.741|-0.849|-0.815|-0.839|-0.862|-0.873|-0.738|  -0.82|-0.849|-0.865|-0.761|-0.801|-0.882|-0.783|-0.709|-0.885|-0.869|-0.635|-0.957|-0.789|-0.709|-0.881|-0.725|  -0.7| -0.74|-0.908| -0.94|-0.809|-0.862|-0.944|-0.921|-0.926|-0.994|-0.892|-0.751|-0.938|-0.955|-0.867|-0.885| -0.217|-0.433| -0.34|-0.606|-0.741| -0.217|-0.737|-0.574|0.472|-0.724|   0.323| -0.398|-0.741|  0.0465| -0.131| -0.108| -0.236|-0.297|  0.0465|-0.519| -0.357|0.509|-0.873|  0.235|  -0.119| -0.503| -0.162|-0.385|-0.333| -0.468|-0.422| -0.162|-0.684|-0.378|0.728|-0.846|   0.405|  -0.37|-0.683| -0.137|-0.124|-0.0265| -0.22|-0.306| -0.137|-0.597|-0.0475| 0.68|-0.873|  0.0235| -0.228|-0.622|0.484|-0.284|-0.885| 0.815|-0.845|0.205|  0.0171|[0.209,0.013,-0.0...|         3.0|[0.209,0.013,-0.0...|[0.01420541169296...|[0.00142054116929...|       3.0|\n",
            "|  1|0.211| -0.0425|-0.0977| -0.324| -0.0342|-0.235|  -0.362| -0.031| -0.223|   -0.11| -0.138| -0.378|  0.231|   0.143| 0.366|  -0.16|-0.769|-0.818|-0.735| -0.418| -0.228| -0.178| 0.351| 0.378|  0.323| -0.477|  0.558| -0.368|   0.178| -0.408|   0.445| -0.164|  0.113|  -0.201|  0.178| -0.018|-0.0641| -0.392| -0.228|  0.486|0.866|-0.379| -0.231|-0.959|-0.952|-0.986| -0.96|-0.951| -0.99|0.803|-0.383|  -0.234|0.873|-0.357|  -0.236| 0.424|0.652|-0.749|-0.889|-0.962|-0.942|-0.995| -0.26|  -1.0|  -1.0|-0.292|0.381|-0.469|0.555| -0.143|  0.177| -0.272|  0.388|  -0.358|   0.424|  -0.488|   0.547|  0.879| 0.493| 0.467|   0.397| -0.0791|    0.34| -0.11|  -0.128| -0.512| -0.174|  -0.094| -0.508| -0.188|-0.456|-0.699|  0.167|  0.467| 0.354| -0.217|-0.601|-0.615|-0.875| -0.341| -0.352|-0.506|0.804|0.361|0.758|-0.478|  0.566|  -0.142|  0.146| -0.515|  0.383|  0.0856|0.0813|  -0.212| 0.0313|   0.134|-0.279| -0.438| -0.0825| 0.368|-0.0606|0.00222|  0.127|-0.503|-0.471| -0.408|-0.499|  -0.494|-0.427| -0.305|  -0.545| -0.192|0.447|0.633|  0.493|  -0.36|-0.886| -0.86|-0.837|-0.446| -0.532|-0.502| 0.0513|  0.254|  0.292|-0.532| 0.597| -0.404|  0.307| -0.224| 0.241|  0.0533|-0.0511| -0.236| 0.257| -0.321|  0.532|   0.331|  0.102|  0.493|    0.2|  0.0633|   0.131|-0.292| -0.535| -0.542| -0.303|-0.531|  -0.517| -0.428| -0.649| -0.429| 0.347|  0.671|  0.773|-0.464|-0.747|-0.891|-0.893| -0.395| -0.505|-0.482|0.646|0.589|0.506| -0.489|   0.488| -0.212|  0.165| -0.175|  0.262|   0.261| 0.00724|  -0.267|  0.226|-0.218|-0.0199| 0.682|    0.45|  0.114| -0.173| -0.359|-0.436|  -0.31|-0.575| -0.173|-0.658|-0.515|0.752|  0.0107|   0.021| -0.312|   0.399| -0.173| -0.359|-0.436|  -0.31|-0.575| -0.173|-0.658|-0.515|0.752|  0.0107|   0.021| -0.312|   0.399| -0.221| -0.075|-0.0677| -0.264| -0.729| -0.221|-0.647| -0.163|0.773|  -0.14|  0.179| -0.634|  0.612| -0.382| -0.486| -0.468| -0.464|-0.279| -0.382|-0.802| -0.537|0.882| 0.0995|-0.00747| -0.216|   0.16|  -0.47| -0.521| -0.543| -0.602|-0.509|  -0.47|-0.861|-0.617|0.899| 0.292|-0.0739| -0.413|  0.022|  -0.26| -0.124| -0.336|-0.351|  -0.05| -0.241|  -0.24| 0.00535|-0.401|  -0.464| -0.301| -0.147|-0.665|-0.892|-0.865| -0.131|-0.769|-0.529|  -0.7| -0.119| -0.259| -0.595|0.506|0.504|0.364|-0.742|-0.733|-0.692|-0.0737|  -0.121|  0.392|-0.208|-0.601|-0.362|-0.713|  0.114|-0.169|-0.837|-0.815|-0.252|-0.537|-0.926|-0.796|-0.917|-0.905|-0.816| -0.22|-0.877|-0.913|-0.775| -0.61|-0.661|-0.649| -0.611|-0.852|-0.853|-0.904|-0.915|-0.994| -0.56| -0.581|-0.856|-0.945|-0.529|-0.845|-0.754|-0.782|-0.863|-0.887|-0.907|-0.824|-0.766|-0.638|-0.733|-0.872|-0.879|-0.726|-0.714|-0.885| -0.212|  -0.274| -0.469|-0.0851| -0.0329|-0.553|0.00825| -0.105| -0.521| -0.24| -0.309| -0.586|-0.727| -0.78|-0.523| -0.189|-0.601|-0.615|-0.875| -0.345|-0.522|-0.503|0.554|0.472|  0.242|-0.36|-0.36|-0.36| -0.287|-0.571|  -0.112|-0.0305|-0.594| -0.177|-0.762| -0.267|-0.718|-0.837|-0.766|-0.399| -0.61|-0.889|-0.811|-0.962|-0.983|-0.777|-0.352|-0.848|-0.959|-0.591| -0.61|-0.684|   -0.7| -0.53| -0.86|-0.858| -0.907|-0.886|-0.991| -0.654|-0.591|-0.845|-0.899|-0.541|-0.852|-0.792|-0.851|-0.874|-0.922|-0.954|-0.897|-0.856| -0.796|-0.799|-0.897|-0.934| -0.84|-0.824|-0.926|  -0.318|-0.457| -0.348|-0.562|-0.484|-0.483| -0.388|  -0.49| -0.356|-0.663| -0.641|-0.618|-0.896|-0.693|-0.837| -0.345|-0.876|-0.859|-0.823| -0.374|-0.581|-0.398|0.542|0.636|0.438|  -0.6|0.0323|-0.586|  0.173| 0.0127| -0.137| -0.463|-0.805|  -0.461|  -0.836| -0.329|-0.679|-0.923|-0.796|-0.712|-0.748|-0.923|-0.839| -0.88|-0.868|-0.898|-0.665| -0.881|-0.875|-0.884|-0.784|-0.894| -0.96|-0.884| -0.94|-0.979| -0.92|-0.939|-0.963|-0.903|-0.874|-0.966|-0.941|-0.854|-0.943|-0.846| -0.95|-0.926|-0.949|-0.963|-0.935|-0.958|-0.969|-0.837|-0.905|-0.955|-0.963|-0.828|-0.951| -0.352|-0.463| -0.43|-0.507|-0.845| -0.352| -0.79|-0.448| 0.43|-0.724|   0.218|-0.0136|-0.262|  -0.233| 0.0887|-0.0367|  0.125| -0.76|  -0.233|-0.566|  -0.25|0.462|-0.873|  0.201|    0.53|  0.328| -0.469| -0.59|-0.497| -0.648|-0.816| -0.469|-0.867|-0.376|0.559|-0.795|   0.346| -0.595|-0.817| -0.594|-0.467| -0.507|-0.421|-0.567| -0.594|-0.883| -0.582|0.333|-0.873|   0.241|   0.32|0.0199|0.305|-0.493| 0.727|-0.436|-0.572|0.344|   0.182|[0.211,-0.0425,-0...|         3.0|[0.211,-0.0425,-0...|[0.03883595356488...|[0.00388359535648...|       3.0|\n",
            "|  1|0.212| -0.0388|-0.0824| -0.295|   0.165|-0.639|  -0.362|  0.177| -0.633|-0.00598|-0.0896| -0.427|  0.191|  -0.125| 0.703| -0.214|-0.749|-0.737|-0.937| -0.487| -0.113| -0.642| 0.263| 0.253| 0.0878| -0.255|  0.117| 0.0977|   0.068| 0.0691|   -0.16|  0.433|-0.0793|   0.219|-0.0472| -0.181|   0.41| -0.099| -0.254|  -0.28|0.958|-0.219|  0.049|-0.973|-0.987|-0.952|-0.975|-0.987|-0.949|0.895|-0.236|  0.0484| 0.97|-0.193|  0.0393|-0.352|0.884|-0.922|-0.996|-0.982|-0.987| -0.95|  -1.0|  -1.0|-0.237|-0.526|0.603|-0.679|0.754| -0.163|  0.194|  -0.28|  0.384|  -0.435|   0.474|  -0.512|   0.548|  0.379|-0.665|-0.386|   0.218|   0.156|  -0.202|-0.288| -0.0533| -0.717| -0.294|-0.00536| -0.708| -0.517|-0.239|-0.816|  0.206|  0.341| 0.616| -0.318|-0.744|-0.547|-0.956| -0.417| -0.132|-0.745|0.691|0.711|0.324|-0.261| 0.0419|  0.0261|  0.186|-0.0152| -0.267|   0.349|  0.29|-0.00974|  0.161|  -0.363| 0.452| -0.193|  -0.145|-0.103|  0.036|  -0.16| 0.0706|-0.282|-0.191| -0.586|-0.258|  -0.186|  -0.6| -0.272|  -0.478| -0.517|0.362|0.469|  0.483| -0.148|-0.763|-0.675| -0.92|-0.265| -0.253|-0.708|  0.272|  0.133|  0.339|-0.411|  0.25|  0.253| -0.301| -0.349| 0.229|    -0.1|  0.361| 0.0506|-0.069|  0.215|  0.155|  -0.304|-0.0714| -0.147|-0.0489| -0.0931|   0.188|-0.249| -0.574| -0.602| -0.222|-0.582|  -0.604| -0.299|  -0.64| -0.475| 0.491|  0.725|  0.772|-0.488|-0.716|-0.909|-0.919| -0.232| -0.604|-0.648|0.549|0.591|0.371| -0.207|  0.0588|  0.136|  0.388| -0.382|  0.105| -0.0141| -0.0443|-0.00515| -0.138|  0.13|  0.254|0.0668|  -0.473|-0.0796| -0.182| -0.287|-0.351| -0.227|-0.406| -0.182|-0.652|-0.411|0.801|  -0.115|  0.0321|  0.162|  -0.169| -0.182| -0.287|-0.351| -0.227|-0.406| -0.182|-0.652|-0.411|0.801|  -0.115|  0.0321|  0.162|  -0.169| -0.302| -0.267| -0.265| -0.356| -0.324| -0.302|-0.737| -0.324|0.689| 0.0267| -0.202|-0.0507|  0.237| -0.141|  -0.34| -0.228| -0.475| -0.32| -0.141|-0.629| -0.245|0.372| -0.258|   0.178|-0.0821|  0.056| -0.476| -0.561|  -0.55| -0.672| -0.57| -0.476| -0.87|-0.521|0.887|0.0717| -0.145|  0.179| -0.261|  -0.24|  0.124|  -0.62|-0.318|  0.113|  -0.68|  -0.16|   0.148|-0.667|  -0.532| -0.271|  -0.71|  -0.7|-0.307|-0.768| -0.142| -0.75|-0.316| -0.93| -0.224| -0.234| -0.682|0.636|0.447|0.266|-0.742|-0.733|-0.538|  -0.42|-0.00254|  0.336|-0.336|-0.753|-0.394|-0.777| -0.432|-0.693|-0.753|-0.812|-0.733|-0.903|-0.819|-0.841|-0.932|-0.987|-0.747|-0.742|-0.827|-0.951|-0.746|-0.848|-0.471|-0.405| -0.839|-0.774|-0.758|-0.607|-0.665|-0.867|-0.288| -0.779|-0.672| -0.74|-0.321|-0.731|-0.948| -0.94|-0.973|-0.969|-0.929|-0.921|-0.954|-0.962|-0.939|-0.972|-0.922|-0.956|-0.936|-0.956| -0.306| -0.0484| -0.666| -0.333|  -0.129| -0.77| -0.206| -0.187| -0.738|-0.453| -0.167| -0.843|-0.663|0.0254|-0.718| -0.234|-0.744|-0.547|-0.956| -0.204|-0.508|-0.693|0.519|0.532| 0.0588|-0.32| -0.6|-0.32|  -0.27|-0.174|  0.0607| -0.267|-0.729| -0.204| -0.69| -0.694|-0.949|-0.792|-0.782|-0.772|-0.901|-0.828|-0.824|-0.896|-0.983|-0.768|-0.776|-0.812|-0.894|-0.727|-0.801|-0.612| -0.536|-0.794|-0.776|-0.726| -0.459|-0.645| -0.79| -0.488|-0.744|-0.546|-0.663|-0.537|-0.684|-0.946|-0.946|-0.978|-0.977|-0.946|-0.892| -0.98|  -0.98|-0.934|-0.977|-0.926|-0.979|-0.956|-0.957|  -0.206|-0.362| -0.463| -0.31|-0.106|-0.673| -0.157| -0.329| -0.546|-0.282|-0.0816|-0.806|-0.955|-0.709|-0.902| -0.288|-0.742|-0.671|-0.913|-0.0706|-0.525|-0.516|0.619| 0.52|0.408|-0.933|-0.613| -0.31| -0.313| -0.401|  0.248| -0.107|-0.454|    0.21|    -0.1|  -0.58| -0.88|-0.819|-0.421|-0.898|-0.907|-0.914|-0.903|-0.974|-0.999|-0.745| -0.88|   -0.9|-0.985|-0.744|-0.904|-0.484|-0.963|-0.967|-0.973|-0.977|-0.942|-0.944|-0.982|-0.628|-0.961| -0.97|-0.953|-0.639| -0.97|-0.962|-0.884|-0.957|-0.945|-0.944|-0.856|-0.953|-0.915|-0.925|-0.932| -0.92|-0.936|-0.919|-0.937| -0.283|  -0.4|-0.315|-0.557|-0.809| -0.283|-0.741|-0.623|0.449|-0.931|   0.053| -0.339|-0.677|  -0.291| -0.236| -0.216| -0.325|-0.311|  -0.291|-0.724|  -0.43|0.293|-0.873|-0.0176| 0.00517| -0.415| -0.419|-0.399|-0.322| -0.413|-0.879| -0.419| -0.78|-0.246|0.581| -0.59| -0.0412| -0.281|-0.576| -0.588|-0.557| -0.494| -0.63| -0.74| -0.588|-0.902| -0.511|0.394|-0.873| -0.0728| -0.268|-0.676|0.376|-0.369|-0.771|-0.258|  -0.8|0.233| -0.0122|[0.212,-0.0388,-0...|         3.0|[0.212,-0.0388,-0...|[0.03883595356488...|[0.00388359535648...|       3.0|\n",
            "|  1|0.212| -0.0384| -0.135| -0.235|    0.14| 0.132|  -0.244| 0.0687|  0.109|  0.0206| -0.173| -0.156|  0.344|   -0.15|0.0355| 0.0252|-0.706|-0.748|-0.427|  -0.24| -0.306| -0.049|  0.26| 0.418|  0.316| -0.501|  0.468| -0.339|   0.253| -0.166|   0.128|  0.333| -0.313| -0.0104|  0.167| -0.126| 0.0878| -0.512| -0.178|  0.661|0.963| -0.19|9.36E-4|-0.974| -0.97|-0.981|-0.974|-0.968|-0.982|0.898|-0.205|-0.00488|0.975|-0.171|-0.00294|-0.523|0.899|-0.943|  -1.0|-0.973|-0.966|-0.991|  -1.0|  -1.0|  -1.0| -0.45| 0.52|-0.587|0.651|   0.13|-0.0723|-0.0634|  0.225|-0.00772|   0.129|  -0.246|   0.356|  0.901| 0.396| 0.659| -0.0525|   0.662|   0.433|-0.271|  0.0973|-0.0442| -0.298|  0.0953|-0.0611| -0.531|  -0.3|-0.318| 0.0556|  0.164|0.0291|-0.0568|-0.732|-0.392|-0.536| -0.252| -0.187| -0.25|0.606|0.692|0.904|-0.457|  0.238|   0.114|   -0.3| -0.178|0.00204|   0.555| 0.145|  -0.109|  0.235| -0.0562|0.0986| -0.662|  -0.239| 0.616| 0.0239|-0.0361|  0.093|-0.416|-0.081| -0.371|-0.459|  -0.217| -0.39|-0.0485|   0.054|-0.0402|0.283|0.338|  0.392| -0.207|-0.842|-0.583|-0.816|-0.497| -0.434|-0.472|  0.176|  0.322|  0.187| 0.133|0.0557| 0.0482|  0.415|  0.133|0.0539|   0.172| 0.0575| -0.182| 0.341| -0.388|  0.417|   0.251|  0.299|-0.0575| -0.307|   0.255|  -0.376|0.0537|0.00729| -0.305| 0.0465|-0.137|  -0.341|-0.0894| 0.0246| -0.399|-0.177|-0.0194|  0.287|-0.131|-0.443|-0.491|-0.755| -0.048| -0.282|-0.442|0.751|0.617|0.691| 0.0371|  0.0715| 0.0999|  0.259| 0.0794|  0.196|   0.376|  0.0961|  -0.184|  0.317|0.0295| -0.267| 0.121|   0.484| -0.574|-0.0168|-0.0995|-0.283|  0.131|-0.711|-0.0168| -0.49|-0.534|0.744|-0.00102| -0.0325|  0.284|  -0.391|-0.0168|-0.0995|-0.283|  0.131|-0.711|-0.0168| -0.49|-0.534|0.744|-0.00102| -0.0325|  0.284|  -0.391|-0.0889| 0.0945| 0.0375| 0.0316| -0.413|-0.0889|-0.516|-0.0521|0.784| -0.539|  0.627| -0.668|  0.535| -0.218|-0.0221|-0.0293|-0.0149|-0.821| -0.218|-0.616| -0.277|0.671|  0.306|  -0.326|  0.191|-0.0258| -0.124|  0.125|-0.0401| 0.0953|-0.121| -0.124|-0.515| -0.38|0.816| 0.322|  -0.57| 0.0722|  0.368| -0.337|  0.076|  0.052|-0.199|  0.102| 0.0865|  -0.25|  0.0288|0.0601|  -0.193| -0.155|   0.11|-0.833|-0.875|  -0.9| 0.0218|-0.706|-0.345|-0.351| -0.255| -0.475|-0.0931|0.525|0.529|0.697|-0.742|-0.733|-0.692| -0.381|   0.394|  0.317| 0.328|0.0604|-0.252|-0.643| -0.216|-0.484|-0.697|-0.824|-0.638|-0.832| -0.91|-0.924|-0.934|-0.982|-0.706|-0.639|-0.915| -0.95|-0.701|-0.839|-0.648|-0.495|-0.0972|-0.737|-0.667|-0.347|-0.629|-0.671| -0.47|-0.0516|-0.506|-0.635|-0.357|-0.652| -0.59|-0.381|-0.476|-0.739|-0.786|-0.496|-0.901| -0.97|-0.472|-0.572|-0.695|-0.921|-0.383|-0.727| -0.361| -0.0101| 0.0686| -0.245|   0.142|-0.157| -0.129|-0.0026|-0.0704|-0.396|-0.0688| -0.351|-0.906|-0.597|-0.494|  0.036|-0.731|-0.393|-0.536| -0.251|-0.457|-0.143|0.496|0.558|  0.633|-0.84|-0.56|-0.44| -0.361|-0.313|  0.0635|-0.0212| -0.54| -0.107|-0.692| -0.432|-0.858|-0.778|-0.845|-0.667|-0.813|  -0.9|-0.899|-0.904|-0.998|-0.801|-0.654|-0.892|-0.906|-0.713|-0.789|-0.678|  -0.54|-0.173|-0.815|-0.877| -0.685|-0.633|-0.577| -0.507|-0.309|-0.766|-0.626|-0.277|-0.793|-0.572|-0.392|-0.518|-0.721|-0.732|-0.555|-0.603|-0.0921|-0.328|-0.617| -0.66|-0.519|-0.372|-0.697|  -0.234|0.0522| -0.193|-0.474| -0.18|-0.499| -0.393| -0.149|  -0.32|-0.489| -0.514|-0.625|-0.851|-0.576|-0.525|-0.0428|-0.828|-0.576|  -0.8| -0.255|-0.122|-0.115|0.678|0.846|0.613|-0.267| -0.29|-0.586|  0.361|   0.42|  0.364| -0.126|-0.496|  -0.575|  -0.898| -0.433|-0.734|-0.932|  -0.5|-0.682| -0.48| -0.56|-0.569|-0.833|-0.985|-0.863|-0.532|  -0.52|  -0.9|-0.848|-0.486| -0.81|-0.797|-0.707| -0.58|-0.746|-0.294|-0.377|-0.673| -0.74|-0.599| -0.65|-0.421|-0.618|-0.569|-0.868|-0.937|-0.766|-0.772|-0.815|-0.855|-0.637|-0.773|-0.853|-0.666|-0.825|-0.696|-0.822|-0.789|-0.0541|-0.265|-0.167|-0.396|-0.451|-0.0541|-0.589|-0.332|0.535|-0.724|   0.272|  -0.19|-0.506|-7.83E-4|  0.199|  0.192|  0.203|-0.557|-7.83E-4|-0.395|  0.102| 0.57|-0.873| -0.258|   0.304| 0.0571|-0.0401|-0.179|-0.173|-0.0803|-0.339|-0.0401| -0.52|-0.197|0.754|-0.795|   0.448|-0.0338|-0.287| 0.0298| 0.162|  0.181| 0.229|0.0474| 0.0298|-0.366| 0.0519|0.653|-0.873|  0.0654|  0.148|-0.185|0.406| 0.258|-0.693| 0.422|-0.833|0.214|  0.0211|[0.212,-0.0384,-0...|         3.0|[0.212,-0.0384,-0...|[0.01420541169296...|[0.00142054116929...|       3.0|\n",
            "|  1|0.214| -0.0453| -0.113|0.00143|   0.229|-0.168|-0.00185| 0.0158| -0.142|   0.118| -0.082| -0.181|-0.0168|  -0.561| 0.283| 0.0761|-0.497|-0.708|-0.688|-0.0528| -0.423| -0.188| 0.617| 0.301|  0.257| -0.297|  0.205|-0.0121|  0.0553| 0.0618|   0.167| -0.101|  0.158| -0.0241|  0.179|-0.0839|-0.0923| -0.335|  -0.15|  0.494| 0.92|-0.296|-0.0704|-0.982|-0.957|-0.956|-0.983|-0.957|-0.956|0.852|-0.303| -0.0703|0.935|-0.277| -0.0794|-0.128|0.786|-0.851|-0.988|-0.983|-0.957|-0.961|-0.533|  -1.0|  -1.0|-0.417|0.499|-0.578|0.653|   0.13| -0.151|  0.098|-0.0174|    -0.2|   0.281|  -0.361|   0.437| 0.0379| 0.169| 0.879| -0.0357|   0.105| -0.0851|0.0178|   0.467| -0.288|  0.056|   0.295| -0.296| -0.346| 0.368|-0.616| -0.107| -0.281| 0.172| 0.0609| -0.48|0.0803| -0.74|  0.129| -0.172|-0.422|0.747|0.688|0.913|-0.254| 0.0782|     0.2| -0.147|  -0.04|  0.459|  0.0421| 0.391| -0.0681|  0.205|   0.139|-0.137| -0.228| -0.0478| 0.455| -0.123| 0.0172|   0.19|-0.246|-0.368| -0.143|-0.237|  -0.372|-0.146| -0.426|   -0.49|-0.0892|0.259|0.647|  0.214|-0.0961|-0.735|-0.801|-0.656|-0.129| -0.429|-0.275|  0.122|  0.343|  0.378| -0.35| 0.302|-0.0317|-0.0714| -0.043|0.0927|  -0.256|  0.594|-0.0426| 0.114|  -0.32|  0.748|  -0.354| -0.299|  0.614|  0.229|  -0.376|  -0.334|-0.283| -0.535| -0.256| -0.285|-0.567|   -0.23| -0.404| -0.658| -0.468| 0.284|   0.56|  0.473|-0.415|-0.741|-0.891| -0.72|  -0.33| -0.607| -0.22|0.574|0.697|0.722|  -0.15|   0.162|  0.141| 0.0948| -0.132|  0.243|  -0.218|   0.286| -0.0853| 0.0717|-0.165|-0.0833| 0.185|  -0.121|-0.0716|  0.105|-0.0841|-0.229|  0.246|-0.574|  0.105| -0.38|-0.361|0.888|   0.116| -0.0676|-0.0147|-0.00223|  0.105|-0.0841|-0.229|  0.246|-0.574|  0.105| -0.38|-0.361|0.888|   0.116| -0.0676|-0.0147|-0.00223| 0.0614|   0.25|  0.217|  0.157| -0.132| 0.0614|-0.354| 0.0797|0.845| 0.0233|  -0.26| -0.089|   0.47| -0.131| -0.304| -0.157| -0.455|-0.441| -0.131|-0.615|-0.0709|0.226|  0.169|  -0.329|  0.349| -0.121| -0.419| -0.491| -0.531| -0.489|-0.451| -0.419|-0.836| -0.59|0.858| 0.298| -0.411| 0.0925| 0.0224| -0.115|  0.266| -0.185|0.0439|   0.13| -0.225|-0.0575|   0.174| -0.21|   0.068| -0.144| -0.168|-0.484|-0.629|-0.916|  0.113|-0.496|-0.241|-0.646| -0.325| -0.146|  -0.22|0.592|0.716|0.597|-0.742|-0.733|-0.692| -0.226|   0.377|  0.256| 0.368|  0.12|-0.402|-0.729| -0.193|-0.413|-0.463|-0.726|-0.527|-0.613|-0.775|-0.762|-0.813|-0.935|-0.491|-0.478| -0.77|-0.854|-0.493|-0.613|-0.489|-0.691| 0.0162| 0.217| 0.415| -0.29|-0.603|-0.957| -0.45|  0.334| 0.307| -0.74|-0.318| 0.307|-0.746|-0.763|-0.711|-0.792|-0.869|-0.822| -0.79|-0.992|-0.721|-0.741|-0.848|-0.848|-0.671|-0.808|-0.0635|   0.349| -0.226| 0.0126|     0.5|-0.348|  0.104|  0.486| -0.281|-0.164|  0.166| -0.484|-0.318|-0.524|-0.935|  0.181|-0.479|0.0803| -0.74| -0.233| 0.143|-0.317|0.563|0.897|  0.603|-0.84|-0.12| -0.2|-0.0907|0.0811|  -0.113|  -0.03|-0.587| -0.314|-0.813| -0.518|-0.878| -0.55|-0.641|-0.536|-0.607|-0.752|-0.673| -0.66| -0.92|-0.569|-0.459|-0.699| -0.65|-0.477|-0.507|-0.598| -0.705| 0.326| 0.297|  0.31| -0.138|-0.554|-0.949| -0.638| 0.579| 0.434|-0.604|-0.152| 0.367|-0.762|-0.762|-0.696|  -0.8|-0.866|-0.817|-0.697| -0.997|-0.712|-0.747|-0.842|-0.713|-0.664|-0.816|  -0.126|-0.332|-0.0631|-0.286|-0.396|-0.249| -0.177| -0.498| -0.203|-0.257| -0.423| -0.31|-0.848|-0.594|-0.468| -0.148|-0.715|-0.799| -0.63| -0.308|-0.659|-0.262|0.666|0.627|0.604|-0.867|-0.548|-0.517|-0.0893|  0.273|  0.192|-0.0514| -0.42| -0.0836|  -0.458| 0.0488|-0.245|-0.754|  -0.8|-0.575|-0.844|-0.797|-0.812|-0.887|-0.899|-0.739|-0.594| -0.783|-0.892|-0.721|-0.825| -0.76|-0.937|-0.968|-0.944|-0.853|-0.821| -0.58|-0.722|-0.798|-0.953|-0.845|-0.584|-0.797|-0.909|-0.706|-0.839| -0.85|-0.862|-0.755|-0.795|-0.685| -0.78|-0.667| -0.79|-0.765|-0.727|-0.648|-0.832| 0.0567|-0.317|-0.163|-0.498|-0.507| 0.0567|-0.575|-0.247|0.601|-0.379|   0.446| -0.466|-0.754|   0.181|  0.325|  0.271|   0.29| -0.44|   0.181|-0.213|-0.0637| 0.61|-0.873|  0.147|   0.203| -0.111| -0.383|-0.369|-0.394| -0.377| -0.52| -0.383|-0.756|-0.364|0.518|-0.795|   0.237|-0.0191|-0.383| -0.543|-0.463| -0.443|-0.449|-0.688| -0.543|-0.869| -0.472|0.425|-0.873|   0.164| 0.0734|-0.272| 0.29| 0.692| 0.776|-0.637|-0.715|0.288|  0.0709|[0.214,-0.0453,-0...|         3.0|[0.214,-0.0453,-0...|[0.01420541169296...|[0.00142054116929...|       3.0|\n",
            "+---+-----+--------+-------+-------+--------+------+--------+-------+-------+--------+-------+-------+-------+--------+------+-------+------+------+------+-------+-------+-------+------+------+-------+-------+-------+-------+--------+-------+--------+-------+-------+--------+-------+-------+-------+-------+-------+-------+-----+------+-------+------+------+------+------+------+------+-----+------+--------+-----+------+--------+------+-----+------+------+------+------+------+------+------+------+------+-----+------+-----+-------+-------+-------+-------+--------+--------+--------+--------+-------+------+------+--------+--------+--------+------+--------+-------+-------+--------+-------+-------+------+------+-------+-------+------+-------+------+------+------+-------+-------+------+-----+-----+-----+------+-------+--------+-------+-------+-------+--------+------+--------+-------+--------+------+-------+--------+------+-------+-------+-------+------+------+-------+------+--------+------+-------+--------+-------+-----+-----+-------+-------+------+------+------+------+-------+------+-------+-------+-------+------+------+-------+-------+-------+------+--------+-------+-------+------+-------+-------+--------+-------+-------+-------+--------+--------+------+-------+-------+-------+------+--------+-------+-------+-------+------+-------+-------+------+------+------+------+-------+-------+------+-----+-----+-----+-------+--------+-------+-------+-------+-------+--------+--------+--------+-------+------+-------+------+--------+-------+-------+-------+------+-------+------+-------+------+------+-----+--------+--------+-------+--------+-------+-------+------+-------+------+-------+------+------+-----+--------+--------+-------+--------+-------+-------+-------+-------+-------+-------+------+-------+-----+-------+-------+-------+-------+-------+-------+-------+-------+------+-------+------+-------+-----+-------+--------+-------+-------+-------+-------+-------+-------+------+-------+------+------+-----+------+-------+-------+-------+-------+-------+-------+------+-------+-------+-------+--------+------+--------+-------+-------+------+------+------+-------+------+------+------+-------+-------+-------+-----+-----+-----+------+------+------+-------+--------+-------+------+------+------+------+-------+------+------+------+------+------+------+------+------+------+------+------+------+------+------+------+------+------+-------+------+------+------+------+------+------+-------+------+------+------+------+------+------+------+------+------+------+------+------+------+------+------+------+------+------+-------+--------+-------+-------+--------+------+-------+-------+-------+------+-------+-------+------+------+------+-------+------+------+------+-------+------+------+-----+-----+-------+-----+-----+-----+-------+------+--------+-------+------+-------+------+-------+------+------+------+------+------+------+------+------+------+------+------+------+------+------+------+------+-------+------+------+------+-------+------+------+-------+------+------+------+------+------+------+------+------+------+------+------+------+-------+------+------+------+------+------+------+--------+------+-------+------+------+------+-------+-------+-------+------+-------+------+------+------+------+-------+------+------+------+-------+------+------+-----+-----+-----+------+------+------+-------+-------+-------+-------+------+--------+--------+-------+------+------+------+------+------+------+------+------+------+------+------+-------+------+------+------+------+------+------+------+------+------+------+------+------+------+------+------+------+------+------+------+------+------+------+------+------+------+------+------+------+------+------+------+-------+------+------+------+------+-------+------+------+-----+------+--------+-------+------+--------+-------+-------+-------+------+--------+------+-------+-----+------+-------+--------+-------+-------+------+------+-------+------+-------+------+------+-----+------+--------+-------+------+-------+------+-------+------+------+-------+------+-------+-----+------+--------+-------+------+-----+------+------+------+------+-----+--------+--------------------+------------+--------------------+--------------------+--------------------+----------+\n",
            "only showing top 20 rows\n",
            "\n"
          ],
          "name": "stdout"
        }
      ]
    },
    {
      "cell_type": "markdown",
      "metadata": {
        "colab_type": "text",
        "id": "pDrdglv-lx2h"
      },
      "source": [
        "## Next Steps\n",
        "\n",
        "We've seen how to prepare data and build a classifier in Spark. You might want to play around with this notebook and learn more about how Spark works. Here are some ideas:\n",
        "\n",
        "- Look at the set of labels, and see if there are any features that would make sense to combine. Spark allows you to map values into a new column.\n",
        "- Identify the most important features among the 561 source features (using PCA or something similar), then reduce the feature set and see if the model performs better.\n",
        "- Modify the settings of the random forest to see if the performance improves.\n",
        "- Use Spark's tools to find other techniques to evaluate the performance of your model. See if you can figure out how to generate an ROC plot, find the AUC value, or plot a confusion matrix."
      ]
    },
    {
      "cell_type": "code",
      "metadata": {
        "id": "BMqRQEE0Pl7I",
        "colab_type": "code",
        "colab": {
          "base_uri": "https://localhost:8080/",
          "height": 34
        },
        "outputId": "12002ec6-a14c-439b-b9d8-99bb1cc9a57e"
      },
      "source": [
        "df.select('_c0').distinct().rdd.map(lambda r: r[0]).collect()"
      ],
      "execution_count": 42,
      "outputs": [
        {
          "output_type": "execute_result",
          "data": {
            "text/plain": [
              "[1, 6, 3, 5, 4, 2]"
            ]
          },
          "metadata": {
            "tags": []
          },
          "execution_count": 42
        }
      ]
    },
    {
      "cell_type": "code",
      "metadata": {
        "id": "T9kdV9693I-h",
        "colab_type": "code",
        "colab": {
          "base_uri": "https://localhost:8080/",
          "height": 204
        },
        "outputId": "a0144fc5-bea0-4818-8719-bf9216a17413"
      },
      "source": [
        "conf_matrix = predictions.crosstab('indexedLabel', 'prediction')\n",
        "conf_matrix.show()"
      ],
      "execution_count": 92,
      "outputs": [
        {
          "output_type": "stream",
          "text": [
            "+-----------------------+---+---+---+---+---+---+\n",
            "|indexedLabel_prediction|0.0|1.0|2.0|3.0|4.0|5.0|\n",
            "+-----------------------+---+---+---+---+---+---+\n",
            "|                    0.0|393|  0|  0|  0|  1|  0|\n",
            "|                    5.0|  0|  0|  0| 25| 28|233|\n",
            "|                    1.0|  0|323| 49|  0|  1|  0|\n",
            "|                    2.0|  0| 40|313|  0|  0|  0|\n",
            "|                    3.0|  0|  0|  0|313| 13|  6|\n",
            "|                    4.0|  0|  0|  0| 20|307|  7|\n",
            "+-----------------------+---+---+---+---+---+---+\n",
            "\n"
          ],
          "name": "stdout"
        }
      ]
    },
    {
      "cell_type": "code",
      "metadata": {
        "id": "_HrOGo_qVaeA",
        "colab_type": "code",
        "colab": {
          "base_uri": "https://localhost:8080/",
          "height": 306
        },
        "outputId": "d783bf99-edab-463d-e7f0-c07bd49a23c1"
      },
      "source": [
        "RF_NUM_TREES = 200\n",
        "RF_MAX_DEPTH = 10\n",
        "RF_NUM_BINS = 32\n",
        "\n",
        "#changing up some of the rf params and reevaluating performance\n",
        "rf = RandomForestClassifier(\n",
        "    labelCol=\"indexedLabel\",\n",
        "    featuresCol=\"indexedFeatures\",\n",
        "    numTrees=RF_NUM_TREES,\n",
        "    maxDepth=RF_MAX_DEPTH,\n",
        "    seed=8,\n",
        "    impurity='entropy'\n",
        ")\n",
        "\n",
        "# Chain indexers and forest in a Pipeline\n",
        "pipeline = Pipeline(stages=[labelIndexer, featureIndexer, rf])\n",
        "\n",
        "# Train model.  This also runs the indexers.\n",
        "model = pipeline.fit(trainingData)\n",
        "\n",
        "# Make predictions.\n",
        "predictions = model.transform(testData)\n",
        "\n",
        "# Select (prediction, true label) and compute test error\n",
        "evaluator = MulticlassClassificationEvaluator(\n",
        "    labelCol=\"indexedLabel\", predictionCol=\"prediction\", metricName=\"accuracy\")\n",
        "\n",
        "accuracy = evaluator.evaluate(predictions)\n",
        "precision = evaluator.evaluate(predictions, {evaluator.metricName:'weightedPrecision'})\n",
        "recall = evaluator.evaluate(predictions, {evaluator.metricName:'weightedRecall'})\n",
        "f1 = evaluator.evaluate(predictions, {evaluator.metricName:'f1'})\n",
        "\n",
        "print(f\"Test Error = {(1.0 - accuracy):g}\")\n",
        "print(f\"Accuracy = {accuracy:g}\")\n",
        "print(\"Precision = {}\".format(precision))\n",
        "print(\"Recall = {}\".format(recall))\n",
        "print(\"f1-score = {}\".format(f1))\n",
        "\n",
        "conf_matrix = predictions.crosstab('indexedLabel', 'prediction')\n",
        "print(conf_matrix.show())"
      ],
      "execution_count": 93,
      "outputs": [
        {
          "output_type": "stream",
          "text": [
            "Test Error = 0.0256289\n",
            "Accuracy = 0.974371\n",
            "Precision = 0.9747688080839996\n",
            "Recall = 0.9743711438063598\n",
            "f1-score = 0.9743939381971468\n",
            "+-----------------------+---+---+---+---+---+---+\n",
            "|indexedLabel_prediction|0.0|1.0|2.0|3.0|4.0|5.0|\n",
            "+-----------------------+---+---+---+---+---+---+\n",
            "|                    0.0|394|  0|  0|  0|  1|  0|\n",
            "|                    5.0|  0|  0|  0|  0|  9|261|\n",
            "|                    1.0|  0|377| 12|  0|  0|  0|\n",
            "|                    2.0|  0| 25|353|  0|  0|  0|\n",
            "|                    3.0|  0|  0|  0|362|  4|  1|\n",
            "|                    4.0|  0|  0|  0|  0|306|  2|\n",
            "+-----------------------+---+---+---+---+---+---+\n",
            "\n",
            "None\n"
          ],
          "name": "stdout"
        }
      ]
    },
    {
      "cell_type": "markdown",
      "metadata": {
        "id": "JJihdpf0e4c4",
        "colab_type": "text"
      },
      "source": [
        "Increasing the number of trees and max_depth definitely improved the model. I still need to figure out how to compare training statistics to test so that the overfit can be evaluated. However, with precision and recall both nearing 1 it's unlikely that there is a very large overfit problem. "
      ]
    },
    {
      "cell_type": "code",
      "metadata": {
        "id": "jh7yTN1V-ppZ",
        "colab_type": "code",
        "colab": {
          "base_uri": "https://localhost:8080/",
          "height": 34
        },
        "outputId": "dd9cfcdf-a5cd-49ec-f62b-c766f2e1177a"
      },
      "source": [
        "rfModel = model.stages[2]\n",
        "print(rfModel)"
      ],
      "execution_count": 18,
      "outputs": [
        {
          "output_type": "stream",
          "text": [
            "RandomForestClassificationModel (uid=RandomForestClassifier_6c0094faa0bd) with 10 trees\n"
          ],
          "name": "stdout"
        }
      ]
    },
    {
      "cell_type": "code",
      "metadata": {
        "id": "f8n90gKdr4LV",
        "colab_type": "code",
        "colab": {}
      },
      "source": [
        "feat_important = pd.DataFrame()\n",
        "feat_important['values'] = rfModel.featureImportances.values\n",
        "feat_important['feature'] = rfModel.featureImportances.indices\n",
        "feat_important['feature'] = feat_important['feature'].astype('str')\n",
        "feat_important = feat_important.sort_values(by='values', ascending=False).reset_index(drop=True)"
      ],
      "execution_count": 0,
      "outputs": []
    },
    {
      "cell_type": "code",
      "metadata": {
        "id": "RbVYu74V1sVV",
        "colab_type": "code",
        "colab": {
          "base_uri": "https://localhost:8080/",
          "height": 204
        },
        "outputId": "0225142e-7aed-41b8-a6f2-cc7d5bf47314"
      },
      "source": [
        "feat_important.head()"
      ],
      "execution_count": 97,
      "outputs": [
        {
          "output_type": "execute_result",
          "data": {
            "text/html": [
              "<div>\n",
              "<style scoped>\n",
              "    .dataframe tbody tr th:only-of-type {\n",
              "        vertical-align: middle;\n",
              "    }\n",
              "\n",
              "    .dataframe tbody tr th {\n",
              "        vertical-align: top;\n",
              "    }\n",
              "\n",
              "    .dataframe thead th {\n",
              "        text-align: right;\n",
              "    }\n",
              "</style>\n",
              "<table border=\"1\" class=\"dataframe\">\n",
              "  <thead>\n",
              "    <tr style=\"text-align: right;\">\n",
              "      <th></th>\n",
              "      <th>values</th>\n",
              "      <th>feature</th>\n",
              "    </tr>\n",
              "  </thead>\n",
              "  <tbody>\n",
              "    <tr>\n",
              "      <th>0</th>\n",
              "      <td>0.059097</td>\n",
              "      <td>177</td>\n",
              "    </tr>\n",
              "    <tr>\n",
              "      <th>1</th>\n",
              "      <td>0.058154</td>\n",
              "      <td>42</td>\n",
              "    </tr>\n",
              "    <tr>\n",
              "      <th>2</th>\n",
              "      <td>0.041932</td>\n",
              "      <td>56</td>\n",
              "    </tr>\n",
              "    <tr>\n",
              "      <th>3</th>\n",
              "      <td>0.037734</td>\n",
              "      <td>558</td>\n",
              "    </tr>\n",
              "    <tr>\n",
              "      <th>4</th>\n",
              "      <td>0.035050</td>\n",
              "      <td>49</td>\n",
              "    </tr>\n",
              "  </tbody>\n",
              "</table>\n",
              "</div>"
            ],
            "text/plain": [
              "     values feature\n",
              "0  0.059097     177\n",
              "1  0.058154      42\n",
              "2  0.041932      56\n",
              "3  0.037734     558\n",
              "4  0.035050      49"
            ]
          },
          "metadata": {
            "tags": []
          },
          "execution_count": 97
        }
      ]
    },
    {
      "cell_type": "code",
      "metadata": {
        "id": "rT8yr2Urt4pH",
        "colab_type": "code",
        "colab": {
          "base_uri": "https://localhost:8080/",
          "height": 726
        },
        "outputId": "d0a53ee7-e848-40b1-ee17-22fdbb3b7f10"
      },
      "source": [
        "plt.figure(figsize=(12,12))\n",
        "sns.set(style='white')\n",
        "sns.barplot(\n",
        "    x=feat_important['feature'],\n",
        "    y=feat_important['values'],\n",
        "    order=feat_important.index\n",
        ")\n",
        "plt.show()"
      ],
      "execution_count": 98,
      "outputs": [
        {
          "output_type": "display_data",
          "data": {
            "image/png": "[encoded data removed]",
            "text/plain": [
              "<Figure size 864x864 with 1 Axes>"
            ]
          },
          "metadata": {
            "tags": []
          }
        }
      ]
    },
    {
      "cell_type": "code",
      "metadata": {
        "id": "dSv_gsjrwcuW",
        "colab_type": "code",
        "colab": {}
      },
      "source": [
        "s"
      ],
      "execution_count": 0,
      "outputs": []
    }
  ]
}
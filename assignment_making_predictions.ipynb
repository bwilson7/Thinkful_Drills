{
 "cells": [
  {
   "cell_type": "code",
   "execution_count": 29,
   "metadata": {},
   "outputs": [],
   "source": [
    "import numpy as np\n",
    "import pandas as pd\n",
    "import seaborn as sns\n",
    "from sklearn import linear_model\n",
    "from sklearn.model_selection import train_test_split\n",
    "from sklearn.metrics import mean_absolute_error\n",
    "import statsmodels.api as sm\n",
    "from statsmodels.tools.eval_measures import mse, rmse\n",
    "from sqlalchemy import create_engine\n",
    "import matplotlib.pyplot as plt\n",
    "%matplotlib inline\n",
    "pd.options.display.float_format = '{:.3f}'.format\n",
    "\n",
    "\n",
    "import warnings\n",
    "warnings.filterwarnings('ignore')"
   ]
  },
  {
   "cell_type": "code",
   "execution_count": 2,
   "metadata": {},
   "outputs": [],
   "source": [
    "postgres_user = 'dsbc_student'\n",
    "postgres_pw = '7*.8G9QH21'\n",
    "postgres_host = '142.93.121.174'\n",
    "postgres_port = '5432'\n",
    "postgres_db = 'houseprices'\n",
    "\n",
    "engine = create_engine('postgresql://{}:{}@{}:{}/{}'.format(\n",
    "    postgres_user, postgres_pw, postgres_host, postgres_port, postgres_db))\n",
    "\n",
    "house_prices_df = pd.read_sql_query('select * from houseprices', con=engine)\n",
    "\n",
    "engine.dispose()"
   ]
  },
  {
   "cell_type": "code",
   "execution_count": 3,
   "metadata": {},
   "outputs": [
    {
     "name": "stdout",
     "output_type": "stream",
     "text": [
      "1460\n"
     ]
    },
    {
     "data": {
      "text/html": [
       "<div>\n",
       "<style scoped>\n",
       "    .dataframe tbody tr th:only-of-type {\n",
       "        vertical-align: middle;\n",
       "    }\n",
       "\n",
       "    .dataframe tbody tr th {\n",
       "        vertical-align: top;\n",
       "    }\n",
       "\n",
       "    .dataframe thead th {\n",
       "        text-align: right;\n",
       "    }\n",
       "</style>\n",
       "<table border=\"1\" class=\"dataframe\">\n",
       "  <thead>\n",
       "    <tr style=\"text-align: right;\">\n",
       "      <th></th>\n",
       "      <th>id</th>\n",
       "      <th>mssubclass</th>\n",
       "      <th>mszoning</th>\n",
       "      <th>lotfrontage</th>\n",
       "      <th>lotarea</th>\n",
       "      <th>street</th>\n",
       "      <th>alley</th>\n",
       "      <th>lotshape</th>\n",
       "      <th>landcontour</th>\n",
       "      <th>utilities</th>\n",
       "      <th>...</th>\n",
       "      <th>poolarea</th>\n",
       "      <th>poolqc</th>\n",
       "      <th>fence</th>\n",
       "      <th>miscfeature</th>\n",
       "      <th>miscval</th>\n",
       "      <th>mosold</th>\n",
       "      <th>yrsold</th>\n",
       "      <th>saletype</th>\n",
       "      <th>salecondition</th>\n",
       "      <th>saleprice</th>\n",
       "    </tr>\n",
       "  </thead>\n",
       "  <tbody>\n",
       "    <tr>\n",
       "      <th>0</th>\n",
       "      <td>1</td>\n",
       "      <td>60</td>\n",
       "      <td>RL</td>\n",
       "      <td>65.000</td>\n",
       "      <td>8450</td>\n",
       "      <td>Pave</td>\n",
       "      <td>None</td>\n",
       "      <td>Reg</td>\n",
       "      <td>Lvl</td>\n",
       "      <td>AllPub</td>\n",
       "      <td>...</td>\n",
       "      <td>0</td>\n",
       "      <td>None</td>\n",
       "      <td>None</td>\n",
       "      <td>None</td>\n",
       "      <td>0</td>\n",
       "      <td>2</td>\n",
       "      <td>2008</td>\n",
       "      <td>WD</td>\n",
       "      <td>Normal</td>\n",
       "      <td>208500</td>\n",
       "    </tr>\n",
       "    <tr>\n",
       "      <th>1</th>\n",
       "      <td>2</td>\n",
       "      <td>20</td>\n",
       "      <td>RL</td>\n",
       "      <td>80.000</td>\n",
       "      <td>9600</td>\n",
       "      <td>Pave</td>\n",
       "      <td>None</td>\n",
       "      <td>Reg</td>\n",
       "      <td>Lvl</td>\n",
       "      <td>AllPub</td>\n",
       "      <td>...</td>\n",
       "      <td>0</td>\n",
       "      <td>None</td>\n",
       "      <td>None</td>\n",
       "      <td>None</td>\n",
       "      <td>0</td>\n",
       "      <td>5</td>\n",
       "      <td>2007</td>\n",
       "      <td>WD</td>\n",
       "      <td>Normal</td>\n",
       "      <td>181500</td>\n",
       "    </tr>\n",
       "    <tr>\n",
       "      <th>2</th>\n",
       "      <td>3</td>\n",
       "      <td>60</td>\n",
       "      <td>RL</td>\n",
       "      <td>68.000</td>\n",
       "      <td>11250</td>\n",
       "      <td>Pave</td>\n",
       "      <td>None</td>\n",
       "      <td>IR1</td>\n",
       "      <td>Lvl</td>\n",
       "      <td>AllPub</td>\n",
       "      <td>...</td>\n",
       "      <td>0</td>\n",
       "      <td>None</td>\n",
       "      <td>None</td>\n",
       "      <td>None</td>\n",
       "      <td>0</td>\n",
       "      <td>9</td>\n",
       "      <td>2008</td>\n",
       "      <td>WD</td>\n",
       "      <td>Normal</td>\n",
       "      <td>223500</td>\n",
       "    </tr>\n",
       "    <tr>\n",
       "      <th>3</th>\n",
       "      <td>4</td>\n",
       "      <td>70</td>\n",
       "      <td>RL</td>\n",
       "      <td>60.000</td>\n",
       "      <td>9550</td>\n",
       "      <td>Pave</td>\n",
       "      <td>None</td>\n",
       "      <td>IR1</td>\n",
       "      <td>Lvl</td>\n",
       "      <td>AllPub</td>\n",
       "      <td>...</td>\n",
       "      <td>0</td>\n",
       "      <td>None</td>\n",
       "      <td>None</td>\n",
       "      <td>None</td>\n",
       "      <td>0</td>\n",
       "      <td>2</td>\n",
       "      <td>2006</td>\n",
       "      <td>WD</td>\n",
       "      <td>Abnorml</td>\n",
       "      <td>140000</td>\n",
       "    </tr>\n",
       "    <tr>\n",
       "      <th>4</th>\n",
       "      <td>5</td>\n",
       "      <td>60</td>\n",
       "      <td>RL</td>\n",
       "      <td>84.000</td>\n",
       "      <td>14260</td>\n",
       "      <td>Pave</td>\n",
       "      <td>None</td>\n",
       "      <td>IR1</td>\n",
       "      <td>Lvl</td>\n",
       "      <td>AllPub</td>\n",
       "      <td>...</td>\n",
       "      <td>0</td>\n",
       "      <td>None</td>\n",
       "      <td>None</td>\n",
       "      <td>None</td>\n",
       "      <td>0</td>\n",
       "      <td>12</td>\n",
       "      <td>2008</td>\n",
       "      <td>WD</td>\n",
       "      <td>Normal</td>\n",
       "      <td>250000</td>\n",
       "    </tr>\n",
       "  </tbody>\n",
       "</table>\n",
       "<p>5 rows × 81 columns</p>\n",
       "</div>"
      ],
      "text/plain": [
       "   id  mssubclass mszoning  lotfrontage  lotarea street alley lotshape  \\\n",
       "0   1          60       RL       65.000     8450   Pave  None      Reg   \n",
       "1   2          20       RL       80.000     9600   Pave  None      Reg   \n",
       "2   3          60       RL       68.000    11250   Pave  None      IR1   \n",
       "3   4          70       RL       60.000     9550   Pave  None      IR1   \n",
       "4   5          60       RL       84.000    14260   Pave  None      IR1   \n",
       "\n",
       "  landcontour utilities    ...     poolarea poolqc fence miscfeature miscval  \\\n",
       "0         Lvl    AllPub    ...            0   None  None        None       0   \n",
       "1         Lvl    AllPub    ...            0   None  None        None       0   \n",
       "2         Lvl    AllPub    ...            0   None  None        None       0   \n",
       "3         Lvl    AllPub    ...            0   None  None        None       0   \n",
       "4         Lvl    AllPub    ...            0   None  None        None       0   \n",
       "\n",
       "  mosold yrsold  saletype  salecondition  saleprice  \n",
       "0      2   2008        WD         Normal     208500  \n",
       "1      5   2007        WD         Normal     181500  \n",
       "2      9   2008        WD         Normal     223500  \n",
       "3      2   2006        WD        Abnorml     140000  \n",
       "4     12   2008        WD         Normal     250000  \n",
       "\n",
       "[5 rows x 81 columns]"
      ]
     },
     "execution_count": 3,
     "metadata": {},
     "output_type": "execute_result"
    }
   ],
   "source": [
    "#Quick check on the number of rows and the columns in the dataframe\n",
    "print(len(house_prices_df))\n",
    "house_prices_df.iloc[:,:81].head(5)"
   ]
  },
  {
   "cell_type": "code",
   "execution_count": 4,
   "metadata": {},
   "outputs": [
    {
     "data": {
      "image/png": "[encoded data removed]",
      "text/plain": [
       "<Figure size 432x288 with 1 Axes>"
      ]
     },
     "metadata": {
      "needs_background": "light"
     },
     "output_type": "display_data"
    },
    {
     "name": "stdout",
     "output_type": "stream",
     "text": [
      "Mean house price in Aimes:  180921.19589041095\n"
     ]
    }
   ],
   "source": [
    "#Since we are estimating the saleprice I want to check the distribution\n",
    "plt.hist(house_prices_df['saleprice'], color ='b')\n",
    "plt.xlabel('Sold Home Price')\n",
    "plt.ylabel('Frequency')\n",
    "plt.axvline(house_prices_df['saleprice'].mean(), color='r', alpha=1.0)\n",
    "plt.title('Distribution of Home Prices in Aimes, Iowa')\n",
    "plt.show()\n",
    "print('Mean house price in Aimes: ', house_prices_df['saleprice'].mean())"
   ]
  },
  {
   "cell_type": "code",
   "execution_count": 31,
   "metadata": {},
   "outputs": [
    {
     "data": {
      "image/png": "[encoded data removed]",
      "text/plain": [
       "<Figure size 432x288 with 1 Axes>"
      ]
     },
     "metadata": {
      "needs_background": "light"
     },
     "output_type": "display_data"
    }
   ],
   "source": [
    "sns.boxplot(house_prices_df['saleprice'])\n",
    "plt.show()"
   ]
  },
  {
   "cell_type": "markdown",
   "metadata": {},
   "source": [
    "### Feature Engineering"
   ]
  },
  {
   "cell_type": "code",
   "execution_count": 5,
   "metadata": {},
   "outputs": [],
   "source": [
    "house_prices_df['total_sf'] = house_prices_df['totalbsmtsf'] + house_prices_df['firstflrsf'] + house_prices_df['secondflrsf']"
   ]
  },
  {
   "cell_type": "code",
   "execution_count": 6,
   "metadata": {},
   "outputs": [],
   "source": [
    "num_car_garage = pd.get_dummies(house_prices_df['garagecars'], prefix='car_garage')\n",
    "house_prices_df = pd.concat([house_prices_df, num_car_garage], axis=1)\n"
   ]
  },
  {
   "cell_type": "code",
   "execution_count": 7,
   "metadata": {},
   "outputs": [],
   "source": [
    "garage_type = pd.get_dummies(house_prices_df['garagetype'], prefix='garagetype')\n",
    "house_prices_df = pd.concat([house_prices_df, garage_type], axis=1)\n"
   ]
  },
  {
   "cell_type": "code",
   "execution_count": 8,
   "metadata": {},
   "outputs": [],
   "source": [
    "paved = pd.get_dummies(house_prices_df['paveddrive'], prefix='paved_driveway')\n",
    "house_prices_df = pd.concat([house_prices_df, paved], axis=1)"
   ]
  },
  {
   "cell_type": "code",
   "execution_count": 9,
   "metadata": {},
   "outputs": [],
   "source": [
    "garage_finish = pd.get_dummies(house_prices_df['garagefinish'], prefix='garagefinish')\n",
    "house_prices_df = pd.concat([house_prices_df, garage_finish], axis=1)"
   ]
  },
  {
   "cell_type": "code",
   "execution_count": 10,
   "metadata": {},
   "outputs": [],
   "source": [
    "#Does the house have an above average kitchen feature\n",
    "house_prices_df['awesome_kitchen'] = 9999"
   ]
  },
  {
   "cell_type": "code",
   "execution_count": 11,
   "metadata": {},
   "outputs": [
    {
     "data": {
      "text/plain": [
       "0    774\n",
       "1    686\n",
       "Name: awesome_kitchen, dtype: int64"
      ]
     },
     "execution_count": 11,
     "metadata": {},
     "output_type": "execute_result"
    }
   ],
   "source": [
    "house_prices_df.loc[(house_prices_df['kitchenqual'] == 'Ex') | (house_prices_df['kitchenqual'] == 'Gd'), \n",
    "                    ['awesome_kitchen']] = 1\n",
    "house_prices_df.loc[(house_prices_df['kitchenqual'] == 'Fa') | (house_prices_df['kitchenqual'] == 'TA'), \n",
    "                    ['awesome_kitchen']] = 0\n",
    "house_prices_df.awesome_kitchen.value_counts()"
   ]
  },
  {
   "cell_type": "code",
   "execution_count": 12,
   "metadata": {},
   "outputs": [
    {
     "data": {
      "text/plain": [
       "1    958\n",
       "0    502\n",
       "Name: attached_garage, dtype: int64"
      ]
     },
     "execution_count": 12,
     "metadata": {},
     "output_type": "execute_result"
    }
   ],
   "source": [
    "#Is the garage attached to the house feature\n",
    "house_prices_df['attached_garage'] = 9999\n",
    "house_prices_df.loc[(house_prices_df['garagetype'] == 'Attchd') | (house_prices_df['garagetype'] == 'BuiltIn'), \n",
    "                    ['attached_garage']] = 1\n",
    "house_prices_df.loc[(house_prices_df['garagetype'] != 'Attchd') & (house_prices_df['garagetype'] != 'BuiltIn'), \n",
    "                    ['attached_garage']] = 0\n",
    "house_prices_df.attached_garage.value_counts()"
   ]
  },
  {
   "cell_type": "code",
   "execution_count": 13,
   "metadata": {},
   "outputs": [],
   "source": [
    "house_prices_df['yard_sf'] = house_prices_df['lotarea'] - house_prices_df['firstflrsf']"
   ]
  },
  {
   "cell_type": "code",
   "execution_count": 14,
   "metadata": {},
   "outputs": [],
   "source": [
    "hillside = pd.get_dummies(house_prices_df['landcontour'], prefix='landcontour')\n",
    "house_prices_df = pd.concat([house_prices_df, hillside], axis=1)"
   ]
  },
  {
   "cell_type": "markdown",
   "metadata": {},
   "source": [
    "### 1st Iteration of the Model"
   ]
  },
  {
   "cell_type": "code",
   "execution_count": 25,
   "metadata": {},
   "outputs": [
    {
     "name": "stdout",
     "output_type": "stream",
     "text": [
      "The number of observations in training: 934\n",
      "The number of observations in validation: 234\n",
      "The number of observations in test: 292\n"
     ]
    },
    {
     "data": {
      "text/html": [
       "<table class=\"simpletable\">\n",
       "<caption>OLS Regression Results</caption>\n",
       "<tr>\n",
       "  <th>Dep. Variable:</th>        <td>saleprice</td>    <th>  R-squared:         </th> <td>   0.740</td> \n",
       "</tr>\n",
       "<tr>\n",
       "  <th>Model:</th>                   <td>OLS</td>       <th>  Adj. R-squared:    </th> <td>   0.738</td> \n",
       "</tr>\n",
       "<tr>\n",
       "  <th>Method:</th>             <td>Least Squares</td>  <th>  F-statistic:       </th> <td>   292.3</td> \n",
       "</tr>\n",
       "<tr>\n",
       "  <th>Date:</th>             <td>Tue, 25 Jun 2019</td> <th>  Prob (F-statistic):</th> <td>3.02e-263</td>\n",
       "</tr>\n",
       "<tr>\n",
       "  <th>Time:</th>                 <td>06:48:50</td>     <th>  Log-Likelihood:    </th> <td> -11192.</td> \n",
       "</tr>\n",
       "<tr>\n",
       "  <th>No. Observations:</th>      <td>   934</td>      <th>  AIC:               </th> <td>2.240e+04</td>\n",
       "</tr>\n",
       "<tr>\n",
       "  <th>Df Residuals:</th>          <td>   924</td>      <th>  BIC:               </th> <td>2.245e+04</td>\n",
       "</tr>\n",
       "<tr>\n",
       "  <th>Df Model:</th>              <td>     9</td>      <th>                     </th>     <td> </td>    \n",
       "</tr>\n",
       "<tr>\n",
       "  <th>Covariance Type:</th>      <td>nonrobust</td>    <th>                     </th>     <td> </td>    \n",
       "</tr>\n",
       "</table>\n",
       "<table class=\"simpletable\">\n",
       "<tr>\n",
       "          <td></td>             <th>coef</th>     <th>std err</th>      <th>t</th>      <th>P>|t|</th>  <th>[0.025</th>    <th>0.975]</th>  \n",
       "</tr>\n",
       "<tr>\n",
       "  <th>const</th>             <td> 2.299e+04</td> <td> 6063.517</td> <td>    3.792</td> <td> 0.000</td> <td> 1.11e+04</td> <td> 3.49e+04</td>\n",
       "</tr>\n",
       "<tr>\n",
       "  <th>awesome_kitchen</th>   <td>  3.08e+04</td> <td> 3040.868</td> <td>   10.128</td> <td> 0.000</td> <td> 2.48e+04</td> <td> 3.68e+04</td>\n",
       "</tr>\n",
       "<tr>\n",
       "  <th>total_sf</th>          <td>   39.5935</td> <td>    1.943</td> <td>   20.377</td> <td> 0.000</td> <td>   35.780</td> <td>   43.407</td>\n",
       "</tr>\n",
       "<tr>\n",
       "  <th>paved_driveway_Y</th>  <td> 1.309e+04</td> <td> 5123.790</td> <td>    2.555</td> <td> 0.011</td> <td> 3034.454</td> <td> 2.31e+04</td>\n",
       "</tr>\n",
       "<tr>\n",
       "  <th>attached_garage</th>   <td>  1.68e+04</td> <td> 3200.580</td> <td>    5.250</td> <td> 0.000</td> <td> 1.05e+04</td> <td> 2.31e+04</td>\n",
       "</tr>\n",
       "<tr>\n",
       "  <th>garagetype_2Types</th> <td>-7.565e+04</td> <td> 1.79e+04</td> <td>   -4.219</td> <td> 0.000</td> <td>-1.11e+05</td> <td>-4.05e+04</td>\n",
       "</tr>\n",
       "<tr>\n",
       "  <th>car_garage_3</th>      <td> 6.511e+04</td> <td> 4446.105</td> <td>   14.645</td> <td> 0.000</td> <td> 5.64e+04</td> <td> 7.38e+04</td>\n",
       "</tr>\n",
       "<tr>\n",
       "  <th>garagefinish_Fin</th>  <td> 1.666e+04</td> <td> 3249.587</td> <td>    5.127</td> <td> 0.000</td> <td> 1.03e+04</td> <td>  2.3e+04</td>\n",
       "</tr>\n",
       "<tr>\n",
       "  <th>yard_sf</th>           <td>    0.4606</td> <td>    0.115</td> <td>    3.997</td> <td> 0.000</td> <td>    0.234</td> <td>    0.687</td>\n",
       "</tr>\n",
       "<tr>\n",
       "  <th>landcontour_HLS</th>   <td>  2.76e+04</td> <td> 6790.425</td> <td>    4.065</td> <td> 0.000</td> <td> 1.43e+04</td> <td> 4.09e+04</td>\n",
       "</tr>\n",
       "</table>\n",
       "<table class=\"simpletable\">\n",
       "<tr>\n",
       "  <th>Omnibus:</th>       <td>417.096</td> <th>  Durbin-Watson:     </th> <td>   1.891</td> \n",
       "</tr>\n",
       "<tr>\n",
       "  <th>Prob(Omnibus):</th> <td> 0.000</td>  <th>  Jarque-Bera (JB):  </th> <td>22245.362</td>\n",
       "</tr>\n",
       "<tr>\n",
       "  <th>Skew:</th>          <td>-1.244</td>  <th>  Prob(JB):          </th> <td>    0.00</td> \n",
       "</tr>\n",
       "<tr>\n",
       "  <th>Kurtosis:</th>      <td>26.779</td>  <th>  Cond. No.          </th> <td>2.16e+05</td> \n",
       "</tr>\n",
       "</table><br/><br/>Warnings:<br/>[1] Standard Errors assume that the covariance matrix of the errors is correctly specified.<br/>[2] The condition number is large, 2.16e+05. This might indicate that there are<br/>strong multicollinearity or other numerical problems."
      ],
      "text/plain": [
       "<class 'statsmodels.iolib.summary.Summary'>\n",
       "\"\"\"\n",
       "                            OLS Regression Results                            \n",
       "==============================================================================\n",
       "Dep. Variable:              saleprice   R-squared:                       0.740\n",
       "Model:                            OLS   Adj. R-squared:                  0.738\n",
       "Method:                 Least Squares   F-statistic:                     292.3\n",
       "Date:                Tue, 25 Jun 2019   Prob (F-statistic):          3.02e-263\n",
       "Time:                        06:48:50   Log-Likelihood:                -11192.\n",
       "No. Observations:                 934   AIC:                         2.240e+04\n",
       "Df Residuals:                     924   BIC:                         2.245e+04\n",
       "Df Model:                           9                                         \n",
       "Covariance Type:            nonrobust                                         \n",
       "=====================================================================================\n",
       "                        coef    std err          t      P>|t|      [0.025      0.975]\n",
       "-------------------------------------------------------------------------------------\n",
       "const              2.299e+04   6063.517      3.792      0.000    1.11e+04    3.49e+04\n",
       "awesome_kitchen     3.08e+04   3040.868     10.128      0.000    2.48e+04    3.68e+04\n",
       "total_sf             39.5935      1.943     20.377      0.000      35.780      43.407\n",
       "paved_driveway_Y   1.309e+04   5123.790      2.555      0.011    3034.454    2.31e+04\n",
       "attached_garage     1.68e+04   3200.580      5.250      0.000    1.05e+04    2.31e+04\n",
       "garagetype_2Types -7.565e+04   1.79e+04     -4.219      0.000   -1.11e+05   -4.05e+04\n",
       "car_garage_3       6.511e+04   4446.105     14.645      0.000    5.64e+04    7.38e+04\n",
       "garagefinish_Fin   1.666e+04   3249.587      5.127      0.000    1.03e+04     2.3e+04\n",
       "yard_sf               0.4606      0.115      3.997      0.000       0.234       0.687\n",
       "landcontour_HLS     2.76e+04   6790.425      4.065      0.000    1.43e+04    4.09e+04\n",
       "==============================================================================\n",
       "Omnibus:                      417.096   Durbin-Watson:                   1.891\n",
       "Prob(Omnibus):                  0.000   Jarque-Bera (JB):            22245.362\n",
       "Skew:                          -1.244   Prob(JB):                         0.00\n",
       "Kurtosis:                      26.779   Cond. No.                     2.16e+05\n",
       "==============================================================================\n",
       "\n",
       "Warnings:\n",
       "[1] Standard Errors assume that the covariance matrix of the errors is correctly specified.\n",
       "[2] The condition number is large, 2.16e+05. This might indicate that there are\n",
       "strong multicollinearity or other numerical problems.\n",
       "\"\"\""
      ]
     },
     "execution_count": 25,
     "metadata": {},
     "output_type": "execute_result"
    }
   ],
   "source": [
    "features = house_prices_df[[\n",
    "                    'awesome_kitchen', \n",
    "                    'total_sf', \n",
    "                    'paved_driveway_Y',\n",
    "                    'attached_garage', \n",
    "                    'garagetype_2Types', \n",
    "                    'car_garage_3', \n",
    "                    'garagefinish_Fin', \n",
    "                    'yard_sf', \n",
    "                    'landcontour_HLS'\n",
    "                    ]\n",
    "                   ]\n",
    "Y = house_prices_df['saleprice']\n",
    "X = features\n",
    "\n",
    "X_train, X_test, Y_train, Y_test = train_test_split(X, Y, test_size = 0.2, random_state = 465)\n",
    "\n",
    "X_train, X_val, Y_train, Y_val = train_test_split(X_train, Y_train, test_size = 0.2, random_state = 465)\n",
    "\n",
    "X_train = sm.add_constant(X_train)\n",
    "\n",
    "results = sm.OLS(Y_train, X_train).fit()\n",
    "\n",
    "print('The number of observations in training: {}'.format(len(X_train)))\n",
    "print('The number of observations in validation: {}'.format(len(X_val)))\n",
    "print('The number of observations in test: {}'.format(len(X_test)))\n",
    "results.summary()"
   ]
  },
  {
   "cell_type": "code",
   "execution_count": 26,
   "metadata": {},
   "outputs": [
    {
     "data": {
      "image/png": "[encoded data removed]",
      "text/plain": [
       "<Figure size 432x288 with 1 Axes>"
      ]
     },
     "metadata": {
      "needs_background": "light"
     },
     "output_type": "display_data"
    },
    {
     "name": "stdout",
     "output_type": "stream",
     "text": [
      "Mean absolute error of the prediction is:  26080.72076412564\n",
      "Mean squared error of the prediction is:  1766540020.1281803\n",
      "Root mean squared error of the prediction is:  42030.22745748802\n",
      "Mean absolute percentage error of the prediction is:  15.173053720260937\n"
     ]
    }
   ],
   "source": [
    "X_val = sm.add_constant(X_val)\n",
    "Y_val_pred = results.predict(X_val)\n",
    "\n",
    "plt.scatter(Y_val, Y_val_pred)\n",
    "plt.plot(Y_val, Y_val, color='red')\n",
    "plt.xlabel('Test Values')\n",
    "plt.ylabel('Predicted Values')\n",
    "plt.title('True and Predicted Values of Sales Price')\n",
    "plt.show()\n",
    "\n",
    "mae = mean_absolute_error(Y_val, Y_val_pred)\n",
    "mean_sq_err = mse(Y_val, Y_val_pred)\n",
    "root_mse = rmse(Y_val, Y_val_pred)\n",
    "ma_perc_err = np.mean(np.abs((Y_val - Y_val_pred) / Y_val)) *100\n",
    "\n",
    "print('Mean absolute error of the prediction is: ', mae)\n",
    "print('Mean squared error of the prediction is: ', mean_sq_err)\n",
    "print('Root mean squared error of the prediction is: ', root_mse)\n",
    "print('Mean absolute percentage error of the prediction is: ', ma_perc_err)"
   ]
  },
  {
   "cell_type": "markdown",
   "metadata": {},
   "source": [
    "The model seems to do a really good job of predicting home values at the lower end of the market, but pretty poorly on the high end. There are fewer homes in the 400,000 dollar plus market which are outliers based on the boxplot above and what we know about the skewedness of the sale price variable. To try and assist with the upper end of the predictions we can add some features that will focus on the sales price in that range."
   ]
  },
  {
   "cell_type": "code",
   "execution_count": 46,
   "metadata": {},
   "outputs": [
    {
     "data": {
      "image/png": "[encoded data removed]",
      "text/plain": [
       "<Figure size 432x288 with 1 Axes>"
      ]
     },
     "metadata": {
      "needs_background": "light"
     },
     "output_type": "display_data"
    },
    {
     "name": "stdout",
     "output_type": "stream",
     "text": [
      "0    1317\n",
      "1     143\n",
      "Name: pricey_neighborhoods, dtype: int64\n",
      "pricey_neighborhoods\n",
      "0   165742.236\n",
      "1   320716.231\n",
      "Name: saleprice, dtype: float64\n",
      "pricey_neighborhoods\n",
      "0   0.414\n",
      "1   0.986\n",
      "Name: awesome_kitchen, dtype: float64\n"
     ]
    }
   ],
   "source": [
    "plt.bar(house_prices_df.groupby('neighborhood')['saleprice'].mean().index, \n",
    "        house_prices_df.groupby('neighborhood')['saleprice'].mean())\n",
    "plt.xticks(rotation=90)\n",
    "plt.show()\n",
    "\n",
    "house_prices_df['pricey_neighborhoods'] = 9999\n",
    "house_prices_df.loc[(house_prices_df.neighborhood == 'NoRidge') | \n",
    "                    (house_prices_df.neighborhood == 'NridgHt') | \n",
    "                    (house_prices_df.neighborhood == 'StoneBr'), \n",
    "                    ['pricey_neighborhoods']] = 1\n",
    "house_prices_df.loc[(house_prices_df.neighborhood != 'NoRidge') & \n",
    "                    (house_prices_df.neighborhood != 'NridgHt') & \n",
    "                    (house_prices_df.neighborhood != 'StoneBr'), \n",
    "                    ['pricey_neighborhoods']] = 0   \n",
    "\n",
    "print(house_prices_df.pricey_neighborhoods.value_counts())\n",
    "print(house_prices_df.groupby('pricey_neighborhoods')['saleprice'].mean())\n",
    "print(house_prices_df.groupby('pricey_neighborhoods')['awesome_kitchen'].mean())"
   ]
  },
  {
   "cell_type": "markdown",
   "metadata": {},
   "source": [
    "Let's re-run the model with just the designation of 'pricey_neighborhood'. If that does not boost the upper end predictions then we can be more targetted with the feature and include a square footage interaction to really train the homes at the upper end of the market."
   ]
  },
  {
   "cell_type": "code",
   "execution_count": 47,
   "metadata": {},
   "outputs": [
    {
     "name": "stdout",
     "output_type": "stream",
     "text": [
      "The number of observations in training: 934\n",
      "The number of observations in validation: 234\n",
      "The number of observations in test: 292\n"
     ]
    },
    {
     "data": {
      "text/html": [
       "<table class=\"simpletable\">\n",
       "<caption>OLS Regression Results</caption>\n",
       "<tr>\n",
       "  <th>Dep. Variable:</th>        <td>saleprice</td>    <th>  R-squared:         </th> <td>   0.777</td> \n",
       "</tr>\n",
       "<tr>\n",
       "  <th>Model:</th>                   <td>OLS</td>       <th>  Adj. R-squared:    </th> <td>   0.775</td> \n",
       "</tr>\n",
       "<tr>\n",
       "  <th>Method:</th>             <td>Least Squares</td>  <th>  F-statistic:       </th> <td>   322.1</td> \n",
       "</tr>\n",
       "<tr>\n",
       "  <th>Date:</th>             <td>Tue, 25 Jun 2019</td> <th>  Prob (F-statistic):</th> <td>6.85e-293</td>\n",
       "</tr>\n",
       "<tr>\n",
       "  <th>Time:</th>                 <td>15:39:21</td>     <th>  Log-Likelihood:    </th> <td> -11119.</td> \n",
       "</tr>\n",
       "<tr>\n",
       "  <th>No. Observations:</th>      <td>   934</td>      <th>  AIC:               </th> <td>2.226e+04</td>\n",
       "</tr>\n",
       "<tr>\n",
       "  <th>Df Residuals:</th>          <td>   923</td>      <th>  BIC:               </th> <td>2.231e+04</td>\n",
       "</tr>\n",
       "<tr>\n",
       "  <th>Df Model:</th>              <td>    10</td>      <th>                     </th>     <td> </td>    \n",
       "</tr>\n",
       "<tr>\n",
       "  <th>Covariance Type:</th>      <td>nonrobust</td>    <th>                     </th>     <td> </td>    \n",
       "</tr>\n",
       "</table>\n",
       "<table class=\"simpletable\">\n",
       "<tr>\n",
       "            <td></td>              <th>coef</th>     <th>std err</th>      <th>t</th>      <th>P>|t|</th>  <th>[0.025</th>    <th>0.975]</th>  \n",
       "</tr>\n",
       "<tr>\n",
       "  <th>const</th>                <td> 3.301e+04</td> <td> 5673.249</td> <td>    5.818</td> <td> 0.000</td> <td> 2.19e+04</td> <td> 4.41e+04</td>\n",
       "</tr>\n",
       "<tr>\n",
       "  <th>awesome_kitchen</th>      <td> 2.671e+04</td> <td> 2835.416</td> <td>    9.421</td> <td> 0.000</td> <td> 2.11e+04</td> <td> 3.23e+04</td>\n",
       "</tr>\n",
       "<tr>\n",
       "  <th>total_sf</th>             <td>   34.9425</td> <td>    1.838</td> <td>   19.010</td> <td> 0.000</td> <td>   31.335</td> <td>   38.550</td>\n",
       "</tr>\n",
       "<tr>\n",
       "  <th>paved_driveway_Y</th>     <td> 1.346e+04</td> <td> 4745.445</td> <td>    2.836</td> <td> 0.005</td> <td> 4143.474</td> <td> 2.28e+04</td>\n",
       "</tr>\n",
       "<tr>\n",
       "  <th>attached_garage</th>      <td> 1.492e+04</td> <td> 2968.050</td> <td>    5.028</td> <td> 0.000</td> <td> 9097.737</td> <td> 2.07e+04</td>\n",
       "</tr>\n",
       "<tr>\n",
       "  <th>garagetype_2Types</th>    <td>-5.804e+04</td> <td> 1.67e+04</td> <td>   -3.483</td> <td> 0.001</td> <td>-9.07e+04</td> <td>-2.53e+04</td>\n",
       "</tr>\n",
       "<tr>\n",
       "  <th>car_garage_3</th>         <td> 4.596e+04</td> <td> 4397.004</td> <td>   10.453</td> <td> 0.000</td> <td> 3.73e+04</td> <td> 5.46e+04</td>\n",
       "</tr>\n",
       "<tr>\n",
       "  <th>garagefinish_Fin</th>     <td> 1.705e+04</td> <td> 3009.737</td> <td>    5.664</td> <td> 0.000</td> <td> 1.11e+04</td> <td>  2.3e+04</td>\n",
       "</tr>\n",
       "<tr>\n",
       "  <th>yard_sf</th>              <td>    0.5625</td> <td>    0.107</td> <td>    5.255</td> <td> 0.000</td> <td>    0.352</td> <td>    0.773</td>\n",
       "</tr>\n",
       "<tr>\n",
       "  <th>landcontour_HLS</th>      <td> 2.861e+04</td> <td> 6289.420</td> <td>    4.549</td> <td> 0.000</td> <td> 1.63e+04</td> <td>  4.1e+04</td>\n",
       "</tr>\n",
       "<tr>\n",
       "  <th>pricey_neighborhoods</th> <td> 5.845e+04</td> <td> 4706.352</td> <td>   12.420</td> <td> 0.000</td> <td> 4.92e+04</td> <td> 6.77e+04</td>\n",
       "</tr>\n",
       "</table>\n",
       "<table class=\"simpletable\">\n",
       "<tr>\n",
       "  <th>Omnibus:</th>       <td>362.520</td> <th>  Durbin-Watson:     </th> <td>   1.969</td> \n",
       "</tr>\n",
       "<tr>\n",
       "  <th>Prob(Omnibus):</th> <td> 0.000</td>  <th>  Jarque-Bera (JB):  </th> <td>16747.563</td>\n",
       "</tr>\n",
       "<tr>\n",
       "  <th>Skew:</th>          <td>-1.009</td>  <th>  Prob(JB):          </th> <td>    0.00</td> \n",
       "</tr>\n",
       "<tr>\n",
       "  <th>Kurtosis:</th>      <td>23.646</td>  <th>  Cond. No.          </th> <td>2.17e+05</td> \n",
       "</tr>\n",
       "</table><br/><br/>Warnings:<br/>[1] Standard Errors assume that the covariance matrix of the errors is correctly specified.<br/>[2] The condition number is large, 2.17e+05. This might indicate that there are<br/>strong multicollinearity or other numerical problems."
      ],
      "text/plain": [
       "<class 'statsmodels.iolib.summary.Summary'>\n",
       "\"\"\"\n",
       "                            OLS Regression Results                            \n",
       "==============================================================================\n",
       "Dep. Variable:              saleprice   R-squared:                       0.777\n",
       "Model:                            OLS   Adj. R-squared:                  0.775\n",
       "Method:                 Least Squares   F-statistic:                     322.1\n",
       "Date:                Tue, 25 Jun 2019   Prob (F-statistic):          6.85e-293\n",
       "Time:                        15:39:21   Log-Likelihood:                -11119.\n",
       "No. Observations:                 934   AIC:                         2.226e+04\n",
       "Df Residuals:                     923   BIC:                         2.231e+04\n",
       "Df Model:                          10                                         \n",
       "Covariance Type:            nonrobust                                         \n",
       "========================================================================================\n",
       "                           coef    std err          t      P>|t|      [0.025      0.975]\n",
       "----------------------------------------------------------------------------------------\n",
       "const                 3.301e+04   5673.249      5.818      0.000    2.19e+04    4.41e+04\n",
       "awesome_kitchen       2.671e+04   2835.416      9.421      0.000    2.11e+04    3.23e+04\n",
       "total_sf                34.9425      1.838     19.010      0.000      31.335      38.550\n",
       "paved_driveway_Y      1.346e+04   4745.445      2.836      0.005    4143.474    2.28e+04\n",
       "attached_garage       1.492e+04   2968.050      5.028      0.000    9097.737    2.07e+04\n",
       "garagetype_2Types    -5.804e+04   1.67e+04     -3.483      0.001   -9.07e+04   -2.53e+04\n",
       "car_garage_3          4.596e+04   4397.004     10.453      0.000    3.73e+04    5.46e+04\n",
       "garagefinish_Fin      1.705e+04   3009.737      5.664      0.000    1.11e+04     2.3e+04\n",
       "yard_sf                  0.5625      0.107      5.255      0.000       0.352       0.773\n",
       "landcontour_HLS       2.861e+04   6289.420      4.549      0.000    1.63e+04     4.1e+04\n",
       "pricey_neighborhoods  5.845e+04   4706.352     12.420      0.000    4.92e+04    6.77e+04\n",
       "==============================================================================\n",
       "Omnibus:                      362.520   Durbin-Watson:                   1.969\n",
       "Prob(Omnibus):                  0.000   Jarque-Bera (JB):            16747.563\n",
       "Skew:                          -1.009   Prob(JB):                         0.00\n",
       "Kurtosis:                      23.646   Cond. No.                     2.17e+05\n",
       "==============================================================================\n",
       "\n",
       "Warnings:\n",
       "[1] Standard Errors assume that the covariance matrix of the errors is correctly specified.\n",
       "[2] The condition number is large, 2.17e+05. This might indicate that there are\n",
       "strong multicollinearity or other numerical problems.\n",
       "\"\"\""
      ]
     },
     "execution_count": 47,
     "metadata": {},
     "output_type": "execute_result"
    }
   ],
   "source": [
    "features = house_prices_df[[\n",
    "                    'awesome_kitchen', \n",
    "                    'total_sf', \n",
    "                    'paved_driveway_Y',\n",
    "                    'attached_garage', \n",
    "                    'garagetype_2Types', \n",
    "                    'car_garage_3', \n",
    "                    'garagefinish_Fin', \n",
    "                    'yard_sf', \n",
    "                    'landcontour_HLS', \n",
    "                    'pricey_neighborhoods'\n",
    "                    ]\n",
    "                   ]\n",
    "Y = house_prices_df['saleprice']\n",
    "X = features\n",
    "\n",
    "X_train, X_test, Y_train, Y_test = train_test_split(X, Y, test_size = 0.2, random_state = 465)\n",
    "\n",
    "X_train, X_val, Y_train, Y_val = train_test_split(X_train, Y_train, test_size = 0.2, random_state = 465)\n",
    "\n",
    "X_train = sm.add_constant(X_train)\n",
    "\n",
    "results = sm.OLS(Y_train, X_train).fit()\n",
    "\n",
    "print('The number of observations in training: {}'.format(len(X_train)))\n",
    "print('The number of observations in validation: {}'.format(len(X_val)))\n",
    "print('The number of observations in test: {}'.format(len(X_test)))\n",
    "results.summary()"
   ]
  },
  {
   "cell_type": "markdown",
   "metadata": {},
   "source": [
    "So far so good. All of our important metrics have moved in the right direction (R-squared, AIC/BIC, and coefficients). The pricey_neighborhoods feature has a strong impact on the sale price of the home. Lets run the model on the validation set and check our predictions against the subset of data."
   ]
  },
  {
   "cell_type": "code",
   "execution_count": 48,
   "metadata": {},
   "outputs": [
    {
     "data": {
      "image/png": "[encoded data removed]",
      "text/plain": [
       "<Figure size 432x288 with 1 Axes>"
      ]
     },
     "metadata": {
      "needs_background": "light"
     },
     "output_type": "display_data"
    },
    {
     "name": "stdout",
     "output_type": "stream",
     "text": [
      "Mean absolute error of the prediction is:  25930.767872439286\n",
      "Mean squared error of the prediction is:  1671942779.1255517\n",
      "Root mean squared error of the prediction is:  40889.39690342169\n",
      "Mean absolute percentage error of the prediction is:  15.094903010616036\n"
     ]
    }
   ],
   "source": [
    "X_val = sm.add_constant(X_val)\n",
    "Y_val_pred = results.predict(X_val)\n",
    "\n",
    "plt.scatter(Y_val, Y_val_pred)\n",
    "plt.plot(Y_val, Y_val, color='red')\n",
    "plt.xlabel('Test Values')\n",
    "plt.ylabel('Predicted Values')\n",
    "plt.title('True and Predicted Values of Sales Price')\n",
    "plt.show()\n",
    "\n",
    "mae = mean_absolute_error(Y_val, Y_val_pred)\n",
    "mean_sq_err = mse(Y_val, Y_val_pred)\n",
    "root_mse = rmse(Y_val, Y_val_pred)\n",
    "ma_perc_err = np.mean(np.abs((Y_val - Y_val_pred) / Y_val)) *100\n",
    "\n",
    "print('Mean absolute error of the prediction is: ', mae)\n",
    "print('Mean squared error of the prediction is: ', mean_sq_err)\n",
    "print('Root mean squared error of the prediction is: ', root_mse)\n",
    "print('Mean absolute percentage error of the prediction is: ', ma_perc_err)"
   ]
  },
  {
   "cell_type": "markdown",
   "metadata": {},
   "source": [
    "After adding the new feature we have decreased all of the relevant statistics and brought some of the data around the $400000 mark closer to the prediction line. Let's really single out the upper end of the market and put a square footage cutoff into those neighborhoods to see if we can predict that end of the model better."
   ]
  },
  {
   "cell_type": "code",
   "execution_count": 54,
   "metadata": {},
   "outputs": [
    {
     "data": {
      "text/plain": [
       "0    1425\n",
       "1      35\n",
       "Name: pricey_hood_grt4000, dtype: int64"
      ]
     },
     "execution_count": 54,
     "metadata": {},
     "output_type": "execute_result"
    }
   ],
   "source": [
    "house_prices_df.groupby('pricey_neighborhoods').total_sf.describe()\n",
    "\n",
    "house_prices_df['pricey_hood_grt4000'] = 9999\n",
    "house_prices_df.loc[(house_prices_df.pricey_neighborhoods == 1) & \n",
    "       (house_prices_df.total_sf > 4000), \n",
    "       ['pricey_hood_grt4000']] = 1\n",
    "house_prices_df.loc[(house_prices_df.pricey_neighborhoods == 1) & \n",
    "       (house_prices_df.total_sf < 4000), \n",
    "       ['pricey_hood_grt4000']] = 0\n",
    "house_prices_df.loc[house_prices_df.pricey_neighborhoods == 0, \n",
    "       ['pricey_hood_grt4000']] = 0\n",
    "house_prices_df.pricey_hood_grt4000.value_counts()"
   ]
  },
  {
   "cell_type": "code",
   "execution_count": 55,
   "metadata": {},
   "outputs": [
    {
     "name": "stdout",
     "output_type": "stream",
     "text": [
      "The number of observations in training: 934\n",
      "The number of observations in validation: 234\n",
      "The number of observations in test: 292\n"
     ]
    },
    {
     "data": {
      "text/html": [
       "<table class=\"simpletable\">\n",
       "<caption>OLS Regression Results</caption>\n",
       "<tr>\n",
       "  <th>Dep. Variable:</th>        <td>saleprice</td>    <th>  R-squared:         </th> <td>   0.790</td> \n",
       "</tr>\n",
       "<tr>\n",
       "  <th>Model:</th>                   <td>OLS</td>       <th>  Adj. R-squared:    </th> <td>   0.787</td> \n",
       "</tr>\n",
       "<tr>\n",
       "  <th>Method:</th>             <td>Least Squares</td>  <th>  F-statistic:       </th> <td>   314.7</td> \n",
       "</tr>\n",
       "<tr>\n",
       "  <th>Date:</th>             <td>Tue, 25 Jun 2019</td> <th>  Prob (F-statistic):</th> <td>4.65e-303</td>\n",
       "</tr>\n",
       "<tr>\n",
       "  <th>Time:</th>                 <td>16:03:05</td>     <th>  Log-Likelihood:    </th> <td> -11093.</td> \n",
       "</tr>\n",
       "<tr>\n",
       "  <th>No. Observations:</th>      <td>   934</td>      <th>  AIC:               </th> <td>2.221e+04</td>\n",
       "</tr>\n",
       "<tr>\n",
       "  <th>Df Residuals:</th>          <td>   922</td>      <th>  BIC:               </th> <td>2.227e+04</td>\n",
       "</tr>\n",
       "<tr>\n",
       "  <th>Df Model:</th>              <td>    11</td>      <th>                     </th>     <td> </td>    \n",
       "</tr>\n",
       "<tr>\n",
       "  <th>Covariance Type:</th>      <td>nonrobust</td>    <th>                     </th>     <td> </td>    \n",
       "</tr>\n",
       "</table>\n",
       "<table class=\"simpletable\">\n",
       "<tr>\n",
       "            <td></td>              <th>coef</th>     <th>std err</th>      <th>t</th>      <th>P>|t|</th>  <th>[0.025</th>    <th>0.975]</th>  \n",
       "</tr>\n",
       "<tr>\n",
       "  <th>const</th>                <td> 3.805e+04</td> <td> 5558.320</td> <td>    6.845</td> <td> 0.000</td> <td> 2.71e+04</td> <td>  4.9e+04</td>\n",
       "</tr>\n",
       "<tr>\n",
       "  <th>awesome_kitchen</th>      <td> 2.809e+04</td> <td> 2763.178</td> <td>   10.165</td> <td> 0.000</td> <td> 2.27e+04</td> <td> 3.35e+04</td>\n",
       "</tr>\n",
       "<tr>\n",
       "  <th>total_sf</th>             <td>   32.4488</td> <td>    1.819</td> <td>   17.839</td> <td> 0.000</td> <td>   28.879</td> <td>   36.019</td>\n",
       "</tr>\n",
       "<tr>\n",
       "  <th>paved_driveway_Y</th>     <td> 1.368e+04</td> <td> 4614.104</td> <td>    2.964</td> <td> 0.003</td> <td> 4620.749</td> <td> 2.27e+04</td>\n",
       "</tr>\n",
       "<tr>\n",
       "  <th>attached_garage</th>      <td> 1.622e+04</td> <td> 2891.218</td> <td>    5.611</td> <td> 0.000</td> <td> 1.05e+04</td> <td> 2.19e+04</td>\n",
       "</tr>\n",
       "<tr>\n",
       "  <th>garagetype_2Types</th>    <td> -5.23e+04</td> <td> 1.62e+04</td> <td>   -3.224</td> <td> 0.001</td> <td>-8.41e+04</td> <td>-2.05e+04</td>\n",
       "</tr>\n",
       "<tr>\n",
       "  <th>car_garage_3</th>         <td> 4.237e+04</td> <td> 4302.861</td> <td>    9.847</td> <td> 0.000</td> <td> 3.39e+04</td> <td> 5.08e+04</td>\n",
       "</tr>\n",
       "<tr>\n",
       "  <th>garagefinish_Fin</th>     <td> 1.638e+04</td> <td> 2927.773</td> <td>    5.594</td> <td> 0.000</td> <td> 1.06e+04</td> <td> 2.21e+04</td>\n",
       "</tr>\n",
       "<tr>\n",
       "  <th>yard_sf</th>              <td>    0.5585</td> <td>    0.104</td> <td>    5.366</td> <td> 0.000</td> <td>    0.354</td> <td>    0.763</td>\n",
       "</tr>\n",
       "<tr>\n",
       "  <th>landcontour_HLS</th>      <td>  2.85e+04</td> <td> 6115.238</td> <td>    4.660</td> <td> 0.000</td> <td> 1.65e+04</td> <td> 4.05e+04</td>\n",
       "</tr>\n",
       "<tr>\n",
       "  <th>pricey_neighborhoods</th> <td> 4.682e+04</td> <td> 4840.255</td> <td>    9.674</td> <td> 0.000</td> <td> 3.73e+04</td> <td> 5.63e+04</td>\n",
       "</tr>\n",
       "<tr>\n",
       "  <th>pricey_hood_grt4000</th>  <td> 6.392e+04</td> <td> 8671.355</td> <td>    7.371</td> <td> 0.000</td> <td> 4.69e+04</td> <td> 8.09e+04</td>\n",
       "</tr>\n",
       "</table>\n",
       "<table class=\"simpletable\">\n",
       "<tr>\n",
       "  <th>Omnibus:</th>       <td>351.886</td> <th>  Durbin-Watson:     </th> <td>   1.959</td> \n",
       "</tr>\n",
       "<tr>\n",
       "  <th>Prob(Omnibus):</th> <td> 0.000</td>  <th>  Jarque-Bera (JB):  </th> <td>12847.863</td>\n",
       "</tr>\n",
       "<tr>\n",
       "  <th>Skew:</th>          <td>-1.027</td>  <th>  Prob(JB):          </th> <td>    0.00</td> \n",
       "</tr>\n",
       "<tr>\n",
       "  <th>Kurtosis:</th>      <td>21.053</td>  <th>  Cond. No.          </th> <td>2.17e+05</td> \n",
       "</tr>\n",
       "</table><br/><br/>Warnings:<br/>[1] Standard Errors assume that the covariance matrix of the errors is correctly specified.<br/>[2] The condition number is large, 2.17e+05. This might indicate that there are<br/>strong multicollinearity or other numerical problems."
      ],
      "text/plain": [
       "<class 'statsmodels.iolib.summary.Summary'>\n",
       "\"\"\"\n",
       "                            OLS Regression Results                            \n",
       "==============================================================================\n",
       "Dep. Variable:              saleprice   R-squared:                       0.790\n",
       "Model:                            OLS   Adj. R-squared:                  0.787\n",
       "Method:                 Least Squares   F-statistic:                     314.7\n",
       "Date:                Tue, 25 Jun 2019   Prob (F-statistic):          4.65e-303\n",
       "Time:                        16:03:05   Log-Likelihood:                -11093.\n",
       "No. Observations:                 934   AIC:                         2.221e+04\n",
       "Df Residuals:                     922   BIC:                         2.227e+04\n",
       "Df Model:                          11                                         \n",
       "Covariance Type:            nonrobust                                         \n",
       "========================================================================================\n",
       "                           coef    std err          t      P>|t|      [0.025      0.975]\n",
       "----------------------------------------------------------------------------------------\n",
       "const                 3.805e+04   5558.320      6.845      0.000    2.71e+04     4.9e+04\n",
       "awesome_kitchen       2.809e+04   2763.178     10.165      0.000    2.27e+04    3.35e+04\n",
       "total_sf                32.4488      1.819     17.839      0.000      28.879      36.019\n",
       "paved_driveway_Y      1.368e+04   4614.104      2.964      0.003    4620.749    2.27e+04\n",
       "attached_garage       1.622e+04   2891.218      5.611      0.000    1.05e+04    2.19e+04\n",
       "garagetype_2Types     -5.23e+04   1.62e+04     -3.224      0.001   -8.41e+04   -2.05e+04\n",
       "car_garage_3          4.237e+04   4302.861      9.847      0.000    3.39e+04    5.08e+04\n",
       "garagefinish_Fin      1.638e+04   2927.773      5.594      0.000    1.06e+04    2.21e+04\n",
       "yard_sf                  0.5585      0.104      5.366      0.000       0.354       0.763\n",
       "landcontour_HLS        2.85e+04   6115.238      4.660      0.000    1.65e+04    4.05e+04\n",
       "pricey_neighborhoods  4.682e+04   4840.255      9.674      0.000    3.73e+04    5.63e+04\n",
       "pricey_hood_grt4000   6.392e+04   8671.355      7.371      0.000    4.69e+04    8.09e+04\n",
       "==============================================================================\n",
       "Omnibus:                      351.886   Durbin-Watson:                   1.959\n",
       "Prob(Omnibus):                  0.000   Jarque-Bera (JB):            12847.863\n",
       "Skew:                          -1.027   Prob(JB):                         0.00\n",
       "Kurtosis:                      21.053   Cond. No.                     2.17e+05\n",
       "==============================================================================\n",
       "\n",
       "Warnings:\n",
       "[1] Standard Errors assume that the covariance matrix of the errors is correctly specified.\n",
       "[2] The condition number is large, 2.17e+05. This might indicate that there are\n",
       "strong multicollinearity or other numerical problems.\n",
       "\"\"\""
      ]
     },
     "execution_count": 55,
     "metadata": {},
     "output_type": "execute_result"
    }
   ],
   "source": [
    "features = house_prices_df[[\n",
    "                    'awesome_kitchen', \n",
    "                    'total_sf', \n",
    "                    'paved_driveway_Y',\n",
    "                    'attached_garage', \n",
    "                    'garagetype_2Types', \n",
    "                    'car_garage_3', \n",
    "                    'garagefinish_Fin', \n",
    "                    'yard_sf', \n",
    "                    'landcontour_HLS', \n",
    "                    'pricey_neighborhoods', \n",
    "                    'pricey_hood_grt4000'\n",
    "                    ]\n",
    "                   ]\n",
    "Y = house_prices_df['saleprice']\n",
    "X = features\n",
    "\n",
    "X_train, X_test, Y_train, Y_test = train_test_split(X, Y, test_size = 0.2, random_state = 465)\n",
    "\n",
    "X_train, X_val, Y_train, Y_val = train_test_split(X_train, Y_train, test_size = 0.2, random_state = 465)\n",
    "\n",
    "X_train = sm.add_constant(X_train)\n",
    "\n",
    "results = sm.OLS(Y_train, X_train).fit()\n",
    "\n",
    "print('The number of observations in training: {}'.format(len(X_train)))\n",
    "print('The number of observations in validation: {}'.format(len(X_val)))\n",
    "print('The number of observations in test: {}'.format(len(X_test)))\n",
    "results.summary()"
   ]
  },
  {
   "cell_type": "code",
   "execution_count": 56,
   "metadata": {},
   "outputs": [
    {
     "data": {
      "image/png": "[encoded data removed]",
      "text/plain": [
       "<Figure size 432x288 with 1 Axes>"
      ]
     },
     "metadata": {
      "needs_background": "light"
     },
     "output_type": "display_data"
    },
    {
     "name": "stdout",
     "output_type": "stream",
     "text": [
      "Mean absolute error of the prediction is:  24729.58158078221\n",
      "Mean squared error of the prediction is:  1427482888.9505513\n",
      "Root mean squared error of the prediction is:  37782.044531106985\n",
      "Mean absolute percentage error of the prediction is:  14.872179914208902\n"
     ]
    }
   ],
   "source": [
    "X_val = sm.add_constant(X_val)\n",
    "Y_val_pred = results.predict(X_val)\n",
    "\n",
    "plt.scatter(Y_val, Y_val_pred)\n",
    "plt.plot(Y_val, Y_val, color='red')\n",
    "plt.xlabel('Test Values')\n",
    "plt.ylabel('Predicted Values')\n",
    "plt.title('True and Predicted Values of Sales Price')\n",
    "plt.show()\n",
    "\n",
    "mae = mean_absolute_error(Y_val, Y_val_pred)\n",
    "mean_sq_err = mse(Y_val, Y_val_pred)\n",
    "root_mse = rmse(Y_val, Y_val_pred)\n",
    "ma_perc_err = np.mean(np.abs((Y_val - Y_val_pred) / Y_val)) *100\n",
    "\n",
    "print('Mean absolute error of the prediction is: ', mae)\n",
    "print('Mean squared error of the prediction is: ', mean_sq_err)\n",
    "print('Root mean squared error of the prediction is: ', root_mse)\n",
    "print('Mean absolute percentage error of the prediction is: ', ma_perc_err)"
   ]
  },
  {
   "cell_type": "markdown",
   "metadata": {},
   "source": [
    "Now we have made a more substantial jump in our prediction parameters. RMSE has gone from 42,030 to 37,782, and the rest of the evaluation metrics have come down as well. By introducing two new variables that are closely related to one another, I could have introduced some multicollinearity into the model, but for this exercise I am more focused on the prediction capabilities of the model and less so on the features of importance to the sale prices.\n",
    "\n",
    "For this last model, all of the model evaluation metrics are superior to the older models as well. So far I think this is the best model in all of the iterations that have been done from my perspective."
   ]
  }
 ],
 "metadata": {
  "kernelspec": {
   "display_name": "Python 3",
   "language": "python",
   "name": "python3"
  },
  "language_info": {
   "codemirror_mode": {
    "name": "ipython",
    "version": 3
   },
   "file_extension": ".py",
   "mimetype": "text/x-python",
   "name": "python",
   "nbconvert_exporter": "python",
   "pygments_lexer": "ipython3",
   "version": "3.7.1"
  }
 },
 "nbformat": 4,
 "nbformat_minor": 2
}

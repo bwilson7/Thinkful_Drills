{
 "cells": [
  {
   "cell_type": "code",
   "execution_count": 55,
   "metadata": {},
   "outputs": [],
   "source": [
    "import matplotlib.pyplot as plt\n",
    "import numpy as np\n",
    "import pandas as pd\n",
    "import seaborn as sns\n",
    "from sklearn import ensemble, tree\n",
    "from sklearn.model_selection import train_test_split, cross_val_score\n",
    "from sklearn.preprocessing import StandardScaler\n",
    "from skopt import BayesSearchCV\n",
    "from skopt.space import Real, Integer, Categorical\n",
    "from statsmodels.tools.eval_measures import rmse\n",
    "import re\n",
    "\n",
    "%matplotlib inline"
   ]
  },
  {
   "cell_type": "code",
   "execution_count": 49,
   "metadata": {},
   "outputs": [],
   "source": [
    "sns.set(style='white', rc={'figure.figsize':(12,6)})"
   ]
  },
  {
   "cell_type": "markdown",
   "metadata": {},
   "source": [
    "# Previously Cleaned/Engineered Data"
   ]
  },
  {
   "cell_type": "code",
   "execution_count": 3,
   "metadata": {},
   "outputs": [
    {
     "data": {
      "text/html": [
       "<div>\n",
       "<style scoped>\n",
       "    .dataframe tbody tr th:only-of-type {\n",
       "        vertical-align: middle;\n",
       "    }\n",
       "\n",
       "    .dataframe tbody tr th {\n",
       "        vertical-align: top;\n",
       "    }\n",
       "\n",
       "    .dataframe thead th {\n",
       "        text-align: right;\n",
       "    }\n",
       "</style>\n",
       "<table border=\"1\" class=\"dataframe\">\n",
       "  <thead>\n",
       "    <tr style=\"text-align: right;\">\n",
       "      <th></th>\n",
       "      <th>city</th>\n",
       "      <th>price</th>\n",
       "      <th>year</th>\n",
       "      <th>manufacturer</th>\n",
       "      <th>make</th>\n",
       "      <th>condition</th>\n",
       "      <th>cylinders</th>\n",
       "      <th>fuel</th>\n",
       "      <th>odometer</th>\n",
       "      <th>title_status</th>\n",
       "      <th>...</th>\n",
       "      <th>pricey_state</th>\n",
       "      <th>is_auto_fwd</th>\n",
       "      <th>is_new</th>\n",
       "      <th>f250_pricey_state</th>\n",
       "      <th>stang_pricey_state</th>\n",
       "      <th>pricey_model</th>\n",
       "      <th>car_size_compact</th>\n",
       "      <th>car_size_full-size</th>\n",
       "      <th>car_size_mid-size</th>\n",
       "      <th>car_size_sub-compact</th>\n",
       "    </tr>\n",
       "  </thead>\n",
       "  <tbody>\n",
       "    <tr>\n",
       "      <th>0</th>\n",
       "      <td>marshall</td>\n",
       "      <td>11900</td>\n",
       "      <td>2010.0</td>\n",
       "      <td>dodge</td>\n",
       "      <td>challengerse</td>\n",
       "      <td>good</td>\n",
       "      <td>6 cylinders</td>\n",
       "      <td>gas</td>\n",
       "      <td>43600.0</td>\n",
       "      <td>clean</td>\n",
       "      <td>...</td>\n",
       "      <td>0</td>\n",
       "      <td>0</td>\n",
       "      <td>0</td>\n",
       "      <td>0</td>\n",
       "      <td>0</td>\n",
       "      <td>0</td>\n",
       "      <td>0</td>\n",
       "      <td>0</td>\n",
       "      <td>0</td>\n",
       "      <td>0</td>\n",
       "    </tr>\n",
       "    <tr>\n",
       "      <th>1</th>\n",
       "      <td>marshall</td>\n",
       "      <td>2800</td>\n",
       "      <td>2004.0</td>\n",
       "      <td>ford</td>\n",
       "      <td>taurus</td>\n",
       "      <td>good</td>\n",
       "      <td>6 cylinders</td>\n",
       "      <td>gas</td>\n",
       "      <td>168591.0</td>\n",
       "      <td>clean</td>\n",
       "      <td>...</td>\n",
       "      <td>0</td>\n",
       "      <td>1</td>\n",
       "      <td>0</td>\n",
       "      <td>0</td>\n",
       "      <td>0</td>\n",
       "      <td>0</td>\n",
       "      <td>0</td>\n",
       "      <td>1</td>\n",
       "      <td>0</td>\n",
       "      <td>0</td>\n",
       "    </tr>\n",
       "    <tr>\n",
       "      <th>2</th>\n",
       "      <td>marshall</td>\n",
       "      <td>400</td>\n",
       "      <td>2001.0</td>\n",
       "      <td>NaN</td>\n",
       "      <td>2001grandprix</td>\n",
       "      <td>NaN</td>\n",
       "      <td>NaN</td>\n",
       "      <td>gas</td>\n",
       "      <td>217000.0</td>\n",
       "      <td>clean</td>\n",
       "      <td>...</td>\n",
       "      <td>0</td>\n",
       "      <td>0</td>\n",
       "      <td>0</td>\n",
       "      <td>0</td>\n",
       "      <td>0</td>\n",
       "      <td>0</td>\n",
       "      <td>0</td>\n",
       "      <td>0</td>\n",
       "      <td>0</td>\n",
       "      <td>0</td>\n",
       "    </tr>\n",
       "    <tr>\n",
       "      <th>3</th>\n",
       "      <td>marshall</td>\n",
       "      <td>9900</td>\n",
       "      <td>2007.0</td>\n",
       "      <td>gmc</td>\n",
       "      <td>yukon</td>\n",
       "      <td>good</td>\n",
       "      <td>8 cylinders</td>\n",
       "      <td>gas</td>\n",
       "      <td>169000.0</td>\n",
       "      <td>clean</td>\n",
       "      <td>...</td>\n",
       "      <td>0</td>\n",
       "      <td>0</td>\n",
       "      <td>0</td>\n",
       "      <td>0</td>\n",
       "      <td>0</td>\n",
       "      <td>0</td>\n",
       "      <td>0</td>\n",
       "      <td>0</td>\n",
       "      <td>0</td>\n",
       "      <td>0</td>\n",
       "    </tr>\n",
       "    <tr>\n",
       "      <th>4</th>\n",
       "      <td>marshall</td>\n",
       "      <td>12500</td>\n",
       "      <td>2015.0</td>\n",
       "      <td>jeep</td>\n",
       "      <td>patriothighaltitude</td>\n",
       "      <td>like new</td>\n",
       "      <td>4 cylinders</td>\n",
       "      <td>gas</td>\n",
       "      <td>39500.0</td>\n",
       "      <td>rebuilt</td>\n",
       "      <td>...</td>\n",
       "      <td>0</td>\n",
       "      <td>0</td>\n",
       "      <td>0</td>\n",
       "      <td>0</td>\n",
       "      <td>0</td>\n",
       "      <td>0</td>\n",
       "      <td>0</td>\n",
       "      <td>0</td>\n",
       "      <td>0</td>\n",
       "      <td>1</td>\n",
       "    </tr>\n",
       "  </tbody>\n",
       "</table>\n",
       "<p>5 rows × 40 columns</p>\n",
       "</div>"
      ],
      "text/plain": [
       "       city  price    year manufacturer                 make condition  \\\n",
       "0  marshall  11900  2010.0        dodge         challengerse      good   \n",
       "1  marshall   2800  2004.0         ford               taurus      good   \n",
       "2  marshall    400  2001.0          NaN        2001grandprix       NaN   \n",
       "3  marshall   9900  2007.0          gmc                yukon      good   \n",
       "4  marshall  12500  2015.0         jeep  patriothighaltitude  like new   \n",
       "\n",
       "     cylinders fuel  odometer title_status         ...          pricey_state  \\\n",
       "0  6 cylinders  gas   43600.0        clean         ...                     0   \n",
       "1  6 cylinders  gas  168591.0        clean         ...                     0   \n",
       "2          NaN  gas  217000.0        clean         ...                     0   \n",
       "3  8 cylinders  gas  169000.0        clean         ...                     0   \n",
       "4  4 cylinders  gas   39500.0      rebuilt         ...                     0   \n",
       "\n",
       "  is_auto_fwd is_new f250_pricey_state stang_pricey_state pricey_model  \\\n",
       "0           0      0                 0                  0            0   \n",
       "1           1      0                 0                  0            0   \n",
       "2           0      0                 0                  0            0   \n",
       "3           0      0                 0                  0            0   \n",
       "4           0      0                 0                  0            0   \n",
       "\n",
       "   car_size_compact  car_size_full-size  car_size_mid-size  \\\n",
       "0                 0                   0                  0   \n",
       "1                 0                   1                  0   \n",
       "2                 0                   0                  0   \n",
       "3                 0                   0                  0   \n",
       "4                 0                   0                  0   \n",
       "\n",
       "  car_size_sub-compact  \n",
       "0                    0  \n",
       "1                    0  \n",
       "2                    0  \n",
       "3                    0  \n",
       "4                    1  \n",
       "\n",
       "[5 rows x 40 columns]"
      ]
     },
     "execution_count": 3,
     "metadata": {},
     "output_type": "execute_result"
    }
   ],
   "source": [
    "craig_clean = pd.read_csv('craig_clean_wfeatures.csv')\n",
    "craig_clean.head()"
   ]
  },
  {
   "cell_type": "markdown",
   "metadata": {},
   "source": [
    "# Features"
   ]
  },
  {
   "cell_type": "code",
   "execution_count": 9,
   "metadata": {},
   "outputs": [
    {
     "data": {
      "image/png": "[encoded data removed]",
      "text/plain": [
       "<Figure size 864x432 with 2 Axes>"
      ]
     },
     "metadata": {},
     "output_type": "display_data"
    }
   ],
   "source": [
    "model_df = craig_clean.loc[:,['price',\n",
    "                              'odometer',\n",
    "                              'vehicle_age',\n",
    "                              'is_supercar',\n",
    "                              'is_truck',\n",
    "                              'gross_color',\n",
    "                              'car_size_full-size',\n",
    "                              'is_auto_fwd',\n",
    "                              'is_new',\n",
    "                              'f250_pricey_state',\n",
    "                              'stang_pricey_state',\n",
    "                              'pricey_model',\n",
    "                              'pricey_state',\n",
    "                              'long'\n",
    "                             ]]\n",
    "#null_df = model_df.isnull().any() \n",
    "#print(null_df[null_df == True])\n",
    "model_df.dropna(inplace=True)\n",
    "sns.heatmap(model_df.corr(), cmap='bwr', center=0, vmax=0.4)\n",
    "plt.show()"
   ]
  },
  {
   "cell_type": "markdown",
   "metadata": {},
   "source": [
    "## Train Test Split"
   ]
  },
  {
   "cell_type": "code",
   "execution_count": 12,
   "metadata": {},
   "outputs": [
    {
     "name": "stdout",
     "output_type": "stream",
     "text": [
      "The number of observations in training: 743862\n",
      "The number of observations in test: 400542\n"
     ]
    },
    {
     "name": "stderr",
     "output_type": "stream",
     "text": [
      "/anaconda3/lib/python3.7/site-packages/sklearn/preprocessing/data.py:625: DataConversionWarning: Data with input dtype int64, float64 were all converted to float64 by StandardScaler.\n",
      "  return self.partial_fit(X, y)\n",
      "/anaconda3/lib/python3.7/site-packages/sklearn/base.py:462: DataConversionWarning: Data with input dtype int64, float64 were all converted to float64 by StandardScaler.\n",
      "  return self.fit(X, **fit_params).transform(X)\n",
      "/anaconda3/lib/python3.7/site-packages/ipykernel_launcher.py:11: DataConversionWarning: Data with input dtype int64, float64 were all converted to float64 by StandardScaler.\n",
      "  # This is added back by InteractiveShellApp.init_path()\n"
     ]
    }
   ],
   "source": [
    "X = model_df.drop(['price'], axis=1)\n",
    "Y = model_df['price']\n",
    "\n",
    "X_train, X_test, Y_train, Y_test = train_test_split(X, Y, test_size = 0.35, random_state = 38)\n",
    "\n",
    "print('The number of observations in training: {}'.format(len(X_train)))\n",
    "print('The number of observations in test: {}'.format(len(X_test)))\n",
    "\n",
    "s = StandardScaler()\n",
    "X_train = s.fit_transform(X_train)\n",
    "X_test = s.transform(X_test)"
   ]
  },
  {
   "cell_type": "markdown",
   "metadata": {},
   "source": [
    "# Modelling"
   ]
  },
  {
   "cell_type": "markdown",
   "metadata": {},
   "source": [
    "## Decision Tree"
   ]
  },
  {
   "cell_type": "code",
   "execution_count": 41,
   "metadata": {},
   "outputs": [
    {
     "name": "stdout",
     "output_type": "stream",
     "text": [
      "0.49007444911574355\n",
      "8376.056830646636\n",
      "[0.47474397 0.32816135 0.         0.05144263 0.00242886 0.00289378\n",
      " 0.07520563 0.00065972 0.00306079 0.00068445 0.         0.02078739\n",
      " 0.03993144]\n"
     ]
    }
   ],
   "source": [
    "dtree = tree.DecisionTreeRegressor(\n",
    "    max_depth=10,\n",
    "    min_samples_leaf=100,\n",
    "    max_features=3,\n",
    "    random_state=98345\n",
    ")\n",
    "\n",
    "dtree.fit(X_train, Y_train)\n",
    "Y_train_pred = dtree.predict(X_train)\n",
    "print(dtree.score(X_train, Y_train))\n",
    "print(rmse(Y_train, Y_train_pred))\n",
    "print(dtree.feature_importances_)"
   ]
  },
  {
   "cell_type": "code",
   "execution_count": 53,
   "metadata": {},
   "outputs": [
    {
     "data": {
      "image/png": "[encoded data removed]",
      "text/plain": [
       "<Figure size 864x432 with 1 Axes>"
      ]
     },
     "metadata": {},
     "output_type": "display_data"
    },
    {
     "name": "stdout",
     "output_type": "stream",
     "text": [
      "[(0.47474396781522055, 'odometer'), (0.32816135340716857, 'vehicle_age'), (0.0752056273667144, 'is_auto_fwd'), (0.05144262556829897, 'is_truck'), (0.03993143657353665, 'long'), (0.02078738767856179, 'pricey_state'), (0.0030607924792198826, 'f250_pricey_state'), (0.0028937822726984087, 'car_size_full-size'), (0.0024288607990601307, 'gross_color'), (0.0006844459186857964, 'stang_pricey_state'), (0.0006597201208347732, 'is_new'), (0.0, 'pricey_model'), (0.0, 'is_supercar')]\n"
     ]
    }
   ],
   "source": [
    "feat_imp = zip(dtree.feature_importances_, X.columns)\n",
    "feat_imp = list(feat_imp)\n",
    "\n",
    "\n",
    "sns.barplot(\n",
    "    x=dtree.feature_importances_,\n",
    "    y=X.columns\n",
    ")\n",
    "plt.show()\n",
    "print(sorted(feat_imp, reverse=True))"
   ]
  },
  {
   "cell_type": "code",
   "execution_count": 30,
   "metadata": {},
   "outputs": [
    {
     "name": "stdout",
     "output_type": "stream",
     "text": [
      "0.5279101340863586\n",
      "8376.056830646636\n",
      "{'max_depth': 7, 'max_features': 12, 'min_samples_leaf': 213}\n"
     ]
    }
   ],
   "source": [
    "dtree = tree.DecisionTreeRegressor()\n",
    "params = {\n",
    "    'max_depth':Integer(1,10),\n",
    "    'min_samples_leaf':Integer(100,700),\n",
    "    'max_features':Integer(1,13)\n",
    "}\n",
    "\n",
    "opt = BayesSearchCV(\n",
    "    dtree,\n",
    "    params,\n",
    "    cv=5,\n",
    "    n_iter=10\n",
    ")\n",
    "\n",
    "opt.fit(X_train, Y_train)\n",
    "y_train_pred = opt.predict(X_train)\n",
    "print(opt.score(X_train, Y_train))\n",
    "print(rmse(Y_train, Y_train_pred))\n",
    "print(opt.best_params_)"
   ]
  },
  {
   "cell_type": "markdown",
   "metadata": {},
   "source": [
    "## Random Forest"
   ]
  },
  {
   "cell_type": "code",
   "execution_count": 31,
   "metadata": {},
   "outputs": [
    {
     "name": "stdout",
     "output_type": "stream",
     "text": [
      "0.5458092369391216\n",
      "7905.063761922112\n",
      "[2.90736251e-01 4.80941994e-01 3.93679555e-03 7.23695676e-02\n",
      " 2.45514452e-03 4.08819087e-03 7.92335143e-02 2.20911824e-02\n",
      " 1.94704211e-03 4.30973682e-04 2.19687575e-03 3.26426194e-03\n",
      " 3.63082062e-02]\n"
     ]
    }
   ],
   "source": [
    "rfr = ensemble.RandomForestRegressor(\n",
    "    n_estimators=200,\n",
    "    max_depth=10,\n",
    "    max_features=3,\n",
    "    min_samples_leaf=100,\n",
    "    random_state=832\n",
    ")\n",
    "\n",
    "rfr.fit(X_train, Y_train)\n",
    "Y_train_pred = rfr.predict(X_train)\n",
    "print(rfr.score(X_train, Y_train))\n",
    "print(rmse(Y_train, Y_train_pred))\n",
    "print(rfr.feature_importances_)"
   ]
  },
  {
   "cell_type": "code",
   "execution_count": 54,
   "metadata": {},
   "outputs": [
    {
     "data": {
      "image/png": "[encoded data removed]",
      "text/plain": [
       "<Figure size 864x432 with 1 Axes>"
      ]
     },
     "metadata": {},
     "output_type": "display_data"
    },
    {
     "name": "stdout",
     "output_type": "stream",
     "text": [
      "[(0.48094199412814476, 'vehicle_age'), (0.290736251012008, 'odometer'), (0.07923351425697994, 'is_auto_fwd'), (0.07236956763511436, 'is_truck'), (0.03630820617539559, 'long'), (0.022091182371743047, 'is_new'), (0.004088190870784298, 'car_size_full-size'), (0.003936795547737872, 'is_supercar'), (0.0032642619371897885, 'pricey_state'), (0.002455144518622892, 'gross_color'), (0.0021968757529971946, 'pricey_model'), (0.001947042111286613, 'f250_pricey_state'), (0.00043097368199554773, 'stang_pricey_state')]\n"
     ]
    }
   ],
   "source": [
    "feat_imp = zip(rfr.feature_importances_, X.columns)\n",
    "feat_imp = list(feat_imp)\n",
    "\n",
    "sns.barplot(\n",
    "    x=rfr.feature_importances_,\n",
    "    y=X.columns\n",
    ")\n",
    "plt.show()\n",
    "print(sorted(feat_imp, reverse=True))"
   ]
  },
  {
   "cell_type": "markdown",
   "metadata": {},
   "source": [
    "# Conclusion"
   ]
  },
  {
   "cell_type": "markdown",
   "metadata": {},
   "source": [
    "Based on the models above, the Random Forest does perform slightly better than a tuned decision tree. If runtime was no concern or issue then a hyperparameter tuned Random Forest would perform better than the normal Random Forest or tuned decision tree. Both models have similar importance rankings for each of the features. It looks like the random forest model is giving more weight to the 'is_new' category and the is_supercar category. This features importance could be enhanced by allowing less samples per leaf as the total number of supercars is low in the dataset.\n",
    " \n",
    " It will be useful in future iterations to add more features and look at how well the models are performing in subsets of the data to identify areas to focus feature engineering."
   ]
  }
 ],
 "metadata": {
  "kernelspec": {
   "display_name": "Python 3",
   "language": "python",
   "name": "python3"
  },
  "language_info": {
   "codemirror_mode": {
    "name": "ipython",
    "version": 3
   },
   "file_extension": ".py",
   "mimetype": "text/x-python",
   "name": "python",
   "nbconvert_exporter": "python",
   "pygments_lexer": "ipython3",
   "version": "3.7.1"
  },
  "toc": {
   "base_numbering": 1,
   "nav_menu": {},
   "number_sections": true,
   "sideBar": true,
   "skip_h1_title": false,
   "title_cell": "Table of Contents",
   "title_sidebar": "Contents",
   "toc_cell": false,
   "toc_position": {},
   "toc_section_display": true,
   "toc_window_display": true
  }
 },
 "nbformat": 4,
 "nbformat_minor": 2
}

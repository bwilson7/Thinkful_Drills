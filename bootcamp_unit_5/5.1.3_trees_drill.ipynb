{
 "cells": [
  {
   "cell_type": "code",
   "execution_count": 5,
   "metadata": {},
   "outputs": [],
   "source": [
    "import numpy as np"
   ]
  },
  {
   "cell_type": "code",
   "execution_count": 1,
   "metadata": {},
   "outputs": [],
   "source": [
    "class Node:\n",
    "    def __init__(self, left=None, right=None, val=None):\n",
    "        self.left = left\n",
    "        self.right = right\n",
    "        self.val = val\n",
    "        \n",
    "    def __len__(self):\n",
    "        return (self.val + self.right + self.left)"
   ]
  },
  {
   "cell_type": "code",
   "execution_count": 2,
   "metadata": {},
   "outputs": [],
   "source": [
    "#building a tree using class Node\n",
    "root = Node(left=64, right=68, val=7)\n",
    "root.left = Node(64)\n",
    "root.right = Node(68)\n",
    "root.left.left = Node(534)\n",
    "root.left.right = Node(69)\n",
    "root.right.left = Node(637)\n",
    "root.right.right = Node(512)\n",
    "root.left.left.left = Node(369)\n",
    "root.left.left.right = Node(124)\n",
    "root.left.right.left = Node(964)\n",
    "root.left.right.right = Node(736)"
   ]
  },
  {
   "cell_type": "code",
   "execution_count": 3,
   "metadata": {},
   "outputs": [],
   "source": [
    "def heapify(lst, n):\n",
    "    \n",
    "    for i in range(n-1, 0, -1):\n",
    "\n",
    "        parent = (i-1)//2\n",
    "        \n",
    "        if lst[i] > lst[parent]:\n",
    "            lst[parent], lst[i] = lst[i], lst[parent]"
   ]
  },
  {
   "cell_type": "code",
   "execution_count": 6,
   "metadata": {},
   "outputs": [
    {
     "name": "stdout",
     "output_type": "stream",
     "text": [
      "[87, 17, 16, 87, 5, 16, 81, 37, 57, 97, 29, 18, 30, 54, 54]\n",
      "[97, 87, 81, 87, 17, 30, 16, 37, 57, 29, 5, 18, 16, 54, 54]\n"
     ]
    }
   ],
   "source": [
    "#creating tree of random integers\n",
    "tree = list(np.random.choice(range(100), 15))\n",
    "print(tree)\n",
    "#re-structuring the tree in max-heap fashion\n",
    "heapify(tree, len(tree))\n",
    "print(tree)"
   ]
  },
  {
   "cell_type": "code",
   "execution_count": null,
   "metadata": {},
   "outputs": [],
   "source": []
  }
 ],
 "metadata": {
  "kernelspec": {
   "display_name": "Python 3",
   "language": "python",
   "name": "python3"
  },
  "language_info": {
   "codemirror_mode": {
    "name": "ipython",
    "version": 3
   },
   "file_extension": ".py",
   "mimetype": "text/x-python",
   "name": "python",
   "nbconvert_exporter": "python",
   "pygments_lexer": "ipython3",
   "version": "3.7.1"
  },
  "toc": {
   "base_numbering": 1,
   "nav_menu": {},
   "number_sections": true,
   "sideBar": true,
   "skip_h1_title": false,
   "title_cell": "Table of Contents",
   "title_sidebar": "Contents",
   "toc_cell": false,
   "toc_position": {},
   "toc_section_display": true,
   "toc_window_display": true
  }
 },
 "nbformat": 4,
 "nbformat_minor": 2
}

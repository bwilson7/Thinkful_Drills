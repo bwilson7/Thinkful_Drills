{
 "cells": [
  {
   "cell_type": "code",
   "execution_count": 121,
   "metadata": {},
   "outputs": [],
   "source": [
    "import numpy as np\n",
    "import pandas as pd\n",
    "import seaborn as sns\n",
    "from sklearn.linear_model import LinearRegression, Ridge, RidgeCV, Lasso, ElasticNet\n",
    "from sklearn.model_selection import train_test_split, cross_val_score, GridSearchCV\n",
    "from sklearn.metrics import mean_absolute_error\n",
    "from sklearn.preprocessing import StandardScaler\n",
    "from skopt import BayesSearchCV\n",
    "from skopt.space import Real\n",
    "import statsmodels.api as sm\n",
    "from statsmodels.tools.eval_measures import mse, rmse\n",
    "from sqlalchemy import create_engine\n",
    "import matplotlib.pyplot as plt\n",
    "%matplotlib inline\n",
    "pd.options.display.float_format = '{:.3f}'.format\n",
    "\n",
    "\n",
    "import warnings\n",
    "warnings.filterwarnings('ignore')"
   ]
  },
  {
   "cell_type": "code",
   "execution_count": 4,
   "metadata": {},
   "outputs": [],
   "source": [
    "postgres_user = 'dsbc_student'\n",
    "postgres_pw = '7*.8G9QH21'\n",
    "postgres_host = '142.93.121.174'\n",
    "postgres_port = '5432'\n",
    "postgres_db = 'houseprices'\n",
    "\n",
    "engine = create_engine('postgresql://{}:{}@{}:{}/{}'.format(\n",
    "    postgres_user, postgres_pw, postgres_host, postgres_port, postgres_db))\n",
    "\n",
    "house_prices_df = pd.read_sql_query('select * from houseprices', con=engine)\n",
    "\n",
    "engine.dispose()"
   ]
  },
  {
   "cell_type": "code",
   "execution_count": 5,
   "metadata": {},
   "outputs": [
    {
     "name": "stdout",
     "output_type": "stream",
     "text": [
      "1460\n"
     ]
    },
    {
     "data": {
      "text/html": [
       "<div>\n",
       "<style scoped>\n",
       "    .dataframe tbody tr th:only-of-type {\n",
       "        vertical-align: middle;\n",
       "    }\n",
       "\n",
       "    .dataframe tbody tr th {\n",
       "        vertical-align: top;\n",
       "    }\n",
       "\n",
       "    .dataframe thead th {\n",
       "        text-align: right;\n",
       "    }\n",
       "</style>\n",
       "<table border=\"1\" class=\"dataframe\">\n",
       "  <thead>\n",
       "    <tr style=\"text-align: right;\">\n",
       "      <th></th>\n",
       "      <th>id</th>\n",
       "      <th>mssubclass</th>\n",
       "      <th>mszoning</th>\n",
       "      <th>lotfrontage</th>\n",
       "      <th>lotarea</th>\n",
       "      <th>street</th>\n",
       "      <th>alley</th>\n",
       "      <th>lotshape</th>\n",
       "      <th>landcontour</th>\n",
       "      <th>utilities</th>\n",
       "      <th>...</th>\n",
       "      <th>poolarea</th>\n",
       "      <th>poolqc</th>\n",
       "      <th>fence</th>\n",
       "      <th>miscfeature</th>\n",
       "      <th>miscval</th>\n",
       "      <th>mosold</th>\n",
       "      <th>yrsold</th>\n",
       "      <th>saletype</th>\n",
       "      <th>salecondition</th>\n",
       "      <th>saleprice</th>\n",
       "    </tr>\n",
       "  </thead>\n",
       "  <tbody>\n",
       "    <tr>\n",
       "      <th>0</th>\n",
       "      <td>1</td>\n",
       "      <td>60</td>\n",
       "      <td>RL</td>\n",
       "      <td>65.000</td>\n",
       "      <td>8450</td>\n",
       "      <td>Pave</td>\n",
       "      <td>None</td>\n",
       "      <td>Reg</td>\n",
       "      <td>Lvl</td>\n",
       "      <td>AllPub</td>\n",
       "      <td>...</td>\n",
       "      <td>0</td>\n",
       "      <td>None</td>\n",
       "      <td>None</td>\n",
       "      <td>None</td>\n",
       "      <td>0</td>\n",
       "      <td>2</td>\n",
       "      <td>2008</td>\n",
       "      <td>WD</td>\n",
       "      <td>Normal</td>\n",
       "      <td>208500</td>\n",
       "    </tr>\n",
       "    <tr>\n",
       "      <th>1</th>\n",
       "      <td>2</td>\n",
       "      <td>20</td>\n",
       "      <td>RL</td>\n",
       "      <td>80.000</td>\n",
       "      <td>9600</td>\n",
       "      <td>Pave</td>\n",
       "      <td>None</td>\n",
       "      <td>Reg</td>\n",
       "      <td>Lvl</td>\n",
       "      <td>AllPub</td>\n",
       "      <td>...</td>\n",
       "      <td>0</td>\n",
       "      <td>None</td>\n",
       "      <td>None</td>\n",
       "      <td>None</td>\n",
       "      <td>0</td>\n",
       "      <td>5</td>\n",
       "      <td>2007</td>\n",
       "      <td>WD</td>\n",
       "      <td>Normal</td>\n",
       "      <td>181500</td>\n",
       "    </tr>\n",
       "    <tr>\n",
       "      <th>2</th>\n",
       "      <td>3</td>\n",
       "      <td>60</td>\n",
       "      <td>RL</td>\n",
       "      <td>68.000</td>\n",
       "      <td>11250</td>\n",
       "      <td>Pave</td>\n",
       "      <td>None</td>\n",
       "      <td>IR1</td>\n",
       "      <td>Lvl</td>\n",
       "      <td>AllPub</td>\n",
       "      <td>...</td>\n",
       "      <td>0</td>\n",
       "      <td>None</td>\n",
       "      <td>None</td>\n",
       "      <td>None</td>\n",
       "      <td>0</td>\n",
       "      <td>9</td>\n",
       "      <td>2008</td>\n",
       "      <td>WD</td>\n",
       "      <td>Normal</td>\n",
       "      <td>223500</td>\n",
       "    </tr>\n",
       "    <tr>\n",
       "      <th>3</th>\n",
       "      <td>4</td>\n",
       "      <td>70</td>\n",
       "      <td>RL</td>\n",
       "      <td>60.000</td>\n",
       "      <td>9550</td>\n",
       "      <td>Pave</td>\n",
       "      <td>None</td>\n",
       "      <td>IR1</td>\n",
       "      <td>Lvl</td>\n",
       "      <td>AllPub</td>\n",
       "      <td>...</td>\n",
       "      <td>0</td>\n",
       "      <td>None</td>\n",
       "      <td>None</td>\n",
       "      <td>None</td>\n",
       "      <td>0</td>\n",
       "      <td>2</td>\n",
       "      <td>2006</td>\n",
       "      <td>WD</td>\n",
       "      <td>Abnorml</td>\n",
       "      <td>140000</td>\n",
       "    </tr>\n",
       "    <tr>\n",
       "      <th>4</th>\n",
       "      <td>5</td>\n",
       "      <td>60</td>\n",
       "      <td>RL</td>\n",
       "      <td>84.000</td>\n",
       "      <td>14260</td>\n",
       "      <td>Pave</td>\n",
       "      <td>None</td>\n",
       "      <td>IR1</td>\n",
       "      <td>Lvl</td>\n",
       "      <td>AllPub</td>\n",
       "      <td>...</td>\n",
       "      <td>0</td>\n",
       "      <td>None</td>\n",
       "      <td>None</td>\n",
       "      <td>None</td>\n",
       "      <td>0</td>\n",
       "      <td>12</td>\n",
       "      <td>2008</td>\n",
       "      <td>WD</td>\n",
       "      <td>Normal</td>\n",
       "      <td>250000</td>\n",
       "    </tr>\n",
       "  </tbody>\n",
       "</table>\n",
       "<p>5 rows × 81 columns</p>\n",
       "</div>"
      ],
      "text/plain": [
       "   id  mssubclass mszoning  lotfrontage  lotarea street alley lotshape  \\\n",
       "0   1          60       RL       65.000     8450   Pave  None      Reg   \n",
       "1   2          20       RL       80.000     9600   Pave  None      Reg   \n",
       "2   3          60       RL       68.000    11250   Pave  None      IR1   \n",
       "3   4          70       RL       60.000     9550   Pave  None      IR1   \n",
       "4   5          60       RL       84.000    14260   Pave  None      IR1   \n",
       "\n",
       "  landcontour utilities    ...     poolarea poolqc fence miscfeature miscval  \\\n",
       "0         Lvl    AllPub    ...            0   None  None        None       0   \n",
       "1         Lvl    AllPub    ...            0   None  None        None       0   \n",
       "2         Lvl    AllPub    ...            0   None  None        None       0   \n",
       "3         Lvl    AllPub    ...            0   None  None        None       0   \n",
       "4         Lvl    AllPub    ...            0   None  None        None       0   \n",
       "\n",
       "  mosold yrsold  saletype  salecondition  saleprice  \n",
       "0      2   2008        WD         Normal     208500  \n",
       "1      5   2007        WD         Normal     181500  \n",
       "2      9   2008        WD         Normal     223500  \n",
       "3      2   2006        WD        Abnorml     140000  \n",
       "4     12   2008        WD         Normal     250000  \n",
       "\n",
       "[5 rows x 81 columns]"
      ]
     },
     "execution_count": 5,
     "metadata": {},
     "output_type": "execute_result"
    }
   ],
   "source": [
    "#Quick check on the number of rows and the columns in the dataframe\n",
    "print(len(house_prices_df))\n",
    "house_prices_df.iloc[:,:81].head(5)"
   ]
  },
  {
   "cell_type": "code",
   "execution_count": 6,
   "metadata": {},
   "outputs": [
    {
     "data": {
      "image/png": "[encoded data removed]",
      "text/plain": [
       "<Figure size 432x288 with 1 Axes>"
      ]
     },
     "metadata": {
      "needs_background": "light"
     },
     "output_type": "display_data"
    },
    {
     "name": "stdout",
     "output_type": "stream",
     "text": [
      "Mean house price in Aimes:  180921.19589041095\n"
     ]
    }
   ],
   "source": [
    "#Since we are estimating the saleprice I want to check the distribution\n",
    "plt.hist(house_prices_df['saleprice'], color ='b')\n",
    "plt.xlabel('Sold Home Price')\n",
    "plt.ylabel('Frequency')\n",
    "plt.axvline(house_prices_df['saleprice'].mean(), color='r', alpha=1.0)\n",
    "plt.title('Distribution of Home Prices in Aimes, Iowa')\n",
    "plt.show()\n",
    "print('Mean house price in Aimes: ', house_prices_df['saleprice'].mean())"
   ]
  },
  {
   "cell_type": "code",
   "execution_count": 7,
   "metadata": {},
   "outputs": [
    {
     "data": {
      "image/png": "[encoded data removed]",
      "text/plain": [
       "<Figure size 432x288 with 1 Axes>"
      ]
     },
     "metadata": {
      "needs_background": "light"
     },
     "output_type": "display_data"
    }
   ],
   "source": [
    "sns.boxplot(house_prices_df['saleprice'])\n",
    "plt.show()"
   ]
  },
  {
   "cell_type": "markdown",
   "metadata": {},
   "source": [
    "### Feature Engineering"
   ]
  },
  {
   "cell_type": "code",
   "execution_count": 8,
   "metadata": {},
   "outputs": [],
   "source": [
    "house_prices_df['total_sf'] = house_prices_df['totalbsmtsf'] + house_prices_df['firstflrsf'] + house_prices_df['secondflrsf']"
   ]
  },
  {
   "cell_type": "code",
   "execution_count": 9,
   "metadata": {},
   "outputs": [],
   "source": [
    "num_car_garage = pd.get_dummies(house_prices_df['garagecars'], prefix='car_garage')\n",
    "house_prices_df = pd.concat([house_prices_df, num_car_garage], axis=1)\n"
   ]
  },
  {
   "cell_type": "code",
   "execution_count": 10,
   "metadata": {},
   "outputs": [],
   "source": [
    "garage_type = pd.get_dummies(house_prices_df['garagetype'], prefix='garagetype')\n",
    "house_prices_df = pd.concat([house_prices_df, garage_type], axis=1)\n"
   ]
  },
  {
   "cell_type": "code",
   "execution_count": 11,
   "metadata": {},
   "outputs": [],
   "source": [
    "paved = pd.get_dummies(house_prices_df['paveddrive'], prefix='paved_driveway')\n",
    "house_prices_df = pd.concat([house_prices_df, paved], axis=1)"
   ]
  },
  {
   "cell_type": "code",
   "execution_count": 12,
   "metadata": {},
   "outputs": [],
   "source": [
    "garage_finish = pd.get_dummies(house_prices_df['garagefinish'], prefix='garagefinish')\n",
    "house_prices_df = pd.concat([house_prices_df, garage_finish], axis=1)"
   ]
  },
  {
   "cell_type": "code",
   "execution_count": 13,
   "metadata": {},
   "outputs": [],
   "source": [
    "#Does the house have an above average kitchen feature\n",
    "house_prices_df['awesome_kitchen'] = 9999"
   ]
  },
  {
   "cell_type": "code",
   "execution_count": 14,
   "metadata": {},
   "outputs": [
    {
     "data": {
      "text/plain": [
       "0    774\n",
       "1    686\n",
       "Name: awesome_kitchen, dtype: int64"
      ]
     },
     "execution_count": 14,
     "metadata": {},
     "output_type": "execute_result"
    }
   ],
   "source": [
    "house_prices_df.loc[(house_prices_df['kitchenqual'] == 'Ex') | (house_prices_df['kitchenqual'] == 'Gd'), \n",
    "                    ['awesome_kitchen']] = 1\n",
    "house_prices_df.loc[(house_prices_df['kitchenqual'] == 'Fa') | (house_prices_df['kitchenqual'] == 'TA'), \n",
    "                    ['awesome_kitchen']] = 0\n",
    "house_prices_df.awesome_kitchen.value_counts()"
   ]
  },
  {
   "cell_type": "code",
   "execution_count": 15,
   "metadata": {},
   "outputs": [
    {
     "data": {
      "text/plain": [
       "1    958\n",
       "0    502\n",
       "Name: attached_garage, dtype: int64"
      ]
     },
     "execution_count": 15,
     "metadata": {},
     "output_type": "execute_result"
    }
   ],
   "source": [
    "#Is the garage attached to the house feature\n",
    "house_prices_df['attached_garage'] = 9999\n",
    "house_prices_df.loc[(house_prices_df['garagetype'] == 'Attchd') | (house_prices_df['garagetype'] == 'BuiltIn'), \n",
    "                    ['attached_garage']] = 1\n",
    "house_prices_df.loc[(house_prices_df['garagetype'] != 'Attchd') & (house_prices_df['garagetype'] != 'BuiltIn'), \n",
    "                    ['attached_garage']] = 0\n",
    "house_prices_df.attached_garage.value_counts()"
   ]
  },
  {
   "cell_type": "code",
   "execution_count": 16,
   "metadata": {},
   "outputs": [],
   "source": [
    "house_prices_df['yard_sf'] = house_prices_df['lotarea'] - house_prices_df['firstflrsf']"
   ]
  },
  {
   "cell_type": "code",
   "execution_count": 17,
   "metadata": {},
   "outputs": [],
   "source": [
    "hillside = pd.get_dummies(house_prices_df['landcontour'], prefix='landcontour')\n",
    "house_prices_df = pd.concat([house_prices_df, hillside], axis=1)"
   ]
  },
  {
   "cell_type": "code",
   "execution_count": 18,
   "metadata": {},
   "outputs": [
    {
     "data": {
      "image/png": "[encoded data removed]",
      "text/plain": [
       "<Figure size 432x288 with 1 Axes>"
      ]
     },
     "metadata": {
      "needs_background": "light"
     },
     "output_type": "display_data"
    },
    {
     "name": "stdout",
     "output_type": "stream",
     "text": [
      "0    1317\n",
      "1     143\n",
      "Name: pricey_neighborhoods, dtype: int64\n",
      "pricey_neighborhoods\n",
      "0   165742.236\n",
      "1   320716.231\n",
      "Name: saleprice, dtype: float64\n",
      "pricey_neighborhoods\n",
      "0   0.414\n",
      "1   0.986\n",
      "Name: awesome_kitchen, dtype: float64\n"
     ]
    }
   ],
   "source": [
    "plt.bar(house_prices_df.groupby('neighborhood')['saleprice'].mean().index, \n",
    "        house_prices_df.groupby('neighborhood')['saleprice'].mean())\n",
    "plt.xticks(rotation=90)\n",
    "plt.show()\n",
    "\n",
    "house_prices_df['pricey_neighborhoods'] = 9999\n",
    "house_prices_df.loc[(house_prices_df.neighborhood == 'NoRidge') | \n",
    "                    (house_prices_df.neighborhood == 'NridgHt') | \n",
    "                    (house_prices_df.neighborhood == 'StoneBr'), \n",
    "                    ['pricey_neighborhoods']] = 1\n",
    "house_prices_df.loc[(house_prices_df.neighborhood != 'NoRidge') & \n",
    "                    (house_prices_df.neighborhood != 'NridgHt') & \n",
    "                    (house_prices_df.neighborhood != 'StoneBr'), \n",
    "                    ['pricey_neighborhoods']] = 0   \n",
    "\n",
    "print(house_prices_df.pricey_neighborhoods.value_counts())\n",
    "print(house_prices_df.groupby('pricey_neighborhoods')['saleprice'].mean())\n",
    "print(house_prices_df.groupby('pricey_neighborhoods')['awesome_kitchen'].mean())"
   ]
  },
  {
   "cell_type": "code",
   "execution_count": 19,
   "metadata": {},
   "outputs": [
    {
     "data": {
      "text/plain": [
       "0    1425\n",
       "1      35\n",
       "Name: pricey_hood_grt4000, dtype: int64"
      ]
     },
     "execution_count": 19,
     "metadata": {},
     "output_type": "execute_result"
    }
   ],
   "source": [
    "house_prices_df.groupby('pricey_neighborhoods').total_sf.describe()\n",
    "\n",
    "house_prices_df['pricey_hood_grt4000'] = 9999\n",
    "house_prices_df.loc[(house_prices_df.pricey_neighborhoods == 1) & \n",
    "       (house_prices_df.total_sf > 4000), \n",
    "       ['pricey_hood_grt4000']] = 1\n",
    "house_prices_df.loc[(house_prices_df.pricey_neighborhoods == 1) & \n",
    "       (house_prices_df.total_sf < 4000), \n",
    "       ['pricey_hood_grt4000']] = 0\n",
    "house_prices_df.loc[house_prices_df.pricey_neighborhoods == 0, \n",
    "       ['pricey_hood_grt4000']] = 0\n",
    "house_prices_df.pricey_hood_grt4000.value_counts()"
   ]
  },
  {
   "cell_type": "markdown",
   "metadata": {},
   "source": [
    "### OLS iteration"
   ]
  },
  {
   "cell_type": "code",
   "execution_count": 104,
   "metadata": {
    "scrolled": true
   },
   "outputs": [
    {
     "name": "stdout",
     "output_type": "stream",
     "text": [
      "The number of observations in training: 934\n",
      "The number of observations in validation: 234\n",
      "The number of observations in test: 292\n",
      "\n",
      "***** Training Set Statistics *****\n",
      "\n",
      "R-squared of the training set is: 0.7896793115475562\n",
      "Root mean squared error of the training set is:  34806.42308457221\n",
      "\n",
      "***** Validation Set Statistics *****\n",
      "\n",
      "R-squared of the validation set is: 0.8208859410725159\n",
      "Mean absolute error of the prediction is:  24729.581580782382\n",
      "Mean squared error of the prediction is:  1427482888.9510393\n",
      "Root mean squared error of the prediction is:  37782.044531113446\n",
      "Mean absolute percentage error of the prediction is:  14.872179914205466\n"
     ]
    }
   ],
   "source": [
    "features = house_prices_df[[\n",
    "                    'awesome_kitchen', \n",
    "                    'total_sf', \n",
    "                    'paved_driveway_Y',\n",
    "                    'attached_garage', \n",
    "                    'garagetype_2Types', \n",
    "                    'car_garage_3', \n",
    "                    'garagefinish_Fin', \n",
    "                    'yard_sf', \n",
    "                    'landcontour_HLS', \n",
    "                    'pricey_neighborhoods', \n",
    "                    'pricey_hood_grt4000'\n",
    "                    ]\n",
    "                   ]\n",
    "Y = house_prices_df['saleprice']\n",
    "X = features\n",
    "\n",
    "X_train, X_test, Y_train, Y_test = train_test_split(X, Y, test_size = 0.2, random_state = 465)\n",
    "\n",
    "X_train, X_val, Y_train, Y_val = train_test_split(X_train, Y_train, test_size = 0.2, random_state = 465)\n",
    "\n",
    "print('The number of observations in training: {}'.format(len(X_train)))\n",
    "print('The number of observations in validation: {}'.format(len(X_val)))\n",
    "print('The number of observations in test: {}'.format(len(X_test)))\n",
    "\n",
    "s = StandardScaler()\n",
    "X_train = s.fit_transform(X_train)\n",
    "X_val = s.transform(X_val)\n",
    "X_test = s.transform(X_test)\n",
    "\n",
    "lrm = LinearRegression()\n",
    "lrm.fit(X_train, Y_train)\n",
    "\n",
    "Y_train_pred = lrm.predict(X_train)\n",
    "Y_val_pred = lrm.predict(X_val)\n",
    "\n",
    "mae = mean_absolute_error(Y_val, Y_val_pred)\n",
    "mean_sq_err = mse(Y_val, Y_val_pred)\n",
    "root_mse = rmse(Y_val, Y_val_pred)\n",
    "ma_perc_err = np.mean(np.abs((Y_val - Y_val_pred) / Y_val)) *100\n",
    "print('\\n***** Training Set Statistics *****')\n",
    "print('\\nR-squared of the training set is: {}'.format(lrm.score(X_train, Y_train)))\n",
    "print('Root mean squared error of the training set is: ', rmse(Y_train, Y_train_pred))\n",
    "print('\\n***** Validation Set Statistics *****')\n",
    "print('\\nR-squared of the validation set is: {}'.format(lrm.score(X_val, Y_val)))\n",
    "print('Mean absolute error of the prediction is: ', mae)\n",
    "print('Mean squared error of the prediction is: ', mean_sq_err)\n",
    "print('Root mean squared error of the prediction is: ', root_mse)\n",
    "print('Mean absolute percentage error of the prediction is: ', ma_perc_err)"
   ]
  },
  {
   "cell_type": "markdown",
   "metadata": {},
   "source": [
    "### Ridge Iteration"
   ]
  },
  {
   "cell_type": "code",
   "execution_count": 105,
   "metadata": {},
   "outputs": [
    {
     "name": "stdout",
     "output_type": "stream",
     "text": [
      "Cross validation of training set when alpha = 0.0e+00:\n",
      "[[0.82569968 0.54467423 0.85051734 0.79056968 0.21740609]\n",
      " [0.80966324 0.78987695 0.82536142 0.7882053  0.88302392]]\n",
      "\n",
      "Mean of Cross Validation scores: 0.732\n",
      "\n",
      "Cross validation of training set when alpha = 0.0e+00:\n",
      "[[0.82569877 0.54467804 0.850517   0.79056884 0.21741975]\n",
      " [0.80966274 0.78987666 0.82536063 0.78820444 0.88302433]]\n",
      "\n",
      "Mean of Cross Validation scores: 0.733\n",
      "\n",
      "Cross validation of training set when alpha = 0.0e+00:\n",
      "[[0.8256897  0.54471621 0.85051352 0.79056038 0.21755627]\n",
      " [0.80965768 0.78987367 0.82535274 0.78819586 0.88302842]]\n",
      "\n",
      "Mean of Cross Validation scores: 0.733\n",
      "\n",
      "Cross validation of training set when alpha = 1.0e+00:\n",
      "[[0.82559894 0.54509679 0.85047864 0.79047585 0.21891698]\n",
      " [0.80960699 0.78984375 0.82527382 0.78811006 0.8830692 ]]\n",
      "\n",
      "Mean of Cross Validation scores: 0.733\n",
      "\n",
      "Cross validation of training set when alpha = 1.0e+01:\n",
      "[[0.82468615 0.54880267 0.85011958 0.78963383 0.23208967]\n",
      " [0.80908787 0.78953495 0.82447842 0.7872487  0.88346188]]\n",
      "\n",
      "Mean of Cross Validation scores: 0.734\n",
      "\n",
      "Cross validation of training set when alpha = 1.0e+03:\n",
      "[[0.71080399 0.62594153 0.76041362 0.6931614  0.54995198]\n",
      " [0.71150426 0.71721473 0.71848231 0.67787639 0.83006765]]\n",
      "\n",
      "Mean of Cross Validation scores: 0.7\n",
      "\n",
      "Cross validation of training set when alpha = 1.0e+06:\n",
      "[[-0.0310086  -0.07746726  0.002072   -0.00990795  0.00253167]\n",
      " [ 0.00105999 -0.0089793  -0.01844598 -0.01270773  0.00039472]]\n",
      "\n",
      "Mean of Cross Validation scores: -0.0152\n",
      "\n",
      "Cross validation of training set when alpha = 1.0e+09:\n",
      "[[-0.03490692 -0.08209144 -0.00192919 -0.01365384 -0.00156142]\n",
      " [-0.00267981 -0.01319721 -0.02242829 -0.01620944 -0.0041826 ]]\n",
      "\n",
      "Mean of Cross Validation scores: -0.0193\n",
      "\n",
      "Cross validation of training set when alpha = 1.0e+12:\n",
      "[[-0.03491083 -0.08209609 -0.0019332  -0.0136576  -0.00156553]\n",
      " [-0.00268357 -0.01320144 -0.02243229 -0.01621295 -0.0041872 ]]\n",
      "\n",
      "Mean of Cross Validation scores: -0.0193\n",
      "\n",
      "Cross validation of training set when alpha = 1.0e+24:\n",
      "[[-0.03491083 -0.08209609 -0.00193321 -0.0136576  -0.00156553]\n",
      " [-0.00268357 -0.01320145 -0.02243229 -0.01621295 -0.0041872 ]]\n",
      "\n",
      "Mean of Cross Validation scores: -0.0193\n",
      "\n",
      "Cross validation of validation set when alpha = 0.0e+00:\n",
      "[[0.86766251 0.74466449 0.92934873 0.90594657 0.70417122]\n",
      " [0.7870662  0.82889378 0.64804984 0.88005477 0.81547551]]\n",
      "\n",
      "Mean of Cross Validation scores: 0.811\n",
      "\n",
      "Cross validation of validation set when alpha = 0.0e+00:\n",
      "[[0.86767017 0.74465958 0.92934284 0.90594486 0.70417571]\n",
      " [0.7870848  0.82889683 0.64805941 0.8800536  0.81549182]]\n",
      "\n",
      "Mean of Cross Validation scores: 0.811\n",
      "\n",
      "Cross validation of validation set when alpha = 0.0e+00:\n",
      "[[0.86774652 0.74461048 0.92928391 0.9059276  0.7042205 ]\n",
      " [0.78727072 0.82892728 0.64815471 0.88004165 0.81565362]]\n",
      "\n",
      "Mean of Cross Validation scores: 0.811\n",
      "\n",
      "Cross validation of validation set when alpha = 1.0e+00:\n",
      "[[0.86848955 0.74411544 0.92869878 0.90574855 0.70465623]\n",
      " [0.78912369 0.82922422 0.64906905 0.87989996 0.81715645]]\n",
      "\n",
      "Mean of Cross Validation scores: 0.812\n",
      "\n",
      "Cross validation of validation set when alpha = 1.0e+01:\n",
      "[[0.87428786 0.73906128 0.92315483 0.9034847  0.70795358]\n",
      " [0.80658636 0.8315298  0.65563832 0.87700272 0.824965  ]]\n",
      "\n",
      "Mean of Cross Validation scores: 0.814\n",
      "\n",
      "Cross validation of validation set when alpha = 1.0e+03:\n",
      "[[0.57180003 0.45609908 0.4978226  0.50938507 0.38974951]\n",
      " [0.57700394 0.52827976 0.4395805  0.45059099 0.50108531]]\n",
      "\n",
      "Mean of Cross Validation scores: 0.492\n",
      "\n",
      "Cross validation of validation set when alpha = 1.0e+06:\n",
      "[[-0.00615525 -0.03357393 -0.01666282 -0.01472125 -0.17963474]\n",
      " [-0.02990149 -0.10810521 -0.13313106 -0.00918972 -0.02720531]]\n",
      "\n",
      "Mean of Cross Validation scores: -0.0558\n",
      "\n",
      "Cross validation of validation set when alpha = 1.0e+09:\n",
      "[[-0.00736146 -0.03465149 -0.01766462 -0.01575818 -0.18084393]\n",
      " [-0.03110866 -0.10948787 -0.13441113 -0.01005767 -0.02832   ]]\n",
      "\n",
      "Mean of Cross Validation scores: -0.057\n",
      "\n",
      "Cross validation of validation set when alpha = 1.0e+12:\n",
      "[[-0.00736267 -0.03465257 -0.01766562 -0.01575922 -0.18084514]\n",
      " [-0.03110986 -0.10948926 -0.13441241 -0.01005854 -0.02832111]]\n",
      "\n",
      "Mean of Cross Validation scores: -0.057\n",
      "\n",
      "Cross validation of validation set when alpha = 1.0e+24:\n",
      "[[-0.00736267 -0.03465257 -0.01766562 -0.01575922 -0.18084514]\n",
      " [-0.03110987 -0.10948926 -0.13441241 -0.01005854 -0.02832111]]\n",
      "\n",
      "Mean of Cross Validation scores: -0.057\n",
      "\n"
     ]
    }
   ],
   "source": [
    "#First need to determine the optimal alpha parameter\n",
    "alpha = [.001, .01, .1, 1, 10, 1e3, 1e6, 1e9, 1e12, 1e24]\n",
    "\n",
    "for i in alpha:\n",
    "    rr = Ridge(alpha=i)\n",
    "    rrcv = cross_val_score(rr, X_train, Y_train, cv=10).reshape(2,5)\n",
    "    print('Cross validation of training set when alpha = {:0.1e}:\\n{}\\n'.format(int(i), rrcv))\n",
    "    print('Mean of Cross Validation scores: {:0.3}\\n'.format(rrcv.mean()))\n",
    "    \n",
    "for i in alpha:\n",
    "    rr = Ridge(alpha=i)\n",
    "    rrcv = cross_val_score(rr, X_val, Y_val, cv=10).reshape(2,5)\n",
    "    print('Cross validation of validation set when alpha = {:0.1e}:\\n{}\\n'.format(int(i), rrcv))\n",
    "    print('Mean of Cross Validation scores: {:0.3}\\n'.format(rrcv.mean()))\n"
   ]
  },
  {
   "cell_type": "markdown",
   "metadata": {},
   "source": [
    "Based on the statistics above, it looks like alpha = 1 yields the most consistent cross validation scores without diminishing returns in both the test and validation sets for Ridge Regression. I will use alpha = 1 for the Ridge model going forward."
   ]
  },
  {
   "cell_type": "code",
   "execution_count": 106,
   "metadata": {
    "scrolled": true
   },
   "outputs": [
    {
     "name": "stdout",
     "output_type": "stream",
     "text": [
      "\n",
      "***** Training Set Statistics *****\n",
      "\n",
      "R-squared of the training set is: 0.7896791521436417\n",
      "Root mean squared error of the training set is:  34806.43627461805\n",
      "\n",
      "***** Validation Set Statistics *****\n",
      "\n",
      "R-squared of the validation set is: 0.8207732087027385\n",
      "Mean absolute error of the prediction is:  24733.499934615356\n",
      "Mean squared error of the prediction is:  1428381330.591253\n",
      "Root mean squared error of the prediction is:  37793.93245735687\n",
      "Mean absolute percentage error of the prediction is:  14.874908168531306\n"
     ]
    }
   ],
   "source": [
    "rr = Ridge(alpha=1)\n",
    "rr.fit(X_train, Y_train)\n",
    "\n",
    "Y_train_pred = rr.predict(X_train)\n",
    "Y_val_pred = rr.predict(X_val)\n",
    "\n",
    "mae = mean_absolute_error(Y_val, Y_val_pred)\n",
    "mean_sq_err = mse(Y_val, Y_val_pred)\n",
    "root_mse = rmse(Y_val, Y_val_pred)\n",
    "ma_perc_err = np.mean(np.abs((Y_val - Y_val_pred) / Y_val)) *100\n",
    "\n",
    "print('\\n***** Training Set Statistics *****')\n",
    "print('\\nR-squared of the training set is: {}'.format(rr.score(X_train, Y_train)))\n",
    "print('Root mean squared error of the training set is: ', rmse(Y_train, Y_train_pred))\n",
    "print('\\n***** Validation Set Statistics *****')\n",
    "print('\\nR-squared of the validation set is: {}'.format(rr.score(X_val, Y_val)))\n",
    "print('Mean absolute error of the prediction is: ', mae)\n",
    "print('Mean squared error of the prediction is: ', mean_sq_err)\n",
    "print('Root mean squared error of the prediction is: ', root_mse)\n",
    "print('Mean absolute percentage error of the prediction is: ', ma_perc_err)"
   ]
  },
  {
   "cell_type": "markdown",
   "metadata": {},
   "source": [
    "The ridge regression model using alpha=1 performs basically the same as the linear regression model. Both the training and validation R-squareds have decreased and all other predictive validation statistics have increased. The difference in the training and validation R-squareds is larger than that of the linear regression model (0.003 vs. -.04)."
   ]
  },
  {
   "cell_type": "markdown",
   "metadata": {},
   "source": [
    "### Lasso Iteration"
   ]
  },
  {
   "cell_type": "code",
   "execution_count": 107,
   "metadata": {},
   "outputs": [
    {
     "name": "stdout",
     "output_type": "stream",
     "text": [
      "Cross validation of training set when alpha = 0.0e+00:\n",
      "[[0.8256997  0.54467389 0.85051741 0.79056979 0.21740456]\n",
      " [0.80966328 0.78987701 0.82536142 0.78820534 0.88302396]]\n",
      "\n",
      "Standard deviation of Cross Validation scores: 0.192\n",
      "Mean of Cross Validation scores: 0.732\n",
      "\n",
      "Cross validation of training set when alpha = 0.0e+00:\n",
      "[[0.82569898 0.54467456 0.85051773 0.79056982 0.21740495]\n",
      " [0.80966318 0.78987723 0.82536075 0.78820493 0.88302476]]\n",
      "\n",
      "Standard deviation of Cross Validation scores: 0.192\n",
      "Mean of Cross Validation scores: 0.732\n",
      "\n",
      "Cross validation of training set when alpha = 1.0e+00:\n",
      "[[0.82569166 0.5446828  0.85052053 0.79057005 0.21741246]\n",
      " [0.80966185 0.78987917 0.82535362 0.7882004  0.88303249]]\n",
      "\n",
      "Standard deviation of Cross Validation scores: 0.192\n",
      "Mean of Cross Validation scores: 0.733\n",
      "\n",
      "Cross validation of training set when alpha = 1.0e+01:\n",
      "[[0.82561722 0.54476358 0.85054734 0.79057215 0.21749522]\n",
      " [0.80964869 0.78989711 0.82528165 0.7881542  0.88310876]]\n",
      "\n",
      "Standard deviation of Cross Validation scores: 0.192\n",
      "Mean of Cross Validation scores: 0.733\n",
      "\n",
      "Cross validation of training set when alpha = 1.0e+03:\n",
      "[[0.81622566 0.55238869 0.85245893 0.78994901 0.22485288]\n",
      " [0.80734894 0.79099213 0.81587978 0.78261318 0.88922448]]\n",
      "\n",
      "Standard deviation of Cross Validation scores: 0.189\n",
      "Mean of Cross Validation scores: 0.732\n",
      "\n",
      "Cross validation of training set when alpha = 1.0e+06:\n",
      "[[-0.03491083 -0.08209609 -0.00193321 -0.0136576  -0.00156553]\n",
      " [-0.00268357 -0.01320145 -0.02243229 -0.01621295 -0.0041872 ]]\n",
      "\n",
      "Standard deviation of Cross Validation scores: 0.0232\n",
      "Mean of Cross Validation scores: -0.0193\n",
      "\n",
      "Cross validation of training set when alpha = 1.0e+09:\n",
      "[[-0.03491083 -0.08209609 -0.00193321 -0.0136576  -0.00156553]\n",
      " [-0.00268357 -0.01320145 -0.02243229 -0.01621295 -0.0041872 ]]\n",
      "\n",
      "Standard deviation of Cross Validation scores: 0.0232\n",
      "Mean of Cross Validation scores: -0.0193\n",
      "\n",
      "Cross validation of training set when alpha = 1.0e+12:\n",
      "[[-0.03491083 -0.08209609 -0.00193321 -0.0136576  -0.00156553]\n",
      " [-0.00268357 -0.01320145 -0.02243229 -0.01621295 -0.0041872 ]]\n",
      "\n",
      "Standard deviation of Cross Validation scores: 0.0232\n",
      "Mean of Cross Validation scores: -0.0193\n",
      "\n",
      "Cross validation of training set when alpha = 1.0e+24:\n",
      "[[-0.03491083 -0.08209609 -0.00193321 -0.0136576  -0.00156553]\n",
      " [-0.00268357 -0.01320145 -0.02243229 -0.01621295 -0.0041872 ]]\n",
      "\n",
      "Standard deviation of Cross Validation scores: 0.0232\n",
      "Mean of Cross Validation scores: -0.0193\n",
      "\n",
      "Cross validation of validation set when alpha = 0.0e+00:\n",
      "[[0.86766166 0.74466499 0.92934929 0.90594678 0.70417069]\n",
      " [0.78706425 0.82889362 0.6480487  0.88005488 0.8154738 ]]\n",
      "\n",
      "Standard deviation of Cross Validation scores: 0.0862\n",
      "Mean of Cross Validation scores: 0.811\n",
      "\n",
      "Cross validation of validation set when alpha = 0.0e+00:\n",
      "[[0.86766156 0.74466451 0.92934847 0.90594689 0.70417067]\n",
      " [0.78706521 0.82889521 0.6480482  0.88005469 0.8154748 ]]\n",
      "\n",
      "Standard deviation of Cross Validation scores: 0.0862\n",
      "Mean of Cross Validation scores: 0.811\n",
      "\n",
      "Cross validation of validation set when alpha = 1.0e+00:\n",
      "[[0.86766109 0.74465967 0.92934031 0.90594781 0.70417075]\n",
      " [0.78707477 0.82891136 0.64804339 0.88005277 0.81548375]]\n",
      "\n",
      "Standard deviation of Cross Validation scores: 0.0862\n",
      "Mean of Cross Validation scores: 0.811\n",
      "\n",
      "Cross validation of validation set when alpha = 1.0e+01:\n",
      "[[0.86765631 0.74461227 0.92925902 0.90595671 0.70416715]\n",
      " [0.78717347 0.8290732  0.64799184 0.88003167 0.81557149]]\n",
      "\n",
      "Standard deviation of Cross Validation scores: 0.0862\n",
      "Mean of Cross Validation scores: 0.811\n",
      "\n",
      "Cross validation of validation set when alpha = 1.0e+03:\n",
      "[[0.86651008 0.73492955 0.9170987  0.90635401 0.70259777]\n",
      " [0.79678063 0.84442857 0.64551761 0.87675911 0.82290782]]\n",
      "\n",
      "Standard deviation of Cross Validation scores: 0.0861\n",
      "Mean of Cross Validation scores: 0.811\n",
      "\n",
      "Cross validation of validation set when alpha = 1.0e+06:\n",
      "[[-0.00736267 -0.03465257 -0.01766562 -0.01575922 -0.18084514]\n",
      " [-0.03110987 -0.10948926 -0.13441241 -0.01005854 -0.02832111]]\n",
      "\n",
      "Standard deviation of Cross Validation scores: 0.0583\n",
      "Mean of Cross Validation scores: -0.057\n",
      "\n",
      "Cross validation of validation set when alpha = 1.0e+09:\n",
      "[[-0.00736267 -0.03465257 -0.01766562 -0.01575922 -0.18084514]\n",
      " [-0.03110987 -0.10948926 -0.13441241 -0.01005854 -0.02832111]]\n",
      "\n",
      "Standard deviation of Cross Validation scores: 0.0583\n",
      "Mean of Cross Validation scores: -0.057\n",
      "\n",
      "Cross validation of validation set when alpha = 1.0e+12:\n",
      "[[-0.00736267 -0.03465257 -0.01766562 -0.01575922 -0.18084514]\n",
      " [-0.03110987 -0.10948926 -0.13441241 -0.01005854 -0.02832111]]\n",
      "\n",
      "Standard deviation of Cross Validation scores: 0.0583\n",
      "Mean of Cross Validation scores: -0.057\n",
      "\n",
      "Cross validation of validation set when alpha = 1.0e+24:\n",
      "[[-0.00736267 -0.03465257 -0.01766562 -0.01575922 -0.18084514]\n",
      " [-0.03110987 -0.10948926 -0.13441241 -0.01005854 -0.02832111]]\n",
      "\n",
      "Standard deviation of Cross Validation scores: 0.0583\n",
      "Mean of Cross Validation scores: -0.057\n",
      "\n"
     ]
    }
   ],
   "source": [
    "#first we need to determine the alpha parameter\n",
    "alpha = [.01, .1, 1, 10, 1e3, 1e6, 1e9, 1e12, 1e24]\n",
    "\n",
    "for i in alpha:\n",
    "    lasso_regr = Lasso(alpha=i)\n",
    "    lasso_cv = cross_val_score(lasso_regr, X_train, Y_train, cv=10).reshape(2,5)\n",
    "    print('Cross validation of training set when alpha = {:0.1e}:\\n{}\\n'.format(int(i), lasso_cv))\n",
    "    print('Standard deviation of Cross Validation scores: {:0.3}'.format(lasso_cv.std()))\n",
    "    print('Mean of Cross Validation scores: {:0.3}\\n'.format(lasso_cv.mean()))\n",
    "    \n",
    "for i in alpha:\n",
    "    lasso_regr = Lasso(alpha=i)\n",
    "    lasso_cv = cross_val_score(lasso_regr, X_val, Y_val, cv=10).reshape(2,5)\n",
    "    print('Cross validation of validation set when alpha = {:0.1e}:\\n{}\\n'.format(int(i), lasso_cv))\n",
    "    print('Standard deviation of Cross Validation scores: {:0.3}'.format(lasso_cv.std()))\n",
    "    print('Mean of Cross Validation scores: {:0.3}\\n'.format(lasso_cv.mean()))"
   ]
  },
  {
   "cell_type": "markdown",
   "metadata": {},
   "source": [
    "Based on the standard deviations of the cross validation sets, alpha=1e9 performs the best without diminishing returns. The 1e12 and 1e24 sets showed the same performace as the 1e9."
   ]
  },
  {
   "cell_type": "code",
   "execution_count": 108,
   "metadata": {},
   "outputs": [
    {
     "name": "stdout",
     "output_type": "stream",
     "text": [
      "\n",
      "***** Training Set Statistics *****\n",
      "\n",
      "R-squared of the training set is: 0.7896792166318454\n",
      "Root mean squared error of the training set is:  34806.43093847389\n",
      "\n",
      "***** Validation Set Statistics *****\n",
      "\n",
      "R-squared of the validation set is: 0.820841566298351\n",
      "Mean absolute error of the prediction is:  24730.804623933156\n",
      "Mean squared error of the prediction is:  1427836541.9875498\n",
      "Root mean squared error of the prediction is:  37786.72441463469\n",
      "Mean absolute percentage error of the prediction is:  14.872834944826948\n",
      "[13991.80645494 26936.14969315  3569.83799081  7752.95791379\n",
      " -3805.59579386 14173.42610189  7082.9507818   6509.63839557\n",
      "  5404.0109727  14217.47564372  9901.04723274]\n"
     ]
    }
   ],
   "source": [
    "lasso_regr = Lasso(alpha=10)\n",
    "lasso_regr.fit(X_train, Y_train)\n",
    "\n",
    "Y_train_pred = lasso_regr.predict(X_train)\n",
    "Y_val_pred = lasso_regr.predict(X_val)\n",
    "\n",
    "mae = mean_absolute_error(Y_val, Y_val_pred)\n",
    "mean_sq_err = mse(Y_val, Y_val_pred)\n",
    "root_mse = rmse(Y_val, Y_val_pred)\n",
    "ma_perc_err = np.mean(np.abs((Y_val - Y_val_pred) / Y_val)) *100\n",
    "\n",
    "print('\\n***** Training Set Statistics *****')\n",
    "print('\\nR-squared of the training set is: {}'.format(lasso_regr.score(X_train, Y_train)))\n",
    "print('Root mean squared error of the training set is: ', rmse(Y_train, Y_train_pred))\n",
    "print('\\n***** Validation Set Statistics *****')\n",
    "print('\\nR-squared of the validation set is: {}'.format(lasso_regr.score(X_val, Y_val)))\n",
    "print('Mean absolute error of the prediction is: ', mae)\n",
    "print('Mean squared error of the prediction is: ', mean_sq_err)\n",
    "print('Root mean squared error of the prediction is: ', root_mse)\n",
    "print('Mean absolute percentage error of the prediction is: ', ma_perc_err)\n",
    "\n",
    "print(lasso_regr.fit(X_train, Y_train).coef_)"
   ]
  },
  {
   "cell_type": "markdown",
   "metadata": {},
   "source": [
    "For the test set and the validation set, the Lasso model performs very poorly. The R-squared for both models is zero and below. All of the error statistics for the prediction have increased from the OLS model, which highlights the poor performance. This model has actually performed worse than the Ridge model that was done above."
   ]
  },
  {
   "cell_type": "markdown",
   "metadata": {},
   "source": [
    "### ElasticNet Iteration"
   ]
  },
  {
   "cell_type": "code",
   "execution_count": 134,
   "metadata": {},
   "outputs": [
    {
     "data": {
      "text/plain": [
       "BayesSearchCV(cv=10, error_score='raise',\n",
       "       estimator=ElasticNet(alpha=1.0, copy_X=True, fit_intercept=True, l1_ratio=0.5,\n",
       "      max_iter=1000, normalize=False, positive=False, precompute=False,\n",
       "      random_state=None, selection='cyclic', tol=0.0001, warm_start=False),\n",
       "       fit_params=None, iid=True, n_iter=50, n_jobs=1, n_points=1,\n",
       "       optimizer_kwargs=None, pre_dispatch='2*n_jobs', random_state=15,\n",
       "       refit=True, return_train_score=False, scoring=None,\n",
       "       search_spaces={'alpha': Real(low=0.001, high=1e+24, prior='normal', transform='identity'), 'l1_ratio': Real(low=0.001, high=1e+24, prior='normal', transform='identity')},\n",
       "       verbose=0)"
      ]
     },
     "execution_count": 134,
     "metadata": {},
     "output_type": "execute_result"
    }
   ],
   "source": [
    "alpha = [.01, .1, 1, 10, 1e3, 1e6, 1e9, 1e12, 1e24]\n",
    "l1_ratio = [.01, .1, 1, 10, 1e3, 1e6, 1e9, 1e12, 1e24]\n",
    "opt = BayesSearchCV(ElasticNet(), {'alpha':Real(.001,1e24, prior='normal'), 'l1_ratio':Real(.001,1e24, prior='normal')}, cv=10, random_state=15)\n",
    "opt.fit(X_train, Y_train)"
   ]
  },
  {
   "cell_type": "code",
   "execution_count": 135,
   "metadata": {},
   "outputs": [
    {
     "name": "stdout",
     "output_type": "stream",
     "text": [
      "Bayesian Search CV alpha value: 0.113\n",
      "Bayesian Search CV l1_ratio value: 0.001\n"
     ]
    }
   ],
   "source": [
    "print('Bayesian Search CV alpha value: {:.3g}'.format(opt.best_params_['alpha']))\n",
    "print('Bayesian Search CV l1_ratio value: {:.3g}'.format(opt.best_params_['l1_ratio']))"
   ]
  },
  {
   "cell_type": "code",
   "execution_count": 137,
   "metadata": {},
   "outputs": [
    {
     "name": "stdout",
     "output_type": "stream",
     "text": [
      "\n",
      "***** Training Set Statistics *****\n",
      "\n",
      "R-squared of the training set is: 0.78821156808612\n",
      "Root mean squared error of the training set is:  34927.66194412206\n",
      "\n",
      "***** Validation Set Statistics *****\n",
      "\n",
      "R-squared of the validation set is: 0.8088901580822329\n",
      "Mean absolute error of the prediction is:  25190.506953595188\n",
      "Mean squared error of the prediction is:  1523085518.1401396\n",
      "Root mean squared error of the prediction is:  39026.728253084955\n",
      "Mean absolute percentage error of the prediction is:  15.197570956925738\n"
     ]
    }
   ],
   "source": [
    "elastic_regr = ElasticNet(alpha=0.113, l1_ratio=0.001)\n",
    "elastic_regr.fit(X_train, Y_train)\n",
    "\n",
    "Y_train_pred = elastic_regr.predict(X_train)\n",
    "Y_val_pred = elastic_regr.predict(X_val)\n",
    "\n",
    "mae = mean_absolute_error(Y_val, Y_val_pred)\n",
    "mean_sq_err = mse(Y_val, Y_val_pred)\n",
    "root_mse = rmse(Y_val, Y_val_pred)\n",
    "ma_perc_err = np.mean(np.abs((Y_val - Y_val_pred) / Y_val)) *100\n",
    "\n",
    "print('\\n***** Training Set Statistics *****')\n",
    "print('\\nR-squared of the training set is: {}'.format(elastic_regr.score(X_train, Y_train)))\n",
    "print('Root mean squared error of the training set is: ', rmse(Y_train, Y_train_pred))\n",
    "print('\\n***** Validation Set Statistics *****')\n",
    "print('\\nR-squared of the validation set is: {}'.format(elastic_regr.score(X_val, Y_val)))\n",
    "print('Mean absolute error of the prediction is: ', mae)\n",
    "print('Mean squared error of the prediction is: ', mean_sq_err)\n",
    "print('Root mean squared error of the prediction is: ', root_mse)\n",
    "print('Mean absolute percentage error of the prediction is: ', ma_perc_err)\n"
   ]
  },
  {
   "cell_type": "markdown",
   "metadata": {},
   "source": [
    "Out of all 4 models, the Elastic Net model is probably the worst performing model. Not by much, but it is still slightly worse than the Ridge and Lasso models. One thing that this model did do is bring the R-squared gap between training and validation closer together. In the other models the training and validation R-squareds are ~0.04 apart. Here the gap is reduced to 0.02, which might mean that this is the best model in regards to over/underfitting. \n",
    "\n",
    "Out of all the models, the best is still the original OLS. Lasso gets extremely close in regards to R-squared and RMSE, but it is slightly edged out by OLS. Interestingly enough, the Lasso coefficeints did not remove any of the original features from the regression model. It might be worth iterating on the Lasso model with more of the features from the original dataset to see if any important features had been unnecessarily removed during the feature engineering stage of the process."
   ]
  }
 ],
 "metadata": {
  "kernelspec": {
   "display_name": "Python 3",
   "language": "python",
   "name": "python3"
  },
  "language_info": {
   "codemirror_mode": {
    "name": "ipython",
    "version": 3
   },
   "file_extension": ".py",
   "mimetype": "text/x-python",
   "name": "python",
   "nbconvert_exporter": "python",
   "pygments_lexer": "ipython3",
   "version": "3.7.1"
  }
 },
 "nbformat": 4,
 "nbformat_minor": 2
}

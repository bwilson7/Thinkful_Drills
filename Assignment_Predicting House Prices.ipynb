{
 "cells": [
  {
   "cell_type": "code",
   "execution_count": 1,
   "metadata": {},
   "outputs": [],
   "source": [
    "import numpy as np\n",
    "import pandas as pd\n",
    "from sklearn import linear_model\n",
    "import statsmodels.api as sm\n",
    "import seaborn as sns\n",
    "import matplotlib.pyplot as plt\n",
    "%matplotlib inline\n",
    "from sqlalchemy import create_engine\n",
    "\n",
    "import warnings\n",
    "warnings.filterwarnings('ignore')\n",
    "\n",
    "postgres_user = 'dsbc_student'\n",
    "postgres_pw = '7*.8G9QH21'\n",
    "postgres_host = '142.93.121.174'\n",
    "postgres_port = '5432'\n",
    "postgres_db = 'houseprices'"
   ]
  },
  {
   "cell_type": "code",
   "execution_count": 4,
   "metadata": {},
   "outputs": [],
   "source": [
    "engine = create_engine('postgresql://{}:{}@{}:{}/{}'.format(\n",
    "    postgres_user, postgres_pw, postgres_host, postgres_port, postgres_db))\n",
    "\n",
    "house_prices_df = pd.read_sql_query('select * from houseprices', con=engine)\n",
    "\n",
    "engine.dispose()"
   ]
  },
  {
   "cell_type": "code",
   "execution_count": 165,
   "metadata": {},
   "outputs": [
    {
     "name": "stdout",
     "output_type": "stream",
     "text": [
      "1460\n"
     ]
    },
    {
     "data": {
      "text/html": [
       "<div>\n",
       "<style scoped>\n",
       "    .dataframe tbody tr th:only-of-type {\n",
       "        vertical-align: middle;\n",
       "    }\n",
       "\n",
       "    .dataframe tbody tr th {\n",
       "        vertical-align: top;\n",
       "    }\n",
       "\n",
       "    .dataframe thead th {\n",
       "        text-align: right;\n",
       "    }\n",
       "</style>\n",
       "<table border=\"1\" class=\"dataframe\">\n",
       "  <thead>\n",
       "    <tr style=\"text-align: right;\">\n",
       "      <th></th>\n",
       "      <th>id</th>\n",
       "      <th>mssubclass</th>\n",
       "      <th>mszoning</th>\n",
       "      <th>lotfrontage</th>\n",
       "      <th>lotarea</th>\n",
       "      <th>street</th>\n",
       "      <th>alley</th>\n",
       "      <th>lotshape</th>\n",
       "      <th>landcontour</th>\n",
       "      <th>utilities</th>\n",
       "      <th>...</th>\n",
       "      <th>poolarea</th>\n",
       "      <th>poolqc</th>\n",
       "      <th>fence</th>\n",
       "      <th>miscfeature</th>\n",
       "      <th>miscval</th>\n",
       "      <th>mosold</th>\n",
       "      <th>yrsold</th>\n",
       "      <th>saletype</th>\n",
       "      <th>salecondition</th>\n",
       "      <th>saleprice</th>\n",
       "    </tr>\n",
       "  </thead>\n",
       "  <tbody>\n",
       "    <tr>\n",
       "      <th>0</th>\n",
       "      <td>1</td>\n",
       "      <td>60</td>\n",
       "      <td>RL</td>\n",
       "      <td>65.0</td>\n",
       "      <td>8450</td>\n",
       "      <td>Pave</td>\n",
       "      <td>None</td>\n",
       "      <td>Reg</td>\n",
       "      <td>Lvl</td>\n",
       "      <td>AllPub</td>\n",
       "      <td>...</td>\n",
       "      <td>0</td>\n",
       "      <td>None</td>\n",
       "      <td>None</td>\n",
       "      <td>None</td>\n",
       "      <td>0</td>\n",
       "      <td>2</td>\n",
       "      <td>2008</td>\n",
       "      <td>WD</td>\n",
       "      <td>Normal</td>\n",
       "      <td>208500</td>\n",
       "    </tr>\n",
       "    <tr>\n",
       "      <th>1</th>\n",
       "      <td>2</td>\n",
       "      <td>20</td>\n",
       "      <td>RL</td>\n",
       "      <td>80.0</td>\n",
       "      <td>9600</td>\n",
       "      <td>Pave</td>\n",
       "      <td>None</td>\n",
       "      <td>Reg</td>\n",
       "      <td>Lvl</td>\n",
       "      <td>AllPub</td>\n",
       "      <td>...</td>\n",
       "      <td>0</td>\n",
       "      <td>None</td>\n",
       "      <td>None</td>\n",
       "      <td>None</td>\n",
       "      <td>0</td>\n",
       "      <td>5</td>\n",
       "      <td>2007</td>\n",
       "      <td>WD</td>\n",
       "      <td>Normal</td>\n",
       "      <td>181500</td>\n",
       "    </tr>\n",
       "    <tr>\n",
       "      <th>2</th>\n",
       "      <td>3</td>\n",
       "      <td>60</td>\n",
       "      <td>RL</td>\n",
       "      <td>68.0</td>\n",
       "      <td>11250</td>\n",
       "      <td>Pave</td>\n",
       "      <td>None</td>\n",
       "      <td>IR1</td>\n",
       "      <td>Lvl</td>\n",
       "      <td>AllPub</td>\n",
       "      <td>...</td>\n",
       "      <td>0</td>\n",
       "      <td>None</td>\n",
       "      <td>None</td>\n",
       "      <td>None</td>\n",
       "      <td>0</td>\n",
       "      <td>9</td>\n",
       "      <td>2008</td>\n",
       "      <td>WD</td>\n",
       "      <td>Normal</td>\n",
       "      <td>223500</td>\n",
       "    </tr>\n",
       "    <tr>\n",
       "      <th>3</th>\n",
       "      <td>4</td>\n",
       "      <td>70</td>\n",
       "      <td>RL</td>\n",
       "      <td>60.0</td>\n",
       "      <td>9550</td>\n",
       "      <td>Pave</td>\n",
       "      <td>None</td>\n",
       "      <td>IR1</td>\n",
       "      <td>Lvl</td>\n",
       "      <td>AllPub</td>\n",
       "      <td>...</td>\n",
       "      <td>0</td>\n",
       "      <td>None</td>\n",
       "      <td>None</td>\n",
       "      <td>None</td>\n",
       "      <td>0</td>\n",
       "      <td>2</td>\n",
       "      <td>2006</td>\n",
       "      <td>WD</td>\n",
       "      <td>Abnorml</td>\n",
       "      <td>140000</td>\n",
       "    </tr>\n",
       "    <tr>\n",
       "      <th>4</th>\n",
       "      <td>5</td>\n",
       "      <td>60</td>\n",
       "      <td>RL</td>\n",
       "      <td>84.0</td>\n",
       "      <td>14260</td>\n",
       "      <td>Pave</td>\n",
       "      <td>None</td>\n",
       "      <td>IR1</td>\n",
       "      <td>Lvl</td>\n",
       "      <td>AllPub</td>\n",
       "      <td>...</td>\n",
       "      <td>0</td>\n",
       "      <td>None</td>\n",
       "      <td>None</td>\n",
       "      <td>None</td>\n",
       "      <td>0</td>\n",
       "      <td>12</td>\n",
       "      <td>2008</td>\n",
       "      <td>WD</td>\n",
       "      <td>Normal</td>\n",
       "      <td>250000</td>\n",
       "    </tr>\n",
       "    <tr>\n",
       "      <th>5</th>\n",
       "      <td>6</td>\n",
       "      <td>50</td>\n",
       "      <td>RL</td>\n",
       "      <td>85.0</td>\n",
       "      <td>14115</td>\n",
       "      <td>Pave</td>\n",
       "      <td>None</td>\n",
       "      <td>IR1</td>\n",
       "      <td>Lvl</td>\n",
       "      <td>AllPub</td>\n",
       "      <td>...</td>\n",
       "      <td>0</td>\n",
       "      <td>None</td>\n",
       "      <td>MnPrv</td>\n",
       "      <td>Shed</td>\n",
       "      <td>700</td>\n",
       "      <td>10</td>\n",
       "      <td>2009</td>\n",
       "      <td>WD</td>\n",
       "      <td>Normal</td>\n",
       "      <td>143000</td>\n",
       "    </tr>\n",
       "    <tr>\n",
       "      <th>6</th>\n",
       "      <td>7</td>\n",
       "      <td>20</td>\n",
       "      <td>RL</td>\n",
       "      <td>75.0</td>\n",
       "      <td>10084</td>\n",
       "      <td>Pave</td>\n",
       "      <td>None</td>\n",
       "      <td>Reg</td>\n",
       "      <td>Lvl</td>\n",
       "      <td>AllPub</td>\n",
       "      <td>...</td>\n",
       "      <td>0</td>\n",
       "      <td>None</td>\n",
       "      <td>None</td>\n",
       "      <td>None</td>\n",
       "      <td>0</td>\n",
       "      <td>8</td>\n",
       "      <td>2007</td>\n",
       "      <td>WD</td>\n",
       "      <td>Normal</td>\n",
       "      <td>307000</td>\n",
       "    </tr>\n",
       "    <tr>\n",
       "      <th>7</th>\n",
       "      <td>8</td>\n",
       "      <td>60</td>\n",
       "      <td>RL</td>\n",
       "      <td>NaN</td>\n",
       "      <td>10382</td>\n",
       "      <td>Pave</td>\n",
       "      <td>None</td>\n",
       "      <td>IR1</td>\n",
       "      <td>Lvl</td>\n",
       "      <td>AllPub</td>\n",
       "      <td>...</td>\n",
       "      <td>0</td>\n",
       "      <td>None</td>\n",
       "      <td>None</td>\n",
       "      <td>Shed</td>\n",
       "      <td>350</td>\n",
       "      <td>11</td>\n",
       "      <td>2009</td>\n",
       "      <td>WD</td>\n",
       "      <td>Normal</td>\n",
       "      <td>200000</td>\n",
       "    </tr>\n",
       "    <tr>\n",
       "      <th>8</th>\n",
       "      <td>9</td>\n",
       "      <td>50</td>\n",
       "      <td>RM</td>\n",
       "      <td>51.0</td>\n",
       "      <td>6120</td>\n",
       "      <td>Pave</td>\n",
       "      <td>None</td>\n",
       "      <td>Reg</td>\n",
       "      <td>Lvl</td>\n",
       "      <td>AllPub</td>\n",
       "      <td>...</td>\n",
       "      <td>0</td>\n",
       "      <td>None</td>\n",
       "      <td>None</td>\n",
       "      <td>None</td>\n",
       "      <td>0</td>\n",
       "      <td>4</td>\n",
       "      <td>2008</td>\n",
       "      <td>WD</td>\n",
       "      <td>Abnorml</td>\n",
       "      <td>129900</td>\n",
       "    </tr>\n",
       "    <tr>\n",
       "      <th>9</th>\n",
       "      <td>10</td>\n",
       "      <td>190</td>\n",
       "      <td>RL</td>\n",
       "      <td>50.0</td>\n",
       "      <td>7420</td>\n",
       "      <td>Pave</td>\n",
       "      <td>None</td>\n",
       "      <td>Reg</td>\n",
       "      <td>Lvl</td>\n",
       "      <td>AllPub</td>\n",
       "      <td>...</td>\n",
       "      <td>0</td>\n",
       "      <td>None</td>\n",
       "      <td>None</td>\n",
       "      <td>None</td>\n",
       "      <td>0</td>\n",
       "      <td>1</td>\n",
       "      <td>2008</td>\n",
       "      <td>WD</td>\n",
       "      <td>Normal</td>\n",
       "      <td>118000</td>\n",
       "    </tr>\n",
       "  </tbody>\n",
       "</table>\n",
       "<p>10 rows × 81 columns</p>\n",
       "</div>"
      ],
      "text/plain": [
       "   id  mssubclass mszoning  lotfrontage  lotarea street alley lotshape  \\\n",
       "0   1          60       RL         65.0     8450   Pave  None      Reg   \n",
       "1   2          20       RL         80.0     9600   Pave  None      Reg   \n",
       "2   3          60       RL         68.0    11250   Pave  None      IR1   \n",
       "3   4          70       RL         60.0     9550   Pave  None      IR1   \n",
       "4   5          60       RL         84.0    14260   Pave  None      IR1   \n",
       "5   6          50       RL         85.0    14115   Pave  None      IR1   \n",
       "6   7          20       RL         75.0    10084   Pave  None      Reg   \n",
       "7   8          60       RL          NaN    10382   Pave  None      IR1   \n",
       "8   9          50       RM         51.0     6120   Pave  None      Reg   \n",
       "9  10         190       RL         50.0     7420   Pave  None      Reg   \n",
       "\n",
       "  landcontour utilities    ...     poolarea poolqc  fence miscfeature miscval  \\\n",
       "0         Lvl    AllPub    ...            0   None   None        None       0   \n",
       "1         Lvl    AllPub    ...            0   None   None        None       0   \n",
       "2         Lvl    AllPub    ...            0   None   None        None       0   \n",
       "3         Lvl    AllPub    ...            0   None   None        None       0   \n",
       "4         Lvl    AllPub    ...            0   None   None        None       0   \n",
       "5         Lvl    AllPub    ...            0   None  MnPrv        Shed     700   \n",
       "6         Lvl    AllPub    ...            0   None   None        None       0   \n",
       "7         Lvl    AllPub    ...            0   None   None        Shed     350   \n",
       "8         Lvl    AllPub    ...            0   None   None        None       0   \n",
       "9         Lvl    AllPub    ...            0   None   None        None       0   \n",
       "\n",
       "  mosold yrsold  saletype  salecondition  saleprice  \n",
       "0      2   2008        WD         Normal     208500  \n",
       "1      5   2007        WD         Normal     181500  \n",
       "2      9   2008        WD         Normal     223500  \n",
       "3      2   2006        WD        Abnorml     140000  \n",
       "4     12   2008        WD         Normal     250000  \n",
       "5     10   2009        WD         Normal     143000  \n",
       "6      8   2007        WD         Normal     307000  \n",
       "7     11   2009        WD         Normal     200000  \n",
       "8      4   2008        WD        Abnorml     129900  \n",
       "9      1   2008        WD         Normal     118000  \n",
       "\n",
       "[10 rows x 81 columns]"
      ]
     },
     "execution_count": 165,
     "metadata": {},
     "output_type": "execute_result"
    }
   ],
   "source": [
    "#Quick check on the number of rows and the columns in the dataframe\n",
    "print(len(house_prices_df))\n",
    "house_prices_df.iloc[:,:81].head(10)"
   ]
  },
  {
   "cell_type": "code",
   "execution_count": 170,
   "metadata": {},
   "outputs": [
    {
     "data": {
      "image/png": "[encoded data removed]",
      "text/plain": [
       "<Figure size 432x288 with 1 Axes>"
      ]
     },
     "metadata": {
      "needs_background": "light"
     },
     "output_type": "display_data"
    },
    {
     "name": "stdout",
     "output_type": "stream",
     "text": [
      "Mean house price in Aimes:  180921.19589041095\n"
     ]
    }
   ],
   "source": [
    "#Since we are estimating the saleprice I want to check the distribution\n",
    "plt.hist(house_prices_df['saleprice'], color ='b')\n",
    "plt.xlabel('Sold Home Price')\n",
    "plt.ylabel('Frequency')\n",
    "plt.axvline(house_prices_df['saleprice'].mean(), color='r', alpha=1.0)\n",
    "plt.title('Distribution of Home Prices in Aimes, Iowa')\n",
    "plt.show()\n",
    "print('Mean house price in Aimes: ', house_prices_df['saleprice'].mean())"
   ]
  },
  {
   "cell_type": "markdown",
   "metadata": {},
   "source": [
    "The sale price of the homes in Aimes, Iowa seems to be right-skewed with a few homes selling in the $ 700,000 range and the mean price at $ 180,000. Next, I want to dig into some of the variables and determine whether or not they would be a good fit for the model. Most of the data is categorical with string values for different classifiers, so the following evaluation will include digging into most of them one by one."
   ]
  },
  {
   "cell_type": "code",
   "execution_count": 196,
   "metadata": {},
   "outputs": [
    {
     "data": {
      "image/png": "[encoded data removed]",
      "text/plain": [
       "<Figure size 432x288 with 1 Axes>"
      ]
     },
     "metadata": {
      "needs_background": "light"
     },
     "output_type": "display_data"
    }
   ],
   "source": [
    "#print(house_prices_df.salecondition.value_counts())\n",
    "plt.bar(\n",
    "    house_prices_df.groupby('salecondition')['saleprice'].mean().index,\n",
    "    house_prices_df.groupby('salecondition')['saleprice'].mean()\n",
    ")\n",
    "plt.xlabel('Sale Condition')\n",
    "plt.ylabel('Avg. Sale Price ($)')\n",
    "plt.show()"
   ]
  },
  {
   "cell_type": "markdown",
   "metadata": {},
   "source": [
    "The sale condition of the home represents the condition of the house. The partial case that has a higher average home sale price is representative of homes that are only partially finished(i.e. new builds). Classifying whether a home is in this class could help predict the sale price, especially given the disparity in the average sale price when compared to normal sale conditions."
   ]
  },
  {
   "cell_type": "code",
   "execution_count": 195,
   "metadata": {
    "scrolled": true
   },
   "outputs": [
    {
     "data": {
      "image/png": "[encoded data removed]",
      "text/plain": [
       "<Figure size 432x288 with 1 Axes>"
      ]
     },
     "metadata": {
      "needs_background": "light"
     },
     "output_type": "display_data"
    }
   ],
   "source": [
    "plt.bar(\n",
    "    house_prices_df.groupby('neighborhood')['saleprice'].mean().index,\n",
    "    house_prices_df.groupby('neighborhood')['saleprice'].mean()\n",
    ")\n",
    "plt.xticks(rotation=90)\n",
    "plt.xlabel('Neighborhood')\n",
    "plt.ylabel('Avg. Sale Price ($)')\n",
    "plt.show()\n",
    "\n",
    "#house_prices_df.neighborhood.value_counts()"
   ]
  },
  {
   "cell_type": "markdown",
   "metadata": {},
   "source": [
    "There are a lot of neighborhoods in the dataset which could diminish the effectiveness of this feature. The neighborhoods with the high average sale prices make up less than 10% of the dataset and are likely not representative of average home prices in the area."
   ]
  },
  {
   "cell_type": "code",
   "execution_count": 176,
   "metadata": {
    "scrolled": true
   },
   "outputs": [
    {
     "data": {
      "image/png": "[encoded data removed]",
      "text/plain": [
       "<Figure size 432x288 with 1 Axes>"
      ]
     },
     "metadata": {
      "needs_background": "light"
     },
     "output_type": "display_data"
    }
   ],
   "source": [
    "plt.bar(\n",
    "    house_prices_df.groupby('paveddrive')['saleprice'].mean().index,\n",
    "    house_prices_df.groupby('paveddrive')['saleprice'].mean()\n",
    ")\n",
    "plt.xticks(rotation=90)\n",
    "plt.xlabel('Paved Driveway?')\n",
    "plt.ylabel('Avg. Sale Price ($)')\n",
    "plt.show()"
   ]
  },
  {
   "cell_type": "markdown",
   "metadata": {},
   "source": [
    "Interestingly whether or not the driveway is paved has a clear impact on the average home price. This could be an interesting feature to use in the regression model."
   ]
  },
  {
   "cell_type": "code",
   "execution_count": 175,
   "metadata": {
    "scrolled": true
   },
   "outputs": [
    {
     "data": {
      "image/png": "[encoded data removed]",
      "text/plain": [
       "<Figure size 432x288 with 1 Axes>"
      ]
     },
     "metadata": {
      "needs_background": "light"
     },
     "output_type": "display_data"
    }
   ],
   "source": [
    "plt.bar(\n",
    "    house_prices_df.groupby('garagequal')['saleprice'].mean().index,\n",
    "    house_prices_df.groupby('garagequal')['saleprice'].mean()\n",
    ")\n",
    "plt.xticks(rotation=90)\n",
    "plt.xlabel('Garage Quality')\n",
    "plt.ylabel('Avg. Sale Price ($)')\n",
    "plt.show()"
   ]
  },
  {
   "cell_type": "markdown",
   "metadata": {},
   "source": [
    "The good and excellent quality garages do demand a higher price than the fair and poor quality ones, but it is not that much more than the totally average ones. I think I will leave this one out of the analysis."
   ]
  },
  {
   "cell_type": "code",
   "execution_count": 194,
   "metadata": {
    "scrolled": true
   },
   "outputs": [
    {
     "data": {
      "image/png": "[encoded data removed]",
      "text/plain": [
       "<Figure size 432x288 with 1 Axes>"
      ]
     },
     "metadata": {
      "needs_background": "light"
     },
     "output_type": "display_data"
    }
   ],
   "source": [
    "#print(house_prices_df.garagecars.value_counts())\n",
    "plt.bar(\n",
    "    house_prices_df.groupby('garagecars')['saleprice'].mean().index,\n",
    "    house_prices_df.groupby('garagecars')['saleprice'].mean()\n",
    ")\n",
    "plt.xticks(rotation=90)\n",
    "plt.xlabel('Number of Bays in the Garage')\n",
    "plt.ylabel('Avg. Sale Price ($)')\n",
    "plt.show()"
   ]
  },
  {
   "cell_type": "markdown",
   "metadata": {},
   "source": [
    "There is a big jump from the low $ 200,000 range to over $ 300,000 average price when the house has a 3 car garage. Whether or not the house has a 3 car garage will be a good binary feature to create and use in the model."
   ]
  },
  {
   "cell_type": "code",
   "execution_count": 193,
   "metadata": {
    "scrolled": true
   },
   "outputs": [
    {
     "data": {
      "image/png": "[encoded data removed]",
      "text/plain": [
       "<Figure size 432x288 with 1 Axes>"
      ]
     },
     "metadata": {
      "needs_background": "light"
     },
     "output_type": "display_data"
    }
   ],
   "source": [
    "#print(house_prices_df.garagefinish.value_counts())\n",
    "plt.bar(\n",
    "    house_prices_df.groupby('garagefinish')['saleprice'].mean().index,\n",
    "    house_prices_df.groupby('garagefinish')['saleprice'].mean()\n",
    ")\n",
    "plt.xticks(rotation=90)\n",
    "plt.xlabel('Finish Level of The Garage')\n",
    "plt.ylabel('Avg. Sale Price ($)')\n",
    "plt.show()"
   ]
  },
  {
   "cell_type": "markdown",
   "metadata": {},
   "source": [
    "There is an increasing trend in home prices when compared to whether or not the garage is finished out or not. Categorizing the homes with finished garages could help the model. The feature engineering will be done in one chunk of code at the end of the data exploration sections."
   ]
  },
  {
   "cell_type": "code",
   "execution_count": 192,
   "metadata": {
    "scrolled": true
   },
   "outputs": [
    {
     "data": {
      "image/png": "[encoded data removed]",
      "text/plain": [
       "<Figure size 432x288 with 1 Axes>"
      ]
     },
     "metadata": {
      "needs_background": "light"
     },
     "output_type": "display_data"
    }
   ],
   "source": [
    "#print(house_prices_df.garagetype.value_counts())\n",
    "plt.bar(\n",
    "    house_prices_df.groupby('garagetype')['saleprice'].mean().index,\n",
    "    house_prices_df.groupby('garagetype')['saleprice'].mean()\n",
    ")\n",
    "plt.xticks(rotation=90)\n",
    "plt.xlabel('Type of Garage')\n",
    "plt.ylabel('Avg. Sale Price ($)')\n",
    "plt.show()"
   ]
  },
  {
   "cell_type": "markdown",
   "metadata": {},
   "source": [
    "Homes with attached garages have a higher average sale price than homes with detached garages, and builtin garages with rooms above them are a type of attached garage. I want to try and run a model that includes each of these features, but would want to classify the homes with attached and builtin categories as one feature \"attached garages\"."
   ]
  },
  {
   "cell_type": "code",
   "execution_count": 191,
   "metadata": {
    "scrolled": true
   },
   "outputs": [
    {
     "data": {
      "image/png": "[encoded data removed]",
      "text/plain": [
       "<Figure size 432x288 with 1 Axes>"
      ]
     },
     "metadata": {
      "needs_background": "light"
     },
     "output_type": "display_data"
    }
   ],
   "source": [
    "#print(house_prices_df.housestyle.value_counts())\n",
    "plt.bar(\n",
    "    house_prices_df.groupby('housestyle')['saleprice'].mean().index,\n",
    "    house_prices_df.groupby('housestyle')['saleprice'].mean()\n",
    ")\n",
    "plt.xticks(rotation=90)\n",
    "plt.xlabel('Type of Home')\n",
    "plt.ylabel('Avg. Sale Price ($)')\n",
    "plt.show()"
   ]
  },
  {
   "cell_type": "markdown",
   "metadata": {},
   "source": [
    "There are lots of different types of homes in the dataset, but they have direct correlations with one another. If the home is 2 story (then it definitely isn't a one story) it could be either unfinished or finished which have different effects on the price and would provide unpredictable results."
   ]
  },
  {
   "cell_type": "code",
   "execution_count": 199,
   "metadata": {},
   "outputs": [
    {
     "data": {
      "image/png": "[encoded data removed]",
      "text/plain": [
       "<Figure size 432x288 with 1 Axes>"
      ]
     },
     "metadata": {
      "needs_background": "light"
     },
     "output_type": "display_data"
    }
   ],
   "source": [
    "plt.bar(\n",
    "    house_prices_df.groupby('bedroomabvgr')['saleprice'].mean().index,\n",
    "    house_prices_df.groupby('bedroomabvgr')['saleprice'].mean()\n",
    ")\n",
    "plt.xlabel('Above Ground Bedrooms')\n",
    "plt.ylabel('Avg. Sale Price ($)')\n",
    "plt.show()"
   ]
  },
  {
   "cell_type": "markdown",
   "metadata": {},
   "source": [
    "Typically one would think that the number of bedrooms would be loosely correlated to the size of the home and the price, but in this case it looks like that assumption does not hold true."
   ]
  },
  {
   "cell_type": "code",
   "execution_count": 202,
   "metadata": {},
   "outputs": [
    {
     "data": {
      "image/png": "[encoded data removed]",
      "text/plain": [
       "<Figure size 432x288 with 1 Axes>"
      ]
     },
     "metadata": {
      "needs_background": "light"
     },
     "output_type": "display_data"
    }
   ],
   "source": [
    "#summing the measured square footage for the floors in all homes\n",
    "house_prices_df['total_sf'] = house_prices_df['totalbsmtsf'] + house_prices_df['firstflrsf'] + house_prices_df['secondflrsf']\n",
    "\n",
    "plt.scatter(\n",
    "    house_prices_df['total_sf'],\n",
    "    house_prices_df['saleprice']\n",
    ")\n",
    "plt.xlabel('Total Home Square Footage')\n",
    "plt.ylabel('Sale Price ($)')\n",
    "plt.show()"
   ]
  },
  {
   "cell_type": "markdown",
   "metadata": {},
   "source": [
    "There is a strong correlation between the square footage of the home and the sale price. This will be an important feature to include in the models."
   ]
  },
  {
   "cell_type": "code",
   "execution_count": 208,
   "metadata": {},
   "outputs": [
    {
     "data": {
      "image/png": "[encoded data removed]",
      "text/plain": [
       "<Figure size 720x360 with 2 Axes>"
      ]
     },
     "metadata": {
      "needs_background": "light"
     },
     "output_type": "display_data"
    }
   ],
   "source": [
    "#Generating Bathroom counts for all the houses\n",
    "house_prices_df['total_full_baths'] = house_prices_df['bsmtfullbath'] + house_prices_df['fullbath']\n",
    "house_prices_df['total_half_baths'] = house_prices_df['bsmthalfbath'] + house_prices_df['halfbath']\n",
    "\n",
    "plt.figure(figsize=(10,5))\n",
    "\n",
    "plt.subplot(1,2,1)\n",
    "plt.bar(\n",
    "    house_prices_df.groupby('total_full_baths')['saleprice'].mean().index,\n",
    "    house_prices_df.groupby('total_full_baths')['saleprice'].mean()\n",
    ")\n",
    "plt.xlabel('Number of Full Baths')\n",
    "plt.ylabel('Avg. Sale Price ($)')\n",
    "\n",
    "plt.subplot(1,2,2)\n",
    "plt.bar(\n",
    "    house_prices_df.groupby('total_half_baths')['saleprice'].mean().index,\n",
    "    house_prices_df.groupby('total_half_baths')['saleprice'].mean()\n",
    ")\n",
    "plt.xlabel('Number of Half Baths')\n",
    "plt.ylabel('Avg. Sale Price ($)')\n",
    "\n",
    "plt.tight_layout()\n",
    "plt.show()"
   ]
  },
  {
   "cell_type": "markdown",
   "metadata": {},
   "source": [
    "There does seem to be a peak in price for homes with 4 full baths, but the correlation with the number of baths and sale price is pretty poor. It's a similar story for the half baths, the average sale prices for all classes are fairly similar. I think I will leave these features out of the model."
   ]
  },
  {
   "cell_type": "code",
   "execution_count": 209,
   "metadata": {
    "scrolled": true
   },
   "outputs": [
    {
     "data": {
      "image/png": "[encoded data removed]",
      "text/plain": [
       "<Figure size 432x288 with 1 Axes>"
      ]
     },
     "metadata": {
      "needs_background": "light"
     },
     "output_type": "display_data"
    }
   ],
   "source": [
    "plt.bar(\n",
    "    house_prices_df.groupby('kitchenqual')['saleprice'].mean().index,\n",
    "    house_prices_df.groupby('kitchenqual')['saleprice'].mean()\n",
    ")\n",
    "plt.xlabel('Quality of The Kitchen')\n",
    "plt.ylabel('Avg. Sale Price ($)')\n",
    "plt.show()\n",
    "\n",
    "#house_prices_df.kitchenqual.value_counts()"
   ]
  },
  {
   "cell_type": "markdown",
   "metadata": {},
   "source": [
    "There is an interesting correlation with these features. The kitchens that are above average (Excellent & Good) have significantly higher average sale prices than those homes with average of fair quality kitchens. I will create a feature below that will take the kitchen quality into account for the model."
   ]
  },
  {
   "cell_type": "markdown",
   "metadata": {},
   "source": [
    "### Feature Engineering\n",
    "\n",
    "For the next bit of the project I want to create numeric features for all of the categorical features that I talked about above. The next chunk of the project will be devoted to creating the features, checking that they are in the dataframe correctly and then moving onto the modeling."
   ]
  },
  {
   "cell_type": "code",
   "execution_count": 143,
   "metadata": {},
   "outputs": [],
   "source": [
    "garage_type = pd.get_dummies(house_prices_df['garagetype'], prefix='garagetype')\n",
    "house_prices_df = pd.concat([house_prices_df, garage_type], axis=1)"
   ]
  },
  {
   "cell_type": "code",
   "execution_count": 144,
   "metadata": {},
   "outputs": [],
   "source": [
    "num_car_garage = pd.get_dummies(house_prices_df['garagecars'], prefix='car_garage')\n",
    "house_prices_df = pd.concat([house_prices_df, num_car_garage], axis=1)"
   ]
  },
  {
   "cell_type": "code",
   "execution_count": 102,
   "metadata": {},
   "outputs": [],
   "source": [
    "paved = pd.get_dummies(house_prices_df['paveddrive'], prefix='paved_driveway')\n",
    "house_prices_df = pd.concat([house_prices_df, paved], axis=1)"
   ]
  },
  {
   "cell_type": "code",
   "execution_count": 181,
   "metadata": {},
   "outputs": [],
   "source": [
    "garage_finish = pd.get_dummies(house_prices_df['garagefinish'], prefix='garagefinish')\n",
    "house_prices_df = pd.concat([house_prices_df, garage_finish], axis=1)"
   ]
  },
  {
   "cell_type": "code",
   "execution_count": 182,
   "metadata": {},
   "outputs": [
    {
     "data": {
      "text/plain": [
       "Index(['id', 'mssubclass', 'mszoning', 'lotfrontage', 'lotarea', 'street',\n",
       "       'alley', 'lotshape', 'landcontour', 'utilities',\n",
       "       ...\n",
       "       'garagetype_CarPort', 'garagetype_Detchd', 'car_garage_0',\n",
       "       'car_garage_1', 'car_garage_2', 'car_garage_3', 'car_garage_4',\n",
       "       'garagefinish_Fin', 'garagefinish_RFn', 'garagefinish_Unf'],\n",
       "      dtype='object', length=102)"
      ]
     },
     "execution_count": 182,
     "metadata": {},
     "output_type": "execute_result"
    }
   ],
   "source": [
    "house_prices_df.columns"
   ]
  },
  {
   "cell_type": "code",
   "execution_count": 140,
   "metadata": {},
   "outputs": [],
   "source": [
    "#Does the house have an above average kitchen feature\n",
    "house_prices_df['awesome_kitchen'] = 9999"
   ]
  },
  {
   "cell_type": "code",
   "execution_count": 142,
   "metadata": {},
   "outputs": [
    {
     "data": {
      "text/plain": [
       "0    774\n",
       "1    686\n",
       "Name: awesome_kitchen, dtype: int64"
      ]
     },
     "execution_count": 142,
     "metadata": {},
     "output_type": "execute_result"
    }
   ],
   "source": [
    "house_prices_df.loc[(house_prices_df['kitchenqual'] == 'Ex') | (house_prices_df['kitchenqual'] == 'Gd'), \n",
    "                    ['awesome_kitchen']] = 1\n",
    "house_prices_df.loc[(house_prices_df['kitchenqual'] == 'Fa') | (house_prices_df['kitchenqual'] == 'TA'), \n",
    "                    ['awesome_kitchen']] = 0\n",
    "house_prices_df.awesome_kitchen.value_counts()"
   ]
  },
  {
   "cell_type": "code",
   "execution_count": 187,
   "metadata": {},
   "outputs": [
    {
     "data": {
      "text/plain": [
       "1    958\n",
       "0    502\n",
       "Name: attached_garage, dtype: int64"
      ]
     },
     "execution_count": 187,
     "metadata": {},
     "output_type": "execute_result"
    }
   ],
   "source": [
    "#Is the garage attached to the house feature\n",
    "house_prices_df['attached_garage'] = 9999\n",
    "house_prices_df.loc[(house_prices_df['garagetype'] == 'Attchd') | (house_prices_df['garagetype'] == 'BuiltIn'), \n",
    "                    ['attached_garage']] = 1\n",
    "house_prices_df.loc[(house_prices_df['garagetype'] != 'Attchd') & (house_prices_df['garagetype'] != 'BuiltIn'), \n",
    "                    ['attached_garage']] = 0\n",
    "house_prices_df.attached_garage.value_counts()"
   ]
  },
  {
   "cell_type": "markdown",
   "metadata": {},
   "source": [
    "### Linear Regression Modeling and Iterations"
   ]
  },
  {
   "cell_type": "code",
   "execution_count": 210,
   "metadata": {},
   "outputs": [
    {
     "data": {
      "text/html": [
       "<table class=\"simpletable\">\n",
       "<caption>OLS Regression Results</caption>\n",
       "<tr>\n",
       "  <th>Dep. Variable:</th>        <td>saleprice</td>    <th>  R-squared:         </th> <td>   0.759</td> \n",
       "</tr>\n",
       "<tr>\n",
       "  <th>Model:</th>                   <td>OLS</td>       <th>  Adj. R-squared:    </th> <td>   0.757</td> \n",
       "</tr>\n",
       "<tr>\n",
       "  <th>Method:</th>             <td>Least Squares</td>  <th>  F-statistic:       </th> <td>   325.6</td> \n",
       "</tr>\n",
       "<tr>\n",
       "  <th>Date:</th>             <td>Wed, 19 Jun 2019</td> <th>  Prob (F-statistic):</th>  <td>  0.00</td>  \n",
       "</tr>\n",
       "<tr>\n",
       "  <th>Time:</th>                 <td>23:00:30</td>     <th>  Log-Likelihood:    </th> <td> -17504.</td> \n",
       "</tr>\n",
       "<tr>\n",
       "  <th>No. Observations:</th>      <td>  1460</td>      <th>  AIC:               </th> <td>3.504e+04</td>\n",
       "</tr>\n",
       "<tr>\n",
       "  <th>Df Residuals:</th>          <td>  1445</td>      <th>  BIC:               </th> <td>3.512e+04</td>\n",
       "</tr>\n",
       "<tr>\n",
       "  <th>Df Model:</th>              <td>    14</td>      <th>                     </th>     <td> </td>    \n",
       "</tr>\n",
       "<tr>\n",
       "  <th>Covariance Type:</th>      <td>nonrobust</td>    <th>                     </th>     <td> </td>    \n",
       "</tr>\n",
       "</table>\n",
       "<table class=\"simpletable\">\n",
       "<tr>\n",
       "           <td></td>             <th>coef</th>     <th>std err</th>      <th>t</th>      <th>P>|t|</th>  <th>[0.025</th>    <th>0.975]</th>  \n",
       "</tr>\n",
       "<tr>\n",
       "  <th>const</th>              <td> 1.859e+04</td> <td> 3854.620</td> <td>    4.822</td> <td> 0.000</td> <td>  1.1e+04</td> <td> 2.61e+04</td>\n",
       "</tr>\n",
       "<tr>\n",
       "  <th>awesome_kitchen</th>    <td> 2.759e+04</td> <td> 2484.393</td> <td>   11.104</td> <td> 0.000</td> <td> 2.27e+04</td> <td> 3.25e+04</td>\n",
       "</tr>\n",
       "<tr>\n",
       "  <th>total_sf</th>           <td>   46.6601</td> <td>    1.612</td> <td>   28.947</td> <td> 0.000</td> <td>   43.498</td> <td>   49.822</td>\n",
       "</tr>\n",
       "<tr>\n",
       "  <th>paved_driveway_N</th>   <td>  522.4720</td> <td> 3843.567</td> <td>    0.136</td> <td> 0.892</td> <td>-7017.096</td> <td> 8062.040</td>\n",
       "</tr>\n",
       "<tr>\n",
       "  <th>paved_driveway_P</th>   <td> 6265.6597</td> <td> 5594.775</td> <td>    1.120</td> <td> 0.263</td> <td>-4709.091</td> <td> 1.72e+04</td>\n",
       "</tr>\n",
       "<tr>\n",
       "  <th>paved_driveway_Y</th>   <td>  1.18e+04</td> <td> 2754.733</td> <td>    4.282</td> <td> 0.000</td> <td> 6393.250</td> <td> 1.72e+04</td>\n",
       "</tr>\n",
       "<tr>\n",
       "  <th>garagetype_2Types</th>  <td>-5.827e+04</td> <td> 1.42e+04</td> <td>   -4.102</td> <td> 0.000</td> <td>-8.61e+04</td> <td>-3.04e+04</td>\n",
       "</tr>\n",
       "<tr>\n",
       "  <th>garagetype_Attchd</th>  <td> 2.403e+04</td> <td> 3797.058</td> <td>    6.328</td> <td> 0.000</td> <td> 1.66e+04</td> <td> 3.15e+04</td>\n",
       "</tr>\n",
       "<tr>\n",
       "  <th>garagetype_Basment</th> <td> 2.141e+04</td> <td> 8451.729</td> <td>    2.533</td> <td> 0.011</td> <td> 4831.736</td> <td>  3.8e+04</td>\n",
       "</tr>\n",
       "<tr>\n",
       "  <th>garagetype_BuiltIn</th> <td> 3.623e+04</td> <td> 5267.272</td> <td>    6.879</td> <td> 0.000</td> <td> 2.59e+04</td> <td> 4.66e+04</td>\n",
       "</tr>\n",
       "<tr>\n",
       "  <th>garagetype_CarPort</th> <td>-2212.2017</td> <td> 1.17e+04</td> <td>   -0.190</td> <td> 0.850</td> <td>-2.51e+04</td> <td> 2.07e+04</td>\n",
       "</tr>\n",
       "<tr>\n",
       "  <th>garagetype_Detchd</th>  <td> 1.189e+04</td> <td> 3868.185</td> <td>    3.073</td> <td> 0.002</td> <td> 4299.572</td> <td> 1.95e+04</td>\n",
       "</tr>\n",
       "<tr>\n",
       "  <th>car_garage_0</th>       <td>-1.449e+04</td> <td> 4707.821</td> <td>   -3.078</td> <td> 0.002</td> <td>-2.37e+04</td> <td>-5253.684</td>\n",
       "</tr>\n",
       "<tr>\n",
       "  <th>car_garage_1</th>       <td>-2.185e+04</td> <td> 4160.747</td> <td>   -5.251</td> <td> 0.000</td> <td>   -3e+04</td> <td>-1.37e+04</td>\n",
       "</tr>\n",
       "<tr>\n",
       "  <th>car_garage_2</th>       <td>-9092.3202</td> <td> 3933.312</td> <td>   -2.312</td> <td> 0.021</td> <td>-1.68e+04</td> <td>-1376.708</td>\n",
       "</tr>\n",
       "<tr>\n",
       "  <th>car_garage_3</th>       <td> 5.218e+04</td> <td> 4795.410</td> <td>   10.880</td> <td> 0.000</td> <td> 4.28e+04</td> <td> 6.16e+04</td>\n",
       "</tr>\n",
       "<tr>\n",
       "  <th>car_garage_4</th>       <td> 1.184e+04</td> <td> 1.45e+04</td> <td>    0.815</td> <td> 0.415</td> <td>-1.66e+04</td> <td> 4.03e+04</td>\n",
       "</tr>\n",
       "<tr>\n",
       "  <th>garagefinish_Fin</th>   <td> 1.608e+04</td> <td> 2708.337</td> <td>    5.938</td> <td> 0.000</td> <td> 1.08e+04</td> <td> 2.14e+04</td>\n",
       "</tr>\n",
       "</table>\n",
       "<table class=\"simpletable\">\n",
       "<tr>\n",
       "  <th>Omnibus:</th>       <td>467.947</td> <th>  Durbin-Watson:     </th> <td>   1.922</td> \n",
       "</tr>\n",
       "<tr>\n",
       "  <th>Prob(Omnibus):</th> <td> 0.000</td>  <th>  Jarque-Bera (JB):  </th> <td>41279.211</td>\n",
       "</tr>\n",
       "<tr>\n",
       "  <th>Skew:</th>          <td>-0.501</td>  <th>  Prob(JB):          </th> <td>    0.00</td> \n",
       "</tr>\n",
       "<tr>\n",
       "  <th>Kurtosis:</th>      <td>29.030</td>  <th>  Cond. No.          </th> <td>3.99e+19</td> \n",
       "</tr>\n",
       "</table><br/><br/>Warnings:<br/>[1] Standard Errors assume that the covariance matrix of the errors is correctly specified.<br/>[2] The smallest eigenvalue is 6.65e-30. This might indicate that there are<br/>strong multicollinearity problems or that the design matrix is singular."
      ],
      "text/plain": [
       "<class 'statsmodels.iolib.summary.Summary'>\n",
       "\"\"\"\n",
       "                            OLS Regression Results                            \n",
       "==============================================================================\n",
       "Dep. Variable:              saleprice   R-squared:                       0.759\n",
       "Model:                            OLS   Adj. R-squared:                  0.757\n",
       "Method:                 Least Squares   F-statistic:                     325.6\n",
       "Date:                Wed, 19 Jun 2019   Prob (F-statistic):               0.00\n",
       "Time:                        23:00:30   Log-Likelihood:                -17504.\n",
       "No. Observations:                1460   AIC:                         3.504e+04\n",
       "Df Residuals:                    1445   BIC:                         3.512e+04\n",
       "Df Model:                          14                                         \n",
       "Covariance Type:            nonrobust                                         \n",
       "======================================================================================\n",
       "                         coef    std err          t      P>|t|      [0.025      0.975]\n",
       "--------------------------------------------------------------------------------------\n",
       "const               1.859e+04   3854.620      4.822      0.000     1.1e+04    2.61e+04\n",
       "awesome_kitchen     2.759e+04   2484.393     11.104      0.000    2.27e+04    3.25e+04\n",
       "total_sf              46.6601      1.612     28.947      0.000      43.498      49.822\n",
       "paved_driveway_N     522.4720   3843.567      0.136      0.892   -7017.096    8062.040\n",
       "paved_driveway_P    6265.6597   5594.775      1.120      0.263   -4709.091    1.72e+04\n",
       "paved_driveway_Y     1.18e+04   2754.733      4.282      0.000    6393.250    1.72e+04\n",
       "garagetype_2Types  -5.827e+04   1.42e+04     -4.102      0.000   -8.61e+04   -3.04e+04\n",
       "garagetype_Attchd   2.403e+04   3797.058      6.328      0.000    1.66e+04    3.15e+04\n",
       "garagetype_Basment  2.141e+04   8451.729      2.533      0.011    4831.736     3.8e+04\n",
       "garagetype_BuiltIn  3.623e+04   5267.272      6.879      0.000    2.59e+04    4.66e+04\n",
       "garagetype_CarPort -2212.2017   1.17e+04     -0.190      0.850   -2.51e+04    2.07e+04\n",
       "garagetype_Detchd   1.189e+04   3868.185      3.073      0.002    4299.572    1.95e+04\n",
       "car_garage_0       -1.449e+04   4707.821     -3.078      0.002   -2.37e+04   -5253.684\n",
       "car_garage_1       -2.185e+04   4160.747     -5.251      0.000      -3e+04   -1.37e+04\n",
       "car_garage_2       -9092.3202   3933.312     -2.312      0.021   -1.68e+04   -1376.708\n",
       "car_garage_3        5.218e+04   4795.410     10.880      0.000    4.28e+04    6.16e+04\n",
       "car_garage_4        1.184e+04   1.45e+04      0.815      0.415   -1.66e+04    4.03e+04\n",
       "garagefinish_Fin    1.608e+04   2708.337      5.938      0.000    1.08e+04    2.14e+04\n",
       "==============================================================================\n",
       "Omnibus:                      467.947   Durbin-Watson:                   1.922\n",
       "Prob(Omnibus):                  0.000   Jarque-Bera (JB):            41279.211\n",
       "Skew:                          -0.501   Prob(JB):                         0.00\n",
       "Kurtosis:                      29.030   Cond. No.                     3.99e+19\n",
       "==============================================================================\n",
       "\n",
       "Warnings:\n",
       "[1] Standard Errors assume that the covariance matrix of the errors is correctly specified.\n",
       "[2] The smallest eigenvalue is 6.65e-30. This might indicate that there are\n",
       "strong multicollinearity problems or that the design matrix is singular.\n",
       "\"\"\""
      ]
     },
     "execution_count": 210,
     "metadata": {},
     "output_type": "execute_result"
    }
   ],
   "source": [
    "Y = house_prices_df['saleprice']\n",
    "X = house_prices_df[[\n",
    "                    'awesome_kitchen', \n",
    "                    'total_sf', \n",
    "                    'paved_driveway_N', \n",
    "                    'paved_driveway_P', \n",
    "                    'paved_driveway_Y',\n",
    "                    'garagetype_2Types', \n",
    "                    'garagetype_Attchd',\n",
    "                    'garagetype_Basment', \n",
    "                    'garagetype_BuiltIn', \n",
    "                    'garagetype_CarPort',\n",
    "                    'garagetype_Detchd', \n",
    "                    'car_garage_0', \n",
    "                    'car_garage_1', \n",
    "                    'car_garage_2',\n",
    "                    'car_garage_3', \n",
    "                    'car_garage_4',\n",
    "                    'garagefinish_Fin'\n",
    "                    ]\n",
    "                   ]\n",
    "X = sm.add_constant(X)\n",
    "results = sm.OLS(Y, X).fit()\n",
    "results.summary()"
   ]
  },
  {
   "cell_type": "markdown",
   "metadata": {},
   "source": [
    "### First Iteration Results\n",
    "\n",
    "First model just included all of the features that were engineered or had a strong relationship with the sales price of the home, without first checking for multicollinearity. I will make a heatmap below to remove some of the more highly correlated features and then re-run the model."
   ]
  },
  {
   "cell_type": "code",
   "execution_count": 212,
   "metadata": {},
   "outputs": [
    {
     "data": {
      "image/png": "[encoded data removed]",
      "text/plain": [
       "<Figure size 432x288 with 2 Axes>"
      ]
     },
     "metadata": {
      "needs_background": "light"
     },
     "output_type": "display_data"
    }
   ],
   "source": [
    "features = house_prices_df[[\n",
    "                    'saleprice', \n",
    "                    'awesome_kitchen', \n",
    "                    'total_sf', \n",
    "                    'paved_driveway_N', \n",
    "                    'paved_driveway_P', \n",
    "                    'paved_driveway_Y',\n",
    "                    'garagetype_2Types', \n",
    "                    'garagetype_Attchd',\n",
    "                    'garagetype_Basment', \n",
    "                    'garagetype_BuiltIn', \n",
    "                    'garagetype_CarPort',\n",
    "                    'garagetype_Detchd', \n",
    "                    'car_garage_0', \n",
    "                    'car_garage_1', \n",
    "                    'car_garage_2',\n",
    "                    'car_garage_3', \n",
    "                    'car_garage_4', \n",
    "                    'garagefinish_Fin'\n",
    "                    ]\n",
    "                   ]\n",
    "\n",
    "sns.heatmap(features.corr(), center=0)\n",
    "plt.show()"
   ]
  },
  {
   "cell_type": "markdown",
   "metadata": {},
   "source": [
    "Multiple features are inherently correlated with one another because of the classification system. For example, if we have an attached garage then there is a good chance that we don't have a detached garage. I'll remove the features below that are highly correlated with one another and rerun the model."
   ]
  },
  {
   "cell_type": "code",
   "execution_count": 213,
   "metadata": {},
   "outputs": [
    {
     "data": {
      "text/html": [
       "<table class=\"simpletable\">\n",
       "<caption>OLS Regression Results</caption>\n",
       "<tr>\n",
       "  <th>Dep. Variable:</th>        <td>saleprice</td>    <th>  R-squared:         </th> <td>   0.755</td> \n",
       "</tr>\n",
       "<tr>\n",
       "  <th>Model:</th>                   <td>OLS</td>       <th>  Adj. R-squared:    </th> <td>   0.753</td> \n",
       "</tr>\n",
       "<tr>\n",
       "  <th>Method:</th>             <td>Least Squares</td>  <th>  F-statistic:       </th> <td>   445.4</td> \n",
       "</tr>\n",
       "<tr>\n",
       "  <th>Date:</th>             <td>Wed, 19 Jun 2019</td> <th>  Prob (F-statistic):</th>  <td>  0.00</td>  \n",
       "</tr>\n",
       "<tr>\n",
       "  <th>Time:</th>                 <td>23:03:03</td>     <th>  Log-Likelihood:    </th> <td> -17519.</td> \n",
       "</tr>\n",
       "<tr>\n",
       "  <th>No. Observations:</th>      <td>  1460</td>      <th>  AIC:               </th> <td>3.506e+04</td>\n",
       "</tr>\n",
       "<tr>\n",
       "  <th>Df Residuals:</th>          <td>  1449</td>      <th>  BIC:               </th> <td>3.512e+04</td>\n",
       "</tr>\n",
       "<tr>\n",
       "  <th>Df Model:</th>              <td>    10</td>      <th>                     </th>     <td> </td>    \n",
       "</tr>\n",
       "<tr>\n",
       "  <th>Covariance Type:</th>      <td>nonrobust</td>    <th>                     </th>     <td> </td>    \n",
       "</tr>\n",
       "</table>\n",
       "<table class=\"simpletable\">\n",
       "<tr>\n",
       "           <td></td>             <th>coef</th>     <th>std err</th>      <th>t</th>      <th>P>|t|</th>  <th>[0.025</th>    <th>0.975]</th>  \n",
       "</tr>\n",
       "<tr>\n",
       "  <th>const</th>              <td> 8783.7377</td> <td> 4802.160</td> <td>    1.829</td> <td> 0.068</td> <td> -636.191</td> <td> 1.82e+04</td>\n",
       "</tr>\n",
       "<tr>\n",
       "  <th>awesome_kitchen</th>    <td> 3.052e+04</td> <td> 2429.183</td> <td>   12.563</td> <td> 0.000</td> <td> 2.58e+04</td> <td> 3.53e+04</td>\n",
       "</tr>\n",
       "<tr>\n",
       "  <th>total_sf</th>           <td>   48.3906</td> <td>    1.590</td> <td>   30.429</td> <td> 0.000</td> <td>   45.271</td> <td>   51.510</td>\n",
       "</tr>\n",
       "<tr>\n",
       "  <th>paved_driveway_Y</th>   <td> 1.296e+04</td> <td> 4000.577</td> <td>    3.239</td> <td> 0.001</td> <td> 5110.820</td> <td> 2.08e+04</td>\n",
       "</tr>\n",
       "<tr>\n",
       "  <th>garagetype_2Types</th>  <td> -6.05e+04</td> <td> 1.64e+04</td> <td>   -3.691</td> <td> 0.000</td> <td>-9.27e+04</td> <td>-2.84e+04</td>\n",
       "</tr>\n",
       "<tr>\n",
       "  <th>garagetype_Attchd</th>  <td> 1.426e+04</td> <td> 2660.103</td> <td>    5.362</td> <td> 0.000</td> <td> 9046.738</td> <td> 1.95e+04</td>\n",
       "</tr>\n",
       "<tr>\n",
       "  <th>garagetype_Basment</th> <td> 1.047e+04</td> <td> 9294.422</td> <td>    1.127</td> <td> 0.260</td> <td>-7757.068</td> <td> 2.87e+04</td>\n",
       "</tr>\n",
       "<tr>\n",
       "  <th>garagetype_BuiltIn</th> <td> 2.605e+04</td> <td> 5114.664</td> <td>    5.093</td> <td> 0.000</td> <td>  1.6e+04</td> <td> 3.61e+04</td>\n",
       "</tr>\n",
       "<tr>\n",
       "  <th>garagetype_CarPort</th> <td> -1.03e+04</td> <td> 1.33e+04</td> <td>   -0.774</td> <td> 0.439</td> <td>-3.64e+04</td> <td> 1.58e+04</td>\n",
       "</tr>\n",
       "<tr>\n",
       "  <th>car_garage_3</th>       <td> 6.075e+04</td> <td> 3699.483</td> <td>   16.422</td> <td> 0.000</td> <td> 5.35e+04</td> <td>  6.8e+04</td>\n",
       "</tr>\n",
       "<tr>\n",
       "  <th>garagefinish_Fin</th>   <td> 1.766e+04</td> <td> 2711.199</td> <td>    6.513</td> <td> 0.000</td> <td> 1.23e+04</td> <td>  2.3e+04</td>\n",
       "</tr>\n",
       "</table>\n",
       "<table class=\"simpletable\">\n",
       "<tr>\n",
       "  <th>Omnibus:</th>       <td>511.805</td> <th>  Durbin-Watson:     </th> <td>   1.914</td> \n",
       "</tr>\n",
       "<tr>\n",
       "  <th>Prob(Omnibus):</th> <td> 0.000</td>  <th>  Jarque-Bera (JB):  </th> <td>43959.324</td>\n",
       "</tr>\n",
       "<tr>\n",
       "  <th>Skew:</th>          <td>-0.681</td>  <th>  Prob(JB):          </th> <td>    0.00</td> \n",
       "</tr>\n",
       "<tr>\n",
       "  <th>Kurtosis:</th>      <td>29.847</td>  <th>  Cond. No.          </th> <td>4.28e+04</td> \n",
       "</tr>\n",
       "</table><br/><br/>Warnings:<br/>[1] Standard Errors assume that the covariance matrix of the errors is correctly specified.<br/>[2] The condition number is large, 4.28e+04. This might indicate that there are<br/>strong multicollinearity or other numerical problems."
      ],
      "text/plain": [
       "<class 'statsmodels.iolib.summary.Summary'>\n",
       "\"\"\"\n",
       "                            OLS Regression Results                            \n",
       "==============================================================================\n",
       "Dep. Variable:              saleprice   R-squared:                       0.755\n",
       "Model:                            OLS   Adj. R-squared:                  0.753\n",
       "Method:                 Least Squares   F-statistic:                     445.4\n",
       "Date:                Wed, 19 Jun 2019   Prob (F-statistic):               0.00\n",
       "Time:                        23:03:03   Log-Likelihood:                -17519.\n",
       "No. Observations:                1460   AIC:                         3.506e+04\n",
       "Df Residuals:                    1449   BIC:                         3.512e+04\n",
       "Df Model:                          10                                         \n",
       "Covariance Type:            nonrobust                                         \n",
       "======================================================================================\n",
       "                         coef    std err          t      P>|t|      [0.025      0.975]\n",
       "--------------------------------------------------------------------------------------\n",
       "const               8783.7377   4802.160      1.829      0.068    -636.191    1.82e+04\n",
       "awesome_kitchen     3.052e+04   2429.183     12.563      0.000    2.58e+04    3.53e+04\n",
       "total_sf              48.3906      1.590     30.429      0.000      45.271      51.510\n",
       "paved_driveway_Y    1.296e+04   4000.577      3.239      0.001    5110.820    2.08e+04\n",
       "garagetype_2Types   -6.05e+04   1.64e+04     -3.691      0.000   -9.27e+04   -2.84e+04\n",
       "garagetype_Attchd   1.426e+04   2660.103      5.362      0.000    9046.738    1.95e+04\n",
       "garagetype_Basment  1.047e+04   9294.422      1.127      0.260   -7757.068    2.87e+04\n",
       "garagetype_BuiltIn  2.605e+04   5114.664      5.093      0.000     1.6e+04    3.61e+04\n",
       "garagetype_CarPort  -1.03e+04   1.33e+04     -0.774      0.439   -3.64e+04    1.58e+04\n",
       "car_garage_3        6.075e+04   3699.483     16.422      0.000    5.35e+04     6.8e+04\n",
       "garagefinish_Fin    1.766e+04   2711.199      6.513      0.000    1.23e+04     2.3e+04\n",
       "==============================================================================\n",
       "Omnibus:                      511.805   Durbin-Watson:                   1.914\n",
       "Prob(Omnibus):                  0.000   Jarque-Bera (JB):            43959.324\n",
       "Skew:                          -0.681   Prob(JB):                         0.00\n",
       "Kurtosis:                      29.847   Cond. No.                     4.28e+04\n",
       "==============================================================================\n",
       "\n",
       "Warnings:\n",
       "[1] Standard Errors assume that the covariance matrix of the errors is correctly specified.\n",
       "[2] The condition number is large, 4.28e+04. This might indicate that there are\n",
       "strong multicollinearity or other numerical problems.\n",
       "\"\"\""
      ]
     },
     "execution_count": 213,
     "metadata": {},
     "output_type": "execute_result"
    }
   ],
   "source": [
    "features = house_prices_df[[\n",
    "                    'awesome_kitchen', \n",
    "                    'total_sf', \n",
    "                    'paved_driveway_Y',\n",
    "                    'garagetype_2Types', \n",
    "                    'garagetype_Attchd',\n",
    "                    'garagetype_Basment', \n",
    "                    'garagetype_BuiltIn', \n",
    "                    'garagetype_CarPort', \n",
    "                    'car_garage_3', \n",
    "                    'garagefinish_Fin'\n",
    "                    ]\n",
    "                   ]\n",
    "Y = house_prices_df['saleprice']\n",
    "X = features\n",
    "X = sm.add_constant(X)\n",
    "results = sm.OLS(Y, X).fit()\n",
    "results.summary()"
   ]
  },
  {
   "cell_type": "markdown",
   "metadata": {},
   "source": [
    "### Second Iteration Results\n",
    "Removing the features that correlated highly with one another had very little effect on the R-squared value for the model. The condition number is coming down from the first model (e+19 to e+04), other than that they seem to be pretty similar. The coefficients for each of the features have only changed slightly from the first model.\n",
    "\n",
    "For the third iteration, I want to use the feature I created earlier for attached garages and remove the other features that are related to the type of garage the house has."
   ]
  },
  {
   "cell_type": "code",
   "execution_count": 189,
   "metadata": {},
   "outputs": [
    {
     "data": {
      "text/html": [
       "<table class=\"simpletable\">\n",
       "<caption>OLS Regression Results</caption>\n",
       "<tr>\n",
       "  <th>Dep. Variable:</th>        <td>saleprice</td>    <th>  R-squared:         </th> <td>   0.751</td> \n",
       "</tr>\n",
       "<tr>\n",
       "  <th>Model:</th>                   <td>OLS</td>       <th>  Adj. R-squared:    </th> <td>   0.750</td> \n",
       "</tr>\n",
       "<tr>\n",
       "  <th>Method:</th>             <td>Least Squares</td>  <th>  F-statistic:       </th> <td>   729.2</td> \n",
       "</tr>\n",
       "<tr>\n",
       "  <th>Date:</th>             <td>Wed, 19 Jun 2019</td> <th>  Prob (F-statistic):</th>  <td>  0.00</td>  \n",
       "</tr>\n",
       "<tr>\n",
       "  <th>Time:</th>                 <td>22:37:33</td>     <th>  Log-Likelihood:    </th> <td> -17530.</td> \n",
       "</tr>\n",
       "<tr>\n",
       "  <th>No. Observations:</th>      <td>  1460</td>      <th>  AIC:               </th> <td>3.507e+04</td>\n",
       "</tr>\n",
       "<tr>\n",
       "  <th>Df Residuals:</th>          <td>  1453</td>      <th>  BIC:               </th> <td>3.511e+04</td>\n",
       "</tr>\n",
       "<tr>\n",
       "  <th>Df Model:</th>              <td>     6</td>      <th>                     </th>     <td> </td>    \n",
       "</tr>\n",
       "<tr>\n",
       "  <th>Covariance Type:</th>      <td>nonrobust</td>    <th>                     </th>     <td> </td>    \n",
       "</tr>\n",
       "</table>\n",
       "<table class=\"simpletable\">\n",
       "<tr>\n",
       "          <td></td>            <th>coef</th>     <th>std err</th>      <th>t</th>      <th>P>|t|</th>  <th>[0.025</th>    <th>0.975]</th>  \n",
       "</tr>\n",
       "<tr>\n",
       "  <th>const</th>            <td> 8091.6793</td> <td> 4829.049</td> <td>    1.676</td> <td> 0.094</td> <td>-1380.973</td> <td> 1.76e+04</td>\n",
       "</tr>\n",
       "<tr>\n",
       "  <th>awesome_kitchen</th>  <td> 3.128e+04</td> <td> 2436.568</td> <td>   12.837</td> <td> 0.000</td> <td> 2.65e+04</td> <td> 3.61e+04</td>\n",
       "</tr>\n",
       "<tr>\n",
       "  <th>total_sf</th>         <td>   48.3731</td> <td>    1.597</td> <td>   30.292</td> <td> 0.000</td> <td>   45.241</td> <td>   51.506</td>\n",
       "</tr>\n",
       "<tr>\n",
       "  <th>paved_driveway_Y</th> <td>   1.3e+04</td> <td> 4014.623</td> <td>    3.237</td> <td> 0.001</td> <td> 5121.733</td> <td> 2.09e+04</td>\n",
       "</tr>\n",
       "<tr>\n",
       "  <th>attached_garage</th>  <td> 1.529e+04</td> <td> 2606.522</td> <td>    5.867</td> <td> 0.000</td> <td> 1.02e+04</td> <td> 2.04e+04</td>\n",
       "</tr>\n",
       "<tr>\n",
       "  <th>car_garage_3</th>     <td> 5.968e+04</td> <td> 3687.203</td> <td>   16.186</td> <td> 0.000</td> <td> 5.24e+04</td> <td> 6.69e+04</td>\n",
       "</tr>\n",
       "<tr>\n",
       "  <th>garagefinish_Fin</th> <td> 1.906e+04</td> <td> 2682.853</td> <td>    7.105</td> <td> 0.000</td> <td> 1.38e+04</td> <td> 2.43e+04</td>\n",
       "</tr>\n",
       "</table>\n",
       "<table class=\"simpletable\">\n",
       "<tr>\n",
       "  <th>Omnibus:</th>       <td>494.712</td> <th>  Durbin-Watson:     </th> <td>   1.914</td> \n",
       "</tr>\n",
       "<tr>\n",
       "  <th>Prob(Omnibus):</th> <td> 0.000</td>  <th>  Jarque-Bera (JB):  </th> <td>41343.874</td>\n",
       "</tr>\n",
       "<tr>\n",
       "  <th>Skew:</th>          <td>-0.627</td>  <th>  Prob(JB):          </th> <td>    0.00</td> \n",
       "</tr>\n",
       "<tr>\n",
       "  <th>Kurtosis:</th>      <td>29.039</td>  <th>  Cond. No.          </th> <td>1.50e+04</td> \n",
       "</tr>\n",
       "</table><br/><br/>Warnings:<br/>[1] Standard Errors assume that the covariance matrix of the errors is correctly specified.<br/>[2] The condition number is large, 1.5e+04. This might indicate that there are<br/>strong multicollinearity or other numerical problems."
      ],
      "text/plain": [
       "<class 'statsmodels.iolib.summary.Summary'>\n",
       "\"\"\"\n",
       "                            OLS Regression Results                            \n",
       "==============================================================================\n",
       "Dep. Variable:              saleprice   R-squared:                       0.751\n",
       "Model:                            OLS   Adj. R-squared:                  0.750\n",
       "Method:                 Least Squares   F-statistic:                     729.2\n",
       "Date:                Wed, 19 Jun 2019   Prob (F-statistic):               0.00\n",
       "Time:                        22:37:33   Log-Likelihood:                -17530.\n",
       "No. Observations:                1460   AIC:                         3.507e+04\n",
       "Df Residuals:                    1453   BIC:                         3.511e+04\n",
       "Df Model:                           6                                         \n",
       "Covariance Type:            nonrobust                                         \n",
       "====================================================================================\n",
       "                       coef    std err          t      P>|t|      [0.025      0.975]\n",
       "------------------------------------------------------------------------------------\n",
       "const             8091.6793   4829.049      1.676      0.094   -1380.973    1.76e+04\n",
       "awesome_kitchen   3.128e+04   2436.568     12.837      0.000    2.65e+04    3.61e+04\n",
       "total_sf            48.3731      1.597     30.292      0.000      45.241      51.506\n",
       "paved_driveway_Y    1.3e+04   4014.623      3.237      0.001    5121.733    2.09e+04\n",
       "attached_garage   1.529e+04   2606.522      5.867      0.000    1.02e+04    2.04e+04\n",
       "car_garage_3      5.968e+04   3687.203     16.186      0.000    5.24e+04    6.69e+04\n",
       "garagefinish_Fin  1.906e+04   2682.853      7.105      0.000    1.38e+04    2.43e+04\n",
       "==============================================================================\n",
       "Omnibus:                      494.712   Durbin-Watson:                   1.914\n",
       "Prob(Omnibus):                  0.000   Jarque-Bera (JB):            41343.874\n",
       "Skew:                          -0.627   Prob(JB):                         0.00\n",
       "Kurtosis:                      29.039   Cond. No.                     1.50e+04\n",
       "==============================================================================\n",
       "\n",
       "Warnings:\n",
       "[1] Standard Errors assume that the covariance matrix of the errors is correctly specified.\n",
       "[2] The condition number is large, 1.5e+04. This might indicate that there are\n",
       "strong multicollinearity or other numerical problems.\n",
       "\"\"\""
      ]
     },
     "execution_count": 189,
     "metadata": {},
     "output_type": "execute_result"
    }
   ],
   "source": [
    "features = house_prices_df[[\n",
    "                    'awesome_kitchen', \n",
    "                    'total_sf', \n",
    "                    'paved_driveway_Y',\n",
    "                    'attached_garage', \n",
    "                    'car_garage_3', \n",
    "                    'garagefinish_Fin'\n",
    "                    ]\n",
    "                   ]\n",
    "Y = house_prices_df['saleprice']\n",
    "X = features\n",
    "X = sm.add_constant(X)\n",
    "results = sm.OLS(Y, X).fit()\n",
    "results.summary()"
   ]
  },
  {
   "cell_type": "markdown",
   "metadata": {},
   "source": [
    "### Final Iteration Results\n",
    "\n",
    "For the last iteration of the model (for now), most everything is the same as the last model. The R-squared has remained at a 0.75 and the condition number is still coming down (4e+04 to 1.5e+04). When looking at the last heatmap that I made there are still some correlations between the features that are still remaining in the model, but they are weaker than the original feature set.\n",
    "\n",
    "An interesting observation here is that I was able to build a model that did an ok job of predicting a home sale price based off the size of the home, how nice the kitchen was, and details about the quality/size of the garage. This could be a larger indicator for what residents in the Aimes, Iowa area are looking for in a home. It would be interesting to expand this dataset to a region of the United States and include demographic data about the purchasers of each home. "
   ]
  }
 ],
 "metadata": {
  "kernelspec": {
   "display_name": "Python 3",
   "language": "python",
   "name": "python3"
  },
  "language_info": {
   "codemirror_mode": {
    "name": "ipython",
    "version": 3
   },
   "file_extension": ".py",
   "mimetype": "text/x-python",
   "name": "python",
   "nbconvert_exporter": "python",
   "pygments_lexer": "ipython3",
   "version": "3.7.1"
  }
 },
 "nbformat": 4,
 "nbformat_minor": 2
}
